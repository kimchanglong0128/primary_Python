{
 "cells": [
  {
   "cell_type": "code",
   "execution_count": 2,
   "metadata": {},
   "outputs": [
    {
     "data": {
      "text/plain": [
       "1627625745.8946078"
      ]
     },
     "execution_count": 2,
     "metadata": {},
     "output_type": "execute_result"
    }
   ],
   "source": [
    "import time\n",
    "\n",
    "A1 = time.time()    ## time.time() 方法是获取当前时间时间戳(以秒为单位的浮点数)\n",
    "A1"
   ]
  },
  {
   "cell_type": "code",
   "execution_count": 3,
   "metadata": {},
   "outputs": [
    {
     "data": {
      "text/plain": [
       "time.struct_time(tm_year=2021, tm_mon=7, tm_mday=30, tm_hour=14, tm_min=15, tm_sec=45, tm_wday=4, tm_yday=211, tm_isdst=0)"
      ]
     },
     "execution_count": 3,
     "metadata": {},
     "output_type": "execute_result"
    }
   ],
   "source": [
    "A2 = time.localtime(A1)   ## time.localtime(\"时间戳\") 方法是将时间戳转换为当地的时间,\n",
    "A2"
   ]
  },
  {
   "cell_type": "code",
   "execution_count": 5,
   "metadata": {},
   "outputs": [
    {
     "data": {
      "text/plain": [
       "'Fri Jul 30 14:15:45 2021'"
      ]
     },
     "execution_count": 5,
     "metadata": {},
     "output_type": "execute_result"
    }
   ],
   "source": [
    "A3 = time.asctime(A2)  ## time.asctime() 方法将元祖格式的时间转换为更易读的方式\n",
    "A3"
   ]
  },
  {
   "cell_type": "code",
   "execution_count": 7,
   "metadata": {},
   "outputs": [
    {
     "data": {
      "text/plain": [
       "1627625745.0"
      ]
     },
     "execution_count": 7,
     "metadata": {},
     "output_type": "execute_result"
    }
   ],
   "source": [
    "A4 = time.mktime(A2)   ## time.mktime() 将本地时间格式的元祖转换为时间戳\n",
    "A4"
   ]
  },
  {
   "cell_type": "markdown",
   "metadata": {},
   "source": [
    "###time.strftime()"
   ]
  },
  {
   "cell_type": "code",
   "execution_count": 11,
   "metadata": {},
   "outputs": [
    {
     "name": "stdout",
     "output_type": "stream",
     "text": [
      "2021-07-30 14:25:45\n"
     ]
    }
   ],
   "source": [
    "strf_style = \"%Y-%m-%d %H:%M:%S\"   ## time.strftime(\"你将要转换成的目标格式\",\"你想要转换的原时间的本地时间形式或者是前面格式对应的元祖\")\n",
    "A5 = time.strftime(strf_style,time.localtime(time.time()))\n",
    "print(A5)"
   ]
  },
  {
   "cell_type": "code",
   "execution_count": 13,
   "metadata": {},
   "outputs": [
    {
     "name": "stdout",
     "output_type": "stream",
     "text": [
      "2021-05-21 13:14:00\n"
     ]
    }
   ],
   "source": [
    "A6 = time.strftime(strf_style,(2021,5,21,13,14,0,0,0,0))\n",
    "print(A6)"
   ]
  },
  {
   "cell_type": "code",
   "execution_count": 15,
   "metadata": {},
   "outputs": [
    {
     "name": "stdout",
     "output_type": "stream",
     "text": [
      "time.struct_time(tm_year=2021, tm_mon=5, tm_mday=21, tm_hour=13, tm_min=14, tm_sec=0, tm_wday=4, tm_yday=141, tm_isdst=-1)\n"
     ]
    }
   ],
   "source": [
    "A7 = time.strptime(A6,strf_style)   ## time.strptime(\"你想要转换的时间数据\",\"原数据对应的格式即第一个参数的格式\")\n",
    "print(A7)"
   ]
  },
  {
   "cell_type": "code",
   "execution_count": 17,
   "metadata": {},
   "outputs": [
    {
     "data": {
      "text/plain": [
       "280.72499999999997"
      ]
     },
     "execution_count": 17,
     "metadata": {},
     "output_type": "execute_result"
    }
   ],
   "source": [
    "0.265+11.49+10.38+10.38+10.72+13.44+78.98+2.38+20.67+14.85+24.1+8.63+29.52+19.37+14.8+10.75"
   ]
  },
  {
   "cell_type": "code",
   "execution_count": null,
   "metadata": {},
   "outputs": [],
   "source": []
  }
 ],
 "metadata": {
  "kernelspec": {
   "display_name": "Python 3",
   "language": "python",
   "name": "python3"
  },
  "language_info": {
   "codemirror_mode": {
    "name": "ipython",
    "version": 3
   },
   "file_extension": ".py",
   "mimetype": "text/x-python",
   "name": "python",
   "nbconvert_exporter": "python",
   "pygments_lexer": "ipython3",
   "version": "3.8.5"
  }
 },
 "nbformat": 4,
 "nbformat_minor": 4
}
