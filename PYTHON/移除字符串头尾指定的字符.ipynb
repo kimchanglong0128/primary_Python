{
 "cells": [
  {
   "cell_type": "raw",
   "metadata": {},
   "source": [
    "Python strip()方法用于移除字符串头尾指定的字符(默认为空格)"
   ]
  },
  {
   "cell_type": "raw",
   "metadata": {},
   "source": [
    "str.strip([chars])\n",
    "\n",
    "参数 \n",
    "chars – 移除字符串头尾指定的字符\n",
    "返回值 \n",
    "返回移除字符串头尾指定的字符生成的新字符串\n",
    "只移除字符串头尾指定的字符,中间部分不会移除"
   ]
  },
  {
   "cell_type": "code",
   "execution_count": 1,
   "metadata": {},
   "outputs": [
    {
     "name": "stdout",
     "output_type": "stream",
     "text": [
      "this is 00000000 string example....wow!!!\n"
     ]
    }
   ],
   "source": [
    "str = \"0000000this is 00000000 string example....wow!!!0000000\"\n",
    "print(str.strip('0'))"
   ]
  }
 ],
 "metadata": {
  "kernelspec": {
   "display_name": "Python 3",
   "language": "python",
   "name": "python3"
  },
  "language_info": {
   "codemirror_mode": {
    "name": "ipython",
    "version": 3
   },
   "file_extension": ".py",
   "mimetype": "text/x-python",
   "name": "python",
   "nbconvert_exporter": "python",
   "pygments_lexer": "ipython3",
   "version": "3.8.5"
  },
  "toc": {
   "base_numbering": 1,
   "nav_menu": {},
   "number_sections": true,
   "sideBar": true,
   "skip_h1_title": false,
   "title_cell": "Table of Contents",
   "title_sidebar": "Contents",
   "toc_cell": false,
   "toc_position": {},
   "toc_section_display": true,
   "toc_window_display": false
  }
 },
 "nbformat": 4,
 "nbformat_minor": 4
}
