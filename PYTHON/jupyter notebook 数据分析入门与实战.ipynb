{
 "cells": [
  {
   "cell_type": "code",
   "execution_count": null,
   "metadata": {
    "ExecuteTime": {
     "end_time": "2021-12-12T07:16:43.337298Z",
     "start_time": "2021-12-12T07:16:43.328516Z"
    }
   },
   "outputs": [],
   "source": [
    "%pwd"
   ]
  },
  {
   "cell_type": "code",
   "execution_count": null,
   "metadata": {
    "ExecuteTime": {
     "end_time": "2021-12-12T07:16:43.381477Z",
     "start_time": "2021-12-12T07:16:43.376817Z"
    }
   },
   "outputs": [],
   "source": [
    "import os\n",
    "os.getcwd()"
   ]
  },
  {
   "cell_type": "code",
   "execution_count": null,
   "metadata": {
    "ExecuteTime": {
     "end_time": "2021-12-12T07:16:43.444488Z",
     "start_time": "2021-12-12T07:16:43.435486Z"
    }
   },
   "outputs": [],
   "source": [
    "%time sum(range(1000))"
   ]
  },
  {
   "cell_type": "code",
   "execution_count": null,
   "metadata": {
    "ExecuteTime": {
     "end_time": "2021-12-12T07:16:53.754444Z",
     "start_time": "2021-12-12T07:16:43.486792Z"
    }
   },
   "outputs": [],
   "source": [
    "%timeit sum(range(1000)) # %timeit 可以多次运行后的测试结果"
   ]
  },
  {
   "cell_type": "code",
   "execution_count": 1,
   "metadata": {
    "ExecuteTime": {
     "end_time": "2022-02-04T00:52:24.196441Z",
     "start_time": "2022-02-04T00:52:24.186447Z"
    },
    "lang": "en"
   },
   "outputs": [
    {
     "data": {
      "text/plain": [
       "45"
      ]
     },
     "execution_count": 1,
     "metadata": {},
     "output_type": "execute_result"
    }
   ],
   "source": [
    "%timeit -n 2000 -r 5\n",
    "sum(range(10))"
   ]
  },
  {
   "cell_type": "code",
   "execution_count": null,
   "metadata": {
    "ExecuteTime": {
     "end_time": "2021-12-12T07:16:53.774449Z",
     "start_time": "2021-12-12T07:16:53.761445Z"
    }
   },
   "outputs": [],
   "source": [
    "%%timeit -n 2000 -r 5 \n",
    "# % 或 %% 必须要放再第一行\n",
    "# % 是行命令 ， %%单元命令\n",
    "\n",
    "for i in range(5):\n",
    "    i * 2"
   ]
  },
  {
   "cell_type": "code",
   "execution_count": null,
   "metadata": {
    "ExecuteTime": {
     "end_time": "2021-12-12T07:16:53.783451Z",
     "start_time": "2021-12-12T07:16:53.776451Z"
    }
   },
   "outputs": [],
   "source": [
    "%history  # 获取代码单元格的运行历史"
   ]
  },
  {
   "cell_type": "code",
   "execution_count": null,
   "metadata": {
    "ExecuteTime": {
     "end_time": "2021-12-12T07:16:53.790452Z",
     "start_time": "2021-12-12T07:16:53.785558Z"
    }
   },
   "outputs": [],
   "source": [
    "%history  4"
   ]
  },
  {
   "cell_type": "code",
   "execution_count": null,
   "metadata": {
    "ExecuteTime": {
     "end_time": "2021-12-12T07:16:54.195581Z",
     "start_time": "2021-12-12T07:16:53.792453Z"
    }
   },
   "outputs": [],
   "source": [
    "%ls"
   ]
  },
  {
   "cell_type": "code",
   "execution_count": 1,
   "metadata": {
    "ExecuteTime": {
     "end_time": "2022-02-03T03:29:30.075663Z",
     "start_time": "2022-02-03T03:29:30.070655Z"
    }
   },
   "outputs": [
    {
     "name": "stderr",
     "output_type": "stream",
     "text": [
      "UsageError: %autosave requires an integer, got '20  # 自动保存时间 20s'\n"
     ]
    }
   ],
   "source": [
    "%autosave 20  # 自动保存时间 20s"
   ]
  },
  {
   "cell_type": "raw",
   "metadata": {
    "ExecuteTime": {
     "end_time": "2021-12-09T07:49:49.441990Z",
     "start_time": "2021-12-09T07:49:38.459Z"
    }
   },
   "source": [
    "%matplotlib inline\n",
    "#指定为inline时，绘制好的图形会在代码单元格的下方显示\n",
    "\n",
    "import pandas as pd\n",
    "import numpy as np \n",
    "import matplotlib.pyplot as plt\n",
    "\n",
    "x = np.arange(0, 10 , 0.2)\n",
    "y = np.sin(x)\n",
    "\n",
    "fig = plt.figure()\n",
    "ax = fig.add_subplot(111)\n",
    "\n",
    "ax.plot(x,y)\n",
    "plt.show()"
   ]
  },
  {
   "cell_type": "code",
   "execution_count": null,
   "metadata": {
    "ExecuteTime": {
     "end_time": "2021-12-12T07:16:54.226654Z",
     "start_time": "2021-12-12T07:16:43.875Z"
    }
   },
   "outputs": [],
   "source": [
    "%matplotlib tk\n",
    "# 指定为tk时，会在新的窗口中绘制交互图形界面\n",
    "\n",
    "import pandas as pd\n",
    "import numpy as np \n",
    "import matplotlib.pyplot as plt\n",
    "\n",
    "x = np.arange(0, 10 , 0.2)\n",
    "y = np.cos(x)\n",
    "\n",
    "fig = plt.figure()\n",
    "ax = fig.add_subplot(111)\n",
    "\n",
    "ax.plot(x,y)\n",
    "plt.show()"
   ]
  },
  {
   "cell_type": "code",
   "execution_count": null,
   "metadata": {
    "ExecuteTime": {
     "end_time": "2021-12-12T07:16:54.228654Z",
     "start_time": "2021-12-12T07:16:43.928Z"
    }
   },
   "outputs": [],
   "source": [
    "# 共享 -> Github , nbviewer"
   ]
  },
  {
   "cell_type": "code",
   "execution_count": 2,
   "metadata": {
    "ExecuteTime": {
     "end_time": "2022-02-03T05:44:46.132897Z",
     "start_time": "2022-02-03T05:44:45.166941Z"
    }
   },
   "outputs": [
    {
     "data": {
      "text/plain": [
       "'1.1.3'"
      ]
     },
     "execution_count": 2,
     "metadata": {},
     "output_type": "execute_result"
    }
   ],
   "source": [
    "import pandas as pd\n",
    "pd.__version__"
   ]
  },
  {
   "cell_type": "markdown",
   "metadata": {},
   "source": [
    "pandas 的特点<br>\n",
    "* 处理缺失值\n",
    "* 自动创建标签位置且明确对齐数据\n",
    "* 数据统计\n",
    "* 基于标签的高级切片,提取,大规模数据集的子集化\n",
    "* 结合直观的数据集\n",
    "* 灵活转换和变形数据集\n",
    "* 轴的分层标签\n",
    "* 对应各个数据格式的强大 I/O 能力\n",
    "* 特有的时间序列数据处理"
   ]
  },
  {
   "cell_type": "code",
   "execution_count": null,
   "metadata": {
    "ExecuteTime": {
     "end_time": "2021-12-20T03:51:33.893118Z",
     "start_time": "2021-12-20T03:51:33.886498Z"
    },
    "lang": "en"
   },
   "outputs": [],
   "source": [
    "import os\n",
    "\n",
    "base_url = 'https://raw.githubusercontent.com/practical-jupyter/sample-data/master/anime/'\n",
    "\n",
    "anime_csv = os.path.join(base_url , 'anime.csv')\n",
    "anime_master_csv = os.path.join(base_url , 'anime_master.csv')\n",
    "anime_split_genre_csv = os.path.join(base_url , 'anime_split_genre.csv')\n",
    "anime_genre_top10_csv = os.path.join(base_url , 'anime_genre_top10.csv')\n",
    "anime_genre_top10_pivoted_csv = os.path.join(base_url , 'anime_genre_top10_pivoted.csv')\n",
    "anime_stock_price_csv = os.path.join(base_url , 'anime_stock_price.csv')\n",
    "anime_stock_returns_csv = os.path.join(base_url , 'anime_stock_returns.csv')\n",
    "anime_tsv = os.path.join(base_url , 'anime.tsv')\n",
    "anime_xlsx = os.path.join(base_url , 'anime.xlsx')\n",
    "anime_db = os.path.join(base_url , 'anime.db')\n",
    "a4816_csv = os.path.join(base_url , '4816.csv')\n",
    "a3791_csv = os.path.join(base_url , '3791.csv')\n",
    "n225_csv = os.path.join(base_url , 'n225.csv')\n",
    "\n",
    "print(anime_csv)\n",
    "print(anime_master_csv)\n",
    "print(anime_split_genre_csv)\n",
    "print(anime_genre_top10_csv)\n",
    "print(anime_genre_top10_pivoted_csv)\n",
    "print(anime_stock_price_csv)\n",
    "print(anime_stock_returns_csv)\n",
    "print(anime_tsv)\n",
    "print(anime_xlsx)\n",
    "print(anime_db)\n",
    "print(a4816_csv)\n",
    "print(a3791_csv)\n",
    "print(n225_csv)"
   ]
  },
  {
   "cell_type": "code",
   "execution_count": null,
   "metadata": {
    "ExecuteTime": {
     "end_time": "2021-12-12T07:16:54.231655Z",
     "start_time": "2021-12-12T07:16:44.244Z"
    }
   },
   "outputs": [],
   "source": [
    "# import git\n",
    "# git clone https://github.com/practical-jupyter/sample-data.git"
   ]
  },
  {
   "cell_type": "code",
   "execution_count": null,
   "metadata": {
    "ExecuteTime": {
     "end_time": "2021-12-12T07:16:54.232655Z",
     "start_time": "2021-12-12T07:16:44.289Z"
    }
   },
   "outputs": [],
   "source": [
    "# import pandas as pd\n",
    "\n",
    "# anime_csv = os.path.join(base_url , 'anime.csv')\n",
    "# pd.read_csv(anime_csv).head()"
   ]
  },
  {
   "cell_type": "code",
   "execution_count": null,
   "metadata": {
    "ExecuteTime": {
     "end_time": "2021-12-12T07:16:54.233664Z",
     "start_time": "2021-12-12T07:16:44.333Z"
    }
   },
   "outputs": [],
   "source": [
    "# pip install gitpython"
   ]
  },
  {
   "cell_type": "code",
   "execution_count": null,
   "metadata": {
    "ExecuteTime": {
     "end_time": "2021-12-12T07:16:54.235657Z",
     "start_time": "2021-12-12T07:16:44.385Z"
    }
   },
   "outputs": [],
   "source": [
    "import pandas as pd \n",
    "import numpy as np \n",
    "\n",
    "df1 = pd.read_csv(r'C:/Users/jinchanglong/Desktop/you-get/anime_genre_top10.csv' , \n",
    "                    index_col = 0 ,\n",
    "                    # parse_dates = ['date'] \n",
    "                    # lines = pd.read_csv(checkin_filename, \n",
    "                    # sep = '\\t', \n",
    "                    # header = None,\n",
    "                    # names = col_names, \n",
    "                    # parse_dates = [1], \n",
    "                    # skip_blank_lines = True, \n",
    "                    # index_col = 0).reset_index()\n",
    "                    # skiprows = 2 当索引为数字时(无指定索引)即可使用\n",
    "                    # 不读取前两行,等同于[0,1]\n",
    "                    # header = None第0行不作为列名\n",
    "                    # names = [''] 指定列名\n",
    "                    # parse_dates = []  解析指定行为date类型\n",
    "                    # index_col = 0   指定某列为行索引，否则自动索引0, 1, .....\n",
    "                    # reset_index()是其反操作\n",
    "                   )\n",
    "display(df1)"
   ]
  },
  {
   "cell_type": "code",
   "execution_count": null,
   "metadata": {
    "ExecuteTime": {
     "end_time": "2021-12-12T07:16:54.236656Z",
     "start_time": "2021-12-12T07:16:44.439Z"
    }
   },
   "outputs": [],
   "source": [
    "import pandas as pd \n",
    "import numpy as np \n",
    "\n",
    "df1 = pd.Series([1,2,3] , index = ['a','b','c'])\n",
    "display(df1)\n",
    "print('-------------')\n",
    "df2 = pd.Series([1,2,3])\n",
    "display(df2)"
   ]
  },
  {
   "cell_type": "code",
   "execution_count": null,
   "metadata": {
    "ExecuteTime": {
     "end_time": "2021-12-12T07:16:54.237663Z",
     "start_time": "2021-12-12T07:16:44.489Z"
    }
   },
   "outputs": [],
   "source": [
    "display(df1.loc['b'])  # 上下等价\n",
    "display(df1['b'])"
   ]
  },
  {
   "cell_type": "code",
   "execution_count": null,
   "metadata": {
    "ExecuteTime": {
     "end_time": "2021-12-12T07:16:54.239663Z",
     "start_time": "2021-12-12T07:16:44.537Z"
    }
   },
   "outputs": [],
   "source": [
    "display(df1.loc['b':'c'])\n",
    "display(df1['b':'c'])"
   ]
  },
  {
   "cell_type": "code",
   "execution_count": null,
   "metadata": {
    "ExecuteTime": {
     "end_time": "2021-12-12T07:16:54.239663Z",
     "start_time": "2021-12-12T07:16:44.582Z"
    }
   },
   "outputs": [],
   "source": [
    "display(df1.loc[['a','c']])\n",
    "display(df1[['a','c']])"
   ]
  },
  {
   "cell_type": "code",
   "execution_count": null,
   "metadata": {
    "ExecuteTime": {
     "end_time": "2021-12-12T07:16:54.240663Z",
     "start_time": "2021-12-12T07:16:44.630Z"
    }
   },
   "outputs": [],
   "source": [
    "display(df1.iloc[1])\n",
    "display(df1[1])"
   ]
  },
  {
   "cell_type": "code",
   "execution_count": null,
   "metadata": {
    "ExecuteTime": {
     "end_time": "2021-12-12T07:16:54.241667Z",
     "start_time": "2021-12-12T07:16:44.675Z"
    }
   },
   "outputs": [],
   "source": [
    "display(df1.iloc[1:3])\n",
    "display(df1[1:3])"
   ]
  },
  {
   "cell_type": "code",
   "execution_count": null,
   "metadata": {
    "ExecuteTime": {
     "end_time": "2021-12-12T07:16:54.242657Z",
     "start_time": "2021-12-12T07:16:44.720Z"
    }
   },
   "outputs": [],
   "source": [
    "df1.loc[[True , False , True]]  # loc,iloc 都可以指定布尔值列表"
   ]
  },
  {
   "cell_type": "code",
   "execution_count": null,
   "metadata": {
    "ExecuteTime": {
     "end_time": "2021-12-12T07:16:54.243657Z",
     "start_time": "2021-12-12T07:16:44.764Z"
    }
   },
   "outputs": [],
   "source": [
    "df1.iloc[[True , False , True]] "
   ]
  },
  {
   "cell_type": "code",
   "execution_count": null,
   "metadata": {
    "ExecuteTime": {
     "end_time": "2021-12-12T07:16:54.244657Z",
     "start_time": "2021-12-12T07:16:44.856Z"
    }
   },
   "outputs": [],
   "source": [
    "df1 != 2"
   ]
  },
  {
   "cell_type": "code",
   "execution_count": null,
   "metadata": {
    "ExecuteTime": {
     "end_time": "2021-12-12T07:16:54.245658Z",
     "start_time": "2021-12-12T07:16:44.902Z"
    }
   },
   "outputs": [],
   "source": [
    "df1.loc[df1 != 2]"
   ]
  },
  {
   "cell_type": "code",
   "execution_count": null,
   "metadata": {
    "ExecuteTime": {
     "end_time": "2021-12-12T07:16:54.245658Z",
     "start_time": "2021-12-12T07:16:44.950Z"
    }
   },
   "outputs": [],
   "source": [
    "import pandas as pd \n",
    "import numpy as np \n",
    "\n",
    "df = pd.DataFrame([])  # 创建一个空的2D列表\n",
    "display(df)\n",
    "\n",
    "print('--------------------')\n",
    "\n",
    "df1 = pd.DataFrame(\n",
    "    [\n",
    "    [1,11,111],[2,22,222],[3,33,333]\n",
    "] ,\n",
    "    index = ['r1','r2','r3'] , \n",
    "    columns = ['c1','c2','c3']\n",
    ")\n",
    "display(df1)"
   ]
  },
  {
   "cell_type": "code",
   "execution_count": null,
   "metadata": {
    "ExecuteTime": {
     "end_time": "2021-12-12T07:16:54.246658Z",
     "start_time": "2021-12-12T07:16:45.004Z"
    }
   },
   "outputs": [],
   "source": [
    "display(df1.loc['r2','c2'])"
   ]
  },
  {
   "cell_type": "code",
   "execution_count": null,
   "metadata": {
    "ExecuteTime": {
     "end_time": "2021-12-12T07:16:54.247657Z",
     "start_time": "2021-12-12T07:16:45.049Z"
    }
   },
   "outputs": [],
   "source": [
    "display(df1.loc['r2',:])\n",
    "display(df1.loc['r2'])\n",
    "display(df1.loc['r2',])"
   ]
  },
  {
   "cell_type": "code",
   "execution_count": null,
   "metadata": {
    "ExecuteTime": {
     "end_time": "2021-12-12T07:16:54.247657Z",
     "start_time": "2021-12-12T07:16:45.094Z"
    },
    "scrolled": true
   },
   "outputs": [],
   "source": [
    "df2 = pd.DataFrame([\n",
    "    [1,2,3]\n",
    "],\n",
    "index = ['r1'],\n",
    "columns = ['c1','c2','c3'])\n",
    "\n",
    "df2\n",
    "print(type(df2))"
   ]
  },
  {
   "cell_type": "code",
   "execution_count": null,
   "metadata": {
    "ExecuteTime": {
     "end_time": "2021-12-12T07:16:54.248660Z",
     "start_time": "2021-12-12T07:16:45.139Z"
    }
   },
   "outputs": [],
   "source": [
    "df1.iloc[1:3 , [0,2]]"
   ]
  },
  {
   "cell_type": "code",
   "execution_count": null,
   "metadata": {
    "ExecuteTime": {
     "end_time": "2021-12-12T07:16:54.249660Z",
     "start_time": "2021-12-12T07:16:45.183Z"
    }
   },
   "outputs": [],
   "source": [
    "print(df1['c2'])\n",
    "print(type(df1['c2']))"
   ]
  },
  {
   "cell_type": "code",
   "execution_count": null,
   "metadata": {
    "ExecuteTime": {
     "end_time": "2021-12-12T07:16:54.250660Z",
     "start_time": "2021-12-12T07:16:45.234Z"
    }
   },
   "outputs": [],
   "source": [
    "df1 > 11"
   ]
  },
  {
   "cell_type": "code",
   "execution_count": null,
   "metadata": {
    "ExecuteTime": {
     "end_time": "2021-12-12T07:16:54.251660Z",
     "start_time": "2021-12-12T07:16:45.277Z"
    }
   },
   "outputs": [],
   "source": [
    "df1.loc[df1['c2'] > 10]"
   ]
  },
  {
   "cell_type": "code",
   "execution_count": null,
   "metadata": {
    "ExecuteTime": {
     "end_time": "2021-12-12T07:16:54.252660Z",
     "start_time": "2021-12-12T07:16:45.322Z"
    }
   },
   "outputs": [],
   "source": [
    "df1.loc[(df1['c1'] >= 1) & (df1['c3']< 300)]"
   ]
  },
  {
   "cell_type": "code",
   "execution_count": null,
   "metadata": {
    "ExecuteTime": {
     "end_time": "2021-12-12T07:16:54.253660Z",
     "start_time": "2021-12-12T07:16:45.376Z"
    }
   },
   "outputs": [],
   "source": [
    "df3 = pd.read_excel(r'C:\\Users\\jinchanglong\\Desktop\\you-get\\anime.xlsx' , index_col = 0 )\n",
    "df3.head()"
   ]
  },
  {
   "cell_type": "code",
   "execution_count": null,
   "metadata": {
    "ExecuteTime": {
     "end_time": "2021-12-12T07:16:54.253660Z",
     "start_time": "2021-12-12T07:16:45.440Z"
    }
   },
   "outputs": [],
   "source": [
    "df4 = pd.read_excel(r'C:\\Users\\jinchanglong\\Desktop\\you-get\\anime.xlsx' ,index_col = 'anime_id')\n",
    "df4.head()"
   ]
  },
  {
   "cell_type": "code",
   "execution_count": null,
   "metadata": {
    "ExecuteTime": {
     "end_time": "2021-12-12T07:16:54.254660Z",
     "start_time": "2021-12-12T07:16:45.508Z"
    }
   },
   "outputs": [],
   "source": [
    "df4.iloc[ : ,5]"
   ]
  },
  {
   "cell_type": "code",
   "execution_count": null,
   "metadata": {
    "ExecuteTime": {
     "end_time": "2021-12-12T07:16:54.255661Z",
     "start_time": "2021-12-12T07:16:45.568Z"
    }
   },
   "outputs": [],
   "source": [
    "df5 = pd.read_excel(r'C:\\Users\\jinchanglong\\Desktop\\you-get\\anime.xlsx' , dtype = {'mumbers' : float})\n",
    "display(df5.head())\n",
    "\n",
    "print(df5.iloc[ : ,5])"
   ]
  },
  {
   "cell_type": "code",
   "execution_count": null,
   "metadata": {
    "ExecuteTime": {
     "end_time": "2021-12-12T07:16:54.255661Z",
     "start_time": "2021-12-12T07:16:45.625Z"
    }
   },
   "outputs": [],
   "source": [
    "df6 = pd.read_csv(r'C:/Users/jinchanglong/Desktop/you-get/anime_stock_price.csv',parse_dates = ['Date'])\n",
    "display(df6)\n",
    "print(df6.dtypes)"
   ]
  },
  {
   "cell_type": "code",
   "execution_count": null,
   "metadata": {
    "ExecuteTime": {
     "end_time": "2021-12-12T07:16:54.256661Z",
     "start_time": "2021-12-12T07:16:45.671Z"
    }
   },
   "outputs": [],
   "source": [
    "df7 = pd.read_csv(r'C:/Users/jinchanglong/Desktop/you-get/anime.tsv' , sep = '\\t')\n",
    "display(df7)"
   ]
  },
  {
   "cell_type": "code",
   "execution_count": null,
   "metadata": {
    "ExecuteTime": {
     "end_time": "2021-12-12T07:16:54.257662Z",
     "start_time": "2021-12-12T07:16:45.715Z"
    }
   },
   "outputs": [],
   "source": [
    "df8 = pd.read_excel(r'C:/Users/jinchanglong/Desktop/you-get/anime.xlsx',sheet_name = 'Special')\n",
    "# sheet_name 要读取的sheet名称\n",
    "df8"
   ]
  },
  {
   "cell_type": "code",
   "execution_count": null,
   "metadata": {
    "ExecuteTime": {
     "end_time": "2021-12-12T07:16:54.258661Z",
     "start_time": "2021-12-12T07:16:45.764Z"
    }
   },
   "outputs": [],
   "source": [
    "# pip install html5lib\n",
    "# pip install pyreadline"
   ]
  },
  {
   "cell_type": "code",
   "execution_count": null,
   "metadata": {
    "ExecuteTime": {
     "end_time": "2021-12-12T07:16:54.259660Z",
     "start_time": "2021-12-12T07:16:45.812Z"
    }
   },
   "outputs": [],
   "source": [
    "import pandas as pd\n",
    "import numpy as np\n",
    "\n",
    "url = 'https://docs.python.org/3/py-modindex.html'\n",
    "\n",
    "tables = pd.read_html(url , index_col = 1)\n",
    "tables[0].loc[:,1:].dropna().head(10)\n",
    "# 从第一个DataFrame开始,如果列为空值就作为缺失值跳过"
   ]
  },
  {
   "cell_type": "code",
   "execution_count": null,
   "metadata": {
    "ExecuteTime": {
     "end_time": "2021-12-12T07:16:54.260660Z",
     "start_time": "2021-12-12T07:16:45.861Z"
    }
   },
   "outputs": [],
   "source": [
    "# 用布尔值筛选数据\n",
    "\n",
    "import os\n",
    "import pandas as pd\n",
    "\n",
    "df = pd.read_excel(r'C:/Users/jinchanglong/Desktop/you-get/anime.xlsx')\n",
    "df.loc[df['episodes'] == 'Unknown'].head()"
   ]
  },
  {
   "cell_type": "code",
   "execution_count": null,
   "metadata": {
    "ExecuteTime": {
     "end_time": "2021-12-12T07:16:54.261661Z",
     "start_time": "2021-12-12T07:16:45.908Z"
    }
   },
   "outputs": [],
   "source": [
    "# 使用df.where()可以把不满足条件的数据以'NaN'的形式舔不到返回的DataFrame\n",
    "df.where(df['rating'] < 9.2).head()\n",
    "# df[df['rating'] < 9.2].head() 等价"
   ]
  },
  {
   "cell_type": "code",
   "execution_count": null,
   "metadata": {
    "ExecuteTime": {
     "end_time": "2021-12-12T07:16:54.262661Z",
     "start_time": "2021-12-12T07:16:45.956Z"
    }
   },
   "outputs": [],
   "source": [
    "import numpy as np \n",
    "\n",
    "print(df.loc[1495 , 'episodes'])\n",
    "df.loc[1495 , 'episodes'] = np.nan\n",
    "df.loc[1495 , 'episodes']"
   ]
  },
  {
   "cell_type": "code",
   "execution_count": null,
   "metadata": {
    "ExecuteTime": {
     "end_time": "2021-12-12T07:16:54.262661Z",
     "start_time": "2021-12-12T07:16:46.005Z"
    }
   },
   "outputs": [],
   "source": [
    "# 可以给多个数据赋值\n",
    "\n",
    "df.loc[df['episodes'] == 'Unknown' , 'episodes'] = np.nan"
   ]
  },
  {
   "cell_type": "code",
   "execution_count": null,
   "metadata": {
    "ExecuteTime": {
     "end_time": "2021-12-12T07:16:54.263661Z",
     "start_time": "2021-12-12T07:16:46.053Z"
    }
   },
   "outputs": [],
   "source": [
    "df.loc[df['episodes'].isnull()].head()"
   ]
  },
  {
   "cell_type": "code",
   "execution_count": null,
   "metadata": {
    "ExecuteTime": {
     "end_time": "2021-12-12T07:16:54.264661Z",
     "start_time": "2021-12-12T07:16:46.102Z"
    }
   },
   "outputs": [],
   "source": [
    "df.dropna().loc[:]  # 使用df.dropna()可以去掉包含缺失值的数据"
   ]
  },
  {
   "cell_type": "code",
   "execution_count": null,
   "metadata": {
    "ExecuteTime": {
     "end_time": "2021-12-12T07:16:54.265661Z",
     "start_time": "2021-12-12T07:16:46.146Z"
    }
   },
   "outputs": [],
   "source": [
    "df.loc[:]"
   ]
  },
  {
   "cell_type": "code",
   "execution_count": null,
   "metadata": {
    "ExecuteTime": {
     "end_time": "2021-12-12T07:16:54.265661Z",
     "start_time": "2021-12-12T07:16:46.189Z"
    }
   },
   "outputs": [],
   "source": [
    "df.dropna(inplace = True)\n",
    "df.loc[:]"
   ]
  },
  {
   "cell_type": "code",
   "execution_count": null,
   "metadata": {
    "ExecuteTime": {
     "end_time": "2021-12-12T07:16:54.266663Z",
     "start_time": "2021-12-12T07:16:46.234Z"
    }
   },
   "outputs": [],
   "source": [
    "df['anime_id'].dtypes  # 确认数据类型"
   ]
  },
  {
   "cell_type": "code",
   "execution_count": null,
   "metadata": {
    "ExecuteTime": {
     "end_time": "2021-12-12T07:16:54.267662Z",
     "start_time": "2021-12-12T07:16:46.277Z"
    }
   },
   "outputs": [],
   "source": [
    "df.dtypes             # 确认DataFrame数据类型"
   ]
  },
  {
   "cell_type": "code",
   "execution_count": null,
   "metadata": {
    "ExecuteTime": {
     "end_time": "2021-12-12T07:16:54.268663Z",
     "start_time": "2021-12-12T07:16:46.321Z"
    }
   },
   "outputs": [],
   "source": [
    "pd.options.display.max_rows = 10 # 设置pandas最大显示行数\n",
    "df['episodes'].astype(np.int64)"
   ]
  },
  {
   "cell_type": "code",
   "execution_count": null,
   "metadata": {
    "ExecuteTime": {
     "end_time": "2021-12-12T07:16:54.269662Z",
     "start_time": "2021-12-12T07:16:46.367Z"
    }
   },
   "outputs": [],
   "source": [
    "df.astype({'episodes' : np.int64 ,'rating':np.float64})"
   ]
  },
  {
   "cell_type": "code",
   "execution_count": null,
   "metadata": {
    "ExecuteTime": {
     "end_time": "2021-12-12T07:16:54.269662Z",
     "start_time": "2021-12-12T07:16:46.417Z"
    }
   },
   "outputs": [],
   "source": [
    "df.astype"
   ]
  },
  {
   "cell_type": "code",
   "execution_count": null,
   "metadata": {
    "ExecuteTime": {
     "end_time": "2021-12-12T07:16:54.270663Z",
     "start_time": "2021-12-12T07:16:46.465Z"
    }
   },
   "outputs": [],
   "source": [
    "df['episodes'] = df['episodes'].astype(np.int64)\n",
    "df.dtypes"
   ]
  },
  {
   "cell_type": "code",
   "execution_count": null,
   "metadata": {
    "ExecuteTime": {
     "end_time": "2021-12-12T07:16:54.271663Z",
     "start_time": "2021-12-12T07:16:46.511Z"
    }
   },
   "outputs": [],
   "source": [
    "df.sort_values('rating' , ascending = False).head() # axcending = False 为降序 "
   ]
  },
  {
   "cell_type": "code",
   "execution_count": null,
   "metadata": {
    "ExecuteTime": {
     "end_time": "2021-12-12T07:16:54.272665Z",
     "start_time": "2021-12-12T07:16:46.556Z"
    }
   },
   "outputs": [],
   "source": [
    "df.sort_values('rating' , ascending = True).head() # 默认升序"
   ]
  },
  {
   "cell_type": "code",
   "execution_count": null,
   "metadata": {
    "ExecuteTime": {
     "end_time": "2021-12-12T07:16:54.273667Z",
     "start_time": "2021-12-12T07:16:46.604Z"
    }
   },
   "outputs": [],
   "source": [
    "import html\n",
    "\n",
    "print(df['name'].head())\n",
    "print(df['name'].map(html.unescape).head())\n",
    "# map(）可以映射Series的每个元素"
   ]
  },
  {
   "cell_type": "code",
   "execution_count": null,
   "metadata": {
    "ExecuteTime": {
     "end_time": "2021-12-12T07:16:54.273667Z",
     "start_time": "2021-12-12T07:16:46.652Z"
    }
   },
   "outputs": [],
   "source": [
    "df.apply(len)"
   ]
  },
  {
   "cell_type": "code",
   "execution_count": null,
   "metadata": {
    "ExecuteTime": {
     "end_time": "2021-12-12T07:16:54.274665Z",
     "start_time": "2021-12-12T07:16:46.697Z"
    }
   },
   "outputs": [],
   "source": [
    "df.apply(len,axis = 1).head()"
   ]
  },
  {
   "cell_type": "code",
   "execution_count": null,
   "metadata": {
    "ExecuteTime": {
     "end_time": "2021-12-12T07:16:54.275664Z",
     "start_time": "2021-12-12T07:16:46.743Z"
    }
   },
   "outputs": [],
   "source": [
    "# df.apply(type)"
   ]
  },
  {
   "cell_type": "code",
   "execution_count": null,
   "metadata": {
    "ExecuteTime": {
     "end_time": "2021-12-12T07:16:54.275664Z",
     "start_time": "2021-12-12T07:16:46.789Z"
    }
   },
   "outputs": [],
   "source": [
    "df.apply(lambda x :len(x['name']) + len(x['genre']) , axis = 1).head()"
   ]
  },
  {
   "cell_type": "code",
   "execution_count": null,
   "metadata": {
    "ExecuteTime": {
     "end_time": "2021-12-12T07:16:54.276664Z",
     "start_time": "2021-12-12T07:16:46.836Z"
    }
   },
   "outputs": [],
   "source": [
    "df[['name' , 'genre']].applymap(len).head()"
   ]
  },
  {
   "cell_type": "code",
   "execution_count": null,
   "metadata": {
    "ExecuteTime": {
     "end_time": "2021-12-12T07:16:54.277665Z",
     "start_time": "2021-12-12T07:16:46.883Z"
    }
   },
   "outputs": [],
   "source": [
    "df['members'].sum()"
   ]
  },
  {
   "cell_type": "code",
   "execution_count": null,
   "metadata": {
    "ExecuteTime": {
     "end_time": "2021-12-12T07:16:54.277665Z",
     "start_time": "2021-12-12T07:16:46.930Z"
    }
   },
   "outputs": [],
   "source": [
    "df.mean()"
   ]
  },
  {
   "cell_type": "code",
   "execution_count": null,
   "metadata": {
    "ExecuteTime": {
     "end_time": "2021-12-12T07:16:54.278666Z",
     "start_time": "2021-12-12T07:16:46.974Z"
    }
   },
   "outputs": [],
   "source": [
    "df.sum()"
   ]
  },
  {
   "cell_type": "code",
   "execution_count": null,
   "metadata": {
    "ExecuteTime": {
     "end_time": "2021-12-12T07:16:54.279665Z",
     "start_time": "2021-12-12T07:16:47.018Z"
    }
   },
   "outputs": [],
   "source": [
    "df.count()"
   ]
  },
  {
   "cell_type": "code",
   "execution_count": null,
   "metadata": {
    "ExecuteTime": {
     "end_time": "2021-12-12T07:16:54.280665Z",
     "start_time": "2021-12-12T07:16:47.065Z"
    }
   },
   "outputs": [],
   "source": [
    "df.corr() # 连续变量的相关系数"
   ]
  },
  {
   "cell_type": "code",
   "execution_count": null,
   "metadata": {
    "ExecuteTime": {
     "end_time": "2021-12-12T07:16:54.281665Z",
     "start_time": "2021-12-12T07:16:47.110Z"
    }
   },
   "outputs": [],
   "source": [
    "df.skew() # 样本值的偏度(三阶矩)"
   ]
  },
  {
   "cell_type": "code",
   "execution_count": null,
   "metadata": {
    "ExecuteTime": {
     "end_time": "2021-12-12T07:16:54.281665Z",
     "start_time": "2021-12-12T07:16:47.154Z"
    }
   },
   "outputs": [],
   "source": [
    "df.kurt() # 样本值的峰度(四阶矩)"
   ]
  },
  {
   "cell_type": "code",
   "execution_count": null,
   "metadata": {
    "ExecuteTime": {
     "end_time": "2021-12-12T07:16:54.282665Z",
     "start_time": "2021-12-12T07:16:47.199Z"
    }
   },
   "outputs": [],
   "source": [
    "df.quantile() # 样本分位数(百分比值)"
   ]
  },
  {
   "cell_type": "code",
   "execution_count": null,
   "metadata": {
    "ExecuteTime": {
     "end_time": "2021-12-12T07:16:54.283666Z",
     "start_time": "2021-12-12T07:16:47.242Z"
    }
   },
   "outputs": [],
   "source": [
    "df.cov() # 协方差矩阵"
   ]
  },
  {
   "cell_type": "code",
   "execution_count": null,
   "metadata": {
    "ExecuteTime": {
     "end_time": "2021-12-12T07:16:54.284668Z",
     "start_time": "2021-12-12T07:16:47.285Z"
    }
   },
   "outputs": [],
   "source": [
    "df.describe().round(1)"
   ]
  },
  {
   "cell_type": "code",
   "execution_count": null,
   "metadata": {
    "ExecuteTime": {
     "end_time": "2021-12-12T07:16:54.285667Z",
     "start_time": "2021-12-12T07:16:47.327Z"
    }
   },
   "outputs": [],
   "source": [
    "df.describe()"
   ]
  },
  {
   "cell_type": "code",
   "execution_count": null,
   "metadata": {
    "ExecuteTime": {
     "end_time": "2021-12-12T07:16:54.285667Z",
     "start_time": "2021-12-12T07:16:47.375Z"
    }
   },
   "outputs": [],
   "source": [
    "df.describe(percentiles = [0.1,0.259]).round(1)"
   ]
  },
  {
   "cell_type": "code",
   "execution_count": null,
   "metadata": {
    "ExecuteTime": {
     "end_time": "2021-12-12T07:16:54.286666Z",
     "start_time": "2021-12-12T07:16:47.429Z"
    }
   },
   "outputs": [],
   "source": [
    "df[['genre','type']].describe()\n",
    "\n",
    "# count 去掉缺失值之后的数量\n",
    "# unique 去掉重复值之后的数量\n",
    "# top 出现频率最多的值\n",
    "# freq top值的数量"
   ]
  },
  {
   "cell_type": "code",
   "execution_count": null,
   "metadata": {
    "ExecuteTime": {
     "end_time": "2021-12-12T07:16:54.287667Z",
     "start_time": "2021-12-12T07:16:47.538Z"
    }
   },
   "outputs": [],
   "source": [
    "import os\n",
    "import numpy as np\n",
    "import pandas as pd\n",
    "\n",
    "df = pd.read_csv(r'C:/Users/jinchanglong/Desktop/you-get/anime_master_2.csv')\n",
    "\n",
    "grouped = df.groupby('type')\n",
    "print(type(grouped))\n",
    "grouped"
   ]
  },
  {
   "cell_type": "code",
   "execution_count": null,
   "metadata": {
    "ExecuteTime": {
     "end_time": "2021-12-12T07:16:54.288667Z",
     "start_time": "2021-12-12T07:16:47.585Z"
    }
   },
   "outputs": [],
   "source": [
    "grouped.mean().round(1) # 分组统计后求平均值"
   ]
  },
  {
   "cell_type": "code",
   "execution_count": null,
   "metadata": {
    "ExecuteTime": {
     "end_time": "2021-12-12T07:16:54.289668Z",
     "start_time": "2021-12-12T07:16:47.629Z"
    }
   },
   "outputs": [],
   "source": [
    "pd.options.display.max_columns = 32\n",
    "grouped.describe().round(1).head(16)"
   ]
  },
  {
   "cell_type": "code",
   "execution_count": null,
   "metadata": {
    "ExecuteTime": {
     "end_time": "2021-12-12T07:16:54.290666Z",
     "start_time": "2021-12-12T07:16:47.674Z"
    }
   },
   "outputs": [],
   "source": [
    "pd.options.display.max_rows = 20\n",
    "df.groupby(['type' , 'episodes','rating']).mean().round(1).head(20)"
   ]
  },
  {
   "cell_type": "code",
   "execution_count": null,
   "metadata": {
    "ExecuteTime": {
     "end_time": "2021-12-12T07:16:54.291668Z",
     "start_time": "2021-12-12T07:16:47.718Z"
    }
   },
   "outputs": [],
   "source": [
    "import numpy as np\n",
    "df.pivot_table(index = 'type' , aggfunc = np.mean)"
   ]
  },
  {
   "cell_type": "code",
   "execution_count": null,
   "metadata": {
    "ExecuteTime": {
     "end_time": "2021-12-12T07:16:54.291668Z",
     "start_time": "2021-12-12T07:16:47.763Z"
    }
   },
   "outputs": [],
   "source": [
    "df.pivot_table(index = ['type' , 'episodes'] , aggfunc = np.mean)"
   ]
  },
  {
   "cell_type": "code",
   "execution_count": null,
   "metadata": {
    "ExecuteTime": {
     "end_time": "2021-12-12T07:16:54.292669Z",
     "start_time": "2021-12-12T07:16:47.810Z"
    }
   },
   "outputs": [],
   "source": [
    "# 逗号分隔genre列的数据\n",
    "genres = df['genre'].map(lambda x :x.split(','))\n",
    "# 用numpy.array把二维数据转换为一维数据\n",
    "ser = pd.Series(np.hstack(genres.values))\n",
    "# 去掉重复值\n",
    "unique_genres = ser.str.strip().unique()\n",
    "unique_genres.sort()\n",
    "unique_genres"
   ]
  },
  {
   "cell_type": "code",
   "execution_count": null,
   "metadata": {
    "ExecuteTime": {
     "end_time": "2021-12-12T07:16:54.293669Z",
     "start_time": "2021-12-12T07:16:47.862Z"
    }
   },
   "outputs": [],
   "source": [
    "# 合并全部genre的准备工作\n",
    "def filter_df_by_genre(df , genre):\n",
    "    genre_df = df.loc[df['genre'].map(lambda x : genre in x )].copy()\n",
    "    genre_df['genre'] = genre\n",
    "    return genre_df \n",
    "\n",
    "# 所有类别的数据调用运行该函数\n",
    "genre_df_list = [filter_df_by_genre(df , genre) for genre in unique_genres]\n",
    "# 合并数据\n",
    "df2 = pd.concat(genre_df_list)\n",
    "# 对name列排序\n",
    "df2.sort_values('name' , inplace = True)\n",
    "\n",
    "# 人员数最多的类别Top10\n",
    "top10 = df2.groupby('genre')['members'].sum().sort_values(ascending = False).index[:10]\n",
    "\n",
    "# 从Top10抽选数据\n",
    "df2 = df2[df2['genre'].isin(top10)]\n",
    "df2.loc[df2['name'] == 'Kimi no Na wa.']"
   ]
  },
  {
   "cell_type": "code",
   "execution_count": null,
   "metadata": {
    "ExecuteTime": {
     "end_time": "2021-12-12T07:16:54.294668Z",
     "start_time": "2021-12-12T07:16:47.912Z"
    }
   },
   "outputs": [],
   "source": [
    "df2.pivot_table(index = 'genre' , columns = 'type' , values = ['members'] , aggfunc = np.sum).head()"
   ]
  },
  {
   "cell_type": "code",
   "execution_count": null,
   "metadata": {
    "ExecuteTime": {
     "end_time": "2021-12-12T07:16:54.295668Z",
     "start_time": "2021-12-12T07:16:47.963Z"
    }
   },
   "outputs": [],
   "source": [
    "import os \n",
    "import pandas as pd \n",
    "\n",
    "df = pd.read_csv(r'C:/Users/jinchanglong/Desktop/you-get/anime_stock_price.csv')\n",
    "df"
   ]
  },
  {
   "cell_type": "code",
   "execution_count": null,
   "metadata": {
    "ExecuteTime": {
     "end_time": "2021-12-12T07:16:54.296669Z",
     "start_time": "2021-12-12T07:16:48.009Z"
    }
   },
   "outputs": [],
   "source": [
    "pd.options.display.max_rows = 10\n",
    "\n",
    "pct_change = df['TOEI ANIMATION'].pct_change()\n",
    "pct_change"
   ]
  },
  {
   "cell_type": "code",
   "execution_count": null,
   "metadata": {
    "ExecuteTime": {
     "end_time": "2021-12-12T07:16:54.297669Z",
     "start_time": "2021-12-12T07:16:48.054Z"
    }
   },
   "outputs": [],
   "source": [
    "cumulative_returns = (pct_change + 1 ).cumprod()\n",
    "cumulative_returns[0] = 1\n",
    "cumulative_returns"
   ]
  },
  {
   "cell_type": "code",
   "execution_count": null,
   "metadata": {
    "ExecuteTime": {
     "end_time": "2021-12-12T07:16:54.297669Z",
     "start_time": "2021-12-12T07:16:48.100Z"
    }
   },
   "outputs": [],
   "source": [
    "df['TOEI ANIMATION'].rolling(5).mean()"
   ]
  },
  {
   "cell_type": "code",
   "execution_count": null,
   "metadata": {
    "ExecuteTime": {
     "end_time": "2021-12-12T07:16:54.299670Z",
     "start_time": "2021-12-12T07:16:48.148Z"
    }
   },
   "outputs": [],
   "source": [
    "import numpy as np \n",
    "\n",
    "def historical_volatility(x):\n",
    "    logreturns = np.diff(np.log(x))  # 对数收益率\n",
    "    return np.sqrt( 365 * logreturns.var())\n",
    "\n",
    "df['TOEI ANIMATION'].rolling(20).apply(historical_volatility)"
   ]
  },
  {
   "cell_type": "code",
   "execution_count": null,
   "metadata": {
    "ExecuteTime": {
     "end_time": "2021-12-12T07:16:54.300670Z",
     "start_time": "2021-12-12T07:16:48.197Z"
    }
   },
   "outputs": [],
   "source": [
    "ix = pd.date_range('2017-01','2017-02',freq = '1H')\n",
    "ix"
   ]
  },
  {
   "cell_type": "code",
   "execution_count": null,
   "metadata": {
    "ExecuteTime": {
     "end_time": "2021-12-12T07:16:54.301671Z",
     "start_time": "2021-12-12T07:16:48.243Z"
    }
   },
   "outputs": [],
   "source": [
    "time_series = pd.Series(np.arange(len(ix)),index = ix)\n",
    "time_series"
   ]
  },
  {
   "cell_type": "code",
   "execution_count": null,
   "metadata": {
    "ExecuteTime": {
     "end_time": "2021-12-12T07:16:54.301671Z",
     "start_time": "2021-12-12T07:16:48.289Z"
    }
   },
   "outputs": [],
   "source": [
    "from datetime import datetime\n",
    "time_series.loc[datetime(2017,1,4)]"
   ]
  },
  {
   "cell_type": "code",
   "execution_count": null,
   "metadata": {
    "ExecuteTime": {
     "end_time": "2021-12-12T07:16:54.302670Z",
     "start_time": "2021-12-12T07:16:48.340Z"
    }
   },
   "outputs": [],
   "source": [
    "time_series.loc['2017-01-04']"
   ]
  },
  {
   "cell_type": "code",
   "execution_count": null,
   "metadata": {
    "ExecuteTime": {
     "end_time": "2021-12-12T07:16:54.303672Z",
     "start_time": "2021-12-12T07:16:48.388Z"
    }
   },
   "outputs": [],
   "source": [
    "time_series.loc['Jan-04-2017']"
   ]
  },
  {
   "cell_type": "code",
   "execution_count": null,
   "metadata": {
    "ExecuteTime": {
     "end_time": "2021-12-12T07:16:54.304671Z",
     "start_time": "2021-12-12T07:16:48.434Z"
    }
   },
   "outputs": [],
   "source": [
    "time_series.loc['2017'].head()"
   ]
  },
  {
   "cell_type": "code",
   "execution_count": null,
   "metadata": {
    "ExecuteTime": {
     "end_time": "2021-12-12T07:16:54.305674Z",
     "start_time": "2021-12-12T07:16:48.481Z"
    }
   },
   "outputs": [],
   "source": [
    "time_series.loc['2017-01'].head()"
   ]
  },
  {
   "cell_type": "code",
   "execution_count": null,
   "metadata": {
    "ExecuteTime": {
     "end_time": "2021-12-12T07:16:54.306673Z",
     "start_time": "2021-12-12T07:16:48.528Z"
    }
   },
   "outputs": [],
   "source": [
    "time_series.loc['2017-01':'2017-02']"
   ]
  },
  {
   "cell_type": "code",
   "execution_count": null,
   "metadata": {
    "ExecuteTime": {
     "end_time": "2021-12-12T07:16:54.308676Z",
     "start_time": "2021-12-12T07:16:48.574Z"
    }
   },
   "outputs": [],
   "source": [
    "from datetime import datetime\n",
    "import time\n",
    "\n",
    "time_series.at_time('09:00')"
   ]
  },
  {
   "cell_type": "code",
   "execution_count": null,
   "metadata": {
    "ExecuteTime": {
     "end_time": "2021-12-12T07:16:54.309673Z",
     "start_time": "2021-12-12T07:16:48.618Z"
    }
   },
   "outputs": [],
   "source": [
    "time_series.between_time('09:00','12:00')"
   ]
  },
  {
   "cell_type": "code",
   "execution_count": null,
   "metadata": {
    "ExecuteTime": {
     "end_time": "2021-12-12T07:16:54.310673Z",
     "start_time": "2021-12-12T07:16:48.667Z"
    }
   },
   "outputs": [],
   "source": [
    "time_series.resample('3D').ohlc()"
   ]
  },
  {
   "cell_type": "code",
   "execution_count": null,
   "metadata": {
    "ExecuteTime": {
     "end_time": "2021-12-12T07:16:54.311672Z",
     "start_time": "2021-12-12T07:16:48.716Z"
    }
   },
   "outputs": [],
   "source": [
    "# df['Date'].resample('M').interpolate('linear') # 线性插值"
   ]
  },
  {
   "cell_type": "code",
   "execution_count": null,
   "metadata": {
    "ExecuteTime": {
     "end_time": "2021-12-12T07:16:54.311672Z",
     "start_time": "2021-12-12T07:16:48.768Z"
    }
   },
   "outputs": [],
   "source": [
    "%matplotlib tk\n",
    "import pandas as pd \n",
    "import numpy as np \n",
    "import matplotlib.pyplot as plt\n",
    "\n",
    "Ser = pd.Series([1,2,3])\n",
    "ax = Ser.plot(kind = 'line',\n",
    "                   xlim = (0,4),\n",
    "                   ylim = (0,4),\n",
    "                   color = 'grey',\n",
    "                   xticks = ([0,1,2,3,4]),\n",
    "                   yticks = ([0,1,2,3]), \n",
    "                   title = 'Line Chart')\n",
    "ax.set_title('Line Chart')\n",
    "plt.show()"
   ]
  },
  {
   "cell_type": "code",
   "execution_count": null,
   "metadata": {
    "ExecuteTime": {
     "end_time": "2021-12-12T07:16:54.312674Z",
     "start_time": "2021-12-12T07:16:48.825Z"
    }
   },
   "outputs": [],
   "source": [
    "df = pd.DataFrame({'a':[0,1,2,3] , 'b':[3,2,1,0]})\n",
    "ax = df.plot(kind = 'line',\n",
    "             xlim = (0,4),\n",
    "             ylim = (0,4),\n",
    "             color = 'red',\n",
    "            xticks = ([0,1,2,3,4]),\n",
    "            yticks = ([1,2,3,4]),\n",
    "            title = 'Line Chart')\n",
    "\n",
    "plt.show()"
   ]
  },
  {
   "cell_type": "code",
   "execution_count": null,
   "metadata": {
    "ExecuteTime": {
     "end_time": "2021-12-12T07:16:54.313673Z",
     "start_time": "2021-12-12T07:16:48.879Z"
    }
   },
   "outputs": [],
   "source": [
    "df = pd.read_csv(r'C:/Users/jinchanglong/Desktop/you-get/anime_stock_returns.csv' , index_col = 0)\n",
    "ax = df.plot()\n",
    "ax.set_title('stock return')\n",
    "plt.show()"
   ]
  },
  {
   "cell_type": "code",
   "execution_count": null,
   "metadata": {
    "ExecuteTime": {
     "end_time": "2021-12-12T07:16:54.313673Z",
     "start_time": "2021-12-12T07:16:48.930Z"
    }
   },
   "outputs": [],
   "source": [
    "ax = df.plot(secondary_y = ['IG Port'])\n",
    "ax.set_title('secondary_y')\n",
    "ax.set_ylabel('TOEI ANIMATION')\n",
    "ax.right_ax.set_ylabel('IG Port')\n",
    "plt.show()"
   ]
  },
  {
   "cell_type": "code",
   "execution_count": null,
   "metadata": {
    "ExecuteTime": {
     "end_time": "2021-12-12T07:16:54.314674Z",
     "start_time": "2021-12-12T07:16:48.982Z"
    }
   },
   "outputs": [],
   "source": [
    "df"
   ]
  },
  {
   "cell_type": "code",
   "execution_count": null,
   "metadata": {
    "ExecuteTime": {
     "end_time": "2021-12-12T07:16:54.315674Z",
     "start_time": "2021-12-12T07:16:49.032Z"
    }
   },
   "outputs": [],
   "source": [
    "ax1 , ax2 = df.plot(subplots = True)\n",
    "\n",
    "ax1.set_title('TOEI ANIMATION')\n",
    "ax2.set_title('IG Port')\n",
    "plt.show()"
   ]
  },
  {
   "cell_type": "code",
   "execution_count": null,
   "metadata": {
    "ExecuteTime": {
     "end_time": "2021-12-12T07:16:54.315674Z",
     "start_time": "2021-12-12T07:16:49.082Z"
    }
   },
   "outputs": [],
   "source": [
    "df = pd.read_csv(r'C:/Users/jinchanglong/Desktop/you-get/anime_master_2.csv')\n",
    "\n",
    "ax = df.plot.scatter(x = 'members' , y = 'rating', grid = True)\n",
    "ax.set_title('Scatter')\n",
    "plt.show()"
   ]
  },
  {
   "cell_type": "code",
   "execution_count": null,
   "metadata": {
    "ExecuteTime": {
     "end_time": "2021-12-12T07:16:54.316673Z",
     "start_time": "2021-12-12T07:16:49.133Z"
    }
   },
   "outputs": [],
   "source": [
    "df = pd.read_csv(r'C:/Users/jinchanglong/Desktop/you-get/anime_genre_top10_pivoted.csv')\n",
    "\n",
    "ax = df.plot.bar()  # 等价于 ax = df.plot(kind = 'bar')\n",
    "plt.show()"
   ]
  },
  {
   "cell_type": "code",
   "execution_count": null,
   "metadata": {
    "ExecuteTime": {
     "end_time": "2021-12-12T07:16:54.317674Z",
     "start_time": "2021-12-12T07:16:49.184Z"
    }
   },
   "outputs": [],
   "source": [
    "ax = df.plot.bar(logy = True)\n",
    "\n",
    "ax.legend(bbox_to_anchor = (1 ,1))\n",
    "plt.show()"
   ]
  },
  {
   "cell_type": "code",
   "execution_count": null,
   "metadata": {
    "ExecuteTime": {
     "end_time": "2021-12-12T07:16:54.318675Z",
     "start_time": "2021-12-12T07:16:49.233Z"
    }
   },
   "outputs": [],
   "source": [
    "ax = df.plot(kind = 'bar' ,stacked = True)\n",
    "plt.show()"
   ]
  },
  {
   "cell_type": "code",
   "execution_count": null,
   "metadata": {
    "ExecuteTime": {
     "end_time": "2021-12-12T07:16:54.318675Z",
     "start_time": "2021-12-12T07:16:49.283Z"
    }
   },
   "outputs": [],
   "source": [
    "df = pd.read_csv(r'C:/Users/jinchanglong/Desktop/you-get/anime_master_2.csv')\n",
    "\n",
    "ax = df['rating'].plot.hist(bins = 100)\n",
    "plt.show()"
   ]
  },
  {
   "cell_type": "code",
   "execution_count": null,
   "metadata": {
    "ExecuteTime": {
     "end_time": "2021-12-12T07:16:54.319674Z",
     "start_time": "2021-12-12T07:16:49.341Z"
    }
   },
   "outputs": [],
   "source": [
    "df = pd.read_csv(r'C:/Users/jinchanglong/Desktop/you-get/anime_genre_top10_pivoted.csv')\n",
    "df.plot.box()\n",
    "plt.show()"
   ]
  },
  {
   "cell_type": "code",
   "execution_count": null,
   "metadata": {
    "ExecuteTime": {
     "end_time": "2021-12-12T07:16:54.320675Z",
     "start_time": "2021-12-12T07:16:49.414Z"
    }
   },
   "outputs": [],
   "source": [
    "df = pd.read_csv(r'C:/Users/jinchanglong/Desktop/you-get/anime_genre_top10.csv')\n",
    "ax = df.groupby('genre').sum()['members'].plot.pie(figsize = (5,5))\n",
    "ax.set_ylabel('')  # 删除y轴标签\n",
    "plt.show()"
   ]
  },
  {
   "cell_type": "code",
   "execution_count": null,
   "metadata": {
    "ExecuteTime": {
     "end_time": "2021-12-12T07:16:54.320675Z",
     "start_time": "2021-12-12T07:16:49.487Z"
    }
   },
   "outputs": [],
   "source": [
    "import matplotlib.pyplot as plt #abc\n",
    "\n",
    "fig = plt.figure()\n",
    "ax = fig.add_subplot(111)\n",
    "\n",
    "dat = [0 , 1]\n",
    "ax.plot(dat)\n",
    "\n",
    "plt.show()"
   ]
  },
  {
   "cell_type": "code",
   "execution_count": null,
   "metadata": {
    "ExecuteTime": {
     "end_time": "2021-12-12T07:16:54.321674Z",
     "start_time": "2021-12-12T07:16:49.559Z"
    }
   },
   "outputs": [],
   "source": [
    "fig = plt.figure()\n",
    "\n",
    "ax1 = fig.add_subplot(2,2,1) # 2行，2列，第一个\n",
    "ax2 = fig.add_subplot(2,2,2) # 2行，2列，第二个\n",
    "ax3 = fig.add_subplot(2,2,3) # 2行。2列，第三个\n",
    "\n",
    "plt.show()"
   ]
  },
  {
   "cell_type": "code",
   "execution_count": null,
   "metadata": {
    "ExecuteTime": {
     "end_time": "2021-12-12T07:16:54.322675Z",
     "start_time": "2021-12-12T07:16:49.618Z"
    }
   },
   "outputs": [],
   "source": [
    "# 编号规则\n",
    "fig = plt.figure()\n",
    "\n",
    "ax1 = fig.add_subplot(221)  # ax1 = fig.add_subplot(2,2,1) -> '逗号分隔表记法'\n",
    "ax2 = fig.add_subplot(222)  # ax2 = fig.add_subplot(2,2,2)\n",
    "ax3 = fig.add_subplot(223)  # ax3 = fig.add_subplot(2,2,3)\n",
    "ax4 = fig.add_subplot(224)  # ax4 = fig.add_subplot(2,2,4)\n",
    "\n",
    "for i , ax in enumerate([ax1,ax2,ax3,ax4] , start = 1):\n",
    "    txt = 'ax{0}\\n(22{0})'.format(i)\n",
    "    ax.text(0.2,0.24,txt,fontsize = 24) # plt.text(x, y, s, fontsize, verticalalignment,horizontalalignment,rotation , **kwargs)\n",
    "\n",
    "plt.show()"
   ]
  },
  {
   "cell_type": "code",
   "execution_count": null,
   "metadata": {
    "ExecuteTime": {
     "end_time": "2021-12-12T07:16:54.323674Z",
     "start_time": "2021-12-12T07:16:49.674Z"
    }
   },
   "outputs": [],
   "source": [
    "%matplotlib inline\n",
    "fig ,axes = plt.subplots(2,2)\n",
    "\n",
    "print(type(axes),axes)\n",
    "plt.show()"
   ]
  },
  {
   "cell_type": "code",
   "execution_count": null,
   "metadata": {
    "ExecuteTime": {
     "end_time": "2021-12-12T07:16:54.324675Z",
     "start_time": "2021-12-12T07:16:49.729Z"
    }
   },
   "outputs": [],
   "source": [
    "%matplotlib tk\n",
    "\n",
    "import pandas as pd\n",
    "import numpy as np\n",
    "import matplotlib.pylab as plt\n",
    "\n",
    "fig , axes = plt.subplots(2,2)\n",
    "\n",
    "axes[0,1].set_title('Subplot 0-1')\n",
    "plt.show()"
   ]
  },
  {
   "cell_type": "code",
   "execution_count": null,
   "metadata": {
    "ExecuteTime": {
     "end_time": "2021-12-12T07:17:32.149510Z",
     "start_time": "2021-12-12T07:17:32.142Z"
    }
   },
   "outputs": [],
   "source": [
    "%matplotlib tk\n",
    "import pandas as pd\n",
    "import numpy as np\n",
    "import matplotlib.pylab as plt\n",
    "\n",
    "plt.style.use('ggplot')\n",
    "fig = plt.figure()\n",
    "ax = fig.add_subplot(1,1,1)\n",
    "\n",
    "dat = [0,1]\n",
    "ax.plot(dat)\n",
    "\n",
    "plt.show()"
   ]
  },
  {
   "cell_type": "code",
   "execution_count": null,
   "metadata": {
    "ExecuteTime": {
     "end_time": "2021-12-12T07:23:18.198817Z",
     "start_time": "2021-12-12T07:23:17.998421Z"
    }
   },
   "outputs": [],
   "source": [
    "import matplotlib.pyplot as plt\n",
    "plt.style.use('ggplot')\n",
    "\n",
    "fig = plt.figure()\n",
    "ax = fig.add_subplot(1,1,1)\n",
    "\n",
    "ax.plot([1,4])\n",
    "plt.show()"
   ]
  },
  {
   "cell_type": "code",
   "execution_count": null,
   "metadata": {
    "ExecuteTime": {
     "end_time": "2021-12-12T07:25:22.008791Z",
     "start_time": "2021-12-12T07:25:21.736824Z"
    }
   },
   "outputs": [],
   "source": [
    "# 通过指定的x轴的值和y轴的值来绘制折线图\n",
    "fig = plt.figure()\n",
    "ax = fig.add_subplot(1,1,1)\n",
    "\n",
    "x = [0,2,4]\n",
    "y = [0,4,2]\n",
    "\n",
    "ax.plot(x,y)\n",
    "plt.show()"
   ]
  },
  {
   "cell_type": "code",
   "execution_count": null,
   "metadata": {
    "ExecuteTime": {
     "end_time": "2021-12-12T07:30:30.722476Z",
     "start_time": "2021-12-12T07:30:30.404097Z"
    }
   },
   "outputs": [],
   "source": [
    "# 绘制多条线\n",
    "\n",
    "fig = plt.figure()\n",
    "ax = fig.add_subplot(1,1,1)\n",
    "\n",
    "x = [0,2,4]\n",
    "y = [0,4,2.5]\n",
    "z = [4,0,1.5]\n",
    "\n",
    "ax.plot(x,y)\n",
    "ax.plot(x,z)\n",
    "\n",
    "plt.show()"
   ]
  },
  {
   "cell_type": "code",
   "execution_count": null,
   "metadata": {
    "ExecuteTime": {
     "end_time": "2021-12-12T07:32:57.677287Z",
     "start_time": "2021-12-12T07:32:57.650665Z"
    }
   },
   "outputs": [],
   "source": [
    "import os \n",
    "import pandas as pd \n",
    "\n",
    "df = pd.read_csv(r'C:/Users/jinchanglong/Desktop/you-get/anime_stock_returns.csv' , \n",
    "                 index_col = 0,\n",
    "                 parse_dates = ['Date'])\n",
    "df.head()"
   ]
  },
  {
   "cell_type": "code",
   "execution_count": null,
   "metadata": {
    "ExecuteTime": {
     "end_time": "2021-12-12T07:40:56.185145Z",
     "start_time": "2021-12-12T07:40:55.862038Z"
    }
   },
   "outputs": [],
   "source": [
    "plt.rcParams['font.family'] = ['sans-serif']\n",
    "plt.rcParams['font.sans-serif'] = ['SimHei']\n",
    "\n",
    "fig = plt.figure(figsize = (10,4))\n",
    "ax = fig.add_subplot(1,1,1)\n",
    "\n",
    "ax.plot(df.index , df['TOEI ANIMATION'] , label = 'TOEI ANIMATION')\n",
    "ax.plot(df.index , df['IG Port'] , label  = 'IG Port')\n",
    "\n",
    "ax.set_title('2年内股价涨跌比迁移图')\n",
    "ax.set_ylabel('股价涨跌比')\n",
    "ax.set_xlabel('年月')\n",
    "\n",
    "ax.legend()\n",
    "plt.show()"
   ]
  },
  {
   "cell_type": "code",
   "execution_count": null,
   "metadata": {
    "ExecuteTime": {
     "end_time": "2021-12-12T08:15:21.515871Z",
     "start_time": "2021-12-12T08:15:19.492269Z"
    }
   },
   "outputs": [],
   "source": [
    "df = pd.read_csv(r'C:/Users/jinchanglong/Desktop/you-get/4816.csv',\n",
    "                 index_col = 0,\n",
    "                 parse_dates = ['Date'])\n",
    "\n",
    "fig = plt.figure(figsize = (10,4))\n",
    "ax1 = fig.add_subplot(1,1,1)\n",
    "\n",
    "ax1.plot(df.index , df['Close'],color = 'b' , label = '股价')\n",
    "\n",
    "# 设置为共用x轴的双y轴图标\n",
    "ax2 = ax1.twinx()\n",
    "ax2.bar(df.index , df['Volume'] , color = 'g' , label = '成交额' , width = 2)\n",
    "\n",
    "# 设置轴和轴坐标\n",
    "ax1.set_yticks([i * 2000 for i in range(5)])\n",
    "ax1.set_ylabel('股价')\n",
    "ax2.set_yticks([i * 50000 for i in range(5)])\n",
    "ax2.set_ylabel('成交额')\n",
    "ax1.set_xlabel('年月')\n",
    "\n",
    "# 设置图形标题\n",
    "ax1.set_title('股价和成交额')\n",
    "\n",
    "# 设置图例\n",
    "ax1.legend(loc = 1)\n",
    "ax2.legend(loc = 2)\n",
    "\n",
    "plt.show()"
   ]
  },
  {
   "cell_type": "code",
   "execution_count": null,
   "metadata": {
    "ExecuteTime": {
     "end_time": "2021-12-12T08:07:36.536232Z",
     "start_time": "2021-12-12T08:07:36.509748Z"
    }
   },
   "outputs": [],
   "source": [
    "df"
   ]
  },
  {
   "cell_type": "code",
   "execution_count": null,
   "metadata": {
    "ExecuteTime": {
     "end_time": "2021-12-12T08:22:52.756433Z",
     "start_time": "2021-12-12T08:22:52.501913Z"
    }
   },
   "outputs": [],
   "source": [
    "import matplotlib.pyplot as plt \n",
    "import numpy as np\n",
    "\n",
    "plt.style.use('ggplot')\n",
    "\n",
    "np.random.seed(2)\n",
    "x = np.arange(1, 101)\n",
    "y = 4 * x * np.random.rand(100)\n",
    "\n",
    "fig = plt.figure()\n",
    "ax = fig.add_subplot(1,1,1)\n",
    "\n",
    "ax.scatter(x,y)\n",
    "plt.show()"
   ]
  },
  {
   "cell_type": "code",
   "execution_count": null,
   "metadata": {
    "ExecuteTime": {
     "end_time": "2021-12-12T08:29:29.581505Z",
     "start_time": "2021-12-12T08:29:29.537968Z"
    }
   },
   "outputs": [],
   "source": [
    "df = pd.read_csv(r'C:/Users/jinchanglong/Desktop/you-get/anime_master_2.csv' , index_col = 0)\n",
    "df.head()"
   ]
  },
  {
   "cell_type": "code",
   "execution_count": null,
   "metadata": {
    "ExecuteTime": {
     "end_time": "2021-12-13T00:36:32.933627Z",
     "start_time": "2021-12-13T00:36:32.628781Z"
    }
   },
   "outputs": [],
   "source": [
    "fig = plt.figure()\n",
    "ax = fig.add_subplot(1,1,1)\n",
    "\n",
    "ax.scatter(df['members'] , df['rating'] , alpha = 0.5)\n",
    "plt.show()"
   ]
  },
  {
   "cell_type": "code",
   "execution_count": null,
   "metadata": {
    "ExecuteTime": {
     "end_time": "2021-12-13T00:42:12.954108Z",
     "start_time": "2021-12-13T00:42:12.874101Z"
    }
   },
   "outputs": [],
   "source": [
    "df.loc[df['members'] >= 800000 , ['name' , 'members'] ]"
   ]
  },
  {
   "cell_type": "code",
   "execution_count": null,
   "metadata": {
    "ExecuteTime": {
     "end_time": "2021-12-13T00:50:23.218128Z",
     "start_time": "2021-12-13T00:50:23.198139Z"
    }
   },
   "outputs": [],
   "source": [
    "df.loc[(df['members']>= 600000) & (df['rating'] >=8.5) , ['name','rating']]"
   ]
  },
  {
   "cell_type": "code",
   "execution_count": null,
   "metadata": {
    "ExecuteTime": {
     "end_time": "2021-12-13T00:56:53.186499Z",
     "start_time": "2021-12-13T00:56:53.178174Z"
    }
   },
   "outputs": [],
   "source": [
    "# type 列表去除重复项\n",
    "\n",
    "types = df['type'].unique()\n",
    "types"
   ]
  },
  {
   "cell_type": "code",
   "execution_count": null,
   "metadata": {
    "ExecuteTime": {
     "end_time": "2021-12-13T01:06:20.235803Z",
     "start_time": "2021-12-13T01:06:19.751648Z"
    }
   },
   "outputs": [],
   "source": [
    "fig = plt.figure(figsize = (10,5))\n",
    "ax = fig.add_subplot(1,1,1)\n",
    "\n",
    "for t in types:\n",
    "    x = df.loc[df['type'] == t , 'members']\n",
    "    y = df.loc[df['type'] == t , 'rating']\n",
    "    \n",
    "    ax.scatter(x , y , alpha = 0.5 , label = t)\n",
    "    \n",
    "ax.set_title('按每个配给类别分组后的散点图')\n",
    "\n",
    "ax.set_xlabel('Members')\n",
    "ax.set_ylabel('Rating')\n",
    "\n",
    "ax.legend(loc = 'lower right' , fontsize = 12)\n",
    "\n",
    "plt.show()"
   ]
  },
  {
   "cell_type": "code",
   "execution_count": null,
   "metadata": {
    "ExecuteTime": {
     "end_time": "2021-12-13T01:09:08.732593Z",
     "start_time": "2021-12-13T01:09:08.431934Z"
    }
   },
   "outputs": [],
   "source": [
    "import matplotlib.pyplot as plt\n",
    "\n",
    "plt.style.use('ggplot')\n",
    "fig = plt.figure()\n",
    "ax = fig.add_subplot(1,1,1)\n",
    "\n",
    "x = [1 ,2]\n",
    "y = [1 ,3]\n",
    "\n",
    "ax.bar(x,y)\n",
    "plt.show()"
   ]
  },
  {
   "cell_type": "code",
   "execution_count": null,
   "metadata": {
    "ExecuteTime": {
     "end_time": "2021-12-13T01:14:05.124635Z",
     "start_time": "2021-12-13T01:14:04.917472Z"
    }
   },
   "outputs": [],
   "source": [
    "# 设置横轴的刻度标签\n",
    "\n",
    "fig = plt.figure()\n",
    "ax = fig.add_subplot(1,1,1)\n",
    "\n",
    "labels = ['apple' , 'orange']\n",
    "ax.bar(x,y,tick_label = labels)\n",
    "\n",
    "plt.show()"
   ]
  },
  {
   "cell_type": "code",
   "execution_count": null,
   "metadata": {
    "ExecuteTime": {
     "end_time": "2021-12-13T01:27:17.027825Z",
     "start_time": "2021-12-13T01:27:16.882957Z"
    }
   },
   "outputs": [],
   "source": [
    "fig = plt.figure()\n",
    "ax = fig.add_subplot(1,1,1)\n",
    "\n",
    "ax.bar(x,y)\n",
    "\n",
    "# 设置x轴的刻度和刻度标签\n",
    "ax.set_xticks(x)\n",
    "ax.set_xticklabels(labels)\n",
    "\n",
    "plt.show()"
   ]
  },
  {
   "cell_type": "code",
   "execution_count": null,
   "metadata": {
    "ExecuteTime": {
     "end_time": "2021-12-13T01:31:09.191591Z",
     "start_time": "2021-12-13T01:31:09.024154Z"
    }
   },
   "outputs": [],
   "source": [
    "# 创建水平方向的柱形图\n",
    "\n",
    "fig = plt.figure()\n",
    "ax = fig.add_subplot(1,1,1)\n",
    "\n",
    "ax.barh(x,y,tick_label = labels)\n",
    "\n",
    "plt.show()"
   ]
  },
  {
   "cell_type": "code",
   "execution_count": null,
   "metadata": {
    "ExecuteTime": {
     "end_time": "2021-12-13T02:23:57.376534Z",
     "start_time": "2021-12-13T02:23:57.320603Z"
    }
   },
   "outputs": [],
   "source": [
    "df = pd.read_csv(r'C:/Users/jinchanglong/Desktop/you-get/anime_master_2.csv')\n",
    "df.head()"
   ]
  },
  {
   "cell_type": "code",
   "execution_count": null,
   "metadata": {
    "ExecuteTime": {
     "end_time": "2021-12-13T02:07:34.541614Z",
     "start_time": "2021-12-13T02:07:34.287333Z"
    }
   },
   "outputs": [],
   "source": [
    "%matplotlib inline\n",
    "fig = plt.figure()\n",
    "ax = fig.add_subplot(1,1,1)\n",
    "\n",
    "y = df.groupby('type').sum()['members']\n",
    "x = range(len(y))\n",
    "\n",
    "xlabels = y.index\n",
    "ax.bar(x,y,tick_label = xlabels)\n",
    "ax.set_ylabel('会员总数')\n",
    "\n",
    "plt.show()"
   ]
  },
  {
   "cell_type": "code",
   "execution_count": null,
   "metadata": {
    "ExecuteTime": {
     "end_time": "2021-12-13T02:24:43.994540Z",
     "start_time": "2021-12-13T02:24:43.649488Z"
    }
   },
   "outputs": [],
   "source": [
    "import pandas as pd\n",
    "import numpy as np \n",
    "import matplotlib.pyplot as plt\n",
    "\n",
    "# 创建数据集\n",
    "x = [1,2]\n",
    "\n",
    "y1,y2,y3 = [1,2],[2,4],[3,6]\n",
    "\n",
    "# 绘制分组柱状图\n",
    "fig = plt.figure()\n",
    "ax = fig.add_subplot(1,1,1)\n",
    "\n",
    "w = 0.2\n",
    "ax.bar(x,y1,label = 'y1')\n",
    "ax.bar(x,y2,label = 'y2')\n",
    "ax.bar(x,y3,label = 'y3')\n",
    "\n",
    "ax.legend()\n",
    "plt.show()"
   ]
  },
  {
   "cell_type": "code",
   "execution_count": null,
   "metadata": {
    "ExecuteTime": {
     "end_time": "2021-12-13T02:28:39.411666Z",
     "start_time": "2021-12-13T02:28:39.041351Z"
    }
   },
   "outputs": [],
   "source": [
    "fig = plt.figure()\n",
    "ax = fig.add_subplot(1,1,1)\n",
    "\n",
    "w = 0.2\n",
    "ax.bar(x, y1 , width = w , label = 'y1')\n",
    "ax.bar(np.array(x) + w ,y2 , width = w , label = 'y2' )\n",
    "ax.bar(np.array(x) + w * 2 , y3 , width = w , label = 'y3')\n",
    "\n",
    "ax.legend()\n",
    "plt.show()"
   ]
  },
  {
   "cell_type": "code",
   "execution_count": null,
   "metadata": {
    "ExecuteTime": {
     "end_time": "2021-12-13T03:59:50.968826Z",
     "start_time": "2021-12-13T03:59:50.319309Z"
    }
   },
   "outputs": [],
   "source": [
    "import pandas as pd\n",
    "df = pd.read_csv(r'C:/Users/jinchanglong/Desktop/you-get/anime_genre_top10_pivoted.csv',index_col = 'genre')\n",
    "df.head()"
   ]
  },
  {
   "cell_type": "code",
   "execution_count": null,
   "metadata": {
    "ExecuteTime": {
     "start_time": "2021-12-13T03:38:59.101Z"
    }
   },
   "outputs": [],
   "source": [
    "%matplotlib tk\n",
    "import pandas as pd\n",
    "import numpy as np\n",
    "import matplotlib.pyplot as plt\n",
    "\n",
    "plt.rcParams['font.family'] = ['sans-serif']\n",
    "plt.rcParams['font.sans-serif'] = ['SimHei']\n",
    "\n",
    "df = pd.read_csv(r'C:/Users/jinchanglong/Desktop/you-get/anime_genre_top10_pivoted.csv',index_col = 'genre')\n",
    "\n",
    "fig = plt.figure(figsize = (18 , 3))\n",
    "ax = fig.add_subplot(1,1,1)\n",
    "\n",
    "wt = np.array(range(len(df)))\n",
    "w = 0.1\n",
    "\n",
    "for i in df.columns:\n",
    "    ax.bar(wt , df[i] ,width = w , label = i)\n",
    "    wt = wt + w\n",
    "    \n",
    "ax.set_xticks(np.array(range(len(df) + 2)))\n",
    "# ax.set_xticklabels(['Comedy', 'Action', 'Drama', 'Romance', 'Supernatural', 'Fantasy',\n",
    "# 'Shounen', 'School', 'Adventure', 'Sci-Fi','Romance1'] , ha = 'left')\n",
    "ax.set_ylabel('总会员数')\n",
    "ax.legend()\n",
    "\n",
    "plt.show()"
   ]
  },
  {
   "cell_type": "code",
   "execution_count": null,
   "metadata": {
    "ExecuteTime": {
     "end_time": "2021-12-13T06:56:52.537103Z",
     "start_time": "2021-12-13T06:56:50.996511Z"
    }
   },
   "outputs": [],
   "source": [
    "import pandas as pd\n",
    "import matplotlib.pyplot as plt\n",
    "\n",
    "plt.rcParams['font.family'] = ['sans-serif']\n",
    "plt.rcParams['font.sans-serif'] = ['SimHei']\n",
    "\n",
    "df = pd.read_csv(r'C:/Users/jinchanglong/Desktop/you-get/anime_genre_top10_pivoted.csv',index_col = 'genre')\n",
    "\n",
    "fig = plt.figure(figsize = (18 , 3))\n",
    "ax = fig.add_subplot(1,1,1)\n",
    "\n",
    "wt = np.array(range(len(df)))\n",
    "w = 0.1\n",
    "\n",
    "for i in df.columns:\n",
    "    ax.bar(wt , df[i] ,width = w , label = i)\n",
    "    wt = wt + w\n",
    "    \n",
    "labels = np.array(['Comedy', 'Action', 'Drama', 'Romance', 'Supernatural', 'Fantasy', 'Shounen', 'School', 'Adventure', 'Sci-Fi'])    \n",
    "\n",
    "ax.set_xticks(np.array(range(len(df))))\n",
    "ax.set_xticklabels(labels , ha = 'left')\n",
    "ax.set_ylabel('总会员数')\n",
    "ax.set_yscale('log')\n",
    "\n",
    "ax.legend()\n",
    "plt.show()"
   ]
  },
  {
   "cell_type": "code",
   "execution_count": null,
   "metadata": {
    "ExecuteTime": {
     "end_time": "2021-12-13T06:08:31.543144Z",
     "start_time": "2021-12-13T06:08:31.304603Z"
    }
   },
   "outputs": [],
   "source": [
    "import numpy as np\n",
    "\n",
    "x = np.arange(5)\n",
    "np.random.seed(0)\n",
    "y = np.random.rand(15).reshape(3,5)\n",
    "y1 ,y2, y3 = y\n",
    "\n",
    "y1b = np.array(y1)\n",
    "y2b = y1b + np.array(y2)\n",
    "y3b = y2b + np.array(y3)\n",
    "\n",
    "# 绘制堆积柱形图\n",
    "fig = plt.figure(figsize = (10 ,3))\n",
    "ax = fig.add_subplot(1,1,1)\n",
    "\n",
    "ax.bar(x , y3b , label = 'y3')\n",
    "ax.bar(x , y2b , label = 'y2')\n",
    "ax.bar(x , y1b , label = 'y1')\n",
    "\n",
    "ax.legend()\n",
    "plt.show()"
   ]
  },
  {
   "cell_type": "code",
   "execution_count": null,
   "metadata": {
    "ExecuteTime": {
     "end_time": "2021-12-13T06:15:50.617720Z",
     "start_time": "2021-12-13T06:15:50.368111Z"
    }
   },
   "outputs": [],
   "source": [
    "fig = plt.figure(figsize = (10 , 3))\n",
    "ax = fig.add_subplot(1,1,1)\n",
    "\n",
    "ax.bar(x , y3 , bottom = y2b ,label = 'y3')\n",
    "ax.bar(x , y2 , bottom = y1 ,label = 'y2')\n",
    "ax.bar(x , y1 , label = 'y1')\n",
    "\n",
    "ax.legend()\n",
    "plt.show()"
   ]
  },
  {
   "cell_type": "code",
   "execution_count": null,
   "metadata": {
    "ExecuteTime": {
     "end_time": "2021-12-13T06:55:01.041492Z",
     "start_time": "2021-12-13T06:55:00.489788Z"
    }
   },
   "outputs": [],
   "source": [
    "import pandas as pd \n",
    "import numpy as np \n",
    "import matplotlib.pyplot as plt\n",
    "\n",
    "plt.rcParams['font.family'] = ['sans-serif']\n",
    "plt.rcParams['font.sans-serif'] = ['SimHei']\n",
    "\n",
    "df = pd.read_csv(r'C:/Users/jinchanglong/Desktop/you-get/anime_genre_top10_pivoted.csv',index_col = 0)\n",
    "\n",
    "fig = plt.figure(figsize = (10 , 3))\n",
    "ax = fig.add_subplot(1,1,1)\n",
    "\n",
    "rows , cols = len(df) , len(df.columns)\n",
    "x = range(rows)\n",
    "\n",
    "for i ,t in enumerate(df.columns):\n",
    "    # 计算从第i列到最后一列的和\n",
    "    y = df.iloc[:,i:cols].sum(axis = 1)\n",
    "    ax.bar(x , y , label = t)\n",
    "    \n",
    "ax.set_xticks(range(10))\n",
    "ax.set_xticklabels(df.index,rotation = 45)\n",
    "ax.set_ylabel('会员总数')\n",
    "ax.legend()\n",
    "\n",
    "plt.show()"
   ]
  },
  {
   "cell_type": "code",
   "execution_count": null,
   "metadata": {
    "ExecuteTime": {
     "end_time": "2021-12-20T03:46:12.038689Z",
     "start_time": "2021-12-20T03:46:11.724122Z"
    }
   },
   "outputs": [],
   "source": [
    "import pandas as pd\n",
    "import numpy as np\n",
    "import matplotlib.pyplot as plt\n",
    "plt.style.use('ggplot')\n",
    "\n",
    "mu = 100\n",
    "sigma = 10\n",
    "np.random.seed(0)\n",
    "x = np.random.normal(mu ,sigma ,10000)\n",
    "\n",
    "fig = plt.figure()\n",
    "ax = fig.add_subplot(111)\n",
    "ax.hist(x)\n",
    "\n",
    "plt.show()"
   ]
  },
  {
   "cell_type": "code",
   "execution_count": null,
   "metadata": {
    "ExecuteTime": {
     "end_time": "2021-12-20T03:49:50.156169Z",
     "start_time": "2021-12-20T03:49:49.849426Z"
    }
   },
   "outputs": [],
   "source": [
    "fig = plt.figure()\n",
    "ax = fig.add_subplot(111)\n",
    "ax.hist(x , rwidth = 0.9 , bins = 16)\n",
    "\n",
    "plt.show()"
   ]
  },
  {
   "cell_type": "code",
   "execution_count": null,
   "metadata": {
    "ExecuteTime": {
     "end_time": "2021-12-20T03:53:10.639771Z",
     "start_time": "2021-12-20T03:53:10.600544Z"
    }
   },
   "outputs": [],
   "source": [
    "import os\n",
    "import pandas as pd \n",
    "\n",
    "df = pd.read_csv(r'C:/Users/jinchanglong/Desktop/you-get/anime_master_2.csv' , index_col = 'anime_id')\n",
    "df.head()"
   ]
  },
  {
   "cell_type": "code",
   "execution_count": null,
   "metadata": {
    "ExecuteTime": {
     "end_time": "2021-12-20T03:56:50.025423Z",
     "start_time": "2021-12-20T03:56:49.788123Z"
    }
   },
   "outputs": [],
   "source": [
    "fig = plt.figure()\n",
    "ax = fig.add_subplot(111)\n",
    "\n",
    "ax.hist(df['rating'] , range =(0,10) , rwidth = 0.9)\n",
    "ax.set_title('Rating')\n",
    "\n",
    "plt.show()"
   ]
  },
  {
   "cell_type": "code",
   "execution_count": null,
   "metadata": {
    "ExecuteTime": {
     "end_time": "2021-12-20T04:01:36.138608Z",
     "start_time": "2021-12-20T04:01:35.885018Z"
    }
   },
   "outputs": [],
   "source": [
    "fig = plt.figure()\n",
    "ax = fig.add_subplot(111)\n",
    "\n",
    "df_tv = df[df['type'] == 'TV']\n",
    "\n",
    "ax.hist(df_tv['episodes'] , rwidth = 0.9)\n",
    "ax.set_title('Episodes')\n",
    "\n",
    "plt.show()"
   ]
  },
  {
   "cell_type": "code",
   "execution_count": null,
   "metadata": {
    "ExecuteTime": {
     "end_time": "2021-12-20T04:04:59.938300Z",
     "start_time": "2021-12-20T04:04:59.687634Z"
    }
   },
   "outputs": [],
   "source": [
    "fig = plt.figure()\n",
    "ax = fig.add_subplot(111)\n",
    "\n",
    "ax.hist(df_tv['episodes'] , rwidth = 0.9 , range = (0 , 100))\n",
    "ax.set_title('Episodes(0-100)')\n",
    "\n",
    "plt.show()"
   ]
  },
  {
   "cell_type": "code",
   "execution_count": null,
   "metadata": {
    "ExecuteTime": {
     "end_time": "2021-12-20T04:10:23.511511Z",
     "start_time": "2021-12-20T04:10:23.206722Z"
    }
   },
   "outputs": [],
   "source": [
    "np.random.seed(0)\n",
    "x = np.random.normal(100 , 100 ,10000)\n",
    "\n",
    "fig = plt.figure()\n",
    "ax = fig.add_subplot(111)\n",
    "\n",
    "ax.hist(x , rwidth = 0.9 , bins = 16 ,orientation = 'horizontal')\n",
    "\n",
    "plt.show()"
   ]
  },
  {
   "cell_type": "code",
   "execution_count": null,
   "metadata": {
    "ExecuteTime": {
     "end_time": "2021-12-20T04:19:19.010001Z",
     "start_time": "2021-12-20T04:19:18.766420Z"
    }
   },
   "outputs": [],
   "source": [
    "fig = plt.figure()\n",
    "ax = fig.add_subplot(111)\n",
    "\n",
    "ax.hist(df['rating'] , density = True , stacked = True ,rwidth = 0.9)\n",
    "\n",
    "plt.show()"
   ]
  },
  {
   "cell_type": "code",
   "execution_count": null,
   "metadata": {
    "ExecuteTime": {
     "end_time": "2021-12-20T05:41:03.570991Z",
     "start_time": "2021-12-20T05:41:03.373670Z"
    }
   },
   "outputs": [],
   "source": [
    "fig = plt.figure()\n",
    "ax = fig.add_subplot(111)\n",
    "\n",
    "ax.hist(df['rating'] , density = True , stacked = True , cumulative = True , rwidth = 0.9)\n",
    "\n",
    "plt.show()"
   ]
  },
  {
   "cell_type": "code",
   "execution_count": null,
   "metadata": {
    "ExecuteTime": {
     "end_time": "2021-12-20T05:44:37.136238Z",
     "start_time": "2021-12-20T05:44:36.867477Z"
    }
   },
   "outputs": [],
   "source": [
    "fig = plt.figure()\n",
    "ax = fig.add_subplot(111)\n",
    "\n",
    "ax.hist(df['rating'] , bins = [2 , 4 , 5.5 , 6.5 , 7 , 7.5 , 8.5 , 10] , rwidth = 0.9)\n",
    "plt.show()"
   ]
  },
  {
   "cell_type": "code",
   "execution_count": null,
   "metadata": {
    "ExecuteTime": {
     "end_time": "2021-12-20T05:52:54.659192Z",
     "start_time": "2021-12-20T05:52:54.396983Z"
    }
   },
   "outputs": [],
   "source": [
    "bins = 50\n",
    "dfmin = np.min(df['rating'])\n",
    "dfmax = np.max(df['rating'])\n",
    "\n",
    "fig = plt.figure()\n",
    "ax = fig.add_subplot(111)\n",
    "\n",
    "ax.hist(df['rating'] , \n",
    "        bins = bins , \n",
    "        range = (dfmin , dfmax) , \n",
    "        density = True , \n",
    "        stacked = True , \n",
    "        rwidth = 0.9)\n",
    "\n",
    "mu , sigma = df['rating'].mean(),df['rating'].std()\n",
    "\n",
    "x = np.linspace(dfmin , dfmax , bins)\n",
    "y = 1 / (sigma * np.sqrt(2 * np.pi)) * np.exp(- (x - mu)**2 / (2 * sigma ** 2))\n",
    "\n",
    "ax.plot(x,y)\n",
    "plt.show()"
   ]
  },
  {
   "cell_type": "code",
   "execution_count": null,
   "metadata": {
    "ExecuteTime": {
     "end_time": "2021-12-20T06:06:52.055186Z",
     "start_time": "2021-12-20T06:06:51.275904Z"
    }
   },
   "outputs": [],
   "source": [
    "types = df['type'].unique()\n",
    "labels = types.tolist()\n",
    "\n",
    "fig = plt.figure(figsize = (8,6))\n",
    "ax = fig.add_subplot(111)\n",
    "\n",
    "b_num = np.arange(0 , 10.5 , 0.5)\n",
    "\n",
    "for t in types:\n",
    "    ax.hist(df.loc[df['type'] == t , 'rating'],\n",
    "           bins = b_num,\n",
    "           rwidth = 0.9,\n",
    "           alpha = 0.5,\n",
    "           label = t)\n",
    "    \n",
    "ax.legend()\n",
    "ax.set_xlabel('rating')\n",
    "ax.set_ylabel('Count(rating)')\n",
    "\n",
    "plt.show()"
   ]
  },
  {
   "cell_type": "code",
   "execution_count": null,
   "metadata": {
    "ExecuteTime": {
     "end_time": "2021-12-20T06:17:52.313815Z",
     "start_time": "2021-12-20T06:17:51.584632Z"
    }
   },
   "outputs": [],
   "source": [
    "dataset = [df.loc[df['type'] == t , 'rating'] for t in types]\n",
    "\n",
    "fig = plt.figure(figsize = (8 , 6))\n",
    "ax = fig.add_subplot(111)\n",
    "\n",
    "ax.hist(dataset,\n",
    "       bins = np.arange(0 , 10.5 , 0.5),\n",
    "       rwidth = 0.9,\n",
    "       alpha = 0.8,\n",
    "       label = labels)\n",
    "\n",
    "ax.legend()\n",
    "ax.set_xlabel('rating')\n",
    "ax.set_ylabel('Count(rating)')\n",
    "\n",
    "plt.show()"
   ]
  },
  {
   "cell_type": "code",
   "execution_count": null,
   "metadata": {
    "ExecuteTime": {
     "end_time": "2021-12-20T06:27:33.754202Z",
     "start_time": "2021-12-20T06:27:32.885309Z"
    }
   },
   "outputs": [],
   "source": [
    "fig = plt.figure()\n",
    "ax = fig.add_subplot(111)\n",
    "\n",
    "ax.hist(dataset,\n",
    "       bins = np.arange(0,10.5,0.5),\n",
    "       rwidth = 0.9,\n",
    "       alpha = 0.7,\n",
    "       label = labels ,\n",
    "       stacked = True)\n",
    "\n",
    "ax.legend()\n",
    "ax.set_xlabel('rating')\n",
    "ax.set_ylabel('Count(rating)')\n",
    "\n",
    "plt.show()"
   ]
  },
  {
   "cell_type": "code",
   "execution_count": null,
   "metadata": {
    "ExecuteTime": {
     "end_time": "2021-12-20T07:15:23.116387Z",
     "start_time": "2021-12-20T07:15:22.033374Z"
    }
   },
   "outputs": [],
   "source": [
    "import matplotlib.pyplot as plt\n",
    "import pandas as pd \n",
    "import numpy as np\n",
    "\n",
    "plt.style.use('ggplot')\n",
    "\n",
    "x = [1,2,3,3,11,20]\n",
    "\n",
    "fig = plt.figure()\n",
    "ax = fig.add_subplot(111)\n",
    "ax.boxplot(x)\n",
    "\n",
    "plt.show()"
   ]
  },
  {
   "cell_type": "code",
   "execution_count": null,
   "metadata": {
    "ExecuteTime": {
     "end_time": "2021-12-20T07:18:04.593107Z",
     "start_time": "2021-12-20T07:18:04.401937Z"
    }
   },
   "outputs": [],
   "source": [
    "x = [[1,2,3,3,11,20],[1,2,9,10,15,16]]\n",
    "labels = ['A','B']\n",
    "\n",
    "fig = plt.figure()\n",
    "ax = fig.add_subplot(111)\n",
    "\n",
    "ax.boxplot(x,labels = labels)\n",
    "plt.show()"
   ]
  },
  {
   "cell_type": "code",
   "execution_count": null,
   "metadata": {
    "ExecuteTime": {
     "end_time": "2021-12-21T06:28:06.786637Z",
     "start_time": "2021-12-21T06:28:06.754143Z"
    }
   },
   "outputs": [],
   "source": [
    "import pandas as pd \n",
    "import os \n",
    "\n",
    "df = pd.read_csv(r'C:/Users/jinchanglong/Desktop/you-get/anime_master_2.csv',index_col = 'anime_id')\n",
    "df.head(3)"
   ]
  },
  {
   "cell_type": "code",
   "execution_count": null,
   "metadata": {
    "ExecuteTime": {
     "end_time": "2021-12-21T06:28:08.352872Z",
     "start_time": "2021-12-21T06:28:08.088284Z"
    }
   },
   "outputs": [],
   "source": [
    "labels = []\n",
    "types_list = []\n",
    "\n",
    "for label , df_per_type in df.groupby('type'):\n",
    "    labels.append(label)\n",
    "    types_list.append(df_per_type['episodes'].tolist())\n",
    "    \n",
    "fig = plt.figure()\n",
    "ax = fig.add_subplot(111)\n",
    "\n",
    "ax.boxplot(types_list , labels = labels)\n",
    "\n",
    "plt.show()"
   ]
  },
  {
   "cell_type": "code",
   "execution_count": null,
   "metadata": {
    "ExecuteTime": {
     "end_time": "2021-12-21T06:28:09.226796Z",
     "start_time": "2021-12-21T06:28:08.984746Z"
    }
   },
   "outputs": [],
   "source": [
    "fig = plt.figure(figsize = ( 8 , 6))\n",
    "ax = fig.add_subplot(111)\n",
    "\n",
    "ax.boxplot(types_list , labels = labels)\n",
    "ax.set_ylim(0,100)\n",
    "plt.show()"
   ]
  },
  {
   "cell_type": "code",
   "execution_count": null,
   "metadata": {
    "ExecuteTime": {
     "end_time": "2021-12-21T06:28:10.424412Z",
     "start_time": "2021-12-21T06:28:10.416411Z"
    }
   },
   "outputs": [],
   "source": [
    "# 通过describe()方法来确认四分位数的值\n",
    "df['episodes'][df['type'] == 'TV'].describe().round(1)"
   ]
  },
  {
   "cell_type": "code",
   "execution_count": null,
   "metadata": {
    "ExecuteTime": {
     "end_time": "2021-12-21T06:28:12.564737Z",
     "start_time": "2021-12-21T06:28:12.320126Z"
    }
   },
   "outputs": [],
   "source": [
    "# 创建数据集\n",
    "import numpy as np\n",
    "\n",
    "np.random.seed(3) \n",
    "dataset = [np.random.normal( 20 + mu ,5 , 1000)\n",
    "          for mu in range(1,5)]\n",
    "\n",
    "# 定义样式字典\n",
    "# 异常值的样式字典\n",
    "flierprop = {'color': '#EC407A',\n",
    "            'marker': 'o',\n",
    "            'markerfacecolor': '#2196F3',\n",
    "            'markeredgecolor': 'white',\n",
    "          #  'markersize': 5,\n",
    "            'linestyle': 'None',\n",
    "            'linewidth': 0.1}\n",
    "# 箱子的样式字典\n",
    "boxprop = {'color': '#2196F3',\n",
    "          'facecolor': '#BBDEFB',\n",
    "          'linewidth': 1,\n",
    "          'linestyle': '-'}\n",
    "# 延伸线的样式字典\n",
    "whiskerprop = {'color':'#2196F3',\n",
    "              'linewidth':1,\n",
    "              'linestyle':'--'}\n",
    "# 延伸线末端线条的样式字典\n",
    "capprop = {'color':'#2196F3',\n",
    "           'linewidth':1,\n",
    "           'linestyle':':'}\n",
    "# 中位数的样式字典\n",
    "medianprop = {'color':'#2196F3',\n",
    "             'linewidth': 2,\n",
    "             'linestyle': '-'}\n",
    "# 平均值的样式字典\n",
    "meanprop = {'color':'#2196F3',\n",
    "           'marker':'^',\n",
    "           'markerfacecolor':'#2196F3',\n",
    "           'markeredgecolor':'white',\n",
    "           # 'marksize':10,\n",
    "           'linewidth':1,\n",
    "           'linestyle': ''}\n",
    "\n",
    "# 绘制\n",
    "fig = plt.figure()\n",
    "ax = fig.add_subplot(111)\n",
    "\n",
    "ax.boxplot(\n",
    "dataset,\n",
    "patch_artist = 'Patch',\n",
    "labels = ['A','B','C','D'],\n",
    "showmeans = True,\n",
    "flierprops = flierprop,\n",
    "boxprops = boxprop,\n",
    "whiskerprops = whiskerprop,\n",
    "capprops = capprop,\n",
    "medianprops = medianprop,\n",
    "meanprops = meanprop\n",
    ")\n",
    "\n",
    "plt.show()"
   ]
  },
  {
   "cell_type": "code",
   "execution_count": null,
   "metadata": {
    "ExecuteTime": {
     "end_time": "2021-12-21T06:28:13.616509Z",
     "start_time": "2021-12-21T06:28:13.384491Z"
    }
   },
   "outputs": [],
   "source": [
    "fig = plt.figure()\n",
    "ax = fig.add_subplot(111)\n",
    "\n",
    "ax.boxplot(\n",
    "dataset,\n",
    "patch_artist = 'Patch',\n",
    "labels = ['A','B','C','D'],\n",
    "showmeans = True ,\n",
    "flierprops = flierprop,\n",
    "boxprops = boxprop,\n",
    "whiskerprops = whiskerprop,\n",
    "capprops = capprop,\n",
    "medianprops = medianprop,\n",
    "meanprops = meanprop)\n",
    "\n",
    "plt.show()"
   ]
  },
  {
   "cell_type": "code",
   "execution_count": null,
   "metadata": {
    "ExecuteTime": {
     "end_time": "2021-12-21T06:32:13.454955Z",
     "start_time": "2021-12-21T06:32:13.222885Z"
    }
   },
   "outputs": [],
   "source": [
    "import pandas as pd\n",
    "import numpy as np \n",
    "import matplotlib.pyplot as plt\n",
    "\n",
    "#绘制图形\n",
    "fig = plt.figure()\n",
    "ax = fig.add_subplot(111)\n",
    "\n",
    "bp = ax.boxplot(dataset ,\n",
    "               patch_artist = 'Patch',\n",
    "               labels = ['A','B','C','D'],\n",
    "               meanline = True,\n",
    "               showmeans = True)\n",
    "# 颜色集\n",
    "color1 = ['#2196F3','#43A047','#FBC02D','#FB8C00']\n",
    "color2 = ['#BBDEFB','#C8E6C9','#FFF9C4','#FFE0B2']\n",
    "\n",
    "# 上下分离的各个元素用的数组\n",
    "n = [0,0,1,1,2,2,3,3]\n",
    "\n",
    "# 设置样式\n",
    "# 设置箱子、异常值以及中位数的样式\n",
    "for params in zip(bp['boxes'],\n",
    "                 bp['fliers'],\n",
    "                 bp['medians'],\n",
    "                 color1,\n",
    "                 color2):\n",
    "    bpb ,bpf , med , color1 , color2 = params\n",
    "    \n",
    "# 设置箱子的样式\n",
    "    bpb.set_color(color1)\n",
    "    bpb.set_facecolor(color2)\n",
    "    bpb.set_linewidth(2)\n",
    "    \n",
    "# 设置异常值的样式\n",
    "    bpf.set(marker = '^',color = color2)\n",
    "    bpf.set_markeredgecolor('white')\n",
    "    bpf.set_markerfacecolor(color1)\n",
    "    \n",
    "# 设置中位数的样式\n",
    "    med.set_color(color1)\n",
    "    med.set_linewidth(2)\n",
    "    \n",
    "# 设置延伸线和延伸线末端的线条样式\n",
    "#for bpc , bpw , m in zip(bp['caps'],bp['whiskers'] , n):\n",
    "#    bpc.set_color(colors1[m])\n",
    "#    bpc.set_linewidth(2)\n",
    "#    bpw.set_color(color1s[m])\n",
    "#    bpw.set_linewidth(2)\n",
    "    \n",
    "# 设置平均值的样式\n",
    "for mean , color2 in zip(bp['means'] , color2):\n",
    "    mean.set_color('grey')\n",
    "    mean.set_linewidth(2)\n",
    "    mean.set_linestyle('-') \n",
    "\n",
    "plt.show()"
   ]
  },
  {
   "cell_type": "code",
   "execution_count": null,
   "metadata": {
    "ExecuteTime": {
     "end_time": "2021-12-21T06:39:24.875170Z",
     "start_time": "2021-12-21T06:39:24.793976Z"
    }
   },
   "outputs": [],
   "source": [
    "import pandas as pd\n",
    "import numpy as np\n",
    "import matplotlib.pyplot as plt\n",
    "\n",
    "plt.rcParams['font.family'] = ['sans-serif']\n",
    "plt.rcParams['font.sans-serif'] = ['SimHei']\n",
    "plt.style.use('ggplot')\n",
    "\n",
    "labels = ['自行车', '公交车','汽车']\n",
    "sizes = [25,40,35]\n",
    "\n",
    "fig = plt.figure(figsize = (3,35))\n",
    "ax = fig .add_subplot(111) \n",
    "\n",
    "ax.pie(sizes ,labels = labels)\n",
    "\n",
    "plt.show()"
   ]
  },
  {
   "cell_type": "code",
   "execution_count": null,
   "metadata": {
    "ExecuteTime": {
     "end_time": "2021-12-21T06:47:52.139036Z",
     "start_time": "2021-12-21T06:47:51.955740Z"
    }
   },
   "outputs": [],
   "source": [
    "fig = plt.figure(figsize = (3,3))\n",
    "ax = fig.add_subplot(111)\n",
    "\n",
    "ax.pie(sizes , labels = labels , radius = 0.9 , frame = True)\n",
    "ax.text(-0.3 , 0 , '(0,0)', fontsize = 9)\n",
    "\n",
    "plt.show()"
   ]
  },
  {
   "cell_type": "code",
   "execution_count": null,
   "metadata": {
    "ExecuteTime": {
     "end_time": "2021-12-21T06:56:02.139447Z",
     "start_time": "2021-12-21T06:56:01.941466Z"
    }
   },
   "outputs": [],
   "source": [
    "fig = plt.figure(figsize = (3,3))\n",
    "ax = fig.add_subplot(111)\n",
    "\n",
    "# 定义扇形区的样式字典\n",
    "wprops = {'edgecolor':'black',\n",
    "         'linewidth' : 2 }\n",
    "# 文本内容的样式字典\n",
    "tprops = {'fontsize' : 18}\n",
    "\n",
    "ax.pie(sizes,\n",
    "      explode = (0 , 0.05 , 0),\n",
    "      labels = labels,\n",
    "      autopct = '%10.f%%',\n",
    "      pctdistance = 0.5 ,\n",
    "      shadow = False ,\n",
    "      labeldistance = 1.35,\n",
    "      startangle = 90,\n",
    "      radius = 0.3 , \n",
    "      counterclock = False ,\n",
    "      wedgeprops = wprops ,\n",
    "      textprops = tprops ,\n",
    "      center = (0.5,0.5),\n",
    "      frame = True)\n",
    "\n",
    "plt.show()"
   ]
  },
  {
   "cell_type": "code",
   "execution_count": null,
   "metadata": {
    "ExecuteTime": {
     "end_time": "2021-12-21T06:59:07.936952Z",
     "start_time": "2021-12-21T06:59:07.923915Z"
    }
   },
   "outputs": [],
   "source": [
    "df = pd.read_csv(r'C:/Users/jinchanglong/Desktop/you-get/anime_genre_top10_pivoted.csv', index_col = 'genre')\n",
    "df.head()"
   ]
  },
  {
   "cell_type": "code",
   "execution_count": null,
   "metadata": {
    "ExecuteTime": {
     "end_time": "2021-12-21T07:01:31.779281Z",
     "start_time": "2021-12-21T07:01:31.772281Z"
    }
   },
   "outputs": [],
   "source": [
    "df_tv = df.sort_values(by = 'TV' , ascending = False)['TV']\n",
    "df_movie = df.sort_values(by = 'Movie' , ascending = False)['Movie']\n",
    "\n",
    "df_tv"
   ]
  },
  {
   "cell_type": "code",
   "execution_count": null,
   "metadata": {
    "ExecuteTime": {
     "end_time": "2021-12-21T08:42:10.640069Z",
     "start_time": "2021-12-21T08:42:10.228913Z"
    }
   },
   "outputs": [],
   "source": [
    "fig = plt.figure(figsize = ( 9 ,4))\n",
    "ax1 = fig.add_subplot(121)\n",
    "ax2 = fig.add_subplot(122)\n",
    "\n",
    "colors1 = ('gold' , 'coral' , 'plum' , 'orchid' , 'lightseagreen',\n",
    "          'yellowgreen' , 'lightskyblue' , 'pink' , 'cornflowerblue', 'orangered')\n",
    "\n",
    "colors2 = ('coral' , 'orangered' , 'plum', 'pink' ,'gold',\n",
    "          'cornflowerblue' , 'yellowgreen' , 'lightseagreen' , 'orchid' , 'lightskyblue')\n",
    "\n",
    "ax1.pie(df_tv,\n",
    "       explode = (0,0,0,0,0,0,0.15,0,0,0.15),\n",
    "       labels = df_tv.index ,\n",
    "       autopct = '%1.0f%%',\n",
    "       colors = colors1,\n",
    "       startangle = 90,\n",
    "       counterclock = False)\n",
    "\n",
    "ax2.pie(df_movie,\n",
    "       explode = (0,0.15,0,0,0,0,0,0,0,0.15),\n",
    "       labels = df_movie.index , \n",
    "       autopct = '%1.0f%%',\n",
    "       colors = colors2 ,\n",
    "       startangle = 90 ,\n",
    "       counterclock = False)\n",
    "\n",
    "ax1.set_title('TV')\n",
    "ax2.set_title('Movie')\n",
    "\n",
    "fig.subplots_adjust(wspace = 0.3)\n",
    "\n",
    "plt.show()"
   ]
  },
  {
   "cell_type": "code",
   "execution_count": null,
   "metadata": {
    "ExecuteTime": {
     "end_time": "2021-12-21T09:01:53.922840Z",
     "start_time": "2021-12-21T09:01:53.772952Z"
    }
   },
   "outputs": [],
   "source": [
    "import numpy as np \n",
    "import matplotlib.pyplot as plt\n",
    "import matplotlib.patches as mpatches\n",
    "\n",
    "fig = plt.figure(figsize = (3,3))\n",
    "ax = fig.add_subplot(111)\n",
    "\n",
    "c1 = mpatches.Arc(xy = (0.4 , 0.5) , width = 0.4 , height = 0.4 , angle = 30,\n",
    "                 theta1 = 0 , theta2 = 230 , linewidth = 10 ,color = 'lightblue')\n",
    "\n",
    "c2 = mpatches.Arc(xy = (0.6 , 0.5) , width = 0.4 , height = 0.4 , angle = 30,\n",
    "                 theta1 = 0 , theta2 = 230 , linewidth = 10 ,color = 'pink')\n",
    "\n",
    "ax.add_patch(c1)\n",
    "ax.add_patch(c2)\n",
    "\n",
    "plt.show()"
   ]
  },
  {
   "cell_type": "code",
   "execution_count": null,
   "metadata": {
    "ExecuteTime": {
     "end_time": "2021-12-21T09:27:40.873879Z",
     "start_time": "2021-12-21T09:27:40.725298Z"
    }
   },
   "outputs": [],
   "source": [
    "fig = plt.figure(figsize = (3 , 3))\n",
    "ax = fig.add_subplot(111)\n",
    "\n",
    "a1 = mpatches.Arrow(x = 0.1 , y = 0.4 , dx = 0.6 ,dy = 0.5 ,width = 0.5 , color = 'lightblue')\n",
    "a2 = mpatches.Arrow(x = 0.3 , y = 0.1 , dx = 0.6 ,dy = 0.5 ,width = 0.5 , color = 'pink')\n",
    "\n",
    "ax.add_patch(a1)\n",
    "ax.add_patch(a2)\n",
    "\n",
    "plt.show()"
   ]
  },
  {
   "cell_type": "code",
   "execution_count": null,
   "metadata": {
    "ExecuteTime": {
     "end_time": "2021-12-22T01:10:48.601335Z",
     "start_time": "2021-12-22T01:10:47.261531Z"
    }
   },
   "outputs": [],
   "source": [
    "import pandas as pd \n",
    "import numpy as np \n",
    "import matplotlib.pyplot as plt\n",
    "import matplotlib.patches as mpatches\n",
    "\n",
    "fig = plt.figure(figsize = (3 , 3))\n",
    "ax = fig.add_subplot(111)\n",
    "\n",
    "a1 = mpatches.FancyArrow(x = 0.2 , y = 0.3 , dx = 0.4 , dy = 0.3 , width = 0.1 ,\n",
    "                        head_width = 0.3 , head_length = 0.2 ,\n",
    "                        shape = 'right' , color = 'lightblue')\n",
    "\n",
    "a2 = mpatches.FancyArrow(x = 0.2 , y = 0.3 , dx = 0.4 , dy = 0.3 ,width = 0.1 , \n",
    "                        head_width = 0.3 , head_length = 0.2 ,\n",
    "                        shape = 'left' , color = 'pink')\n",
    "\n",
    "ax.add_patch(a1)\n",
    "ax.add_patch(a2)\n",
    "\n",
    "plt.show()"
   ]
  },
  {
   "cell_type": "code",
   "execution_count": null,
   "metadata": {
    "ExecuteTime": {
     "end_time": "2021-12-22T01:24:33.354278Z",
     "start_time": "2021-12-22T01:24:33.134401Z"
    }
   },
   "outputs": [],
   "source": [
    "fig = plt.figure(figsize = (3,3))\n",
    "ax = fig.add_subplot(111)\n",
    "\n",
    "c1 = mpatches.Circle(xy = (0.5 , 0.5), radius = 0.4 , color = 'lightblue')\n",
    "c2 = mpatches.Circle(xy = (0.5 , 0.5), radius = 0.2 , color = 'white' )\n",
    "ax.add_patch(c1)\n",
    "ax.add_patch(c2)\n",
    "\n",
    "plt.show()"
   ]
  },
  {
   "cell_type": "code",
   "execution_count": null,
   "metadata": {
    "ExecuteTime": {
     "end_time": "2021-12-22T01:32:35.483927Z",
     "start_time": "2021-12-22T01:32:35.272183Z"
    }
   },
   "outputs": [],
   "source": [
    "fig = plt.figure(figsize = (3,3))\n",
    "ax = fig.add_subplot(111)\n",
    "\n",
    "cp1 = mpatches.CirclePolygon(xy = (0.5 , 0.5) , radius = 0.5 ,\n",
    "                            resolution = 6 , color = 'lightblue')\n",
    "cp2 = mpatches.CirclePolygon(xy = (0.5 , 0.5) , radius = 0.2 ,\n",
    "                            resolution = 8 , color = 'white')\n",
    "\n",
    "ax.add_patch(cp1)\n",
    "ax.add_patch(cp2)\n",
    "plt.show()"
   ]
  },
  {
   "cell_type": "code",
   "execution_count": null,
   "metadata": {
    "ExecuteTime": {
     "end_time": "2021-12-22T01:50:20.339768Z",
     "start_time": "2021-12-22T01:50:20.131430Z"
    }
   },
   "outputs": [],
   "source": [
    "fig = plt.figure(figsize = (3 ,3))\n",
    "ax = fig.add_subplot(111)\n",
    "\n",
    "e1 = mpatches.Ellipse(xy = (0.5 , 0.5) , width = 0.8 , height = 0.5 ,\n",
    "                     angle = 30 , color = 'lightblue')\n",
    "e2 = mpatches.Ellipse(xy = (0.5 , 0.5) , width = 0.5 , height = 0.2 ,\n",
    "                     angle = 30 , color = 'white')\n",
    "\n",
    "ax.add_patch(e1)\n",
    "ax.add_patch(e2)\n",
    "\n",
    "plt.show()"
   ]
  },
  {
   "cell_type": "code",
   "execution_count": null,
   "metadata": {
    "ExecuteTime": {
     "end_time": "2021-12-22T01:57:39.314804Z",
     "start_time": "2021-12-22T01:57:39.100757Z"
    }
   },
   "outputs": [],
   "source": [
    "fig = plt.figure(figsize = (3 , 3))\n",
    "ax = fig.add_subplot(111)\n",
    "\n",
    "w1 = mpatches.Wedge(center = (0.3 , 0.55) , r = 0.25 ,\n",
    "                   theta1 = 30 , theta2 = -30 , color = 'pink')\n",
    "w2 = mpatches.Wedge(center = (0.7 , 0.4) , r= 0.25 ,\n",
    "                   theta1 = 210 , theta2 = 150 , color = 'lightblue')\n",
    "\n",
    "ax.add_patch(w1)\n",
    "ax.add_patch(w2)\n",
    "\n",
    "plt.show()"
   ]
  },
  {
   "cell_type": "code",
   "execution_count": null,
   "metadata": {
    "ExecuteTime": {
     "end_time": "2021-12-22T03:09:53.672360Z",
     "start_time": "2021-12-22T03:09:53.474077Z"
    }
   },
   "outputs": [],
   "source": [
    "fig = plt.figure(figsize = ( 3 ,3 ))\n",
    "ax = fig.add_subplot(111)\n",
    "\n",
    "r1 = mpatches.Rectangle(xy = (0.1 , 0.4) , width = 0.5 , height = 0.5 ,\n",
    "                       angle = 0 , color = 'lightblue')\n",
    "r2 = mpatches.Rectangle(xy = (0.4 , 0.1) , width = 0.5 , height = 0.5 , \n",
    "                       angle = 0 , color = 'pink')\n",
    "r3 = mpatches.Rectangle(xy = (0.4 , 0.4) , width = 0.2 , height = 0.2 ,\n",
    "                       angle = 0 , color = 'white')\n",
    "\n",
    "ax.add_patch(r1)\n",
    "ax.add_patch(r2)\n",
    "ax.add_patch(r3)\n",
    "\n",
    "plt.show()"
   ]
  },
  {
   "cell_type": "code",
   "execution_count": null,
   "metadata": {
    "ExecuteTime": {
     "end_time": "2021-12-22T03:26:37.815142Z",
     "start_time": "2021-12-22T03:26:37.617528Z"
    }
   },
   "outputs": [],
   "source": [
    "fig = plt.figure(figsize = (3 , 3))\n",
    "ax = fig.add_subplot(111)\n",
    "\n",
    "p1 = mpatches.Polygon(xy = [(0, 0.2),(0.3 , 0.8) , (0.6 , 0.2)],\n",
    "                     facecolor = 'lightblue' , edgecolor = 'black')\n",
    "p2 = mpatches.Polygon(xy = [(0.4,0.8),(0.7,0.2),(1.0,0.8)],\n",
    "                     facecolor = 'pink', edgecolor = 'black')\n",
    "\n",
    "ax.add_patch(p1)\n",
    "ax.add_patch(p2)\n",
    "\n",
    "plt.show()"
   ]
  },
  {
   "cell_type": "code",
   "execution_count": null,
   "metadata": {
    "ExecuteTime": {
     "end_time": "2021-12-22T03:30:20.207898Z",
     "start_time": "2021-12-22T03:30:20.009434Z"
    }
   },
   "outputs": [],
   "source": [
    "import matplotlib.pyplot as plt\n",
    "\n",
    "fig = plt.figure(figsize = (3 ,3),\n",
    "                dpi = 100,\n",
    "                facecolor = 'grey',\n",
    "                edgecolor = 'k',\n",
    "                linewidth = 10 ,\n",
    "                frameon = True ,\n",
    "                tight_layout = False)\n",
    "\n",
    "ax1 = fig.add_subplot(111)\n",
    "plt.show()"
   ]
  },
  {
   "cell_type": "code",
   "execution_count": null,
   "metadata": {
    "ExecuteTime": {
     "end_time": "2021-12-22T03:42:16.355676Z",
     "start_time": "2021-12-22T03:42:15.674234Z"
    }
   },
   "outputs": [],
   "source": [
    "fig = plt.figure(figsize = (3 , 3))\n",
    "\n",
    "ax = fig.add_subplot(111,\n",
    "                    facecolor = 'lightblue',\n",
    "                    xlim = [0 , 15] ,\n",
    "                    ylim = [1 , 10000] ,\n",
    "                    yscale = 'log') # linear , log , logit , symlog\n",
    "\n",
    "ax.plot([1 , 5 , 10] , [10 ,100 ,1000])\n",
    "plt.show()"
   ]
  },
  {
   "cell_type": "code",
   "execution_count": null,
   "metadata": {
    "ExecuteTime": {
     "end_time": "2021-12-22T03:44:52.183168Z",
     "start_time": "2021-12-22T03:44:51.889664Z"
    }
   },
   "outputs": [],
   "source": [
    "fig = plt.figure(figsize = (3,3)) \n",
    "\n",
    "ax1 = fig.add_subplot(221)\n",
    "ax2 = fig.add_subplot(222)\n",
    "ax3 = fig.add_subplot(223)\n",
    "ax4 = fig.add_subplot(224)\n",
    "\n",
    "plt.show()"
   ]
  },
  {
   "cell_type": "code",
   "execution_count": null,
   "metadata": {
    "ExecuteTime": {
     "end_time": "2021-12-22T03:46:50.542371Z",
     "start_time": "2021-12-22T03:46:50.281029Z"
    }
   },
   "outputs": [],
   "source": [
    "fig = plt.figure(figsize = (3,3)) \n",
    "\n",
    "ax1 = fig.add_subplot(221)\n",
    "ax2 = fig.add_subplot(222)\n",
    "ax3 = fig.add_subplot(223)\n",
    "ax4 = fig.add_subplot(224)\n",
    "\n",
    "fig.subplots_adjust(wspace = 0.5 , hspace = 0.5)\n",
    "plt.show()"
   ]
  },
  {
   "cell_type": "code",
   "execution_count": null,
   "metadata": {
    "ExecuteTime": {
     "end_time": "2021-12-22T04:00:05.513486Z",
     "start_time": "2021-12-22T04:00:05.154547Z"
    }
   },
   "outputs": [],
   "source": [
    "import matplotlib.pyplot as plt\n",
    "import numpy as np \n",
    "\n",
    "x = np.arange(0,6,0.1)\n",
    "y = np.sin(x)\n",
    "z = np.cos(x)\n",
    "\n",
    "fig = plt.figure()\n",
    "ax = fig.add_subplot(111)\n",
    "\n",
    "ax.scatter(x , y , label = 'sin' , color = 'lightblue' , edgecolor = 'blue')\n",
    "ax.scatter(x , z , label = 'cos' , color = 'pink' , edgecolor = 'blue' , alpha = 0.3)\n",
    "\n",
    "ax.legend(framealpha = 1 , loc = 'lower right')\n",
    "\n",
    "plt.show()"
   ]
  },
  {
   "cell_type": "code",
   "execution_count": null,
   "metadata": {
    "ExecuteTime": {
     "end_time": "2021-12-22T04:17:41.621451Z",
     "start_time": "2021-12-22T04:17:40.583117Z"
    }
   },
   "outputs": [],
   "source": [
    "fig = plt.figure(figsize = (6,3))\n",
    "ax = fig.add_subplot(111 , xlim = (0 , 14))\n",
    "\n",
    "x = np.arange(0,3,0.1)\n",
    "y = np.cos(x)\n",
    "\n",
    "ax.scatter(x,y ,label = 'color string' , color = 'b')\n",
    "ax.scatter(x + 0.5,y ,label = 'RGBA tuple' , color = (0.1,0,0.5,1))\n",
    "ax.scatter(x + 1,y ,label = 'RGBA 16' , color = '#330099')\n",
    "ax.scatter(x + 1.5,y ,label = 'Gray scale' , color = '0.3')\n",
    "ax.scatter(x + 2,y ,label = 'HTML color' , color = 'DarkOliveGreen')\n",
    "ax.scatter(x + 2.5,y ,label = 'X11/CSS' , color = 'DarkSeaGreen')\n",
    "ax.scatter(x + 3,y ,label = 'Regular expression' , color = 'C8')\n",
    "ax.scatter(x + 3.5,y ,label = 'Tableau' , color = 'tab:gray')\n",
    "\n",
    "ax.legend()\n",
    "plt.show()"
   ]
  },
  {
   "cell_type": "code",
   "execution_count": null,
   "metadata": {
    "ExecuteTime": {
     "end_time": "2021-12-22T04:21:53.530909Z",
     "start_time": "2021-12-22T04:21:53.209228Z"
    }
   },
   "outputs": [],
   "source": [
    "import matplotlib.cm as cm\n",
    "\n",
    "fig = plt.figure()\n",
    "ax = fig.add_subplot(111)\n",
    "\n",
    "x = np.arange(20)\n",
    "y = np.arange(20)\n",
    "\n",
    "ax.scatter(x , y + 5 , color = cm.spring(0.5) , label = 'spring(0.5)')\n",
    "ax.scatter(x , y , color = cm.get_cmap('winter')(0.5),label = 'winter(0.5)')\n",
    "\n",
    "ax.legend()\n",
    "plt.show()"
   ]
  },
  {
   "cell_type": "code",
   "execution_count": null,
   "metadata": {
    "ExecuteTime": {
     "end_time": "2021-12-22T07:40:09.659596Z",
     "start_time": "2021-12-22T07:40:09.483658Z"
    }
   },
   "outputs": [],
   "source": [
    "fig = plt.figure(figsize = (4.5 , 2))\n",
    "ax = fig.add_subplot(111)\n",
    "\n",
    "n = 20\n",
    "x = np.arange(n)\n",
    "y = np.ones(n)\n",
    "\n",
    "ax.scatter(x , y , c = x , cmap = cm.Set1)\n",
    "\n",
    "plt.show()"
   ]
  },
  {
   "cell_type": "code",
   "execution_count": null,
   "metadata": {
    "ExecuteTime": {
     "end_time": "2021-12-22T07:57:37.163019Z",
     "start_time": "2021-12-22T07:57:36.850956Z"
    }
   },
   "outputs": [],
   "source": [
    "fig = plt.figure(figsize = ( 4.5 , 2))\n",
    "ax = fig.add_subplot(111)\n",
    "\n",
    "n = 20 \n",
    "x = np.arange(n)\n",
    "y = np.ones(n)\n",
    "\n",
    "for i in range(n):\n",
    "    color = cm.Set1( i / n * 0.5)\n",
    "    c = np.array(color).reshape(1,-1) # c这个参数应该是一个RGB或RGBA序列，当你仅仅需要使用一个颜色时，应该使用颜色单词来代替，当你真的想使用光谱来自定义颜色，请你使用二维数组来确定颜色！！！\n",
    "                                      # 自定义的颜色是一个元组，不符合规定的二维数组，需将其转换二维数组！！！\n",
    "    ax.scatter(x[i] , y[i] , c = c)\n",
    "    \n",
    "plt.show()"
   ]
  },
  {
   "cell_type": "code",
   "execution_count": null,
   "metadata": {
    "ExecuteTime": {
     "end_time": "2021-12-22T08:32:07.813765Z",
     "start_time": "2021-12-22T08:32:07.045678Z"
    }
   },
   "outputs": [],
   "source": [
    "import matplotlib.pyplot as plt\n",
    "import numpy as np \n",
    "plt.style.use('ggplot')\n",
    "\n",
    "x = np.array([0 ,1])\n",
    "y = [0 ,1]\n",
    "\n",
    "fig = plt.figure(figsize = ( 9 , 3))\n",
    "ax = fig.add_subplot(111 , xlim = ( -0.2 , 4)) \n",
    "\n",
    "ax.plot(x , y ,linewidth = 1 , color = 'b' , label = 'linewidth=1(alpha=1.0)')\n",
    "ax.plot(x + 0.1 , y , linewidth = 1 , color = 'b' , alpha = 0.5 , label = 'linewidth=1(alpha=0.5)')\n",
    "\n",
    "ax.plot(x + 0.3 , y , linewidth = 2 , color = 'b' , label = 'linewidth=2(alpha=1.0)')\n",
    "ax.plot(x + 0.4 , y , linewidth = 2 , color = 'b' , alpha = 0.5 , label = 'linewidth=2(alpha=0.5)')\n",
    "\n",
    "ax.plot(x + 0.7 , y , linewidth = 5 , color = 'b' , label = 'linewidth=5(alpha=1.0)')\n",
    "ax.plot(x + 0.8 , y , linewidth = 5 , color = 'b' , alpha = 0.5 , label = 'linewidth=5(alpha=0.5)')\n",
    "\n",
    "ax.plot(x + 1.1 , y , linewidth = 10 , color = 'b' , label = 'linewidth=10(alpha=1.0)')\n",
    "ax.plot(x + 1.3 , y , linewidth = 10 , color = 'b' , alpha = 0.5 , label = 'linewidth=10(alpha=0.5)')\n",
    "\n",
    "\n",
    "ax.legend()\n",
    "plt.show()"
   ]
  },
  {
   "cell_type": "code",
   "execution_count": null,
   "metadata": {
    "ExecuteTime": {
     "end_time": "2021-12-22T08:43:10.289183Z",
     "start_time": "2021-12-22T08:43:09.772178Z"
    }
   },
   "outputs": [],
   "source": [
    "x = [0.1 , 1]\n",
    "y = np.array([0,0])\n",
    "\n",
    "fig = plt.figure(figsize = (6,3))\n",
    "ax = fig.add_subplot(111 ,\n",
    "                    xlim = (0 , 1.7),\n",
    "                    ylim = (-0.2 , 1.2))\n",
    "\n",
    "ax.plot(x, y + 1 , linewidth = 12 , solid_capstyle = 'butt' , label = 'butt')\n",
    "ax.plot(x, y + 0.5 , linewidth = 12 ,solid_capstyle = 'round' , label = 'round')\n",
    "ax.plot(x, y ,linewidth = 12 , solid_capstyle = 'projecting' , label = 'projecting')\n",
    "\n",
    "ax.legend()\n",
    "plt.show()"
   ]
  },
  {
   "cell_type": "code",
   "execution_count": null,
   "metadata": {
    "ExecuteTime": {
     "end_time": "2021-12-22T08:59:02.798240Z",
     "start_time": "2021-12-22T08:59:02.313692Z"
    }
   },
   "outputs": [],
   "source": [
    "x = np.array([0 , 1 , 2 ,3])\n",
    "y = [0 , 1.0 , 0.2 , 1.2]\n",
    "\n",
    "fig = plt.figure(figsize = (6,3))\n",
    "ax = fig.add_subplot(111 , xlim = (0 , 4.5))\n",
    "\n",
    "ax.plot(x , y , linewidth = 10 , solid_joinstyle = 'miter' , label = 'miter')\n",
    "ax.plot(x + 0.5 , y , linewidth = 10 , solid_joinstyle = 'round' , label = 'round')\n",
    "ax.plot(x + 1.0 , y , linewidth = 10 , solid_joinstyle = 'bevel' , label = 'bevel')\n",
    "\n",
    "ax.legend()\n",
    "plt.show()"
   ]
  },
  {
   "cell_type": "code",
   "execution_count": null,
   "metadata": {
    "ExecuteTime": {
     "end_time": "2021-12-22T09:19:17.330165Z",
     "start_time": "2021-12-22T09:19:16.505715Z"
    }
   },
   "outputs": [],
   "source": [
    "x = np.array([0,1])\n",
    "y = np.array([1.9 , 1.9])\n",
    "\n",
    "fig = plt.figure(figsize = (6 , 4))\n",
    "ax = fig.add_subplot(111 , xlim = (-0.1 , 1.7),ylim = (0 , 2))\n",
    "\n",
    "ax.plot(x , y ,linewidth = 5 , color = 'b' , linestyle = 'solid' , label = 'solid')\n",
    "ax.plot(x , y - 0.1 , linewidth = 5 , color = 'b' , alpha = 0.5 , linestyle = '-' , label = '-')\n",
    "\n",
    "ax.plot(x , y - 0.4 , linewidth = 5 , color = 'b' , linestyle = 'dashed' , label = 'dashed')\n",
    "ax.plot(x , y - 0.6 , linewidth = 5 , color = 'b' , alpha = 0.5 , linestyle = '--' , label = '--')\n",
    "\n",
    "ax.plot(x , y - 0.9 , linewidth = 5 , color = 'b' , linestyle = 'dashdot' ,label = 'dashdot')\n",
    "ax.plot(x , y - 1.0 , linewidth = 5 , color = 'b' , alpha = 0.5 , linestyle = '-.' , label = '-.')\n",
    "\n",
    "ax.plot(x , y - 1.3 , linewidth = 5 , color = 'b' , linestyle = 'dotted' , label = 'dotted')\n",
    "ax.plot(x , y - 1.4 , linewidth = 5 , color = 'b' , alpha = 0.5 , linestyle = ':'  , label = ':')\n",
    "\n",
    "ax.plot(x , y - 1.7 , linewidth = 5 , color = 'g' , linestyle = (0,(5,2)) , label = '(0 , (5 ,2))')\n",
    "ax.plot(x , y - 1.8 , linewidth = 5 , color = 'g' , linestyle = (4,(5,2)) , label = '(4 , (5 ,2))')\n",
    "\n",
    "ax.legend()\n",
    "plt.show()"
   ]
  },
  {
   "cell_type": "code",
   "execution_count": null,
   "metadata": {
    "ExecuteTime": {
     "end_time": "2021-12-22T09:32:52.704124Z",
     "start_time": "2021-12-22T09:32:52.234341Z"
    }
   },
   "outputs": [],
   "source": [
    "x = [0.1 , 1]\n",
    "y = np.array([0,0])\n",
    "\n",
    "fig = plt.figure(figsize = (6,3))\n",
    "ax = fig.add_subplot(111 , xlim = (0 , 1.7) , ylim = (-0.2 , 1.2))\n",
    "\n",
    "ax.plot(x , y + 1 , linewidth = 12 , linestyle = '-.' , dash_capstyle = 'butt' , label = 'butt')\n",
    "ax.plot(x , y + 0.5 ,linewidth = 12 , linestyle = '-.' , dash_capstyle = 'round' , label = 'round')\n",
    "ax.plot(x , y , linewidth = 12 ,linestyle = '-.' , dash_capstyle = 'projecting' , label = 'projecting')\n",
    "\n",
    "ax.legend()\n",
    "plt.show()"
   ]
  },
  {
   "cell_type": "code",
   "execution_count": null,
   "metadata": {
    "ExecuteTime": {
     "end_time": "2021-12-22T09:43:57.010523Z",
     "start_time": "2021-12-22T09:43:56.565456Z"
    }
   },
   "outputs": [],
   "source": [
    "x = np.array([0,1,2,3])\n",
    "y = [0 , 1.0 , 0.2 , 1.2]\n",
    "\n",
    "fig = plt.figure(figsize = (6 , 3))\n",
    "ax = fig.add_subplot(111, xlim = (0 , 4.5))\n",
    "\n",
    "ax.plot(x , y ,linewidth = 10 , linestyle = (0,(3,0.5)), dash_joinstyle = 'miter' , label = 'miter')\n",
    "ax.plot(x + 0.5 , y , linewidth = 10 , linestyle = (0,(3,0.5)),dash_joinstyle = 'round' , label = 'round')\n",
    "ax.plot(x + 1 , y , linewidth = 10 , linestyle = (0,(3,0.5)),dash_joinstyle = 'bevel' , label = 'bevel')\n",
    "\n",
    "ax.legend()\n",
    "plt.show()"
   ]
  },
  {
   "cell_type": "code",
   "execution_count": null,
   "metadata": {
    "ExecuteTime": {
     "end_time": "2021-12-23T00:58:20.880467Z",
     "start_time": "2021-12-23T00:58:20.636411Z"
    }
   },
   "outputs": [],
   "source": [
    "import pandas as pd \n",
    "import numpy as np\n",
    "import matplotlib.patches as mpatches\n",
    "import matplotlib.pyplot as plt\n",
    "import matplotlib.cm as cm\n",
    "\n",
    "fig = plt.figure(figsize = (3 , 3))\n",
    "ax = fig.add_subplot(111)\n",
    "\n",
    "ax.text(2, 4 , 'Text' , size = 40)\n",
    "\n",
    "ax.set_xticks([i * 2 for i in range(6)])\n",
    "ax.set_yticks([i * 2 for i in range(6)])\n",
    "\n",
    "ax.grid(linestyle = '-')\n",
    "plt.show()"
   ]
  },
  {
   "cell_type": "code",
   "execution_count": null,
   "metadata": {
    "ExecuteTime": {
     "end_time": "2021-12-23T01:10:04.475808Z",
     "start_time": "2021-12-23T01:10:04.277098Z"
    }
   },
   "outputs": [],
   "source": [
    "fig = plt.figure(figsize = (3,3))\n",
    "ax = fig.add_subplot(111)\n",
    "\n",
    "ax.text(0.2 , 0.6 , 'Text' , alpha = 0.5 , color = 'Red' , size = 40)\n",
    "\n",
    "fps = {\n",
    "    'family':'fantasy',\n",
    "    'style':'italic',\n",
    "    'weight':'heavy',\n",
    "    'size':40,\n",
    "    'color':'Green'\n",
    "}\n",
    "\n",
    "ax.text(0.2,0.2 , 'Text' , alpha = 0.5 , color = 'Red' ,fontdict = fps) # text的优先级比fontdict高\n",
    "\n",
    "ticks = [0.2 * i for i in range(6)]\n",
    "ax.set_xticks(ticks)\n",
    "ax.set_yticks(ticks)\n",
    "\n",
    "ax.grid(linestyle = '-')\n",
    "plt.show()"
   ]
  },
  {
   "cell_type": "code",
   "execution_count": null,
   "metadata": {
    "ExecuteTime": {
     "end_time": "2021-12-23T01:22:41.676979Z",
     "start_time": "2021-12-23T01:22:41.472678Z"
    }
   },
   "outputs": [],
   "source": [
    "fig = plt.figure(figsize = (3,3))\n",
    "ax = fig.add_subplot(111)\n",
    "\n",
    "plt.rcParams['font.family'] = ['sans-serif']\n",
    "plt.rcParams['font.sans-serif'] = ['SimHei']\n",
    "\n",
    "boxprops = {\n",
    "    'facecolor':'pink',\n",
    "    'edgecolor':'red',\n",
    "    'alpha':0.5,\n",
    "    'boxstyle':'Sawtooth',\n",
    "    'linewidth':2\n",
    "}\n",
    "\n",
    "ax.text(0.07 , 0.5 , '通过字典类型\\n设置文本框样\\n式',bbox = boxprops , size = 18)\n",
    "ax.text(0.07 , 0.2 , '设置填充色' , bbox = {'alpha':0.2} , backgroundcolor = 'Blue' , size = 16)\n",
    "\n",
    "ticks = [0.2 * i for i in range(6)]\n",
    "ax.set_xticks(ticks)\n",
    "ax.set_yticks(ticks)\n",
    "\n",
    "ax.grid(linestyle = '-')\n",
    "plt.show()"
   ]
  },
  {
   "cell_type": "code",
   "execution_count": null,
   "metadata": {
    "ExecuteTime": {
     "end_time": "2021-12-23T01:38:51.617271Z",
     "start_time": "2021-12-23T01:38:51.480233Z"
    }
   },
   "outputs": [],
   "source": [
    "fig = plt.figure(figsize = (3,3))\n",
    "ax = fig.add_subplot(111)\n",
    "\n",
    "x , y = [1.0 ,1.0],[0 , 4]\n",
    "ax.plot(x,y)\n",
    "\n",
    "ax.text(1.0 , 3 , 'left' ,horizontalalignment = 'left' , size = 20)\n",
    "ax.text(1.0 , 2 , 'center', horizontalalignment = 'center' , size = 20)\n",
    "ax.text(1.0 , 1 , 'right' , horizontalalignment = 'right' , size = 20)\n",
    "\n",
    "ax.set_xticks([i * 0.5 for i in range(5)])\n",
    "ax.set_yticks([i for i in range(5)])\n",
    "\n",
    "plt.show()"
   ]
  },
  {
   "cell_type": "code",
   "execution_count": null,
   "metadata": {
    "ExecuteTime": {
     "end_time": "2021-12-23T01:53:14.765700Z",
     "start_time": "2021-12-23T01:53:14.579205Z"
    }
   },
   "outputs": [],
   "source": [
    "fig = plt.figure(figsize = (8,3))\n",
    "ax = fig.add_subplot(111)\n",
    "\n",
    "x , y = [0,9] , [0.5,0.5]\n",
    "ax.plot(x,y)\n",
    "\n",
    "ax.text(0 , 0.5 , 'bottom' , verticalalignment = 'bottom' , size = 20)\n",
    "ax.text(2.5,0.5 , 'baseline' , verticalalignment = 'baseline' , size = 20)\n",
    "ax.text(5.5,0.5 , 'center' , verticalalignment = 'center' , size = 20)\n",
    "ax.text(8 , 0.5 , 'top' , verticalalignment = 'top' , size = 20)\n",
    "\n",
    "ax.set_xticks([i * 3 for i in range(4)])\n",
    "ax.set_yticks([0.5 * i for i in range(3)])\n",
    "\n",
    "plt.show()"
   ]
  },
  {
   "cell_type": "code",
   "execution_count": null,
   "metadata": {
    "ExecuteTime": {
     "end_time": "2021-12-23T02:34:43.282652Z",
     "start_time": "2021-12-23T02:34:43.128629Z"
    }
   },
   "outputs": [],
   "source": [
    "%matplotlib inline\n",
    "fig = plt.figure(figsize = (4,9))\n",
    "ax = fig.add_subplot(111 ,xlim = [0,5] , ylim = [0,5])\n",
    "\n",
    "x , y = [0,5] , [5,5]\n",
    "a , b = [0,3] , [3,3]\n",
    "\n",
    "ax.plot(x,y , color = 'r')\n",
    "ax.plot(a,b ,color = 'g')\n",
    "\n",
    "ax.text(1.5 , 5 , '左侧对齐\\nLeft\\nalignment' , multialignment = 'left' , size = 20 , color = 'b')\n",
    "ax.text(1.5 , 3 , '中间对齐\\nCenter\\nalignment' , multialignment = 'center' , size = 20 , color = 'b')\n",
    "ax.text(1.5 , 1 , '右侧对齐\\nRight\\nalignment' , multialignment = 'right' , size = 20, color = 'b')\n",
    "\n",
    "ax.set_xticks([i * 1 for i in range(4)])\n",
    "ax.set_yticks([i * 3 for i in range(3)])\n",
    "ax.grid(linestyle = '-')\n",
    "plt.show()"
   ]
  },
  {
   "cell_type": "code",
   "execution_count": null,
   "metadata": {
    "ExecuteTime": {
     "end_time": "2021-12-23T02:56:13.716494Z",
     "start_time": "2021-12-23T02:56:13.525321Z"
    }
   },
   "outputs": [],
   "source": [
    "import pandas as pd \n",
    "import numpy as np \n",
    "import matplotlib.pyplot as plt\n",
    "import matplotlib.cm as cm\n",
    "import matplotlib.patches as mpatches\n",
    "\n",
    "plt.rcParams['font.family'] = ['sans-serif']\n",
    "plt.rcParams['font.sans-serif'] = ['SimHei']\n",
    "\n",
    "fig = plt.figure(figsize = (3.5 ,5))\n",
    "ax = fig.add_subplot(111 , xlim = [0,4] , ylim = [0,7])\n",
    "\n",
    "ax.text(1 , 5 ,'行间距 1\\nspace 1', linespacing = 1 , size = 20)\n",
    "ax.text(1 , 3 ,'行间距 1.5\\nspace 1.5' , linespacing = 1.5 , size = 20)\n",
    "ax.text(1 , 1 ,'行间距 2\\nspace 2', linespacing = 2 ,size = 20)\n",
    "\n",
    "ax.grid(linestyle = '-')\n",
    "plt.show()"
   ]
  },
  {
   "cell_type": "code",
   "execution_count": null,
   "metadata": {
    "ExecuteTime": {
     "end_time": "2021-12-23T03:22:11.982168Z",
     "start_time": "2021-12-23T03:22:11.626270Z"
    }
   },
   "outputs": [],
   "source": [
    "fig = plt.figure(figsize = (8,8))\n",
    "ax1 = fig.add_subplot(221)\n",
    "ax2 = fig.add_subplot(222)\n",
    "ax3 = fig.add_subplot(223)\n",
    "ax4 = fig.add_subplot(224)\n",
    "\n",
    "# 绘制基本线\n",
    "axes = [ax1,ax2,ax3,ax4]\n",
    "x , y = [0.5 ,0.5] , [0 ,1]\n",
    "\n",
    "for ax in axes:\n",
    "    ax.plot(x ,y , color = 'SteelBlue')\n",
    "    ax.plot(y ,x , color = 'SteelBlue')\n",
    "    \n",
    "# 绘制子图 1 - 3\n",
    "ax1.text(0.5 , 0.5 , 'horizontal' , rotation = 'horizontal' , size = 12)\n",
    "ax2.text(0.5 , 0.5 , 'vertical' , rotation = 'vertical' , size = 12)\n",
    "ax3.text(0.5 , 0.5 , 'rotation = 45\\nwith anchor\\nsetting' , rotation = 45 , rotation_mode = 'anchor',\n",
    "        size = 12)\n",
    "\n",
    "# 绘制子图4\n",
    "# 绘制文本框\n",
    "boxprops = {\n",
    "    'facecolor':'Pink',\n",
    "    'edgecolor':'Pink',\n",
    "    'alpha':0.5\n",
    "}\n",
    "ax4.text(0.5 ,0.5 , 'rotation = 45\\nwith anchor\\nsetting' , rotation = 0 , bbox = boxprops , color = 'w',\n",
    "        size = 12)\n",
    "\n",
    "# 绘制文本\n",
    "ax1.text(0,0.9,'1)',size = 16)\n",
    "ax2.text(0,0.9,'2)',size = 16)\n",
    "ax3.text(0,0.9,'3)',size = 16)\n",
    "ax4.text(0,0.9,'4)',size = 16)\n",
    "\n",
    "# 绘制旋转文本框\n",
    "boxprops = {\n",
    "    'facecolor':'None',\n",
    "    'edgecolor':'Pink'\n",
    "}\n",
    "\n",
    "ax4.text(0.5 , 0.5 , 'rotation = 45\\nwithout anchor\\nsetting' , bbox = boxprops , rotation = 45 ,\n",
    "        size = 12)\n",
    "\n",
    "for ax in axes:\n",
    "    ax.set_xticks([0.5 * i for i in range(3)])\n",
    "    ax.set_yticks([0.5 * i for i in range(3)])\n",
    "    \n",
    "plt.show()"
   ]
  },
  {
   "cell_type": "code",
   "execution_count": null,
   "metadata": {
    "ExecuteTime": {
     "end_time": "2021-12-23T06:26:52.736892Z",
     "start_time": "2021-12-23T06:26:52.287583Z"
    }
   },
   "outputs": [],
   "source": [
    "import matplotlib.pyplot as plt \n",
    "import numpy as np \n",
    "\n",
    "plt.rcParams['font.sans-serif'] = ['AR PL UKai CN']\n",
    "plt.rcParams['font.family'] = 'DejaVu Sans'\n",
    "plt.rcParams['figure.figsize'] = (6,6)\n",
    "\n",
    "x1 = np.arange(0 , 15 , 0.2)\n",
    "x2 = np.arange(0 , 20 , 0.2)\n",
    "\n",
    "y1 = np.sin(x1)\n",
    "y2 = np.sin(x2) * 2\n",
    "y3 = np.cos(x2) * 2 \n",
    "y4 = np.cos(x1)\n",
    "\n",
    "fig = plt.figure(figsize = (6,6))\n",
    "\n",
    "ax1 = fig.add_subplot(221)\n",
    "ax2 = fig.add_subplot(222)\n",
    "ax3 = fig.add_subplot(223)\n",
    "ax4 = fig.add_subplot(224)\n",
    "\n",
    "ax1.plot(x1,y1)\n",
    "ax2.plot(x2,y2)\n",
    "ax3.plot(x2,y3)\n",
    "ax4.plot(x1,y4)\n",
    "\n",
    "fig.subplots_adjust(wspace = 0.35 , hspace = 0.35)\n",
    "plt.show()"
   ]
  },
  {
   "cell_type": "code",
   "execution_count": null,
   "metadata": {
    "ExecuteTime": {
     "end_time": "2021-12-23T06:27:35.847747Z",
     "start_time": "2021-12-23T06:27:35.472037Z"
    }
   },
   "outputs": [],
   "source": [
    "import pandas as pd \n",
    "import numpy as np \n",
    "import matplotlib.pyplot as plt\n",
    "import matplotlib.cm as cm\n",
    "import matplotlib.patches as mpatches\n",
    "\n",
    "fig = plt.figure(figsize = (6 ,6))\n",
    "\n",
    "ax1 = fig.add_subplot(221)\n",
    "ax2 = fig.add_subplot(222)\n",
    "ax3 = fig.add_subplot(223)\n",
    "ax4 = fig.add_subplot(224)\n",
    "\n",
    "ax1.plot(x1,y1,label = 'y1')\n",
    "ax2.plot(x2,y2,label = 'y2')\n",
    "ax3.plot(x2,y3,label = 'y3')\n",
    "ax4.plot(x1,y4,label = 'y4')\n",
    "\n",
    "# 设置轴范围\n",
    "axes = [ax1,ax2,ax3,ax4]\n",
    "for ax in axes:\n",
    "    ax.set_xlim(0,20)\n",
    "    ax.set_ylim(-2,2)\n",
    "    \n",
    "fig.subplots_adjust(wspace = 0.35 , hspace = 0.35 , bottom = 0.2)\n",
    "\n",
    "plt.show()"
   ]
  },
  {
   "cell_type": "code",
   "execution_count": null,
   "metadata": {
    "ExecuteTime": {
     "end_time": "2021-12-23T06:36:01.713917Z",
     "start_time": "2021-12-23T06:36:01.471182Z"
    }
   },
   "outputs": [],
   "source": [
    "x1 = np.arange(0,15,0.2)\n",
    "x2 = np.arange(0,20,0.2)\n",
    "\n",
    "y1 = np.sin(x1)\n",
    "y2 = np.sin(x2) * 2\n",
    "y3 = np.cos(x2) * 2 \n",
    "y4 = np.cos(x1)\n",
    "\n",
    "fig , axes = plt.subplots(2,2,figsize = (3,3) , sharex = True , sharey = True)\n",
    "\n",
    "axes[0,0].plot(x1,y1)\n",
    "axes[0,1].plot(x2,y2)\n",
    "axes[1,0].plot(x2,y3)\n",
    "axes[1,1].plot(x1,y4)\n",
    "\n",
    "plt.show()"
   ]
  },
  {
   "cell_type": "code",
   "execution_count": null,
   "metadata": {
    "ExecuteTime": {
     "end_time": "2021-12-23T06:49:53.437256Z",
     "start_time": "2021-12-23T06:49:52.637523Z"
    }
   },
   "outputs": [],
   "source": [
    "plt.rcParams['font.family'] = ['sans-serif']\n",
    "plt.rcParams['font.sans-serif'] = ['SimHei']\n",
    "\n",
    "x1 = np.linspace(0,100,100)\n",
    "x2 = np.linspace(0,1000000,100)\n",
    "y1 = np.linspace(0,1000000,100)\n",
    "y2 = np.linspace(0,100,100)\n",
    "\n",
    "fig = plt.figure(figsize = (8,2))\n",
    "ax1 = fig.add_subplot(121)\n",
    "ax2 = fig.add_subplot(122)\n",
    "\n",
    "ax1.plot(x1,y1)\n",
    "ax2.plot(x2,y2)\n",
    "\n",
    "ax1.set_yscale('log')\n",
    "ax2.set_xscale('log')\n",
    "\n",
    "ax1.set_title('y轴为对数轴')\n",
    "ax2.set_title('x轴为对数轴')\n",
    "\n",
    "plt.show()"
   ]
  },
  {
   "cell_type": "code",
   "execution_count": null,
   "metadata": {
    "ExecuteTime": {
     "end_time": "2021-12-23T07:02:14.175221Z",
     "start_time": "2021-12-23T07:02:13.665502Z"
    }
   },
   "outputs": [],
   "source": [
    "# 创建数据集\n",
    "x1 = np.linspace(0,10,100)\n",
    "x2 = np.linspace(0,100,100)\n",
    "y1 = np.linspace(0,100,100)\n",
    "y2 = np.linspace(0,10,100)\n",
    "\n",
    "fig = plt.figure(figsize = (9,3))\n",
    "\n",
    "ax1_1 = fig.add_subplot(121)\n",
    "ax2_1 = fig.add_subplot(122)\n",
    "\n",
    "ax1_1.plot(x1,y1)\n",
    "ax1_2 = ax1_1.twinx()\n",
    "ax1_2.plot(x1,y2)\n",
    "\n",
    "ax2_1.plot(x1,y1)\n",
    "ax2_2 = ax2_1.twiny()\n",
    "ax2_2.plot(x2,y1)\n",
    "\n",
    "ax1_1.set_title('2个y轴',y = 0.8)\n",
    "ax2_1.set_title('2个x轴',y = 0.8)\n",
    "\n",
    "plt.show()"
   ]
  },
  {
   "cell_type": "code",
   "execution_count": null,
   "metadata": {
    "ExecuteTime": {
     "end_time": "2021-12-23T07:19:09.877946Z",
     "start_time": "2021-12-23T07:19:09.681901Z"
    }
   },
   "outputs": [],
   "source": [
    "import pandas as pd \n",
    "import numpy as np \n",
    "import matplotlib.pyplot as plt\n",
    "\n",
    "plt.rcParams['font.family'] = ['sans-serif']\n",
    "plt.rcParams['font.sans-serif'] = ['SimHei']\n",
    "plt.rcParams['axes.unicode_minus'] = False\n",
    "\n",
    "x = np.arange(10,15,0.2)\n",
    "y = np.sin(x)\n",
    "\n",
    "fig = plt.figure(figsize = (4,2))\n",
    "ax = fig.add_subplot(111)\n",
    "\n",
    "ax.plot(x,y)\n",
    "\n",
    "ax.set_xlim([0,15])\n",
    "ax.set_ylim([-1,1])\n",
    "\n",
    "ax.set_xlabel('x' , fontsize = 20 ,color = 'red')\n",
    "ax.set_ylabel('y' ,{'fontsize':20 , 'color':'green'})\n",
    "\n",
    "fig.subplots_adjust(bottom = 0.3 , left = 0.2)\n",
    "plt.show()"
   ]
  },
  {
   "cell_type": "code",
   "execution_count": null,
   "metadata": {
    "ExecuteTime": {
     "end_time": "2021-12-23T07:36:58.471627Z",
     "start_time": "2021-12-23T07:36:58.373607Z"
    }
   },
   "outputs": [],
   "source": [
    "fig = plt.figure(figsize = (4,2))\n",
    "ax = fig.add_subplot(111)\n",
    "\n",
    "ax.plot(x,y)\n",
    "# 设置轴范围\n",
    "ax.set_xlim([0,15])\n",
    "ax.set_ylim([-1,1])\n",
    "\n",
    "ax.set_xticks([0,5,10,15])\n",
    "ax.set_yticks([-1,0,1])\n",
    "\n",
    "ax.set_xticklabels(['zero' , 'five' , 10 ,15])\n",
    "ax.set_yticklabels([])\n",
    "\n",
    "fig.subplots_adjust(bottom = 0.3 ,left = 0.2)\n",
    "plt.show()"
   ]
  },
  {
   "cell_type": "code",
   "execution_count": 5,
   "metadata": {
    "ExecuteTime": {
     "end_time": "2021-12-24T00:56:29.630448Z",
     "start_time": "2021-12-24T00:56:29.364859Z"
    },
    "collapsed": true
   },
   "outputs": [
    {
     "data": {
      "image/png": "[encoded data removed]",
      "text/plain": [
       "<Figure size 288x288 with 1 Axes>"
      ]
     },
     "metadata": {
      "needs_background": "light"
     },
     "output_type": "display_data"
    }
   ],
   "source": [
    "import pandas as pd \n",
    "import numpy as np \n",
    "import matplotlib.pyplot as plt\n",
    "import matplotlib.cm as cm\n",
    "\n",
    "fig = plt.figure(figsize = (4,4))\n",
    "ax = fig.add_subplot(111)\n",
    "\n",
    "# 绘制辅助刻度\n",
    "ax.minorticks_on()\n",
    "\n",
    "# 设置x轴的辅助刻度\n",
    "ax.tick_params(axis = 'x',\n",
    "              which = 'minor',\n",
    "              bottom = 'off')\n",
    "\n",
    "# 设置x轴的主刻度\n",
    "ax.tick_params(axis = 'x',\n",
    "              which = 'major',\n",
    "              direction = 'inout',\n",
    "              length = 10,\n",
    "              labelcolor = 'green')\n",
    "\n",
    "# 设置y轴的辅助刻度\n",
    "ax.tick_params(axis = 'y',\n",
    "              which = 'minor',\n",
    "              direction = 'out',\n",
    "              length = 5,\n",
    "              color = 'red')\n",
    "\n",
    "# 设置y轴的主刻度\n",
    "ax.tick_params(axis = 'y',\n",
    "              which = 'major',\n",
    "              direction = 'inout',\n",
    "              length = 10,\n",
    "              color = 'blue')\n",
    "\n",
    "plt.show()"
   ]
  },
  {
   "cell_type": "code",
   "execution_count": 11,
   "metadata": {
    "ExecuteTime": {
     "end_time": "2021-12-24T01:11:39.673242Z",
     "start_time": "2021-12-24T01:11:39.395983Z"
    },
    "collapsed": true
   },
   "outputs": [
    {
     "data": {
      "image/png": "[encoded data removed]",
      "text/plain": [
       "<Figure size 288x288 with 1 Axes>"
      ]
     },
     "metadata": {
      "needs_background": "light"
     },
     "output_type": "display_data"
    }
   ],
   "source": [
    "fig = plt.figure(figsize = (4,4))\n",
    "ax = fig.add_subplot(111)\n",
    "\n",
    "ax.minorticks_on()\n",
    "\n",
    "ax.grid(which = 'major',\n",
    "       axis = 'y',\n",
    "       color = 'blue',\n",
    "       linestyle = '-',\n",
    "       linewidth = 1)\n",
    "\n",
    "ax.grid(which = 'minor',\n",
    "       axis = 'y',\n",
    "       color = 'grey',\n",
    "       linestyle = '--',\n",
    "       linewidth = 1)\n",
    "\n",
    "ax.grid(which = 'major',\n",
    "       axis = 'x',\n",
    "       color = 'pink',\n",
    "       linestyle = '-',\n",
    "       linewidth = 1)\n",
    "\n",
    "ax.grid(which = 'minor',\n",
    "       axis = 'x',\n",
    "       color = 'black',\n",
    "       linestyle = '--',\n",
    "       linewidth = 1)\n",
    "\n",
    "plt.show()"
   ]
  },
  {
   "cell_type": "code",
   "execution_count": 17,
   "metadata": {
    "ExecuteTime": {
     "end_time": "2021-12-24T01:31:44.149703Z",
     "start_time": "2021-12-24T01:31:43.881047Z"
    }
   },
   "outputs": [],
   "source": [
    "import matplotlib.pyplot as plt\n",
    "import numpy as np \n",
    "\n",
    "x = np.arange(0, 20, 0.2)\n",
    "y1 = np.sin(x)\n",
    "y2 = np.cos(x)\n",
    "\n",
    "fig = plt.figure()\n",
    "ax = fig.add_subplot(111)\n",
    "\n",
    "ax.plot(x , y1 , label = 'sin')\n",
    "ax.plot(x , y2 , label = 'cos')\n",
    "\n",
    "ax.legend()\n",
    "plt.show()"
   ]
  },
  {
   "cell_type": "code",
   "execution_count": 23,
   "metadata": {
    "ExecuteTime": {
     "end_time": "2021-12-24T01:50:30.986906Z",
     "start_time": "2021-12-24T01:50:30.657696Z"
    }
   },
   "outputs": [],
   "source": [
    "fig = plt.figure()\n",
    "ax = fig.add_subplot(111)\n",
    "\n",
    "ax.plot(x , y1 ,label = 'sin')\n",
    "ax.plot(x , y2 ,label = 'cos')\n",
    "\n",
    "ax.legend(loc = 'upper left' , bbox_to_anchor = (1,1))\n",
    "fig.subplots_adjust(left = 0.2 , bottom = 0.2 , right = 0.75 , top = 0.8)\n",
    "\n",
    "plt.show()"
   ]
  },
  {
   "cell_type": "code",
   "execution_count": 25,
   "metadata": {
    "ExecuteTime": {
     "end_time": "2021-12-24T01:59:05.605595Z",
     "start_time": "2021-12-24T01:59:05.347827Z"
    }
   },
   "outputs": [],
   "source": [
    "fig = plt.figure()\n",
    "ax = fig.add_subplot(111)\n",
    "\n",
    "ax.plot(x , y1 , label = 'sin')\n",
    "ax.plot(x , y2 , label = 'cos')\n",
    "\n",
    "ax.legend(loc = 'upper left' , bbox_to_anchor = (1,1) , borderaxespad = 0.5)\n",
    "\n",
    "fig.subplots_adjust(left = 0.2 , bottom = 0.2 ,right = 0.75 , top = 0.8)\n",
    "\n",
    "plt.show()"
   ]
  },
  {
   "cell_type": "code",
   "execution_count": 1,
   "metadata": {
    "ExecuteTime": {
     "end_time": "2021-12-24T02:14:13.610930Z",
     "start_time": "2021-12-24T02:14:12.666242Z"
    },
    "collapsed": true
   },
   "outputs": [
    {
     "data": {
      "image/png": "[encoded data removed]",
      "text/plain": [
       "<Figure size 432x288 with 1 Axes>"
      ]
     },
     "metadata": {
      "needs_background": "light"
     },
     "output_type": "display_data"
    }
   ],
   "source": [
    "import matplotlib.pyplot as plt\n",
    "import numpy as np \n",
    "\n",
    "x = np.arange(0 , 20 ,0.2)\n",
    "y1 = np.sin(x)\n",
    "y2 = np.cos(x)\n",
    "\n",
    "fig = plt.figure()\n",
    "ax = fig.add_subplot(111)\n",
    "\n",
    "ax.plot(x , y1 , label = 'sin')\n",
    "ax.plot(x , y2 , label = 'cos')\n",
    "\n",
    "ax.set_title('sin and cos')\n",
    "ax.legend(loc = 'upper left')\n",
    "\n",
    "plt.show()"
   ]
  },
  {
   "cell_type": "code",
   "execution_count": 4,
   "metadata": {
    "ExecuteTime": {
     "end_time": "2021-12-24T02:18:52.200626Z",
     "start_time": "2021-12-24T02:18:51.930025Z"
    },
    "collapsed": true
   },
   "outputs": [
    {
     "data": {
      "image/png": "[encoded data removed]",
      "text/plain": [
       "<Figure size 432x288 with 1 Axes>"
      ]
     },
     "metadata": {
      "needs_background": "light"
     },
     "output_type": "display_data"
    }
   ],
   "source": [
    "plt.rcParams['font.family'] = ['sans-serif']\n",
    "plt.rcParams['font.sans-serif'] = ['SimHei']\n",
    "plt.rcParams['axes.unicode_minus'] = False\n",
    "\n",
    "fig = plt.figure()\n",
    "ax = fig.add_subplot(111)\n",
    "\n",
    "ax.plot(x , y1 , label = 'sin')\n",
    "ax.plot(x , y2 , label = 'cos')\n",
    "\n",
    "ax.set_title('sin and cos')\n",
    "fig.suptitle('三角函数')\n",
    "\n",
    "plt.show()"
   ]
  },
  {
   "cell_type": "code",
   "execution_count": 8,
   "metadata": {
    "ExecuteTime": {
     "end_time": "2021-12-24T02:34:55.494515Z",
     "start_time": "2021-12-24T02:34:55.179415Z"
    },
    "collapsed": true
   },
   "outputs": [
    {
     "data": {
      "image/png": "[encoded data removed]",
      "text/plain": [
       "<Figure size 432x288 with 1 Axes>"
      ]
     },
     "metadata": {
      "needs_background": "light"
     },
     "output_type": "display_data"
    }
   ],
   "source": [
    "plt.rcParams['font.family'] = ['sans-serif']\n",
    "plt.rcParams['font.sans-serif'] = ['SimHei']\n",
    "plt.rcParams['axes.unicode_minus'] = False\n",
    "\n",
    "fig = plt.figure()\n",
    "ax = fig.add_subplot(111)\n",
    "\n",
    "ax.plot(x , y1 , label = 'sin')\n",
    "ax.plot(x , y2 , label = 'cos')\n",
    "\n",
    "# 字体样式字典\n",
    "fdict = {'family':'serif',\n",
    "        'style':'normal',\n",
    "        'weight':'bold',\n",
    "        'size': 12}\n",
    "\n",
    "# 文本框样式字典\n",
    "bdict = {'facecolor':'k',\n",
    "        'edgecolor':'None',\n",
    "        'alpha':0.5,\n",
    "        'boxstyle':'rarrow',\n",
    "        'linewidth':2}\n",
    "\n",
    "ax.legend(loc = 'upper left' , bbox_to_anchor = (1.02,1),\n",
    "         borderaxespad = 0 , prop = fdict)\n",
    "\n",
    "# 设置子图标题\n",
    "ax.set_title('sin and cos' , fontdict = fdict , bbox = bdict , color = 'white')\n",
    "# 设置图形标题\n",
    "fig.suptitle('三角函数',y = 0.95 , size = 16 , color = 'grey' , fontweight = 'bold')\n",
    "fig.subplots_adjust(left = 0.2 , bottom = 0.2 , right = 0.75 , top = 0.8)\n",
    "\n",
    "plt.show()"
   ]
  },
  {
   "cell_type": "code",
   "execution_count": 9,
   "metadata": {
    "ExecuteTime": {
     "end_time": "2021-12-24T02:37:26.510103Z",
     "start_time": "2021-12-24T02:37:26.504104Z"
    },
    "collapsed": true
   },
   "outputs": [
    {
     "data": {
      "text/plain": [
       "['Solarize_Light2',\n",
       " '_classic_test_patch',\n",
       " 'bmh',\n",
       " 'classic',\n",
       " 'dark_background',\n",
       " 'fast',\n",
       " 'fivethirtyeight',\n",
       " 'ggplot',\n",
       " 'grayscale',\n",
       " 'seaborn',\n",
       " 'seaborn-bright',\n",
       " 'seaborn-colorblind',\n",
       " 'seaborn-dark',\n",
       " 'seaborn-dark-palette',\n",
       " 'seaborn-darkgrid',\n",
       " 'seaborn-deep',\n",
       " 'seaborn-muted',\n",
       " 'seaborn-notebook',\n",
       " 'seaborn-paper',\n",
       " 'seaborn-pastel',\n",
       " 'seaborn-poster',\n",
       " 'seaborn-talk',\n",
       " 'seaborn-ticks',\n",
       " 'seaborn-white',\n",
       " 'seaborn-whitegrid',\n",
       " 'tableau-colorblind10']"
      ]
     },
     "execution_count": 9,
     "metadata": {},
     "output_type": "execute_result"
    }
   ],
   "source": [
    "import matplotlib.pyplot as plt\n",
    "plt.style.available"
   ]
  },
  {
   "cell_type": "code",
   "execution_count": 13,
   "metadata": {
    "ExecuteTime": {
     "end_time": "2021-12-24T02:42:19.817782Z",
     "start_time": "2021-12-24T02:42:19.639589Z"
    },
    "collapsed": true
   },
   "outputs": [
    {
     "data": {
      "image/png": "[encoded data removed]",
      "text/plain": [
       "<Figure size 432x288 with 1 Axes>"
      ]
     },
     "metadata": {},
     "output_type": "display_data"
    }
   ],
   "source": [
    "plt.style.use('seaborn-darkgrid')\n",
    "\n",
    "fig = plt.figure()\n",
    "ax = fig.add_subplot(111)\n",
    "\n",
    "dat = [2,3]\n",
    "ax.plot(dat)\n",
    "\n",
    "plt.show()"
   ]
  },
  {
   "cell_type": "code",
   "execution_count": 18,
   "metadata": {
    "ExecuteTime": {
     "end_time": "2021-12-24T02:59:23.573173Z",
     "start_time": "2021-12-24T02:59:23.264517Z"
    },
    "collapsed": true
   },
   "outputs": [
    {
     "data": {
      "image/png": "[encoded data removed]",
      "text/plain": [
       "<Figure size 360x360 with 1 Axes>"
      ]
     },
     "metadata": {},
     "output_type": "display_data"
    }
   ],
   "source": [
    "plt.style.use('dark_background')\n",
    "\n",
    "fig = plt.figure(figsize = (5,5))\n",
    "ax = fig.add_subplot(111)\n",
    "\n",
    "dat = [1,3,2]\n",
    "ax.plot(dat)\n",
    "fname = 'save_fig.png'\n",
    "plt.savefig(fname)\n",
    "\n",
    "plt.show()"
   ]
  },
  {
   "cell_type": "code",
   "execution_count": 23,
   "metadata": {
    "ExecuteTime": {
     "end_time": "2021-12-24T03:06:40.381237Z",
     "start_time": "2021-12-24T03:06:40.001689Z"
    },
    "collapsed": true
   },
   "outputs": [
    {
     "data": {
      "image/png": "[encoded data removed]",
      "text/plain": [
       "<Figure size 432x288 with 1 Axes>"
      ]
     },
     "metadata": {},
     "output_type": "display_data"
    }
   ],
   "source": [
    "fig = plt.figure()\n",
    "ax = fig.add_subplot(111)\n",
    "\n",
    "dat = [1,3,2]\n",
    "ax.plot(dat)\n",
    "fname = 'save_fig_prop_setting.svg'\n",
    "\n",
    "plt.savefig(fname , dpi = 300 , facecolor = 'grey' , edgecolor = 'k')\n",
    "\n",
    "plt.show()"
   ]
  },
  {
   "cell_type": "code",
   "execution_count": 32,
   "metadata": {
    "ExecuteTime": {
     "end_time": "2021-12-24T03:30:01.021796Z",
     "start_time": "2021-12-24T03:30:00.581638Z"
    },
    "collapsed": true
   },
   "outputs": [
    {
     "name": "stderr",
     "output_type": "stream",
     "text": [
      "<ipython-input-32-a6601903b3b7>:22: MatplotlibDeprecationWarning: savefig() got unexpected keyword argument \"linewidth\" which is no longer supported as of 3.3 and will become an error two minor releases later\n",
      "  plt.savefig(fname , dpi = 300 , edgecolor = 'b' , linewidth = 2 , frameon = True)\n",
      "<ipython-input-32-a6601903b3b7>:22: MatplotlibDeprecationWarning: savefig() got unexpected keyword argument \"frameon\" which is no longer supported as of 3.3 and will become an error two minor releases later\n",
      "  plt.savefig(fname , dpi = 300 , edgecolor = 'b' , linewidth = 2 , frameon = True)\n"
     ]
    },
    {
     "data": {
      "image/png": "[encoded data removed]",
      "text/plain": [
       "<Figure size 288x216 with 1 Axes>"
      ]
     },
     "metadata": {},
     "output_type": "display_data"
    }
   ],
   "source": [
    "import numpy as np \n",
    "\n",
    "x = np.arange(0 , 15 ,0.2)\n",
    "y = np.sin(x)\n",
    "z = np.cos(x)\n",
    "\n",
    "fig = plt.figure(figsize = (4,3) , edgecolor = 'b' , linewidth = 5 , frameon = True)\n",
    "\n",
    "ax = fig.add_subplot(111)\n",
    "\n",
    "ax.plot(x , y , label = 'sin')\n",
    "ax.plot(x , z , label = 'cos')\n",
    "\n",
    "ax.set_xlabel('x value')\n",
    "ax.set_ylabel('y value')\n",
    "\n",
    "ax.legend(loc = 'upper left' , bbox_to_anchor = (1,1))\n",
    "\n",
    "fig.subplots_adjust(left = 0.2 , bottom = 0.2 , right = 0.75 , top = 0.9)\n",
    "\n",
    "fname = 'save_fig_adjust.svg'\n",
    "plt.savefig(fname , dpi = 300 , edgecolor = 'b' , linewidth = 2 , frameon = True)\n",
    "\n",
    "plt.show()"
   ]
  },
  {
   "cell_type": "code",
   "execution_count": 34,
   "metadata": {
    "ExecuteTime": {
     "end_time": "2021-12-24T03:42:17.154216Z",
     "start_time": "2021-12-24T03:42:16.900007Z"
    },
    "collapsed": true
   },
   "outputs": [
    {
     "data": {
      "image/png": "[encoded data removed]",
      "text/plain": [
       "<Figure size 432x288 with 1 Axes>"
      ]
     },
     "metadata": {},
     "output_type": "display_data"
    }
   ],
   "source": [
    "import matplotlib.pyplot as plt\n",
    "\n",
    "x = [1,2,3]\n",
    "y = [3,6,9]\n",
    "\n",
    "fig = plt.figure()\n",
    "ax = fig.add_subplot(111)\n",
    "\n",
    "ax.bar(x,y)\n",
    "plt.show()"
   ]
  },
  {
   "cell_type": "code",
   "execution_count": 35,
   "metadata": {
    "ExecuteTime": {
     "end_time": "2021-12-24T03:45:24.761635Z",
     "start_time": "2021-12-24T03:45:24.757633Z"
    },
    "collapsed": true
   },
   "outputs": [
    {
     "data": {
      "text/plain": [
       "'module://ipykernel.pylab.backend_inline'"
      ]
     },
     "execution_count": 35,
     "metadata": {},
     "output_type": "execute_result"
    }
   ],
   "source": [
    "from matplotlib import rcParams\n",
    "rcParams['backend']"
   ]
  },
  {
   "cell_type": "code",
   "execution_count": 36,
   "metadata": {
    "ExecuteTime": {
     "end_time": "2021-12-24T03:48:44.299384Z",
     "start_time": "2021-12-24T03:48:44.251312Z"
    },
    "collapsed": true
   },
   "outputs": [
    {
     "data": {
      "text/plain": [
       "'TkAgg'"
      ]
     },
     "execution_count": 36,
     "metadata": {},
     "output_type": "execute_result"
    }
   ],
   "source": [
    "%matplotlib tk\n",
    "rcParams['backend']"
   ]
  },
  {
   "cell_type": "code",
   "execution_count": 37,
   "metadata": {
    "ExecuteTime": {
     "end_time": "2021-12-24T03:51:38.203819Z",
     "start_time": "2021-12-24T03:51:38.199816Z"
    },
    "collapsed": true
   },
   "outputs": [
    {
     "data": {
      "text/plain": [
       "'module://ipykernel.pylab.backend_inline'"
      ]
     },
     "execution_count": 37,
     "metadata": {},
     "output_type": "execute_result"
    }
   ],
   "source": [
    "%matplotlib inline\n",
    "plt.get_backend()"
   ]
  },
  {
   "cell_type": "code",
   "execution_count": 1,
   "metadata": {
    "ExecuteTime": {
     "end_time": "2021-12-24T04:12:15.687643Z",
     "start_time": "2021-12-24T04:12:14.606472Z"
    },
    "collapsed": true
   },
   "outputs": [
    {
     "data": {
      "image/png": "[encoded data removed]",
      "text/plain": [
       "<Figure size 432x288 with 1 Axes>"
      ]
     },
     "metadata": {
      "needs_background": "light"
     },
     "output_type": "display_data"
    },
    {
     "data": {
      "image/png": "[encoded data removed]",
      "text/plain": [
       "<Figure size 432x288 with 1 Axes>"
      ]
     },
     "metadata": {
      "needs_background": "light"
     },
     "output_type": "display_data"
    }
   ],
   "source": [
    "import matplotlib.pyplot as plt\n",
    "from matplotlib._pylab_helpers import Gcf\n",
    "x = [1,2,3]\n",
    "y = [3,6,9]\n",
    "\n",
    "fig1 = plt.figure()\n",
    "ax1 = fig1.add_subplot(111)\n",
    "\n",
    "fig2 = plt.figure()\n",
    "ax2 = fig2.add_subplot(111)\n",
    "\n",
    "ax1.bar(x,y)\n",
    "ax2.scatter(x,y)\n",
    "\n",
    "plt.show()"
   ]
  },
  {
   "cell_type": "code",
   "execution_count": 2,
   "metadata": {
    "ExecuteTime": {
     "end_time": "2021-12-24T04:19:08.583898Z",
     "start_time": "2021-12-24T04:19:08.375848Z"
    },
    "collapsed": true
   },
   "outputs": [
    {
     "name": "stdout",
     "output_type": "stream",
     "text": [
      "fig1: [<matplotlib.backend_bases.FigureManagerBase object at 0x00000224A514BC70>]\n"
     ]
    },
    {
     "data": {
      "image/png": "[encoded data removed]",
      "text/plain": [
       "<Figure size 432x288 with 1 Axes>"
      ]
     },
     "metadata": {
      "needs_background": "light"
     },
     "output_type": "display_data"
    }
   ],
   "source": [
    "import matplotlib.pyplot as plt\n",
    "from matplotlib._pylab_helpers import Gcf\n",
    "\n",
    "x = [1,2,3]\n",
    "y = [3,6,9]\n",
    "\n",
    "fig1 = plt.figure()\n",
    "ax1 = fig1.add_subplot(111)\n",
    "ax1.bar(x,y)\n",
    "\n",
    "print('fig1:' , Gcf.get_all_fig_managers())"
   ]
  },
  {
   "cell_type": "code",
   "execution_count": 3,
   "metadata": {
    "ExecuteTime": {
     "end_time": "2021-12-24T04:20:49.983828Z",
     "start_time": "2021-12-24T04:20:49.722167Z"
    },
    "collapsed": true
   },
   "outputs": [
    {
     "name": "stdout",
     "output_type": "stream",
     "text": [
      "fig1 & fig2: [<matplotlib.backend_bases.FigureManagerBase object at 0x00000224A5789910>]\n"
     ]
    },
    {
     "data": {
      "image/png": "[encoded data removed]",
      "text/plain": [
       "<Figure size 432x288 with 1 Axes>"
      ]
     },
     "metadata": {
      "needs_background": "light"
     },
     "output_type": "display_data"
    }
   ],
   "source": [
    "fig2 = plt.figure()\n",
    "ax2 = fig2.add_subplot(111)\n",
    "ax2.scatter(x,y)\n",
    "\n",
    "print('fig1 & fig2:' , Gcf.get_all_fig_managers())"
   ]
  },
  {
   "cell_type": "code",
   "execution_count": 5,
   "metadata": {
    "ExecuteTime": {
     "end_time": "2021-12-24T04:21:59.114257Z",
     "start_time": "2021-12-24T04:21:59.111269Z"
    }
   },
   "outputs": [
    {
     "name": "stdout",
     "output_type": "stream",
     "text": [
      "afer show(): []\n"
     ]
    }
   ],
   "source": [
    "plt.show()\n",
    "print('afer show():' , Gcf.get_all_fig_managers())"
   ]
  },
  {
   "cell_type": "code",
   "execution_count": 6,
   "metadata": {
    "ExecuteTime": {
     "end_time": "2021-12-24T07:08:48.901095Z",
     "start_time": "2021-12-24T07:08:48.680931Z"
    },
    "collapsed": true
   },
   "outputs": [
    {
     "data": {
      "text/plain": [
       "Text(0.5, 0, 'xlabel')"
      ]
     },
     "execution_count": 6,
     "metadata": {},
     "output_type": "execute_result"
    },
    {
     "data": {
      "image/png": "[encoded data removed]",
      "text/plain": [
       "<Figure size 432x288 with 1 Axes>"
      ]
     },
     "metadata": {
      "needs_background": "light"
     },
     "output_type": "display_data"
    }
   ],
   "source": [
    "import matplotlib.pyplot as plt\n",
    "\n",
    "x = [1,2,3]\n",
    "y = [3,6,9]\n",
    "\n",
    "plt.bar(x,y)\n",
    "plt.title('Sample Bar Chart')\n",
    "plt.xlabel('xlabel')"
   ]
  },
  {
   "cell_type": "code",
   "execution_count": 8,
   "metadata": {
    "ExecuteTime": {
     "end_time": "2021-12-24T07:17:18.401223Z",
     "start_time": "2021-12-24T07:17:18.171540Z"
    },
    "collapsed": true
   },
   "outputs": [
    {
     "data": {
      "image/png": "[encoded data removed]",
      "text/plain": [
       "<Figure size 432x288 with 1 Axes>"
      ]
     },
     "metadata": {
      "needs_background": "light"
     },
     "output_type": "display_data"
    }
   ],
   "source": [
    "import matplotlib.pyplot as plt\n",
    "\n",
    "x = [1,2,3]\n",
    "y = [3,6,9]\n",
    "\n",
    "fig = plt.figure()\n",
    "ax = fig.add_subplot(111)\n",
    "\n",
    "ax.bar(x,y)\n",
    "ax.set_title('Sample Bar Chart')\n",
    "ax.set_xlabel('x')\n",
    "\n",
    "plt.show()"
   ]
  },
  {
   "cell_type": "code",
   "execution_count": 2,
   "metadata": {
    "ExecuteTime": {
     "end_time": "2021-12-26T01:25:04.144522Z",
     "start_time": "2021-12-26T01:25:03.701640Z"
    }
   },
   "outputs": [
    {
     "ename": "ModuleNotFoundError",
     "evalue": "No module named 'bokeh.plotting.helpers'",
     "output_type": "error",
     "traceback": [
      "\u001b[1;31m---------------------------------------------------------------------------\u001b[0m",
      "\u001b[1;31mModuleNotFoundError\u001b[0m                       Traceback (most recent call last)",
      "\u001b[1;32m<ipython-input-2-11e943671b23>\u001b[0m in \u001b[0;36m<module>\u001b[1;34m\u001b[0m\n\u001b[1;32m----> 1\u001b[1;33m \u001b[1;32mfrom\u001b[0m \u001b[0mbkcharts\u001b[0m \u001b[1;32mimport\u001b[0m \u001b[0moutput_notebook\u001b[0m \u001b[1;33m,\u001b[0m \u001b[0mLine\u001b[0m \u001b[1;33m,\u001b[0m \u001b[0mshow\u001b[0m\u001b[1;33m\u001b[0m\u001b[1;33m\u001b[0m\u001b[0m\n\u001b[0m\u001b[0;32m      2\u001b[0m \u001b[1;33m\u001b[0m\u001b[0m\n\u001b[0;32m      3\u001b[0m \u001b[0moutput_notebook\u001b[0m\u001b[1;33m(\u001b[0m\u001b[1;33m)\u001b[0m\u001b[1;33m\u001b[0m\u001b[1;33m\u001b[0m\u001b[0m\n\u001b[0;32m      4\u001b[0m \u001b[0mp\u001b[0m \u001b[1;33m=\u001b[0m \u001b[0mLine\u001b[0m\u001b[1;33m(\u001b[0m\u001b[1;33m[\u001b[0m\u001b[1;36m1\u001b[0m\u001b[1;33m,\u001b[0m\u001b[1;36m2\u001b[0m\u001b[1;33m]\u001b[0m \u001b[1;33m,\u001b[0m \u001b[0mplot_width\u001b[0m \u001b[1;33m=\u001b[0m \u001b[1;36m200\u001b[0m \u001b[1;33m,\u001b[0m \u001b[0mplot_height\u001b[0m \u001b[1;33m=\u001b[0m \u001b[1;36m200\u001b[0m\u001b[1;33m)\u001b[0m\u001b[1;33m\u001b[0m\u001b[1;33m\u001b[0m\u001b[0m\n\u001b[0;32m      5\u001b[0m \u001b[0mshow\u001b[0m\u001b[1;33m(\u001b[0m\u001b[0mp\u001b[0m\u001b[1;33m)\u001b[0m\u001b[1;33m\u001b[0m\u001b[1;33m\u001b[0m\u001b[0m\n",
      "\u001b[1;32mC:\\ProgramData\\Anaconda3\\lib\\site-packages\\bkcharts\\__init__.py\u001b[0m in \u001b[0;36m<module>\u001b[1;34m\u001b[0m\n\u001b[0;32m      3\u001b[0m \u001b[1;33m\u001b[0m\u001b[0m\n\u001b[0;32m      4\u001b[0m \u001b[1;31m# defaults and constants\u001b[0m\u001b[1;33m\u001b[0m\u001b[1;33m\u001b[0m\u001b[1;33m\u001b[0m\u001b[0m\n\u001b[1;32m----> 5\u001b[1;33m \u001b[1;32mfrom\u001b[0m \u001b[0mbokeh\u001b[0m\u001b[1;33m.\u001b[0m\u001b[0mplotting\u001b[0m\u001b[1;33m.\u001b[0m\u001b[0mhelpers\u001b[0m \u001b[1;32mimport\u001b[0m \u001b[0mDEFAULT_PALETTE\u001b[0m\u001b[1;33m;\u001b[0m \u001b[0mDEFAULT_PALETTE\u001b[0m\u001b[1;33m\u001b[0m\u001b[1;33m\u001b[0m\u001b[0m\n\u001b[0m\u001b[0;32m      6\u001b[0m \u001b[1;33m\u001b[0m\u001b[0m\n\u001b[0;32m      7\u001b[0m \u001b[1;31m# main components\u001b[0m\u001b[1;33m\u001b[0m\u001b[1;33m\u001b[0m\u001b[1;33m\u001b[0m\u001b[0m\n",
      "\u001b[1;31mModuleNotFoundError\u001b[0m: No module named 'bokeh.plotting.helpers'"
     ]
    }
   ],
   "source": [
    "from bkcharts import output_notebook , Line , show \n",
    "\n",
    "output_notebook()\n",
    "p = Line([1,2] , plot_width = 200 , plot_height = 200)\n",
    "show(p)"
   ]
  },
  {
   "cell_type": "code",
   "execution_count": 3,
   "metadata": {
    "ExecuteTime": {
     "end_time": "2021-12-26T01:26:54.271887Z",
     "start_time": "2021-12-26T01:26:53.693134Z"
    }
   },
   "outputs": [],
   "source": [
    "from bokeh.plotting import figure, output_file, show\n",
    "\n",
    "# 准备数据\n",
    "x = [0.1, 0.5, 1.0, 1.5, 2.0, 2.5, 3.0]\n",
    "y0 = [i**2 for i in x]\n",
    "y1 = [10**i for i in x]\n",
    "y2 = [10**(i**2) for i in x]\n",
    "\n",
    "# 输出为静态的html\n",
    "output_file(\"log_lines.html\")\n",
    "\n",
    "# 创建画布\n",
    "p = figure(\n",
    "   tools=\"pan,box_zoom,reset,save\",\n",
    "   y_axis_type=\"log\", y_range=[0.001, 10**11], title=\"log axis example\",\n",
    "   x_axis_label='sections', y_axis_label='particles'\n",
    ")\n",
    "\n",
    "# 添加曲线\n",
    "p.line(x, x, legend=\"y=x\")\n",
    "p.circle(x, x, legend=\"y=x\", fill_color=\"white\", size=8)\n",
    "p.line(x, y0, legend=\"y=x^2\", line_width=3)\n",
    "p.line(x, y1, legend=\"y=10^x\", line_color=\"red\")\n",
    "p.circle(x, y1, legend=\"y=10^x\", fill_color=\"red\", line_color=\"red\", size=6)\n",
    "p.line(x, y2, legend=\"y=10^x^2\", line_color=\"orange\", line_dash=\"4 4\")\n",
    "\n",
    "# 显示结果\n",
    "show(p)"
   ]
  },
  {
   "cell_type": "code",
   "execution_count": 4,
   "metadata": {
    "ExecuteTime": {
     "end_time": "2021-12-26T01:28:24.823961Z",
     "start_time": "2021-12-26T01:28:24.465163Z"
    }
   },
   "outputs": [],
   "source": [
    "import numpy as np\n",
    "\n",
    "from bokeh.plotting import figure, output_file, show\n",
    "\n",
    "# 使用numpy产生一个随机序列（x,y坐标）\n",
    "N = 4000\n",
    "x = np.random.random(size=N) * 100\n",
    "y = np.random.random(size=N) * 100\n",
    "radii = np.random.random(size=N) * 1.5\n",
    "colors = [\n",
    "    \"#%02x%02x%02x\" % (int(r), int(g), 150) for r, g in zip(50+2*x, 30+2*y)\n",
    "]\n",
    "\n",
    "# 输出为静态的html\n",
    "output_file(\"color_scatter.html\", title=\"color_scatter.py example\", mode=\"cdn\")\n",
    "\n",
    "TOOLS = \"crosshair,pan,wheel_zoom,box_zoom,reset,box_select,lasso_select\"\n",
    "\n",
    "# 根据上面的工具配置生成一个画布\n",
    "p = figure(tools=TOOLS, x_range=(0, 100), y_range=(0, 100))\n",
    "\n",
    "# 根据上面的数据生成离散的圆\n",
    "p.circle(x, y, radius=radii, fill_color=colors, fill_alpha=0.6, line_color=None)\n",
    "\n",
    "# 显示结果\n",
    "show(p)"
   ]
  },
  {
   "cell_type": "code",
   "execution_count": 5,
   "metadata": {
    "ExecuteTime": {
     "end_time": "2021-12-26T01:41:19.654605Z",
     "start_time": "2021-12-26T01:41:14.403107Z"
    }
   },
   "outputs": [
    {
     "name": "stdout",
     "output_type": "stream",
     "text": [
      "Requirement already satisfied: Bokeh in c:\\programdata\\anaconda3\\lib\\site-packages (2.2.3)\n",
      "Requirement already satisfied: packaging>=16.8 in c:\\programdata\\anaconda3\\lib\\site-packages (from Bokeh) (20.4)\n",
      "Requirement already satisfied: pillow>=7.1.0 in c:\\programdata\\anaconda3\\lib\\site-packages (from Bokeh) (8.0.1)\n",
      "Requirement already satisfied: numpy>=1.11.3 in c:\\programdata\\anaconda3\\lib\\site-packages (from Bokeh) (1.19.2)\n",
      "Requirement already satisfied: PyYAML>=3.10 in c:\\programdata\\anaconda3\\lib\\site-packages (from Bokeh) (5.3.1)\n",
      "Requirement already satisfied: typing-extensions>=3.7.4 in c:\\programdata\\anaconda3\\lib\\site-packages (from Bokeh) (3.7.4.3)\n",
      "Requirement already satisfied: Jinja2>=2.7 in c:\\programdata\\anaconda3\\lib\\site-packages (from Bokeh) (2.11.2)\n",
      "Requirement already satisfied: python-dateutil>=2.1 in c:\\programdata\\anaconda3\\lib\\site-packages (from Bokeh) (2.8.1)\n",
      "Requirement already satisfied: tornado>=5.1 in c:\\programdata\\anaconda3\\lib\\site-packages (from Bokeh) (6.0.4)\n",
      "Requirement already satisfied: six in c:\\programdata\\anaconda3\\lib\\site-packages (from packaging>=16.8->Bokeh) (1.15.0)\n",
      "Requirement already satisfied: pyparsing>=2.0.2 in c:\\programdata\\anaconda3\\lib\\site-packages (from packaging>=16.8->Bokeh) (2.4.7)\n",
      "Requirement already satisfied: MarkupSafe>=0.23 in c:\\programdata\\anaconda3\\lib\\site-packages (from Jinja2>=2.7->Bokeh) (1.1.1)\n",
      "Note: you may need to restart the kernel to use updated packages.\n"
     ]
    }
   ],
   "source": [
    "pip install Bokeh"
   ]
  },
  {
   "cell_type": "code",
   "execution_count": null,
   "metadata": {},
   "outputs": [],
   "source": []
  }
 ],
 "metadata": {
  "hide_input": false,
  "kernelspec": {
   "display_name": "Python 3",
   "language": "python",
   "name": "python3"
  },
  "language_info": {
   "codemirror_mode": {
    "name": "ipython",
    "version": 3
   },
   "file_extension": ".py",
   "mimetype": "text/x-python",
   "name": "python",
   "nbconvert_exporter": "python",
   "pygments_lexer": "ipython3",
   "version": "3.8.5"
  },
  "nbTranslate": {
   "displayLangs": [],
   "hotkey": "alt-t",
   "langInMainMenu": true,
   "sourceLang": "zh-cn",
   "targetLang": "en",
   "useGoogleTranslate": true
  },
  "toc": {
   "base_numbering": 1,
   "nav_menu": {},
   "number_sections": true,
   "sideBar": true,
   "skip_h1_title": false,
   "title_cell": "Table of Contents",
   "title_sidebar": "Contents",
   "toc_cell": false,
   "toc_position": {},
   "toc_section_display": true,
   "toc_window_display": false
  },
  "varInspector": {
   "cols": {
    "lenName": 16,
    "lenType": 16,
    "lenVar": 40
   },
   "kernels_config": {
    "python": {
     "delete_cmd_postfix": "",
     "delete_cmd_prefix": "del ",
     "library": "var_list.py",
     "varRefreshCmd": "print(var_dic_list())"
    },
    "r": {
     "delete_cmd_postfix": ") ",
     "delete_cmd_prefix": "rm(",
     "library": "var_list.r",
     "varRefreshCmd": "cat(var_dic_list()) "
    }
   },
   "types_to_exclude": [
    "module",
    "function",
    "builtin_function_or_method",
    "instance",
    "_Feature"
   ],
   "window_display": false
  }
 },
 "nbformat": 4,
 "nbformat_minor": 4
}
