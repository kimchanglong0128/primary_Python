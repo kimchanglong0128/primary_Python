{
 "cells": [
  {
   "cell_type": "markdown",
   "metadata": {},
   "source": [
    "### Base64是什么"
   ]
  },
  {
   "cell_type": "raw",
   "metadata": {},
   "source": [
    "Base64是网络上最常见的用于传输8Bit字节码的编码方式之一，是一种用64个字符来表示任意二进制数据的方法；\n",
    "\n",
    "Base64编码不仅比较简短，同时也具有不可读性，即所编码的数据不会被人用肉眼所直接看到，但这种方式很初级，很简单；\n",
    "\n",
    "Base64只是一种通过查表的编码算法，不是安全领域下的加解密算法，所以不能单独用于加密，即使使用自定义的编码表也不行；\n",
    "\n",
    "Base64的编码与解码，只是字符到二进制与二进制到字符的过程，所以特别适用于小段内容的编码，比如http、数字证书签名、Cookie的内容等。\n",
    "\n",
    "注意，UTF-8和GBK中文格式的Base64编码结果是不同的。\n"
   ]
  },
  {
   "cell_type": "markdown",
   "metadata": {},
   "source": [
    "### 原理"
   ]
  },
  {
   "cell_type": "raw",
   "metadata": {},
   "source": [
    "Base64编码会把3字节的二进制数据编码为4字节的文本数据，长度增加33%，好处是编码后的文本数据可以在邮件正文、网页等直接显示。\n",
    "\n",
    "如果要编码的二进制数据不是3的倍数，最后会剩下1个或2个字节怎么办？\n",
    "Base64用\\x00字节在末尾补足后，再在编码的末尾加上1个或2个=号，表示补了多少字节,解码的时候，会自动去掉。"
   ]
  },
  {
   "cell_type": "markdown",
   "metadata": {},
   "source": [
    "### Python下Base64的编码与解码"
   ]
  },
  {
   "cell_type": "code",
   "execution_count": 3,
   "metadata": {},
   "outputs": [
    {
     "name": "stdout",
     "output_type": "stream",
     "text": [
      "b'YmluYXJ5AHN0cmluZw=='\n",
      "b'binary\\x00string'\n"
     ]
    }
   ],
   "source": [
    "import base64\n",
    "print(base64.b64encode(b'binary\\x00string'))\n",
    "\n",
    "print(base64.b64decode(b'YmluYXJ5AHN0cmluZw=='))"
   ]
  },
  {
   "cell_type": "markdown",
   "metadata": {},
   "source": [
    "### 编码：url safe"
   ]
  },
  {
   "cell_type": "raw",
   "metadata": {},
   "source": [
    "由于标准的Base64编码后可能出现字符+和/，在URL中就不能直接作为参数，所以又有一种\"url safe\"的base64编码，其实就是把字符+和/分别变成-和_"
   ]
  },
  {
   "cell_type": "code",
   "execution_count": 4,
   "metadata": {},
   "outputs": [
    {
     "name": "stdout",
     "output_type": "stream",
     "text": [
      "b'abcd++//'\n",
      "b'abcd--__'\n",
      "b'i\\xb7\\x1d\\xfb\\xef\\xff'\n"
     ]
    }
   ],
   "source": [
    "print(base64.b64encode(b'i\\xb7\\x1d\\xfb\\xef\\xff'))\n",
    "print(base64.urlsafe_b64encode(b'i\\xb7\\x1d\\xfb\\xef\\xff'))\n",
    "print(base64.urlsafe_b64decode('abcd--__'))"
   ]
  },
  {
   "cell_type": "raw",
   "metadata": {},
   "source": [
    "Base64是一种通过查表的编码方法，不能用于加密，即使使用自定义的编码表也不行\n",
    "\n",
    "Base64适用于小段内容的编码，比如数字证书签名、Cookie的内容等\n",
    "\n",
    "由于=字符也可能出现在Base64编码中，但=用在URL、Cookie里面会造成歧义，所以，很多Base64编码后会把=去掉"
   ]
  },
  {
   "cell_type": "raw",
   "metadata": {},
   "source": [
    "# 标准Base64:\n",
    "'abcd' -> 'YWJjZA=='\n",
    "# 自动去掉=:\n",
    "'abcd' -> 'YWJjZA'"
   ]
  },
  {
   "cell_type": "raw",
   "metadata": {},
   "source": [
    "去掉=后怎么解码呢？因为Base64是把3个字节变为4个字节，所以，Base64编码的长度永远是4的倍数，因此，需要加上=把Base64字符串的长度变为4的倍数，就可以正常解码"
   ]
  },
  {
   "cell_type": "markdown",
   "metadata": {},
   "source": [
    "### 小结"
   ]
  },
  {
   "cell_type": "raw",
   "metadata": {},
   "source": [
    "Base64是一种任意二进制到文本字符串的编码方法，常用于在URL、Cookie、网页中传输少量二进制数据"
   ]
  }
 ],
 "metadata": {
  "kernelspec": {
   "display_name": "Python 3",
   "language": "python",
   "name": "python3"
  },
  "language_info": {
   "codemirror_mode": {
    "name": "ipython",
    "version": 3
   },
   "file_extension": ".py",
   "mimetype": "text/x-python",
   "name": "python",
   "nbconvert_exporter": "python",
   "pygments_lexer": "ipython3",
   "version": "3.8.5"
  },
  "toc": {
   "base_numbering": 1,
   "nav_menu": {},
   "number_sections": true,
   "sideBar": true,
   "skip_h1_title": false,
   "title_cell": "Table of Contents",
   "title_sidebar": "Contents",
   "toc_cell": false,
   "toc_position": {},
   "toc_section_display": true,
   "toc_window_display": false
  }
 },
 "nbformat": 4,
 "nbformat_minor": 4
}
