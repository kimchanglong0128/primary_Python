{
 "cells": [
  {
   "cell_type": "markdown",
   "metadata": {},
   "source": [
    "### Counter "
   ]
  },
  {
   "cell_type": "raw",
   "metadata": {},
   "source": [
    "Counter是一个dict子类，主要是用来对你访问的对象的频率进行计数"
   ]
  },
  {
   "cell_type": "markdown",
   "metadata": {},
   "source": [
    "+ elements()：返回一个迭代器，每个元素重复计算的个数，如果一个元素的计数小于1,就会被忽略\n",
    "+ most_common([n])：返回一个列表，提供n个访问频率最高的元素和计数\n",
    "+ subtract([iterable-or-mapping])：从迭代对象中减去元素，输入输出可以是0或者负数\n",
    "+ update([iterable-or-mapping])：从迭代对象计数元素或者从另一个 映射对象 (或计数器) 添加"
   ]
  },
  {
   "cell_type": "markdown",
   "metadata": {},
   "source": [
    "#### 统计字符出现的次数"
   ]
  },
  {
   "cell_type": "code",
   "execution_count": 1,
   "metadata": {},
   "outputs": [
    {
     "data": {
      "text/plain": [
       "Counter({'h': 1, 'e': 1, 'l': 3, 'o': 2, ' ': 1, 'w': 1, 'r': 1, 'd': 1})"
      ]
     },
     "execution_count": 1,
     "metadata": {},
     "output_type": "execute_result"
    }
   ],
   "source": [
    "import collections\n",
    "collections.Counter('hello world')"
   ]
  },
  {
   "cell_type": "markdown",
   "metadata": {},
   "source": [
    "#### 统计单词数"
   ]
  },
  {
   "cell_type": "code",
   "execution_count": 3,
   "metadata": {},
   "outputs": [
    {
     "data": {
      "text/plain": [
       "Counter({'hello': 3, 'world': 2, 'nihao': 1})"
      ]
     },
     "execution_count": 3,
     "metadata": {},
     "output_type": "execute_result"
    }
   ],
   "source": [
    "collections.Counter('hello world hello world hello nihao'.split())"
   ]
  },
  {
   "cell_type": "markdown",
   "metadata": {},
   "source": [
    "#### 获取指定对象的访问次数，也可以使用get()方法"
   ]
  },
  {
   "cell_type": "code",
   "execution_count": 9,
   "metadata": {},
   "outputs": [
    {
     "data": {
      "text/plain": [
       "3"
      ]
     },
     "execution_count": 9,
     "metadata": {},
     "output_type": "execute_result"
    }
   ],
   "source": [
    "c = collections.Counter('hello world hello world hello nihao'.split())\n",
    "c['hello']"
   ]
  },
  {
   "cell_type": "markdown",
   "metadata": {},
   "source": [
    "#### 查看元素"
   ]
  },
  {
   "cell_type": "code",
   "execution_count": 11,
   "metadata": {},
   "outputs": [
    {
     "data": {
      "text/plain": [
       "['hello', 'hello', 'hello', 'world', 'world', 'nihao']"
      ]
     },
     "execution_count": 11,
     "metadata": {},
     "output_type": "execute_result"
    }
   ],
   "source": [
    "list(c.elements())"
   ]
  },
  {
   "cell_type": "markdown",
   "metadata": {},
   "source": [
    "#### 追加对象"
   ]
  },
  {
   "cell_type": "code",
   "execution_count": 15,
   "metadata": {},
   "outputs": [
    {
     "name": "stdout",
     "output_type": "stream",
     "text": [
      "Counter({'hello': 4, 'world': 3, 'nihao': 1})\n"
     ]
    }
   ],
   "source": [
    "c = collections.Counter('hello world hello world hello nihao'.split())\n",
    "d = collections.Counter('hello world'.split())\n",
    "\n",
    "print(c + d)"
   ]
  },
  {
   "cell_type": "markdown",
   "metadata": {},
   "source": [
    "#### 减少对象"
   ]
  },
  {
   "cell_type": "code",
   "execution_count": 16,
   "metadata": {},
   "outputs": [
    {
     "name": "stdout",
     "output_type": "stream",
     "text": [
      "Counter({'hello': 2, 'world': 1, 'nihao': 1})\n"
     ]
    }
   ],
   "source": [
    "c = collections.Counter('hello world hello world hello nihao'.split())\n",
    "d = collections.Counter('hello world'.split())\n",
    "\n",
    "print(c - d)"
   ]
  },
  {
   "cell_type": "markdown",
   "metadata": {},
   "source": [
    "#### 清除"
   ]
  },
  {
   "cell_type": "code",
   "execution_count": 18,
   "metadata": {},
   "outputs": [
    {
     "data": {
      "text/plain": [
       "Counter()"
      ]
     },
     "execution_count": 18,
     "metadata": {},
     "output_type": "execute_result"
    }
   ],
   "source": [
    "c = collections.Counter('hello world hello world hello nihao'.split())\n",
    "c.clear()\n",
    "\n",
    "c"
   ]
  },
  {
   "cell_type": "markdown",
   "metadata": {},
   "source": [
    "### defaultdict"
   ]
  },
  {
   "cell_type": "raw",
   "metadata": {},
   "source": [
    "collections.defaultdict(default_factory)为字典的没有的key提供一个默认的值\n",
    "参数应该是一个函数，当没有参数调用时返回默认值。如果没有传递任何内容，则默认为None"
   ]
  },
  {
   "cell_type": "code",
   "execution_count": 20,
   "metadata": {},
   "outputs": [
    {
     "data": {
      "text/plain": [
       "defaultdict(None, {})"
      ]
     },
     "execution_count": 20,
     "metadata": {},
     "output_type": "execute_result"
    }
   ],
   "source": [
    "d = collections.defaultdict()\n",
    "d"
   ]
  },
  {
   "cell_type": "code",
   "execution_count": 22,
   "metadata": {},
   "outputs": [
    {
     "data": {
      "text/plain": [
       "defaultdict(str, {})"
      ]
     },
     "execution_count": 22,
     "metadata": {},
     "output_type": "execute_result"
    }
   ],
   "source": [
    "e = collections.defaultdict(str)\n",
    "e"
   ]
  },
  {
   "cell_type": "raw",
   "metadata": {},
   "source": [
    "defaultdict的一个典型用法是使用其中一种内置类型(如str、int、list或dict)作为默认工厂\n",
    "因为这些内置类型在没有参数调用时返回空类型"
   ]
  },
  {
   "cell_type": "code",
   "execution_count": 24,
   "metadata": {},
   "outputs": [
    {
     "name": "stdout",
     "output_type": "stream",
     "text": [
      "\n",
      "defaultdict(<class 'str'>, {'hello': ''})\n"
     ]
    }
   ],
   "source": [
    "d = collections.defaultdict(str)\n",
    "print(d['hello'])\n",
    "print(d)"
   ]
  },
  {
   "cell_type": "code",
   "execution_count": 38,
   "metadata": {},
   "outputs": [
    {
     "name": "stdout",
     "output_type": "stream",
     "text": [
      "KeyError: hello\n"
     ]
    }
   ],
   "source": [
    "try:                                                            ### 普通字典调用不存在的键时，将会抛异常\n",
    "    e = {}\n",
    "    e['hello']\n",
    "except KeyError:\n",
    "    print('KeyError: hello')"
   ]
  },
  {
   "cell_type": "markdown",
   "metadata": {},
   "source": [
    "#### 使用int作为default_factory"
   ]
  },
  {
   "cell_type": "code",
   "execution_count": 43,
   "metadata": {},
   "outputs": [
    {
     "data": {
      "text/plain": [
       "defaultdict(int, {'apple': 2})"
      ]
     },
     "execution_count": 43,
     "metadata": {},
     "output_type": "execute_result"
    }
   ],
   "source": [
    "from collections import defaultdict\n",
    "\n",
    "fruit = defaultdict(int)\n",
    "fruit['apple']  += 2\n",
    "fruit"
   ]
  },
  {
   "cell_type": "code",
   "execution_count": 44,
   "metadata": {},
   "outputs": [
    {
     "data": {
      "text/plain": [
       "0"
      ]
     },
     "execution_count": 44,
     "metadata": {},
     "output_type": "execute_result"
    }
   ],
   "source": [
    "fruit['banana']"
   ]
  },
  {
   "cell_type": "code",
   "execution_count": 45,
   "metadata": {},
   "outputs": [
    {
     "data": {
      "text/plain": [
       "defaultdict(int, {'apple': 2, 'banana': 0})"
      ]
     },
     "execution_count": 45,
     "metadata": {},
     "output_type": "execute_result"
    }
   ],
   "source": [
    "fruit"
   ]
  },
  {
   "cell_type": "markdown",
   "metadata": {},
   "source": [
    "#### 使用list作为default_factory"
   ]
  },
  {
   "cell_type": "code",
   "execution_count": 48,
   "metadata": {},
   "outputs": [
    {
     "data": {
      "text/plain": [
       "defaultdict(list,\n",
       "            {'NC': ['Raleigh', 'Asheville'],\n",
       "             'VA': ['Richmond'],\n",
       "             'WA': ['Seattle']})"
      ]
     },
     "execution_count": 48,
     "metadata": {},
     "output_type": "execute_result"
    }
   ],
   "source": [
    "s = [('NC', 'Raleigh'), ('VA', 'Richmond'), ('WA', 'Seattle'), ('NC', 'Asheville')]\n",
    "d = collections.defaultdict(list)\n",
    "\n",
    "for k,v in s:\n",
    "    d[k].append(v)\n",
    "    \n",
    "d"
   ]
  },
  {
   "cell_type": "markdown",
   "metadata": {},
   "source": [
    "### OrderedDict"
   ]
  },
  {
   "cell_type": "raw",
   "metadata": {},
   "source": [
    "Python字典中的键的顺序是任意的:它们不受添加的顺序的控制\n",
    "collections.OrderedDict 类提供了保留他们添加顺序的字典对象"
   ]
  },
  {
   "cell_type": "code",
   "execution_count": 51,
   "metadata": {},
   "outputs": [
    {
     "data": {
      "text/plain": [
       "OrderedDict([('key1', 'value1'), ('key2', 'value2'), ('key3', 'value3')])"
      ]
     },
     "execution_count": 51,
     "metadata": {},
     "output_type": "execute_result"
    }
   ],
   "source": [
    "from collections import OrderedDict\n",
    "o = OrderedDict()\n",
    "o['key1'] = 'value1'\n",
    "o['key2'] = 'value2'\n",
    "o['key3'] = 'value3'\n",
    "o"
   ]
  },
  {
   "cell_type": "raw",
   "metadata": {},
   "source": [
    "如果在已经存在的key上添加新的值，将会保留原来的key的位置，然后覆盖value值"
   ]
  },
  {
   "cell_type": "code",
   "execution_count": 52,
   "metadata": {},
   "outputs": [
    {
     "data": {
      "text/plain": [
       "OrderedDict([('key1', 'value5'), ('key2', 'value2'), ('key3', 'value3')])"
      ]
     },
     "execution_count": 52,
     "metadata": {},
     "output_type": "execute_result"
    }
   ],
   "source": [
    "o['key1'] = 'value5'\n",
    "o"
   ]
  },
  {
   "cell_type": "markdown",
   "metadata": {},
   "source": [
    "### namedtuple"
   ]
  },
  {
   "cell_type": "markdown",
   "metadata": {},
   "source": [
    "#### 三种定义命名元组的方法"
   ]
  },
  {
   "cell_type": "code",
   "execution_count": 54,
   "metadata": {},
   "outputs": [],
   "source": [
    "from collections import namedtuple\n",
    "Person = namedtuple('Person',['age','height','name'])\n",
    "Human = namedtuple('Human','age,height,name')\n",
    "Human2 = namedtuple('Human','age height name')"
   ]
  },
  {
   "cell_type": "code",
   "execution_count": 55,
   "metadata": {},
   "outputs": [],
   "source": [
    "Tom = Person(30,178,'Tom')\n",
    "Jack = Human (20,179,'Jack')"
   ]
  },
  {
   "cell_type": "code",
   "execution_count": 56,
   "metadata": {},
   "outputs": [
    {
     "data": {
      "text/plain": [
       "Person(age=30, height=178, name='Tom')"
      ]
     },
     "execution_count": 56,
     "metadata": {},
     "output_type": "execute_result"
    }
   ],
   "source": [
    "Tom"
   ]
  },
  {
   "cell_type": "code",
   "execution_count": 57,
   "metadata": {},
   "outputs": [
    {
     "data": {
      "text/plain": [
       "Human(age=20, height=179, name='Jack')"
      ]
     },
     "execution_count": 57,
     "metadata": {},
     "output_type": "execute_result"
    }
   ],
   "source": [
    "Jack"
   ]
  },
  {
   "cell_type": "code",
   "execution_count": 58,
   "metadata": {},
   "outputs": [
    {
     "data": {
      "text/plain": [
       "'Jack'"
      ]
     },
     "execution_count": 58,
     "metadata": {},
     "output_type": "execute_result"
    }
   ],
   "source": [
    "Jack.name"
   ]
  },
  {
   "cell_type": "markdown",
   "metadata": {},
   "source": [
    "### deque"
   ]
  },
  {
   "cell_type": "raw",
   "metadata": {},
   "source": [
    "collections.deque返回一个新的双向队列对象，从左到右初始化(用方法 append()) ，从 iterable （迭代对象) 数据创建。如果 iterable 没有指定，新队列为空\n",
    "collections.deque队列支持线程安全，对于从两端添加(append)或者弹出(pop)，复杂度O(1)\n",
    "虽然list对象也支持类似操作，但是这里优化了定长操作（pop(0)、insert(0,v)）的开销\n",
    "如果 maxlen 没有指定或者是 None ，deques 可以增长到任意长度。否则，deque就限定到指定最大长度。一旦限定长度的deque满了，当新项加入时，同样数量的项就从另一端弹出"
   ]
  },
  {
   "cell_type": "markdown",
   "metadata": {},
   "source": [
    " + 支持的方法:\n",
    "   + append(x)：添加x到右端\n",
    "   + appendleft(x)：添加x到左端\n",
    "   + clear()：清除所有元素，长度变为0\n",
    "   + copy()：创建一份浅拷贝\n",
    "   + count(x)：计算队列中个数等于x的元素\n",
    "   + extend(iterable)：在队列右侧添加iterable中的元素\n",
    "   + extendleft(iterable)：在队列左侧添加iterable中的元素，注：在左侧添加时，iterable参数的顺序将会反过来添加\n",
    "   + index(x[,start[,stop]])：返回第 x 个元素（从 start 开始计算，在 stop 之前）。返回第一个匹配，如果没找到的话，升起 ValueError \n",
    "   + insert(i,x)：在位置 i 插入 x 。注：如果插入会导致一个限长deque超出长度 maxlen 的话，就升起一个 IndexError \n",
    "   + pop()：移除最右侧的元素\n",
    "   + popleft()：移除最左侧的元素\n",
    "   + remove(value)：移去找到的第一个 value。没有抛出ValueError\n",
    "   + reverse()：将deque逆序排列。返回 None \n",
    "   + maxlen：队列的最大长度，没有限定则为None"
   ]
  },
  {
   "cell_type": "code",
   "execution_count": 65,
   "metadata": {},
   "outputs": [
    {
     "name": "stdout",
     "output_type": "stream",
     "text": [
      "deque([], maxlen=10)\n",
      "['P', 'Y', 'T', 'H', 'O', 'N']\n",
      "deque(['f', 'p', 'y', 't', 'h', 'o', 'n', 'e'], maxlen=10)\n"
     ]
    }
   ],
   "source": [
    "from collections import deque\n",
    "\n",
    "d = deque(maxlen = 10)\n",
    "print(d)\n",
    "\n",
    "d.extend('python')\n",
    "print([i.upper() for i in d])\n",
    "\n",
    "d.append('e')\n",
    "d.appendleft('f')\n",
    "print(d)"
   ]
  },
  {
   "cell_type": "markdown",
   "metadata": {},
   "source": [
    "### ChainMap"
   ]
  },
  {
   "cell_type": "raw",
   "metadata": {},
   "source": [
    "一个 ChainMap 将多个字典或者其他映射组合在一起，创建一个单独的可更新的视图\n",
    "如果没有 maps 被指定，就提供一个默认的空字典\n",
    "ChainMap是管理嵌套上下文和覆盖的有用工具"
   ]
  },
  {
   "cell_type": "code",
   "execution_count": 74,
   "metadata": {
    "run_control": {
     "marked": true
    }
   },
   "outputs": [
    {
     "name": "stdout",
     "output_type": "stream",
     "text": [
      "ChainMap({'apple': 1, 'banana': 2}, {'orange': 2, 'apple': 3, 'pike': 1})\n",
      "ChainMap({'orange': 2, 'apple': 3, 'pike': 1}, {'apple': 1, 'banana': 2})\n",
      "-------------------------------------------------------------------\n",
      "orange 2\n",
      "apple 1\n",
      "pike 1\n",
      "banana 2\n",
      "-------------------------------------------------------------------\n",
      "apple 3\n",
      "banana 2\n",
      "orange 2\n",
      "pike 1\n"
     ]
    }
   ],
   "source": [
    "from collections import ChainMap\n",
    "df1 = {'apple':1,'banana':2}\n",
    "df2 = {'orange':2,'apple':3,'pike':1}\n",
    "\n",
    "combined_d = ChainMap(df1,df2)\n",
    "reverse_combined_d = ChainMap(df2,df1)\n",
    "print(combined_d)\n",
    "print(reverse_combined_d)\n",
    "\n",
    "print('-------------------------------------------------------------------')\n",
    "\n",
    "for k,v in combined_d.items():\n",
    "    print(k,v)\n",
    "    \n",
    "print('-------------------------------------------------------------------')\n",
    "\n",
    "for k,v in reverse_combined_d.items():\n",
    "    print(k,v)"
   ]
  },
  {
   "cell_type": "code",
   "execution_count": null,
   "metadata": {},
   "outputs": [],
   "source": []
  }
 ],
 "metadata": {
  "kernelspec": {
   "display_name": "Python 3",
   "language": "python",
   "name": "python3"
  },
  "language_info": {
   "codemirror_mode": {
    "name": "ipython",
    "version": 3
   },
   "file_extension": ".py",
   "mimetype": "text/x-python",
   "name": "python",
   "nbconvert_exporter": "python",
   "pygments_lexer": "ipython3",
   "version": "3.8.5"
  },
  "toc": {
   "base_numbering": 1,
   "nav_menu": {},
   "number_sections": true,
   "sideBar": true,
   "skip_h1_title": false,
   "title_cell": "Table of Contents",
   "title_sidebar": "Contents",
   "toc_cell": false,
   "toc_position": {},
   "toc_section_display": true,
   "toc_window_display": false
  }
 },
 "nbformat": 4,
 "nbformat_minor": 4
}
