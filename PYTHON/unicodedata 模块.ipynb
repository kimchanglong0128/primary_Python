{
 "cells": [
  {
   "cell_type": "code",
   "execution_count": 1,
   "metadata": {},
   "outputs": [],
   "source": [
    "import unicodedata"
   ]
  },
  {
   "cell_type": "markdown",
   "metadata": {},
   "source": [
    "#### unicodedata.lookup(name)"
   ]
  },
  {
   "cell_type": "raw",
   "metadata": {},
   "source": [
    "通过字符来查找它的名称\n",
    "如果成功返回相应名称,否则抛出异常ValueError\n",
    "\n",
    "通过名称来查找一个字符\n",
    "如果字符存在就返回相应字符,如果不存在抛出异常KeyError"
   ]
  },
  {
   "cell_type": "code",
   "execution_count": 2,
   "metadata": {},
   "outputs": [
    {
     "name": "stdout",
     "output_type": "stream",
     "text": [
      "@\n",
      "!\n",
      "#\n",
      "$\n",
      "%\n",
      "^\n",
      "&\n",
      "*\n",
      "（\n",
      "）\n",
      "_\n",
      "+\n",
      "-\n",
      "=\n",
      "~\n",
      "·\n",
      "{\n",
      "}\n",
      "[\n",
      "]\n",
      ":\n",
      ";\n",
      "<\n",
      ">\n",
      ",\n",
      ".\n",
      "/\n",
      "?\n"
     ]
    }
   ],
   "source": [
    "print(unicodedata.lookup('COMMERCIAL AT'))\n",
    "print(unicodedata.lookup('EXCLAMATION MARK'))\n",
    "print(unicodedata.lookup('NUMBER SIGN'))\n",
    "print(unicodedata.lookup('DOLLAR SIGN'))\n",
    "print(unicodedata.lookup('PERCENT SIGN'))\n",
    "print(unicodedata.lookup('CIRCUMFLEX ACCENT'))\n",
    "print(unicodedata.lookup('AMPERSAND'))\n",
    "print(unicodedata.lookup('ASTERISK'))\n",
    "print(unicodedata.lookup('FULLWIDTH LEFT PARENTHESIS'))\n",
    "print(unicodedata.lookup('FULLWIDTH RIGHT PARENTHESIS'))\n",
    "print(unicodedata.lookup('LOW LINE'))\n",
    "print(unicodedata.lookup('PLUS SIGN'))\n",
    "print(unicodedata.lookup('HYPHEN-MINUS'))\n",
    "print(unicodedata.lookup('EQUALS SIGN'))\n",
    "print(unicodedata.lookup('TILDE'))\n",
    "print(unicodedata.lookup('MIDDLE DOT'))\n",
    "print(unicodedata.lookup('LEFT CURLY BRACKET'))\n",
    "print(unicodedata.lookup('RIGHT CURLY BRACKET'))\n",
    "print(unicodedata.lookup('LEFT SQUARE BRACKET'))\n",
    "print(unicodedata.lookup('RIGHT SQUARE BRACKET'))\n",
    "print(unicodedata.lookup('COLON'))\n",
    "print(unicodedata.lookup('SEMICOLON'))\n",
    "print(unicodedata.lookup('LESS-THAN SIGN'))\n",
    "print(unicodedata.lookup('GREATER-THAN SIGN'))\n",
    "print(unicodedata.lookup('COMMA'))\n",
    "print(unicodedata.lookup('FULL STOP'))\n",
    "print(unicodedata.lookup('SOLIDUS'))\n",
    "print(unicodedata.lookup('QUESTION MARK'))"
   ]
  },
  {
   "cell_type": "markdown",
   "metadata": {},
   "source": [
    "#### unicodedata.name(chr[,default])"
   ]
  },
  {
   "cell_type": "raw",
   "metadata": {},
   "source": [
    "通过名称来查找一个字符\n",
    "如果字符存在就返回相应字符,如果不存在抛出异常KeyError"
   ]
  },
  {
   "cell_type": "code",
   "execution_count": 3,
   "metadata": {},
   "outputs": [
    {
     "name": "stdout",
     "output_type": "stream",
     "text": [
      "COMMERCIAL AT\n",
      "EXCLAMATION MARK\n",
      "NUMBER SIGN\n",
      "DOLLAR SIGN\n",
      "PERCENT SIGN\n",
      "CIRCUMFLEX ACCENT\n",
      "AMPERSAND\n",
      "ASTERISK\n",
      "FULLWIDTH LEFT PARENTHESIS\n",
      "FULLWIDTH RIGHT PARENTHESIS\n",
      "LOW LINE\n",
      "PLUS SIGN\n",
      "HYPHEN-MINUS\n",
      "EQUALS SIGN\n",
      "TILDE\n",
      "MIDDLE DOT\n",
      "LEFT CURLY BRACKET\n",
      "RIGHT CURLY BRACKET\n",
      "LEFT SQUARE BRACKET\n",
      "RIGHT SQUARE BRACKET\n",
      "COLON\n",
      "SEMICOLON\n",
      "LESS-THAN SIGN\n",
      "GREATER-THAN SIGN\n",
      "COMMA\n",
      "FULL STOP\n",
      "SOLIDUS\n",
      "QUESTION MARK\n"
     ]
    }
   ],
   "source": [
    "print(unicodedata.name('@'))\n",
    "print(unicodedata.name('!'))\n",
    "print(unicodedata.name('#'))\n",
    "print(unicodedata.name('$'))\n",
    "print(unicodedata.name('%'))\n",
    "print(unicodedata.name('^'))\n",
    "print(unicodedata.name('&'))\n",
    "print(unicodedata.name('*'))\n",
    "print(unicodedata.name('（'))\n",
    "print(unicodedata.name('）'))\n",
    "print(unicodedata.name('_'))\n",
    "print(unicodedata.name('+'))\n",
    "print(unicodedata.name('-'))\n",
    "print(unicodedata.name('='))\n",
    "print(unicodedata.name('~'))\n",
    "print(unicodedata.name('·'))\n",
    "print(unicodedata.name('{'))\n",
    "print(unicodedata.name('}'))\n",
    "print(unicodedata.name('['))\n",
    "print(unicodedata.name(']'))\n",
    "print(unicodedata.name(':'))\n",
    "print(unicodedata.name(';'))\n",
    "print(unicodedata.name('<'))\n",
    "print(unicodedata.name('>'))\n",
    "print(unicodedata.name(','))\n",
    "print(unicodedata.name('.'))\n",
    "print(unicodedata.name('/'))\n",
    "print(unicodedata.name('?'))"
   ]
  },
  {
   "cell_type": "markdown",
   "metadata": {},
   "source": [
    "#### unicodedata.decimal(chr[, default])"
   ]
  },
  {
   "cell_type": "raw",
   "metadata": {},
   "source": [
    "返回表示数字字符的数值\n",
    "如果给一个没有数字的值时会抛出ValueError"
   ]
  },
  {
   "cell_type": "code",
   "execution_count": 4,
   "metadata": {},
   "outputs": [
    {
     "name": "stdout",
     "output_type": "stream",
     "text": [
      "7\n",
      "ValueError: not a decimal\n"
     ]
    }
   ],
   "source": [
    "print(unicodedata.decimal('7'))\n",
    "\n",
    "try:\n",
    "    print(unicodedata.decimal('A'))\n",
    "except ValueError:\n",
    "    print('ValueError: not a decimal')"
   ]
  },
  {
   "cell_type": "markdown",
   "metadata": {},
   "source": [
    "#### unicodedata.digit(chr[, default])"
   ]
  },
  {
   "cell_type": "raw",
   "metadata": {},
   "source": [
    "把一个合法的数字字符串转换为数字值\n",
    "比如0到9的字符串转换为相应的数字值\n",
    "如果非法的字符串,则抛出异常ValueError"
   ]
  },
  {
   "cell_type": "code",
   "execution_count": 5,
   "metadata": {},
   "outputs": [
    {
     "name": "stdout",
     "output_type": "stream",
     "text": [
      "7\n",
      "ValueError: not a decimal\n"
     ]
    }
   ],
   "source": [
    "print(unicodedata.digit('7'))\n",
    "\n",
    "try:\n",
    "    print(unicodedata.digit('A'))\n",
    "except ValueError:\n",
    "    print('ValueError: not a decimal')"
   ]
  },
  {
   "cell_type": "markdown",
   "metadata": {},
   "source": [
    "#### unicodedata.numeric(chr[, default])"
   ]
  },
  {
   "cell_type": "raw",
   "metadata": {},
   "source": [
    "把一个表示数字的字符串转换为浮点数返回\n",
    "比如可以把‘8’，‘四’转换数值输出\n",
    "与digit()不一样的地方是它可以任意表示数值的字符都可以,不仅仅限于0到9的字符\n",
    "如果不是合法字符，会抛出异常ValueError。"
   ]
  },
  {
   "cell_type": "code",
   "execution_count": 6,
   "metadata": {},
   "outputs": [
    {
     "name": "stdout",
     "output_type": "stream",
     "text": [
      "2.0\n",
      "4.0\n",
      "5.0\n",
      "8.0\n"
     ]
    }
   ],
   "source": [
    "print(unicodedata.numeric('๒'))\n",
    "print(unicodedata.numeric('四'))\n",
    "print(unicodedata.numeric('٥'))\n",
    "print(unicodedata.numeric('8'))"
   ]
  },
  {
   "cell_type": "markdown",
   "metadata": {},
   "source": [
    "#### unicodedata.category(chr)"
   ]
  },
  {
   "cell_type": "raw",
   "metadata": {},
   "source": [
    "把一个字符返回它在UNICODE里分类的类型"
   ]
  },
  {
   "cell_type": "markdown",
   "metadata": {},
   "source": [
    "[Cc] Other, Control<br>\n",
    "[Cf] Other, Format<br>\n",
    "[Cn] Other, Not Assigned (no characters in the file have this property)<br>\n",
    "[Co] Other, Private Use<br>\n",
    "[Cs] Other, Surrogate<br>\n",
    "[LC] Letter, Cased<br>\n",
    "[Ll] Letter, Lowercase<br>\n",
    "[Lm] Letter, Modifier<br>\n",
    "[Lo] Letter, Other<br>\n",
    "[Lt] Letter, Titlecase<br>\n",
    "[Lu] Letter, Uppercase<br>\n",
    "[Mc] Mark, Spacing Combining<br>\n",
    "[Me] Mark, Enclosing<br>\n",
    "[Mn] Mark, Nonspacing<br>\n",
    "[Nd] Number, Decimal Digit<br>\n",
    "[Nl] Number, Letter<br>\n",
    "[No] Number, Other<br>\n",
    "[Pc] Punctuation, Connector<br>\n",
    "[Pd] Punctuation, Dash<br>\n",
    "[Pe] Punctuation, Close<br>\n",
    "[Pf] Punctuation, Final quote (may behave like Ps or Pe depending on usage)<br>\n",
    "[Pi] Punctuation, Initial quote (may behave like Ps or Pe depending on usage)<br>\n",
    "[Po] Punctuation, Other<br>\n",
    "[Ps] Punctuation, Open<br>\n",
    "[Sc] Symbol, Currency<br>\n",
    "[Sk] Symbol, Modifier<br>\n",
    "[Sm] Symbol, Math<br>\n",
    "[So] Symbol, Other<br>\n",
    "[Zl] Separator, Line<br>\n",
    "[Zp] Separator, Paragraph<br>\n",
    "[Zs] Separator, Space<br>\n"
   ]
  },
  {
   "cell_type": "code",
   "execution_count": 7,
   "metadata": {},
   "outputs": [
    {
     "name": "stdout",
     "output_type": "stream",
     "text": [
      "Lo\n",
      "Nd\n",
      "Ll\n"
     ]
    }
   ],
   "source": [
    "print(unicodedata.category('四'))\n",
    "print(unicodedata.category('8'))\n",
    "print(unicodedata.category('a'))"
   ]
  },
  {
   "cell_type": "markdown",
   "metadata": {},
   "source": [
    "#### unicodedata.bidirectional(chr)"
   ]
  },
  {
   "cell_type": "raw",
   "metadata": {},
   "source": [
    "把一个字符给出它的分类,以便进行从左到右,还是从右到左的排列\n",
    "如果没有定义,返回空字符串"
   ]
  },
  {
   "cell_type": "code",
   "execution_count": 8,
   "metadata": {},
   "outputs": [
    {
     "name": "stdout",
     "output_type": "stream",
     "text": [
      "EN\n",
      "AN\n",
      "L\n",
      "L\n"
     ]
    }
   ],
   "source": [
    " print(unicodedata.bidirectional('9'))\n",
    " print(unicodedata.bidirectional(u'\\u0660'))\n",
    " print(unicodedata.bidirectional('中'))\n",
    " print(unicodedata.bidirectional('a'))"
   ]
  },
  {
   "cell_type": "markdown",
   "metadata": {},
   "source": [
    "#### unicodedata.east_asian_width(chr)"
   ]
  },
  {
   "cell_type": "raw",
   "metadata": {},
   "source": [
    "把字符显示的宽度返回"
   ]
  },
  {
   "cell_type": "markdown",
   "metadata": {},
   "source": [
    "‘F’(Fullwidth)<br> ‘H’(Halfwidth)<br> ‘W’(Wide)<br> ‘Na’(Narrow)<br> ‘A’(Ambiguous)<br> ‘N’(Natural)"
   ]
  },
  {
   "cell_type": "code",
   "execution_count": 9,
   "metadata": {},
   "outputs": [
    {
     "name": "stdout",
     "output_type": "stream",
     "text": [
      "Na\n",
      "Na\n",
      "W\n"
     ]
    }
   ],
   "source": [
    " print(unicodedata.east_asian_width('9'))\n",
    " print(unicodedata.east_asian_width('A'))\n",
    " print(unicodedata.east_asian_width('金'))"
   ]
  },
  {
   "cell_type": "markdown",
   "metadata": {},
   "source": [
    "#### unicodedata.mirrored(chr)"
   ]
  },
  {
   "cell_type": "raw",
   "metadata": {},
   "source": [
    "判断一个字符是否支持镜像属性\n",
    "如果支持返回1 , 否则返回0"
   ]
  },
  {
   "cell_type": "code",
   "execution_count": 10,
   "metadata": {},
   "outputs": [
    {
     "name": "stdout",
     "output_type": "stream",
     "text": [
      "0\n",
      "0\n",
      "0\n"
     ]
    }
   ],
   "source": [
    " print(unicodedata.mirrored('9'))\n",
    " print(unicodedata.mirrored('A'))\n",
    " print(unicodedata.mirrored('金'))"
   ]
  },
  {
   "cell_type": "markdown",
   "metadata": {},
   "source": [
    "#### unicodedata.decomposition(chr)"
   ]
  },
  {
   "cell_type": "raw",
   "metadata": {},
   "source": [
    "把一个可分解的字符分成两个16进制的值返回\n",
    "如果不可分解,返回空"
   ]
  },
  {
   "cell_type": "code",
   "execution_count": 11,
   "metadata": {},
   "outputs": [
    {
     "name": "stdout",
     "output_type": "stream",
     "text": [
      "30AB 3099\n",
      "\n",
      "\n",
      "\n"
     ]
    }
   ],
   "source": [
    " print(unicodedata.decomposition('ガ'))\n",
    " print(unicodedata.decomposition('-'))\n",
    " print(unicodedata.decomposition('金'))\n",
    " print(unicodedata.decomposition('昌'))"
   ]
  },
  {
   "cell_type": "markdown",
   "metadata": {},
   "source": [
    "#### unicodedata.normalize(form, unistr)"
   ]
  },
  {
   "cell_type": "raw",
   "metadata": {},
   "source": [
    "把一串UNICODE字符串转换为普通格式的字符串\n",
    "具体格式支持NFC、NFKC、NFD和NFKD格式\n",
    "一些文本元素即可以使用静态的预先组合好的形式,也可使用动态组合的形式\n",
    "Unicode字符的不同表示序列被认为是等价的\n",
    "如果两个或多个序列被认为是等价的,Unicode标准不规定哪一种特定的序列是正确的,而认为每一个序列只不过与其它序列等价\n",
    "\n",
    "如果需要一种单一的表示方式,可以使用一种规范化的Unicode文本形式来减少不想要区别\n",
    "Unicode标准定义了四种规范化形式： Normalization Form D (NFD)，Normalization Form KD (NFKD)，Normalization Form C (NFC)，和Normalization Form KC (NFKC)\n",
    "大约来说，NFD和NFKD将可能的字符进行分解，而NFC和NFKC将可能的字符进行组合。"
   ]
  },
  {
   "cell_type": "code",
   "execution_count": 12,
   "metadata": {},
   "outputs": [
    {
     "name": "stdout",
     "output_type": "stream",
     "text": [
      "b'aa'\n",
      "b'Klft skrms infr p fdral lectoral groe'\n"
     ]
    },
    {
     "data": {
      "text/plain": [
       "b'Kluft skrams infor pa federal electoral groe'"
      ]
     },
     "execution_count": 12,
     "metadata": {},
     "output_type": "execute_result"
    }
   ],
   "source": [
    "print(unicodedata.normalize('NFKD', u'aあä').encode('ascii', 'ignore'))\n",
    "\n",
    "title = u\"Klüft skräms inför på fédéral électoral große\"\n",
    "print(title.encode('ascii','ignore'))                                  #可以看到丢了许多的字符\n",
    "\n",
    "unicodedata.normalize('NFKD', title).encode('ascii','ignore') "
   ]
  },
  {
   "cell_type": "markdown",
   "metadata": {},
   "source": [
    "#### unicodedata.unidata_version"
   ]
  },
  {
   "cell_type": "raw",
   "metadata": {},
   "source": [
    "返回当前Unicode使用的数据库的版本"
   ]
  },
  {
   "cell_type": "code",
   "execution_count": 13,
   "metadata": {
    "run_control": {
     "marked": true
    }
   },
   "outputs": [
    {
     "name": "stdout",
     "output_type": "stream",
     "text": [
      "12.1.0\n"
     ]
    }
   ],
   "source": [
    "print(unicodedata.unidata_version)"
   ]
  },
  {
   "cell_type": "raw",
   "metadata": {},
   "source": [
    "提供ucd3.2的对象方式访问,以便兼容旧的IDNA的应用程序"
   ]
  },
  {
   "cell_type": "code",
   "execution_count": 14,
   "metadata": {},
   "outputs": [
    {
     "name": "stdout",
     "output_type": "stream",
     "text": [
      "<unicodedata.UCD object at 0x0000022D87E801B0>\n"
     ]
    }
   ],
   "source": [
    "print(unicodedata.ucd_3_2_0)"
   ]
  }
 ],
 "metadata": {
  "kernelspec": {
   "display_name": "Python 3",
   "language": "python",
   "name": "python3"
  },
  "language_info": {
   "codemirror_mode": {
    "name": "ipython",
    "version": 3
   },
   "file_extension": ".py",
   "mimetype": "text/x-python",
   "name": "python",
   "nbconvert_exporter": "python",
   "pygments_lexer": "ipython3",
   "version": "3.8.5"
  },
  "toc": {
   "base_numbering": 1,
   "nav_menu": {},
   "number_sections": true,
   "sideBar": true,
   "skip_h1_title": false,
   "title_cell": "Table of Contents",
   "title_sidebar": "Contents",
   "toc_cell": false,
   "toc_position": {},
   "toc_section_display": true,
   "toc_window_display": true
  }
 },
 "nbformat": 4,
 "nbformat_minor": 4
}
