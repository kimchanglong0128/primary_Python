{
 "cells": [
  {
   "cell_type": "markdown",
   "metadata": {},
   "source": [
    "### Python Tick Example"
   ]
  },
  {
   "cell_type": "raw",
   "metadata": {},
   "source": [
    "Python time time() 返回当前时间的时间戳(1970纪元后经过的浮点秒数)"
   ]
  },
  {
   "cell_type": "markdown",
   "metadata": {},
   "source": [
    "time.time()"
   ]
  },
  {
   "cell_type": "code",
   "execution_count": 1,
   "metadata": {},
   "outputs": [
    {
     "name": "stdout",
     "output_type": "stream",
     "text": [
      "Number of ticks since 12:00am, January 1, 1970: 1632034757.505245\n"
     ]
    }
   ],
   "source": [
    "import time \n",
    "\n",
    "ticks =time.time()\n",
    "print(\"Number of ticks since 12:00am, January 1, 1970:\", ticks)"
   ]
  },
  {
   "cell_type": "markdown",
   "metadata": {},
   "source": [
    "### Python time localtime()"
   ]
  },
  {
   "cell_type": "code",
   "execution_count": 2,
   "metadata": {},
   "outputs": [
    {
     "name": "stdout",
     "output_type": "stream",
     "text": [
      "Local current time : time.struct_time(tm_year=2021, tm_mon=9, tm_mday=19, tm_hour=14, tm_min=59, tm_sec=17, tm_wday=6, tm_yday=262, tm_isdst=0)\n"
     ]
    }
   ],
   "source": [
    "import time\n",
    "\n",
    "localtime = time.localtime(time.time())\n",
    "print(\"Local current time :\", localtime)"
   ]
  },
  {
   "cell_type": "markdown",
   "metadata": {},
   "source": [
    "### Python time asctime() "
   ]
  },
  {
   "cell_type": "raw",
   "metadata": {},
   "source": [
    "Python time asctime() \n",
    "函数接受时间元组并返回一个可读的形式为\"Sun Sep 19 14:35:54 2021\"（2021年09月19日 周日14时35分54秒）的24个字符的字符串"
   ]
  },
  {
   "cell_type": "markdown",
   "metadata": {},
   "source": [
    "time.asctime([t]))"
   ]
  },
  {
   "cell_type": "code",
   "execution_count": 3,
   "metadata": {},
   "outputs": [
    {
     "name": "stdout",
     "output_type": "stream",
     "text": [
      "time.struct_time(tm_year=2021, tm_mon=9, tm_mday=19, tm_hour=14, tm_min=59, tm_sec=17, tm_wday=6, tm_yday=262, tm_isdst=0)\n",
      "time.asctime(t): Sun Sep 19 14:59:17 2021 \n"
     ]
    }
   ],
   "source": [
    "import time\n",
    "\n",
    "t = time.localtime()\n",
    "print(t)\n",
    "print(\"time.asctime(t): %s \"%time.asctime(t))"
   ]
  },
  {
   "cell_type": "markdown",
   "metadata": {},
   "source": [
    "### Python 从日历 calender 获得月"
   ]
  },
  {
   "cell_type": "code",
   "execution_count": 4,
   "metadata": {},
   "outputs": [
    {
     "name": "stdout",
     "output_type": "stream",
     "text": [
      "Here is the calendar:\n",
      "   September 2021\n",
      "Mo Tu We Th Fr Sa Su\n",
      "       1  2  3  4  5\n",
      " 6  7  8  9 10 11 12\n",
      "13 14 15 16 17 18 19\n",
      "20 21 22 23 24 25 26\n",
      "27 28 29 30\n",
      "\n"
     ]
    }
   ],
   "source": [
    "import calendar\n",
    "\n",
    "cal = calendar.month(2021,9)\n",
    "print(\"Here is the calendar:\")\n",
    "print(cal)"
   ]
  },
  {
   "cell_type": "markdown",
   "metadata": {},
   "source": [
    "### Python time altzone() "
   ]
  },
  {
   "cell_type": "raw",
   "metadata": {
    "run_control": {
     "marked": true
    }
   },
   "source": [
    "Python time altzone()函数返回格林威治西部的夏令时地区的偏移秒数\n",
    "如果该地区在格林威治东部会返回负值(如西欧，包括英国),对夏令时启用地区才能使用"
   ]
  },
  {
   "cell_type": "code",
   "execution_count": null,
   "metadata": {},
   "outputs": [],
   "source": [
    "import time\n",
    "\n",
    "print(\"time.altzone %d \"%time.altzone)"
   ]
  },
  {
   "cell_type": "markdown",
   "metadata": {},
   "source": [
    "### Python time.perf_counter & time.process_time() "
   ]
  },
  {
   "cell_type": "raw",
   "metadata": {},
   "source": [
    "Python time.perf_counter()函数以浮点数计算的秒数返回当前的CPU时间\n",
    "用来衡量不同程序的耗时"
   ]
  },
  {
   "cell_type": "code",
   "execution_count": 6,
   "metadata": {},
   "outputs": [
    {
     "name": "stdout",
     "output_type": "stream",
     "text": [
      "5.7575148 seconds process time\n",
      "2.5002243518829346 seconds wall time\n"
     ]
    }
   ],
   "source": [
    "import time\n",
    "\n",
    "def procedure():\n",
    "    time.sleep(2.5)\n",
    "\n",
    "# measure process time\n",
    "t0 = time.perf_counter()\n",
    "procedure()\n",
    "print(time.perf_counter(), \"seconds process time\")\n",
    "\n",
    "# measure wall time\n",
    "t0 = time.time()\n",
    "procedure()\n",
    "print(time.time() - t0, \"seconds wall time\")"
   ]
  },
  {
   "cell_type": "code",
   "execution_count": 7,
   "metadata": {},
   "outputs": [
    {
     "name": "stdout",
     "output_type": "stream",
     "text": [
      "2.375 seconds process time\n",
      "2.500347852706909 seconds wall time\n"
     ]
    }
   ],
   "source": [
    "import time\n",
    "\n",
    "def procedure():\n",
    "    time.sleep(2.5)\n",
    "\n",
    "# measure process time\n",
    "t0 = time.process_time()\n",
    "procedure()\n",
    "print(time.process_time(), \"seconds process time\")\n",
    "\n",
    "# measure wall time\n",
    "t0 = time.time()\n",
    "procedure()\n",
    "print(time.time() - t0, \"seconds wall time\")"
   ]
  },
  {
   "cell_type": "markdown",
   "metadata": {},
   "source": [
    "### Python time ctime()"
   ]
  },
  {
   "cell_type": "raw",
   "metadata": {},
   "source": [
    "Python time ctime()函数把一个时间戳(按秒计算的浮点数)转化为time.asctime()的形式\n",
    "如果参数未给或者为None的时候,将会默认time.time()为参数\n",
    "它的作用相当于 asctime(localtime(secs))"
   ]
  },
  {
   "cell_type": "code",
   "execution_count": 8,
   "metadata": {},
   "outputs": [
    {
     "name": "stdout",
     "output_type": "stream",
     "text": [
      "time.ctime():Sun Sep 19 14:59:27 2021\n"
     ]
    }
   ],
   "source": [
    "import time\n",
    "\n",
    "print(\"time.ctime():%s\"%time.ctime())"
   ]
  },
  {
   "cell_type": "markdown",
   "metadata": {},
   "source": [
    "### Python time mktime()"
   ]
  },
  {
   "cell_type": "code",
   "execution_count": 15,
   "metadata": {},
   "outputs": [
    {
     "name": "stdout",
     "output_type": "stream",
     "text": [
      "time.mktime(t) : 1234861418.000000\n",
      "-----------------------------------------------\n",
      "asctime(localtime(secs)): Tue Feb 17 17:03:38 2009\n",
      "-----------------------------------------------\n",
      "   September 2009\n",
      "Mo Tu We Th Fr Sa Su\n",
      "    1  2  3  4  5  6\n",
      " 7  8  9 10 11 12 13\n",
      "14 15 16 17 18 19 20\n",
      "21 22 23 24 25 26 27\n",
      "28 29 30\n",
      "\n"
     ]
    }
   ],
   "source": [
    "import time\n",
    "\n",
    "t = (2009, 2, 17, 17, 3, 38, 1, 48, 0)\n",
    "secs = time.mktime(t)\n",
    "print(\"time.mktime(t) : %f\"%secs)\n",
    "print('-----------------------------------------------')\n",
    "print(\"asctime(localtime(secs)): %s\" % time.asctime(time.localtime(secs)))\n",
    "print('-----------------------------------------------')\n",
    "print(calendar.month(2009,9))"
   ]
  },
  {
   "cell_type": "markdown",
   "metadata": {},
   "source": [
    "### Python time sleep()"
   ]
  },
  {
   "cell_type": "code",
   "execution_count": 16,
   "metadata": {},
   "outputs": [
    {
     "name": "stdout",
     "output_type": "stream",
     "text": [
      "Start : Sun Sep 19 15:06:29 2021\n",
      "End : Sun Sep 19 15:06:34 2021\n"
     ]
    }
   ],
   "source": [
    "import time\n",
    "\n",
    "print(\"Start : %s\"%time.ctime())\n",
    "time.sleep(5)\n",
    "print(\"End : %s\"%time.ctime())"
   ]
  },
  {
   "cell_type": "markdown",
   "metadata": {},
   "source": [
    "### Python time strftime()"
   ]
  },
  {
   "cell_type": "raw",
   "metadata": {},
   "source": [
    "Python time strftime() 函数接收以时间元组,并返回以可读字符串表示的当地时间,格式由参数 format决定"
   ]
  },
  {
   "cell_type": "markdown",
   "metadata": {},
   "source": [
    "+ %y 两位数的年份表示(00-99)\n",
    "+ %Y 四位数的年份表示(000-9999)\n",
    "+ %m 月份(01-12)\n",
    "+ %d 月内中的一天(0-31)\n",
    "+ %H 24小时制小时数(0-23)\n",
    "+ %I 12小时制小时数(01-12)\n",
    "+ %M 分钟数(00=59)\n",
    "+ %S 秒(00-59)\n",
    "+ %a 本地简化星期名称\n",
    "+ %A 本地完整星期名称\n",
    "+ %b 本地简化的月份名称\n",
    "+ %B 本地完整的月份名称\n",
    "+ %c 本地相应的日期表示和时间表示\n",
    "+ %j 年内的一天(001-366)\n",
    "+ %p 本地A.M.或P.M.的等价符\n",
    "+ %U 一年中的星期数(00-53)星期天为星期的开始\n",
    "+ %w 星期(0-6)，星期天为星期的开始\n",
    "+ %W 一年中的星期数(00-53)星期一为星期的开始\n",
    "+ %x 本地相应的日期表示\n",
    "+ %X 本地相应的时间表示\n",
    "+ %Z 当前时区的名称\n",
    "+ %% %号本身"
   ]
  },
  {
   "cell_type": "code",
   "execution_count": 18,
   "metadata": {},
   "outputs": [
    {
     "name": "stdout",
     "output_type": "stream",
     "text": [
      "Feb 17 2009 09:03:38\n"
     ]
    }
   ],
   "source": [
    "import time\n",
    "\n",
    "t = (2009, 2, 17, 17, 3, 38, 1, 48, 0)\n",
    "t = time.mktime(t)\n",
    "print(time.strftime(\"%b %d %Y %H:%M:%S\", time.gmtime(t)))"
   ]
  },
  {
   "cell_type": "markdown",
   "metadata": {},
   "source": [
    "### python time strptime()"
   ]
  },
  {
   "cell_type": "code",
   "execution_count": 37,
   "metadata": {},
   "outputs": [
    {
     "name": "stdout",
     "output_type": "stream",
     "text": [
      "time.struct_time(tm_year=2009, tm_mon=12, tm_mday=14, tm_hour=12, tm_min=13, tm_sec=14, tm_wday=0, tm_yday=348, tm_isdst=-1)\n"
     ]
    }
   ],
   "source": [
    "import time\n",
    "\n",
    "t = time.strptime(\"2009-12-14 12:13:14\",\"%Y-%m-%d %H:%M:%S\")\n",
    "print(t)"
   ]
  },
  {
   "cell_type": "markdown",
   "metadata": {},
   "source": [
    "### Python time time()"
   ]
  },
  {
   "cell_type": "code",
   "execution_count": 38,
   "metadata": {},
   "outputs": [
    {
     "name": "stdout",
     "output_type": "stream",
     "text": [
      "time.time(): 1632036936.289813 \n",
      "time.struct_time(tm_year=2021, tm_mon=9, tm_mday=19, tm_hour=15, tm_min=35, tm_sec=36, tm_wday=6, tm_yday=262, tm_isdst=0)\n",
      "Sun Sep 19 15:35:36 2021\n"
     ]
    }
   ],
   "source": [
    "import time\n",
    "\n",
    "print(\"time.time(): %f \" %time.time())\n",
    "print(time.localtime(time.time()))\n",
    "print(time.asctime(time.localtime(time.time())))"
   ]
  }
 ],
 "metadata": {
  "kernelspec": {
   "display_name": "Python 3",
   "language": "python",
   "name": "python3"
  },
  "language_info": {
   "codemirror_mode": {
    "name": "ipython",
    "version": 3
   },
   "file_extension": ".py",
   "mimetype": "text/x-python",
   "name": "python",
   "nbconvert_exporter": "python",
   "pygments_lexer": "ipython3",
   "version": "3.8.5"
  },
  "toc": {
   "base_numbering": 1,
   "nav_menu": {},
   "number_sections": true,
   "sideBar": true,
   "skip_h1_title": false,
   "title_cell": "Table of Contents",
   "title_sidebar": "Contents",
   "toc_cell": false,
   "toc_position": {},
   "toc_section_display": true,
   "toc_window_display": true
  }
 },
 "nbformat": 4,
 "nbformat_minor": 4
}
