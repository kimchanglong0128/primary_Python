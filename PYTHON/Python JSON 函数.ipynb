{
 "cells": [
  {
   "cell_type": "markdown",
   "metadata": {},
   "source": [
    "## Json 函数"
   ]
  },
  {
   "cell_type": "raw",
   "metadata": {},
   "source": [
    "在编写接口传递数据时，往往需要使用JSON对数据进行封装\n",
    "Python和json数据类型的转换，看作为编码与解码"
   ]
  },
  {
   "cell_type": "raw",
   "metadata": {},
   "source": [
    "使用 Json函数需要导入 Json库 : import json"
   ]
  },
  {
   "cell_type": "markdown",
   "metadata": {},
   "source": [
    "### json.dumps"
   ]
  },
  {
   "cell_type": "raw",
   "metadata": {},
   "source": [
    "将 Python 对象编码成 Json 字符串"
   ]
  },
  {
   "cell_type": "raw",
   "metadata": {},
   "source": [
    "json.dumps(obj, \n",
    "           skipkeys=False, \n",
    "           ensure_ascii=True, \n",
    "           check_circular=True, \n",
    "           allow_nan=True, \n",
    "           cls=None, \n",
    "           indent=None, \n",
    "           separators=None, \n",
    "           encoding=\"utf-8\", \n",
    "           default=None, \n",
    "           sort_keys=False, \n",
    "           **kw)"
   ]
  },
  {
   "cell_type": "code",
   "execution_count": 1,
   "metadata": {},
   "outputs": [
    {
     "name": "stdout",
     "output_type": "stream",
     "text": [
      "[{\"a\": 1, \"b\": 2, \"c\": 3, \"d\": 4, \"e\": 5}]\n"
     ]
    }
   ],
   "source": [
    "import json\n",
    "\n",
    "data = [\n",
    "    {'a':1,'b':2,'c':3,'d':4,'e':5}\n",
    "]\n",
    "data1 = json.dumps(data)\n",
    "print(data1)"
   ]
  },
  {
   "cell_type": "markdown",
   "metadata": {},
   "source": [
    "#### 使用参数让 Json 数据格式化输出"
   ]
  },
  {
   "cell_type": "code",
   "execution_count": 2,
   "metadata": {},
   "outputs": [
    {
     "name": "stdout",
     "output_type": "stream",
     "text": [
      "{\n",
      "    \"a\":\"10086\",\n",
      "    \"b\":996\n",
      "}\n"
     ]
    }
   ],
   "source": [
    "data2 = json .dumps({'a':'10086','b':996} , sort_keys = True , indent = 4 , separators = (',',':'))\n",
    "print(data2)"
   ]
  },
  {
   "cell_type": "markdown",
   "metadata": {},
   "source": [
    "#### Json 类型转换到 Python 的类型对照表"
   ]
  },
  {
   "cell_type": "markdown",
   "metadata": {},
   "source": [
    "| Python | Json |\n",
    "|--------|------|\n",
    "|object|dict|\n",
    "|array|list|\n",
    "|string|unicode|\n",
    "|number(int)|int,long|\n",
    "|number(real)|float|\n",
    "|true|True|\n",
    "|false|False|\n",
    "|null|None|"
   ]
  },
  {
   "cell_type": "markdown",
   "metadata": {},
   "source": [
    "### json.loads"
   ]
  },
  {
   "cell_type": "raw",
   "metadata": {},
   "source": [
    "Json编码的字符串转换回一个Python数据结构"
   ]
  },
  {
   "cell_type": "code",
   "execution_count": 3,
   "metadata": {},
   "outputs": [
    {
     "name": "stdout",
     "output_type": "stream",
     "text": [
      "{'a': '10086', 'b': 996}\n"
     ]
    }
   ],
   "source": [
    "data3 = json.loads(data2)\n",
    "print(data3)"
   ]
  },
  {
   "cell_type": "markdown",
   "metadata": {},
   "source": [
    "### json.dump & json.load"
   ]
  },
  {
   "cell_type": "raw",
   "metadata": {},
   "source": [
    "如果你要处理的是文件而不是字符串\n",
    "你可以使用 json.dump() 和 json.load() 来编码和解码JSON数据"
   ]
  },
  {
   "cell_type": "code",
   "execution_count": 8,
   "metadata": {},
   "outputs": [],
   "source": [
    "import json\n",
    "\n",
    "data = {\n",
    "    'name' : 'ACME',\n",
    "    'shares' : 100,\n",
    "    'price' : 542.23\n",
    "}\n",
    "\n",
    "json_str = json.dumps(data)\n",
    "\n",
    "with open('data.json', 'w') as f:\n",
    "    json.dump(data, f)\n",
    "\n",
    "# Reading data back\n",
    "with open('data.json', 'r') as f:\n",
    "    data = json.load(f)"
   ]
  },
  {
   "cell_type": "code",
   "execution_count": 9,
   "metadata": {},
   "outputs": [
    {
     "data": {
      "text/plain": [
       "{'name': 'ACME', 'shares': 100, 'price': 542.23}"
      ]
     },
     "execution_count": 9,
     "metadata": {},
     "output_type": "execute_result"
    }
   ],
   "source": [
    "data"
   ]
  },
  {
   "cell_type": "markdown",
   "metadata": {},
   "source": [
    "### demjson.encode"
   ]
  },
  {
   "cell_type": "raw",
   "metadata": {},
   "source": [
    "Python encode() 函数用于将 Python 对象编码成 JSON 字符串"
   ]
  },
  {
   "cell_type": "raw",
   "metadata": {},
   "source": [
    "pip install Demjson"
   ]
  },
  {
   "cell_type": "raw",
   "metadata": {},
   "source": [
    "demjson.encode(self, obj, nest_level=0)"
   ]
  },
  {
   "cell_type": "markdown",
   "metadata": {},
   "source": [
    "## 使用第三方库：Demjson"
   ]
  },
  {
   "cell_type": "code",
   "execution_count": 4,
   "metadata": {},
   "outputs": [
    {
     "name": "stdout",
     "output_type": "stream",
     "text": [
      "[{\"a\":1,\"b\":2,\"c\":3,\"d\":4,\"e\":5}]\n"
     ]
    }
   ],
   "source": [
    "### 将数组编码为 JSON 格式数据\n",
    "import demjson\n",
    "\n",
    "data = [ { 'a' : 1, 'b' : 2, 'c' : 3, 'd' : 4, 'e' : 5 } ]\n",
    "\n",
    "json = demjson.encode(data)\n",
    "print(json)"
   ]
  },
  {
   "cell_type": "markdown",
   "metadata": {},
   "source": [
    "### demjson.decode"
   ]
  },
  {
   "cell_type": "raw",
   "metadata": {},
   "source": [
    "Python 可以使用 demjson.decode() 函数解码 JSON 数据\n",
    "该函数返回 Python 字段的数据类型"
   ]
  },
  {
   "cell_type": "raw",
   "metadata": {},
   "source": [
    "demjson.decode(self, txt)"
   ]
  },
  {
   "cell_type": "code",
   "execution_count": 5,
   "metadata": {},
   "outputs": [
    {
     "name": "stdout",
     "output_type": "stream",
     "text": [
      "[{'a': 1, 'b': 2, 'c': 3, 'd': 4, 'e': 5}]\n"
     ]
    }
   ],
   "source": [
    "text = demjson.decode(json)\n",
    "print(text)"
   ]
  }
 ],
 "metadata": {
  "kernelspec": {
   "display_name": "Python 3",
   "language": "python",
   "name": "python3"
  },
  "language_info": {
   "codemirror_mode": {
    "name": "ipython",
    "version": 3
   },
   "file_extension": ".py",
   "mimetype": "text/x-python",
   "name": "python",
   "nbconvert_exporter": "python",
   "pygments_lexer": "ipython3",
   "version": "3.8.5"
  },
  "toc": {
   "base_numbering": 1,
   "nav_menu": {},
   "number_sections": true,
   "sideBar": true,
   "skip_h1_title": false,
   "title_cell": "Table of Contents",
   "title_sidebar": "Contents",
   "toc_cell": false,
   "toc_position": {},
   "toc_section_display": true,
   "toc_window_display": true
  }
 },
 "nbformat": 4,
 "nbformat_minor": 4
}
