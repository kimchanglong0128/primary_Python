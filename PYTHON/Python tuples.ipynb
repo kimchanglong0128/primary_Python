{
 "cells": [
  {
   "cell_type": "markdown",
   "metadata": {},
   "source": [
    "### Python Assigning values to tuples"
   ]
  },
  {
   "cell_type": "code",
   "execution_count": 1,
   "metadata": {},
   "outputs": [
    {
     "name": "stdout",
     "output_type": "stream",
     "text": [
      "tup1[0]:  physics\n",
      "tup2[1:5]:  (2, 3, 4, 5)\n"
     ]
    }
   ],
   "source": [
    "tup1 = ('physics', 'chemistry', 1997, 2000)\n",
    "tup2 = (1, 2, 3, 4, 5, 6, 7 )\n",
    "print(\"tup1[0]: \", tup1[0])\n",
    "print(\"tup2[1:5]: \", tup2[1:5])"
   ]
  },
  {
   "cell_type": "markdown",
   "metadata": {},
   "source": [
    "### Python Updating tuples"
   ]
  },
  {
   "cell_type": "code",
   "execution_count": 2,
   "metadata": {},
   "outputs": [
    {
     "name": "stdout",
     "output_type": "stream",
     "text": [
      "(12, 34.56, 'abc', 'xyz')\n"
     ]
    }
   ],
   "source": [
    "tup1 = (12, 34.56);\n",
    "tup2 = ('abc', 'xyz');\n",
    "\n",
    "# Following action is not valid for tuples\n",
    "# tup1[0] = 100;\n",
    "\n",
    "# So let's create a new tuple as follows\n",
    "tup3 = tup1 + tup2;\n",
    "print(tup3)"
   ]
  },
  {
   "cell_type": "markdown",
   "metadata": {},
   "source": [
    "### Python Deleting tuple"
   ]
  },
  {
   "cell_type": "code",
   "execution_count": 7,
   "metadata": {},
   "outputs": [
    {
     "name": "stdout",
     "output_type": "stream",
     "text": [
      "('physics', 'chemistry', 1997, 2000)\n",
      "After deleting tup : \n",
      "NameError: name 'tup' is not defined\n"
     ]
    }
   ],
   "source": [
    "tup = ('physics', 'chemistry', 1997, 2000)\n",
    "print(tup)\n",
    "del tup\n",
    "print(\"After deleting tup : \")\n",
    "\n",
    "try:\n",
    "    print(tup)\n",
    "except NameError:\n",
    "    print(\"NameError: name 'tup' is not defined\")"
   ]
  },
  {
   "cell_type": "markdown",
   "metadata": {},
   "source": [
    "### Python Tuple len() "
   ]
  },
  {
   "cell_type": "code",
   "execution_count": 9,
   "metadata": {},
   "outputs": [
    {
     "name": "stdout",
     "output_type": "stream",
     "text": [
      "First tuple length :  3\n",
      "Second tuple length :  2\n"
     ]
    }
   ],
   "source": [
    "tuple1, tuple2 = (123, 'xyz', 'zara'), (456, 'abc')\n",
    "print(\"First tuple length : \", len(tuple1))\n",
    "print(\"Second tuple length : \", len(tuple2))"
   ]
  },
  {
   "cell_type": "markdown",
   "metadata": {},
   "source": [
    "### Python tuple max()"
   ]
  },
  {
   "cell_type": "code",
   "execution_count": 11,
   "metadata": {},
   "outputs": [
    {
     "name": "stdout",
     "output_type": "stream",
     "text": [
      "Max value element :  zara\n",
      "Max value element :  700\n"
     ]
    }
   ],
   "source": [
    "tuple1, tuple2 = ('123', 'xyz', 'zara', 'abc'), (456, 700, 200)\n",
    "print(\"Max value element : \", max(tuple1))\n",
    "print(\"Max value element : \", max(tuple2))"
   ]
  },
  {
   "cell_type": "markdown",
   "metadata": {},
   "source": [
    "### Python tuple min()"
   ]
  },
  {
   "cell_type": "code",
   "execution_count": 12,
   "metadata": {},
   "outputs": [
    {
     "name": "stdout",
     "output_type": "stream",
     "text": [
      "min value element :  123\n",
      "min value element :  200\n"
     ]
    }
   ],
   "source": [
    "tuple1, tuple2 = ('123', 'xyz', 'zara', 'abc'), (456, 700, 200)\n",
    "print(\"min value element : \", min(tuple1))\n",
    "print(\"min value element : \", min(tuple2))"
   ]
  },
  {
   "cell_type": "markdown",
   "metadata": {},
   "source": [
    "### Python tuple tuple()"
   ]
  },
  {
   "cell_type": "code",
   "execution_count": 13,
   "metadata": {},
   "outputs": [
    {
     "name": "stdout",
     "output_type": "stream",
     "text": [
      "[1, 2, 3, 4, 5]\n",
      "<class 'list'>\n",
      "(1, 2, 3, 4, 5)\n",
      "<class 'tuple'>\n"
     ]
    }
   ],
   "source": [
    "temp_list = [1,2,3,4,5]\n",
    "print(temp_list)\n",
    "print(type(temp_list))\n",
    "a = tuple(temp_list)    #将temp_list进行强制转换\n",
    "print(a)\n",
    "print(type(a))          #查看是否转换成功"
   ]
  },
  {
   "cell_type": "code",
   "execution_count": null,
   "metadata": {},
   "outputs": [],
   "source": []
  }
 ],
 "metadata": {
  "kernelspec": {
   "display_name": "Python 3",
   "language": "python",
   "name": "python3"
  },
  "language_info": {
   "codemirror_mode": {
    "name": "ipython",
    "version": 3
   },
   "file_extension": ".py",
   "mimetype": "text/x-python",
   "name": "python",
   "nbconvert_exporter": "python",
   "pygments_lexer": "ipython3",
   "version": "3.8.5"
  },
  "toc": {
   "base_numbering": 1,
   "nav_menu": {},
   "number_sections": true,
   "sideBar": true,
   "skip_h1_title": false,
   "title_cell": "Table of Contents",
   "title_sidebar": "Contents",
   "toc_cell": false,
   "toc_position": {},
   "toc_section_display": true,
   "toc_window_display": false
  }
 },
 "nbformat": 4,
 "nbformat_minor": 4
}
