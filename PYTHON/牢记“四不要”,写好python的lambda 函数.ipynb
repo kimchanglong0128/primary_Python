{
 "cells": [
  {
   "cell_type": "markdown",
   "metadata": {},
   "source": [
    "### lambda()函数语法"
   ]
  },
  {
   "cell_type": "markdown",
   "metadata": {},
   "source": [
    "lambda arguments: expression"
   ]
  },
  {
   "cell_type": "markdown",
   "metadata": {},
   "source": [
    "### lambda()函数常规法则"
   ]
  },
  {
   "cell_type": "markdown",
   "metadata": {},
   "source": [
    "#### 不要返回任何值"
   ]
  },
  {
   "cell_type": "code",
   "execution_count": 5,
   "metadata": {
    "code_folding": []
   },
   "outputs": [
    {
     "name": "stdout",
     "output_type": "stream",
     "text": [
      "[(3, -3), (5, 1), (2, 3), (-4, 4)]\n"
     ]
    }
   ],
   "source": [
    "integers = [(3, -3), (2, 3), (5, 1), (-4, 4)]\n",
    "print(sorted(integers, key=lambda x: x[-1]))\n",
    "\n",
    "# sorted(integers, key=lambda x: return x[-1])"
   ]
  },
  {
   "cell_type": "raw",
   "metadata": {},
   "source": [
    "该错误可能是由于无法区分表达式和语句而引起的\n",
    "像是包含 return、try、 with以及 if 的语句会执行特殊动作\n",
    "然而,表达式指的是那些可以被计算出一个值的表达,例如数值或其他 Python 对象\n",
    "通过使用 lambda 函数,单个表达式会被计算为一个值并且参与后续的计算,例如由sorted 函数排序"
   ]
  },
  {
   "cell_type": "markdown",
   "metadata": {},
   "source": [
    "#### 不要忘记更好的选择"
   ]
  },
  {
   "cell_type": "raw",
   "metadata": {},
   "source": [
    "ambda函数最常见的使用场景是将它作为一些内置工具函数中 key 的实参\n",
    "比如上面展示的 sorted() 和 max()\n",
    "根据情况,我们可以使用其他替代方法"
   ]
  },
  {
   "cell_type": "code",
   "execution_count": 8,
   "metadata": {},
   "outputs": [
    {
     "name": "stdout",
     "output_type": "stream",
     "text": [
      "[-2, 3, -4, -5, 6, 7]\n",
      "[-2, 3, -4, -5, 6, 7]\n",
      "(93, 100)\n",
      "(93, 100)\n"
     ]
    }
   ],
   "source": [
    "integers = [-4, 3, 7, -5, -2, 6]\n",
    "\n",
    "print(sorted(integers, key=lambda x: abs(x)))\n",
    "print(sorted(integers, key=abs))\n",
    "\n",
    "scores = [(93, 100), (92, 99), (95, 94)]\n",
    "\n",
    "print(max(scores, key=lambda x: x[0] + x[1]))\n",
    "print(max(scores, key=sum))"
   ]
  },
  {
   "cell_type": "code",
   "execution_count": 10,
   "metadata": {},
   "outputs": [
    {
     "name": "stdout",
     "output_type": "stream",
     "text": [
      "0    6\n",
      "1    7\n",
      "2    8\n",
      "3    9\n",
      "dtype: int64\n",
      "0    6\n",
      "1    7\n",
      "2    8\n",
      "3    9\n",
      "dtype: int64\n"
     ]
    }
   ],
   "source": [
    "import pandas as pd\n",
    "data = pd.Series([1, 2, 3, 4])\n",
    "\n",
    "print(data.map(lambda x: x + 5))\n",
    "print(data + 5)"
   ]
  },
  {
   "cell_type": "markdown",
   "metadata": {},
   "source": [
    "### 不要将它赋值给变量"
   ]
  },
  {
   "cell_type": "code",
   "execution_count": 15,
   "metadata": {},
   "outputs": [
    {
     "name": "stdout",
     "output_type": "stream",
     "text": [
      "25\n",
      "49\n",
      "<class 'function'>\n"
     ]
    }
   ],
   "source": [
    "doubler = lambda x: x * x\n",
    "\n",
    "print(doubler(5))\n",
    "print(doubler(7))\n",
    "print(type(doubler))"
   ]
  },
  {
   "cell_type": "code",
   "execution_count": 18,
   "metadata": {},
   "outputs": [
    {
     "name": "stdout",
     "output_type": "stream",
     "text": [
      "0.5\n",
      "ZeroDivisionError: division by zero\n"
     ]
    }
   ],
   "source": [
    "inversive0 = lambda x: 1 / x\n",
    "\n",
    "print(inversive0(2))\n",
    "\n",
    "try:\n",
    "    print(inversive0(0))\n",
    "except ZeroDivisionError:\n",
    "    print('ZeroDivisionError: division by zero')"
   ]
  },
  {
   "cell_type": "code",
   "execution_count": 20,
   "metadata": {},
   "outputs": [
    {
     "name": "stdout",
     "output_type": "stream",
     "text": [
      "0.5\n",
      "ZeroDivisionError: division by zero\n"
     ]
    }
   ],
   "source": [
    "def inversive1(x):\n",
    "    return 1/x\n",
    "\n",
    "print(inversive1(2))\n",
    "\n",
    "try:\n",
    "    inversive1(0)\n",
    "except ZeroDivisionError:\n",
    "    print('ZeroDivisionError: division by zero')"
   ]
  },
  {
   "cell_type": "markdown",
   "metadata": {},
   "source": [
    "### 不要忘记列表推导式"
   ]
  },
  {
   "cell_type": "code",
   "execution_count": 21,
   "metadata": {},
   "outputs": [
    {
     "name": "stdout",
     "output_type": "stream",
     "text": [
      "[4, 1, 9, 9]\n",
      "[1, 3, -3]\n"
     ]
    }
   ],
   "source": [
    "numbers = [2, 1, 3, -3]\n",
    "\n",
    "print(list(map(lambda x: x * x, numbers)))\n",
    "print(list(filter(lambda x: x % 2, numbers)))"
   ]
  },
  {
   "cell_type": "code",
   "execution_count": 23,
   "metadata": {},
   "outputs": [
    {
     "name": "stdout",
     "output_type": "stream",
     "text": [
      "[4, 1, 9, 9]\n",
      "[1, 3, -3]\n"
     ]
    }
   ],
   "source": [
    "print([x * x for x in numbers])\n",
    "print([x for x in numbers if x % 2])"
   ]
  }
 ],
 "metadata": {
  "kernelspec": {
   "display_name": "Python 3",
   "language": "python",
   "name": "python3"
  },
  "language_info": {
   "codemirror_mode": {
    "name": "ipython",
    "version": 3
   },
   "file_extension": ".py",
   "mimetype": "text/x-python",
   "name": "python",
   "nbconvert_exporter": "python",
   "pygments_lexer": "ipython3",
   "version": "3.8.5"
  },
  "toc": {
   "base_numbering": 1,
   "nav_menu": {},
   "number_sections": true,
   "sideBar": true,
   "skip_h1_title": false,
   "title_cell": "Table of Contents",
   "title_sidebar": "Contents",
   "toc_cell": false,
   "toc_position": {},
   "toc_section_display": true,
   "toc_window_display": true
  }
 },
 "nbformat": 4,
 "nbformat_minor": 4
}
