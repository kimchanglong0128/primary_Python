{
 "cells": [
  {
   "cell_type": "markdown",
   "metadata": {},
   "source": [
    "## merge"
   ]
  },
  {
   "cell_type": "markdown",
   "metadata": {},
   "source": [
    "### merge 函数用途"
   ]
  },
  {
   "cell_type": "raw",
   "metadata": {},
   "source": [
    "pandas中的merge()函数类似于SQL中join的用法\n",
    "可以将不同数据集依照某些字段(属性)进行合并操作,得到一个新的数据集"
   ]
  },
  {
   "cell_type": "markdown",
   "metadata": {},
   "source": [
    "### merge函数的具体参数"
   ]
  },
  {
   "cell_type": "markdown",
   "metadata": {},
   "source": [
    "用法：<br>\n",
    "pd.merge(DataFrame1,DataFrame2, how=‘inner’, on=None, left_on=None, right_on=None, left_index=False, right_index=False, sort=False, \n",
    "suffixes=(‘_x’, ‘_y’))<br>\n",
    "参数说明：<br>\n",
    "how：默认为inner，可设为inner/outer/left/right<br>\n",
    "on：根据某个字段进行连接，必须存在于两个DateFrame中（若未同时存在，则需要分别使用left_on和right_on来设置）<br>\n",
    "left_on：左连接，以DataFrame1中用作连接键的列<br>\n",
    "right_on：右连接，以DataFrame2中用作连接键的列<br>\n",
    "left_index：将DataFrame1行索引用作连接键<br>\n",
    "right_index：将DataFrame2行索引用作连接键<br>\n",
    "sort：根据连接键对合并后的数据进行排列，默认为True<br>\n",
    "suffixes：对两个数据集中出现的重复列，新数据集中加上后缀_x,_y进行区别<br>"
   ]
  },
  {
   "cell_type": "markdown",
   "metadata": {},
   "source": [
    "### merge函数的应用"
   ]
  },
  {
   "cell_type": "code",
   "execution_count": 1,
   "metadata": {
    "run_control": {
     "marked": true
    }
   },
   "outputs": [
    {
     "name": "stdout",
     "output_type": "stream",
     "text": [
      "  key1 key2   A   B\n",
      "0   K0   K0  A0  B0\n",
      "1   K0   K1  A1  B1\n",
      "2   K1   K0  A2  B2\n",
      "3   K2   K1  A3  B3\n",
      "---------------------------\n",
      "  key1 key2   C   D\n",
      "0   K0   K0  C0  D0\n",
      "1   K1   K0  C1  D1\n",
      "2   K1   K0  C2  D2\n",
      "3   K2   K0  C3  D3\n"
     ]
    }
   ],
   "source": [
    "import pandas as pd\n",
    "# 定义资料集并打印出来\n",
    "left = pd.DataFrame({'key1': ['K0', 'K0', 'K1', 'K2'],'key2': ['K0', 'K1', 'K0', 'K1'],'A': ['A0', 'A1', 'A2', 'A3'],'B': ['B0', 'B1', 'B2', 'B3']})\n",
    "right = pd.DataFrame({'key1': ['K0', 'K1', 'K1', 'K2'],'key2': ['K0', 'K0', 'K0', 'K0'],'C': ['C0', 'C1', 'C2', 'C3'],'D': ['D0', 'D1', 'D2', 'D3']})\n",
    "\n",
    "print(left)\n",
    "print('---------------------------')\n",
    "print(right)"
   ]
  },
  {
   "cell_type": "markdown",
   "metadata": {},
   "source": [
    "#### 单个字段连接"
   ]
  },
  {
   "cell_type": "code",
   "execution_count": 2,
   "metadata": {},
   "outputs": [
    {
     "name": "stdout",
     "output_type": "stream",
     "text": [
      "  key1 key2_x   A   B key2_y   C   D\n",
      "0   K0     K0  A0  B0     K0  C0  D0\n",
      "1   K0     K1  A1  B1     K0  C0  D0\n",
      "2   K1     K0  A2  B2     K0  C1  D1\n",
      "3   K1     K0  A2  B2     K0  C2  D2\n",
      "4   K2     K1  A3  B3     K0  C3  D3\n"
     ]
    }
   ],
   "source": [
    "# 根据key1 column 合并\n",
    "res = pd.merge(left,right,on = 'key1')\n",
    "print(res)"
   ]
  },
  {
   "cell_type": "markdown",
   "metadata": {},
   "source": [
    "#### 多字段连接"
   ]
  },
  {
   "cell_type": "code",
   "execution_count": 3,
   "metadata": {},
   "outputs": [
    {
     "name": "stdout",
     "output_type": "stream",
     "text": [
      "  key1 key2   A   B   C   D\n",
      "0   K0   K0  A0  B0  C0  D0\n",
      "1   K1   K0  A2  B2  C1  D1\n",
      "2   K1   K0  A2  B2  C2  D2\n",
      "---------------------------------------\n",
      "  key1 key2    A    B    C    D\n",
      "0   K0   K0   A0   B0   C0   D0\n",
      "1   K0   K1   A1   B1  NaN  NaN\n",
      "2   K1   K0   A2   B2   C1   D1\n",
      "3   K1   K0   A2   B2   C2   D2\n",
      "4   K2   K1   A3   B3  NaN  NaN\n",
      "5   K2   K0  NaN  NaN   C3   D3\n",
      "---------------------------------------\n",
      "  key1 key2   A   B    C    D\n",
      "0   K0   K0  A0  B0   C0   D0\n",
      "1   K0   K1  A1  B1  NaN  NaN\n",
      "2   K1   K0  A2  B2   C1   D1\n",
      "3   K1   K0  A2  B2   C2   D2\n",
      "4   K2   K1  A3  B3  NaN  NaN\n"
     ]
    }
   ],
   "source": [
    "# 依据key1和 key2 column进行合并\n",
    "\n",
    "res = pd.merge(left, right, on=['key1', 'key2'], how='inner')\n",
    "print(res)\n",
    "\n",
    "print('---------------------------------------')\n",
    "\n",
    "res = pd.merge(left, right, on=['key1', 'key2'], how='outer')\n",
    "print(res)\n",
    "\n",
    "print('---------------------------------------')\n",
    "\n",
    "res = pd.merge(left, right, on=['key1', 'key2'], how='left') \n",
    "print(res)\n",
    "# 以left为主进行合并print(res)res = pd.merge(left, right, on=['key1', 'key2'], how='right')\n",
    "# 以right为主进行合并print(res)3.3.2 merge进阶应用"
   ]
  },
  {
   "cell_type": "markdown",
   "metadata": {},
   "source": [
    "### indicator 设置合并列数据来源"
   ]
  },
  {
   "cell_type": "code",
   "execution_count": 4,
   "metadata": {},
   "outputs": [
    {
     "name": "stdout",
     "output_type": "stream",
     "text": [
      "   coll col_left\n",
      "0     0        a\n",
      "1     1        b\n",
      "--------------------------------------------------\n",
      "   coll  col_right\n",
      "0     1          2\n",
      "1     2          2\n",
      "2     2          2\n",
      "--------------------------------------------------\n",
      "   coll col_left  col_right      _merge\n",
      "0     0        a        NaN   left_only\n",
      "1     1        b        2.0        both\n",
      "2     2      NaN        2.0  right_only\n",
      "3     2      NaN        2.0  right_only\n"
     ]
    }
   ],
   "source": [
    "# indicator 设置合并列数据来源\n",
    "df1 = pd.DataFrame({'coll': [0, 1], 'col_left': ['a', 'b']})\n",
    "df2 = pd.DataFrame({'coll': [1, 2, 2], 'col_right': [2, 2, 2]})\n",
    "print(df1)\n",
    "print('--------------------------------------------------')\n",
    "print(df2)\n",
    "# 依据coll进行合并，并启用indicator=True\n",
    "# 最后打印\n",
    "print('--------------------------------------------------')\n",
    "\n",
    "res = pd.merge(df1, df2, on = 'coll', how = 'outer', indicator = True)\n",
    "print(res)\n",
    "# '''left_only 表示数据来自左表right_only 表示数据来自右表both 表示两个表中都有，也就是匹配上的'''"
   ]
  },
  {
   "cell_type": "markdown",
   "metadata": {},
   "source": [
    "### 依据 index进行合并"
   ]
  },
  {
   "cell_type": "code",
   "execution_count": 5,
   "metadata": {},
   "outputs": [
    {
     "name": "stdout",
     "output_type": "stream",
     "text": [
      "     A   B\n",
      "K0  A0  B0\n",
      "K1  A1  B1\n",
      "K2  A2  B2\n",
      "---------------------------------\n",
      "     C   D\n",
      "K0  C0  D0\n",
      "K2  C2  D2\n",
      "K3  C3  D3\n",
      "---------------------------------\n",
      "     A   B   C   D\n",
      "K0  A0  B0  C0  D0\n",
      "K2  A2  B2  C2  D2\n",
      "---------------------------------\n",
      "      A    B    C    D\n",
      "K0   A0   B0   C0   D0\n",
      "K1   A1   B1  NaN  NaN\n",
      "K2   A2   B2   C2   D2\n",
      "K3  NaN  NaN   C3   D3\n"
     ]
    }
   ],
   "source": [
    "# 依据index合并\n",
    "# 定义数据集并打印出\n",
    "left = pd.DataFrame({'A': ['A0', 'A1', 'A2'],'B': ['B0', 'B1', 'B2']}, index = ['K0', 'K1', 'K2'])\n",
    "right = pd.DataFrame({'C': ['C0', 'C2', 'C3'],'D': ['D0', 'D2', 'D3']}, index = ['K0', 'K2', 'K3'])\n",
    "print(left)\n",
    "print('---------------------------------')\n",
    "print(right)\n",
    "# 依据左右数据集的index进行合并，how='outer'\n",
    "# 并打印res = pd.merge(left, right, left_index=True, right_index=True, how='outer')\n",
    "# 依据左右数据集的index进行合并，how='inner',并打印\n",
    "print('---------------------------------')\n",
    "res = pd.merge(left, right, left_index = True ,  right_index = True, how = 'inner')\n",
    "print(res)\n",
    "\n",
    "print('---------------------------------')\n",
    "res = pd.merge(left, right, left_index = True ,  right_index = True, how = 'outer')\n",
    "print(res)"
   ]
  },
  {
   "cell_type": "markdown",
   "metadata": {},
   "source": [
    "### 解决overlapping的问题"
   ]
  },
  {
   "cell_type": "code",
   "execution_count": 6,
   "metadata": {},
   "outputs": [
    {
     "name": "stdout",
     "output_type": "stream",
     "text": [
      "    k  age\n",
      "0  K0    1\n",
      "1  K1    2\n",
      "2  K2    3\n",
      "---------------------------------\n",
      "    k  age\n",
      "0  K0    4\n",
      "1  K1    5\n",
      "2  K3    6\n",
      "---------------------------------\n",
      "    k  age_boy  age_girl\n",
      "0  K0        1         4\n",
      "1  K1        2         5\n",
      "---------------------------------\n",
      "    k  age_boy  age_girl\n",
      "0  K0      1.0       4.0\n",
      "1  K1      2.0       5.0\n",
      "2  K2      3.0       NaN\n",
      "3  K3      NaN       6.0\n"
     ]
    }
   ],
   "source": [
    "# 解决overlapping的问题\n",
    "# 定义资料集\n",
    "boys = pd.DataFrame({'k': ['K0', 'K1', 'K2'], 'age': [1, 2, 3]})\n",
    "girls = pd.DataFrame({'k': ['K0', 'K1', 'K3'], 'age': [4, 5, 6]})\n",
    "\n",
    "print(boys)\n",
    "print('---------------------------------')\n",
    "print(girls)\n",
    "\n",
    "# 使用suffixes解决overlapping的问题\n",
    "# 比如将上面两个合并时，age重复了，则可通过suffixes设置，以此保证不重复，不同名（默认会在重名列名后加_x _y）\n",
    "print('---------------------------------')\n",
    "res = pd.merge(boys, girls, on='k', suffixes=['_boy', '_girl'], how='inner')\n",
    "print(res)\n",
    "\n",
    "print('---------------------------------')\n",
    "res = pd.merge(boys, girls, on='k', suffixes=['_boy', '_girl'], how='outer')\n",
    "print(res)"
   ]
  },
  {
   "cell_type": "markdown",
   "metadata": {},
   "source": [
    "## pandas apply by pluto"
   ]
  },
  {
   "cell_type": "raw",
   "metadata": {},
   "source": [
    "apply可以对dataframe在行或列方向上进行批量化处理,从而大大简化数据处理的过程"
   ]
  },
  {
   "cell_type": "markdown",
   "metadata": {},
   "source": [
    "### apply函数的基本形式"
   ]
  },
  {
   "cell_type": "markdown",
   "metadata": {},
   "source": [
    "DataFrame.apply(func, axis=0, broadcast=False, raw=False, reduce=None, args=(), **kwds)<br>\n",
    "axis = 0 默认为轴 <br>\n",
    "axis = 1 表示按行进行计算"
   ]
  },
  {
   "cell_type": "code",
   "execution_count": 7,
   "metadata": {},
   "outputs": [
    {
     "name": "stdout",
     "output_type": "stream",
     "text": [
      "     A    B\n",
      "0  3.0  1.0\n",
      "1  1.0  2.0\n",
      "2  4.0  3.0\n",
      "3  1.0  NaN\n",
      "4  5.0  5.0\n",
      "5  9.0  6.0\n",
      "6  NaN  7.0\n",
      "7  6.0  8.0\n",
      "----------\n",
      "          A         B\n",
      "0  3.000000  1.000000\n",
      "1  1.000000  2.000000\n",
      "2  4.000000  3.000000\n",
      "3  1.000000  4.571429\n",
      "4  5.000000  5.000000\n",
      "5  9.000000  6.000000\n",
      "6  4.142857  7.000000\n",
      "7  6.000000  8.000000\n"
     ]
    }
   ],
   "source": [
    "import pandas as pd\n",
    "df = pd.DataFrame({'A':[3,1,4,1,5,9,None,6],'B':[1,2,3,None,5,6,7,8]})\n",
    "d = df.apply(lambda x: x.fillna(x.mean()))\n",
    "print(df)\n",
    "print('----------')\n",
    "print(d)"
   ]
  },
  {
   "cell_type": "markdown",
   "metadata": {},
   "source": [
    "### apply 写函数来调用"
   ]
  },
  {
   "cell_type": "code",
   "execution_count": 8,
   "metadata": {},
   "outputs": [
    {
     "name": "stdout",
     "output_type": "stream",
     "text": [
      "     A    B\n",
      "0  3.0  1.0\n",
      "1  1.0  2.0\n",
      "2  4.0  3.0\n",
      "3  1.0  NaN\n",
      "4  5.0  5.0\n",
      "5  9.0  6.0\n",
      "6  NaN  7.0\n",
      "7  6.0  8.0\n",
      "----------\n",
      "      A    B\n",
      "0   4.0  2.0\n",
      "1   2.0  3.0\n",
      "2   5.0  4.0\n",
      "3   2.0  NaN\n",
      "4   6.0  6.0\n",
      "5  10.0  7.0\n",
      "6   NaN  8.0\n",
      "7   7.0  9.0\n"
     ]
    }
   ],
   "source": [
    "import pandas as pd\n",
    "import numpy as np \n",
    "\n",
    "df = pd.DataFrame({'A':[3,1,4,1,5,9,None,6],'B':[1,2,3,None,5,6,7,8]})\n",
    "def add(x):\n",
    "    return x+1\n",
    "    d = df.apply(add, axis=1)\n",
    "    \n",
    "print(df)\n",
    "print('----------')\n",
    "print(add(df))"
   ]
  },
  {
   "cell_type": "code",
   "execution_count": 9,
   "metadata": {
    "code_folding": []
   },
   "outputs": [
    {
     "name": "stdout",
     "output_type": "stream",
     "text": [
      "     语文  数学  英语\n",
      "孙悟空  93  87  80\n",
      "猪八戒  80  99  85\n",
      "沙和尚  85  95  97\n",
      "唐僧   76  85  65\n",
      "白龙马  58  70  88\n",
      "-----------\n",
      "     语文  数学  英语\n",
      "沙和尚  85  95  97\n"
     ]
    }
   ],
   "source": [
    "import pandas as pd\n",
    "import numpy as np \n",
    "\n",
    "df = pd.DataFrame({'语文':[93,80,85,76,58],'数学':[87,99,95,85,70],'英语':[80,85,97,65,88]}, index=['孙悟空','猪八戒','沙和尚','唐僧','白龙马'] )\n",
    "print(df)\n",
    "print('-----------')\n",
    "df1 = df.loc[\n",
    "    (\n",
    "        df['语文'].apply(lambda x:85<=x<100)\n",
    "    )\n",
    "    & \n",
    "    (\n",
    "        df['英语'].apply(lambda x:85<=x<100)\n",
    "    )\n",
    "    &\n",
    "    (\n",
    "        df['数学'].apply(lambda x:85<=x<100)\n",
    "    )\n",
    "               \n",
    "] \n",
    "\n",
    "print(df1)"
   ]
  },
  {
   "cell_type": "markdown",
   "metadata": {},
   "source": [
    "## pivot函数实现数据透视功能"
   ]
  },
  {
   "cell_type": "markdown",
   "metadata": {},
   "source": [
    "### pivot_table函数的基本形式"
   ]
  },
  {
   "cell_type": "raw",
   "metadata": {},
   "source": [
    "DataFrame.pivot_table(\n",
    "    self, values = None,\n",
    "    index = None,\n",
    "    columns = None, \n",
    "    aggfunc = 'mean',\n",
    "    fill_value = None,\n",
    "    margins = False, \n",
    "    dropna = True, \n",
    "    margins_name = 'All', \n",
    "    observed = False)"
   ]
  },
  {
   "cell_type": "markdown",
   "metadata": {},
   "source": [
    "### 透视"
   ]
  },
  {
   "cell_type": "code",
   "execution_count": 10,
   "metadata": {},
   "outputs": [
    {
     "data": {
      "text/html": [
       "<div>\n",
       "<style scoped>\n",
       "    .dataframe tbody tr th:only-of-type {\n",
       "        vertical-align: middle;\n",
       "    }\n",
       "\n",
       "    .dataframe tbody tr th {\n",
       "        vertical-align: top;\n",
       "    }\n",
       "\n",
       "    .dataframe thead th {\n",
       "        text-align: right;\n",
       "    }\n",
       "</style>\n",
       "<table border=\"1\" class=\"dataframe\">\n",
       "  <thead>\n",
       "    <tr style=\"text-align: right;\">\n",
       "      <th></th>\n",
       "      <th>brand</th>\n",
       "      <th>country</th>\n",
       "      <th>system</th>\n",
       "      <th>score</th>\n",
       "    </tr>\n",
       "  </thead>\n",
       "  <tbody>\n",
       "    <tr>\n",
       "      <th>0</th>\n",
       "      <td>苹果</td>\n",
       "      <td>美国</td>\n",
       "      <td>OS</td>\n",
       "      <td>94.7</td>\n",
       "    </tr>\n",
       "    <tr>\n",
       "      <th>1</th>\n",
       "      <td>三星</td>\n",
       "      <td>韩国</td>\n",
       "      <td>Android</td>\n",
       "      <td>92.8</td>\n",
       "    </tr>\n",
       "    <tr>\n",
       "      <th>2</th>\n",
       "      <td>华为</td>\n",
       "      <td>中国</td>\n",
       "      <td>Harmony</td>\n",
       "      <td>96.8</td>\n",
       "    </tr>\n",
       "    <tr>\n",
       "      <th>3</th>\n",
       "      <td>OPPO</td>\n",
       "      <td>中国</td>\n",
       "      <td>Android</td>\n",
       "      <td>89.3</td>\n",
       "    </tr>\n",
       "    <tr>\n",
       "      <th>4</th>\n",
       "      <td>诺基亚</td>\n",
       "      <td>美国</td>\n",
       "      <td>Android</td>\n",
       "      <td>88.4</td>\n",
       "    </tr>\n",
       "    <tr>\n",
       "      <th>5</th>\n",
       "      <td>小米</td>\n",
       "      <td>中国</td>\n",
       "      <td>Android</td>\n",
       "      <td>91.2</td>\n",
       "    </tr>\n",
       "  </tbody>\n",
       "</table>\n",
       "</div>"
      ],
      "text/plain": [
       "  brand country   system  score\n",
       "0    苹果      美国       OS   94.7\n",
       "1    三星      韩国  Android   92.8\n",
       "2    华为      中国  Harmony   96.8\n",
       "3  OPPO      中国  Android   89.3\n",
       "4   诺基亚      美国  Android   88.4\n",
       "5    小米      中国  Android   91.2"
      ]
     },
     "execution_count": 10,
     "metadata": {},
     "output_type": "execute_result"
    }
   ],
   "source": [
    "import numpy as np\n",
    "import pandas as pd\n",
    "df = pd.DataFrame({'brand': ['苹果', '三星', '华为', 'OPPO', '诺基亚', '小米'],'country': ['美国','韩国','中国','中国','美国','中国'],'system': ['OS', 'Android', 'Harmony', 'Android', 'Android', 'Android'],'score': [94.7, 92.8, 96.8, 89.3, 88.4, 91.2]})\n",
    "df"
   ]
  },
  {
   "cell_type": "code",
   "execution_count": 11,
   "metadata": {},
   "outputs": [
    {
     "data": {
      "text/html": [
       "<div>\n",
       "<style scoped>\n",
       "    .dataframe tbody tr th:only-of-type {\n",
       "        vertical-align: middle;\n",
       "    }\n",
       "\n",
       "    .dataframe tbody tr th {\n",
       "        vertical-align: top;\n",
       "    }\n",
       "\n",
       "    .dataframe thead th {\n",
       "        text-align: right;\n",
       "    }\n",
       "</style>\n",
       "<table border=\"1\" class=\"dataframe\">\n",
       "  <thead>\n",
       "    <tr style=\"text-align: right;\">\n",
       "      <th></th>\n",
       "      <th>score</th>\n",
       "    </tr>\n",
       "    <tr>\n",
       "      <th>country</th>\n",
       "      <th></th>\n",
       "    </tr>\n",
       "  </thead>\n",
       "  <tbody>\n",
       "    <tr>\n",
       "      <th>中国</th>\n",
       "      <td>92.433333</td>\n",
       "    </tr>\n",
       "    <tr>\n",
       "      <th>美国</th>\n",
       "      <td>91.550000</td>\n",
       "    </tr>\n",
       "    <tr>\n",
       "      <th>韩国</th>\n",
       "      <td>92.800000</td>\n",
       "    </tr>\n",
       "  </tbody>\n",
       "</table>\n",
       "</div>"
      ],
      "text/plain": [
       "             score\n",
       "country           \n",
       "中国       92.433333\n",
       "美国       91.550000\n",
       "韩国       92.800000"
      ]
     },
     "execution_count": 11,
     "metadata": {},
     "output_type": "execute_result"
    }
   ],
   "source": [
    "df.pivot_table(index = 'country')         ### 按country进行分组，默认计算数值列的均值"
   ]
  },
  {
   "cell_type": "code",
   "execution_count": 12,
   "metadata": {},
   "outputs": [
    {
     "data": {
      "text/html": [
       "<div>\n",
       "<style scoped>\n",
       "    .dataframe tbody tr th:only-of-type {\n",
       "        vertical-align: middle;\n",
       "    }\n",
       "\n",
       "    .dataframe tbody tr th {\n",
       "        vertical-align: top;\n",
       "    }\n",
       "\n",
       "    .dataframe thead th {\n",
       "        text-align: right;\n",
       "    }\n",
       "</style>\n",
       "<table border=\"1\" class=\"dataframe\">\n",
       "  <thead>\n",
       "    <tr style=\"text-align: right;\">\n",
       "      <th></th>\n",
       "      <th>brand</th>\n",
       "      <th>score</th>\n",
       "    </tr>\n",
       "    <tr>\n",
       "      <th>country</th>\n",
       "      <th></th>\n",
       "      <th></th>\n",
       "    </tr>\n",
       "  </thead>\n",
       "  <tbody>\n",
       "    <tr>\n",
       "      <th>中国</th>\n",
       "      <td>3</td>\n",
       "      <td>92.433333</td>\n",
       "    </tr>\n",
       "    <tr>\n",
       "      <th>美国</th>\n",
       "      <td>2</td>\n",
       "      <td>91.550000</td>\n",
       "    </tr>\n",
       "    <tr>\n",
       "      <th>韩国</th>\n",
       "      <td>1</td>\n",
       "      <td>92.800000</td>\n",
       "    </tr>\n",
       "  </tbody>\n",
       "</table>\n",
       "</div>"
      ],
      "text/plain": [
       "         brand      score\n",
       "country                  \n",
       "中国           3  92.433333\n",
       "美国           2  91.550000\n",
       "韩国           1  92.800000"
      ]
     },
     "execution_count": 12,
     "metadata": {},
     "output_type": "execute_result"
    }
   ],
   "source": [
    "df.pivot_table(index = 'country',aggfunc = {'score':np.mean,'brand':lambda x : len(x.unique())})\n",
    "# 按country进行分组,除了计算score均值,另外计算每个国家出现的品牌个数(不重复)"
   ]
  },
  {
   "cell_type": "code",
   "execution_count": 13,
   "metadata": {},
   "outputs": [
    {
     "data": {
      "text/html": [
       "<div>\n",
       "<style scoped>\n",
       "    .dataframe tbody tr th:only-of-type {\n",
       "        vertical-align: middle;\n",
       "    }\n",
       "\n",
       "    .dataframe tbody tr th {\n",
       "        vertical-align: top;\n",
       "    }\n",
       "\n",
       "    .dataframe thead th {\n",
       "        text-align: right;\n",
       "    }\n",
       "</style>\n",
       "<table border=\"1\" class=\"dataframe\">\n",
       "  <thead>\n",
       "    <tr style=\"text-align: right;\">\n",
       "      <th>system</th>\n",
       "      <th>Android</th>\n",
       "      <th>Harmony</th>\n",
       "      <th>OS</th>\n",
       "    </tr>\n",
       "    <tr>\n",
       "      <th>country</th>\n",
       "      <th></th>\n",
       "      <th></th>\n",
       "      <th></th>\n",
       "    </tr>\n",
       "  </thead>\n",
       "  <tbody>\n",
       "    <tr>\n",
       "      <th>中国</th>\n",
       "      <td>90.25</td>\n",
       "      <td>96.8</td>\n",
       "      <td>NaN</td>\n",
       "    </tr>\n",
       "    <tr>\n",
       "      <th>美国</th>\n",
       "      <td>88.40</td>\n",
       "      <td>NaN</td>\n",
       "      <td>94.7</td>\n",
       "    </tr>\n",
       "    <tr>\n",
       "      <th>韩国</th>\n",
       "      <td>92.80</td>\n",
       "      <td>NaN</td>\n",
       "      <td>NaN</td>\n",
       "    </tr>\n",
       "  </tbody>\n",
       "</table>\n",
       "</div>"
      ],
      "text/plain": [
       "system   Android  Harmony    OS\n",
       "country                        \n",
       "中国         90.25     96.8   NaN\n",
       "美国         88.40      NaN  94.7\n",
       "韩国         92.80      NaN   NaN"
      ]
     },
     "execution_count": 13,
     "metadata": {},
     "output_type": "execute_result"
    }
   ],
   "source": [
    "df.pivot_table(index = 'country',columns = 'system',values = 'score')\n",
    "# 按country进行分组,system作为列名,score作为表中的值(重复的取均值),取对应的数据生成新的表"
   ]
  },
  {
   "cell_type": "code",
   "execution_count": 14,
   "metadata": {},
   "outputs": [
    {
     "data": {
      "text/html": [
       "<div>\n",
       "<style scoped>\n",
       "    .dataframe tbody tr th:only-of-type {\n",
       "        vertical-align: middle;\n",
       "    }\n",
       "\n",
       "    .dataframe tbody tr th {\n",
       "        vertical-align: top;\n",
       "    }\n",
       "\n",
       "    .dataframe thead tr th {\n",
       "        text-align: left;\n",
       "    }\n",
       "\n",
       "    .dataframe thead tr:last-of-type th {\n",
       "        text-align: right;\n",
       "    }\n",
       "</style>\n",
       "<table border=\"1\" class=\"dataframe\">\n",
       "  <thead>\n",
       "    <tr>\n",
       "      <th></th>\n",
       "      <th colspan=\"3\" halign=\"left\">max</th>\n",
       "      <th colspan=\"3\" halign=\"left\">min</th>\n",
       "      <th colspan=\"3\" halign=\"left\">mean</th>\n",
       "    </tr>\n",
       "    <tr>\n",
       "      <th>system</th>\n",
       "      <th>Android</th>\n",
       "      <th>Harmony</th>\n",
       "      <th>OS</th>\n",
       "      <th>Android</th>\n",
       "      <th>Harmony</th>\n",
       "      <th>OS</th>\n",
       "      <th>Android</th>\n",
       "      <th>Harmony</th>\n",
       "      <th>OS</th>\n",
       "    </tr>\n",
       "    <tr>\n",
       "      <th>country</th>\n",
       "      <th></th>\n",
       "      <th></th>\n",
       "      <th></th>\n",
       "      <th></th>\n",
       "      <th></th>\n",
       "      <th></th>\n",
       "      <th></th>\n",
       "      <th></th>\n",
       "      <th></th>\n",
       "    </tr>\n",
       "  </thead>\n",
       "  <tbody>\n",
       "    <tr>\n",
       "      <th>中国</th>\n",
       "      <td>91.2</td>\n",
       "      <td>96.8</td>\n",
       "      <td>0.0</td>\n",
       "      <td>89.3</td>\n",
       "      <td>96.8</td>\n",
       "      <td>0.0</td>\n",
       "      <td>90.25</td>\n",
       "      <td>96.8</td>\n",
       "      <td>0.0</td>\n",
       "    </tr>\n",
       "    <tr>\n",
       "      <th>美国</th>\n",
       "      <td>88.4</td>\n",
       "      <td>0.0</td>\n",
       "      <td>94.7</td>\n",
       "      <td>88.4</td>\n",
       "      <td>0.0</td>\n",
       "      <td>94.7</td>\n",
       "      <td>88.40</td>\n",
       "      <td>0.0</td>\n",
       "      <td>94.7</td>\n",
       "    </tr>\n",
       "    <tr>\n",
       "      <th>韩国</th>\n",
       "      <td>92.8</td>\n",
       "      <td>0.0</td>\n",
       "      <td>0.0</td>\n",
       "      <td>92.8</td>\n",
       "      <td>0.0</td>\n",
       "      <td>0.0</td>\n",
       "      <td>92.80</td>\n",
       "      <td>0.0</td>\n",
       "      <td>0.0</td>\n",
       "    </tr>\n",
       "  </tbody>\n",
       "</table>\n",
       "</div>"
      ],
      "text/plain": [
       "            max                   min                  mean              \n",
       "system  Android Harmony    OS Android Harmony    OS Android Harmony    OS\n",
       "country                                                                  \n",
       "中国         91.2    96.8   0.0    89.3    96.8   0.0   90.25    96.8   0.0\n",
       "美国         88.4     0.0  94.7    88.4     0.0  94.7   88.40     0.0  94.7\n",
       "韩国         92.8     0.0   0.0    92.8     0.0   0.0   92.80     0.0   0.0"
      ]
     },
     "execution_count": 14,
     "metadata": {},
     "output_type": "execute_result"
    }
   ],
   "source": [
    "df.pivot_table(index = 'country',columns = 'system',values = 'score',aggfunc = [max,min,np.mean],fill_value = 0)\n",
    "# 统计各个国家手机的最高分 最低分 平均分,空值填充为零"
   ]
  }
 ],
 "metadata": {
  "kernelspec": {
   "display_name": "Python 3",
   "language": "python",
   "name": "python3"
  },
  "language_info": {
   "codemirror_mode": {
    "name": "ipython",
    "version": 3
   },
   "file_extension": ".py",
   "mimetype": "text/x-python",
   "name": "python",
   "nbconvert_exporter": "python",
   "pygments_lexer": "ipython3",
   "version": "3.8.5"
  },
  "toc": {
   "base_numbering": 1,
   "nav_menu": {},
   "number_sections": true,
   "sideBar": true,
   "skip_h1_title": false,
   "title_cell": "Table of Contents",
   "title_sidebar": "Contents",
   "toc_cell": false,
   "toc_position": {
    "height": "calc(100% - 180px)",
    "left": "10px",
    "top": "150px",
    "width": "344px"
   },
   "toc_section_display": true,
   "toc_window_display": true
  }
 },
 "nbformat": 4,
 "nbformat_minor": 4
}
