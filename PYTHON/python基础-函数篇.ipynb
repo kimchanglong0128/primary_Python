{
 "cells": [
  {
   "cell_type": "markdown",
   "metadata": {},
   "source": [
    "### 不带参数的函数"
   ]
  },
  {
   "cell_type": "code",
   "execution_count": 6,
   "metadata": {},
   "outputs": [
    {
     "name": "stdout",
     "output_type": "stream",
     "text": [
      "********************\n"
     ]
    }
   ],
   "source": [
    "def print_name():\n",
    "    print('*'*20)\n",
    "    \n",
    "print_name()"
   ]
  },
  {
   "cell_type": "markdown",
   "metadata": {},
   "source": [
    "### 带参数的函数"
   ]
  },
  {
   "cell_type": "code",
   "execution_count": 8,
   "metadata": {},
   "outputs": [
    {
     "name": "stdout",
     "output_type": "stream",
     "text": [
      "1 + 2 = 3\n"
     ]
    }
   ],
   "source": [
    "def sum():\n",
    "    a = 1\n",
    "    b = 2\n",
    "    result = a + b\n",
    "    print('%d + %d = %d'%(a ,b , result))  ### %d 为十进制整数  ， %s 通过str()字符串转换来格式化    \n",
    "sum()"
   ]
  },
  {
   "cell_type": "code",
   "execution_count": 18,
   "metadata": {},
   "outputs": [
    {
     "name": "stdout",
     "output_type": "stream",
     "text": [
      "1 * 1 = 1    \n",
      "\n",
      "2 * 1 = 2    2 * 2 = 4    \n",
      "\n",
      "3 * 1 = 3    3 * 2 = 6    3 * 3 = 9    \n",
      "\n",
      "4 * 1 = 4    4 * 2 = 8    4 * 3 = 12    4 * 4 = 16    \n",
      "\n",
      "5 * 1 = 5    5 * 2 = 10    5 * 3 = 15    5 * 4 = 20    5 * 5 = 25    \n",
      "\n",
      "6 * 1 = 6    6 * 2 = 12    6 * 3 = 18    6 * 4 = 24    6 * 5 = 30    6 * 6 = 36    \n",
      "\n",
      "7 * 1 = 7    7 * 2 = 14    7 * 3 = 21    7 * 4 = 28    7 * 5 = 35    7 * 6 = 42    7 * 7 = 49    \n",
      "\n",
      "8 * 1 = 8    8 * 2 = 16    8 * 3 = 24    8 * 4 = 32    8 * 5 = 40    8 * 6 = 48    8 * 7 = 56    8 * 8 = 64    \n",
      "\n",
      "9 * 1 = 9    9 * 2 = 18    9 * 3 = 27    9 * 4 = 36    9 * 5 = 45    9 * 6 = 54    9 * 7 = 63    9 * 8 = 72    9 * 9 = 81    \n",
      "\n"
     ]
    }
   ],
   "source": [
    "i = 1\n",
    "while i < 10 :\n",
    "    j = 1\n",
    "    while j <= i :\n",
    "        print('%d * %d = %d'%(i , j , i*j) , end = '    ')\n",
    "        j += 1\n",
    "    print('\\n')\n",
    "    i += 1"
   ]
  },
  {
   "cell_type": "raw",
   "metadata": {},
   "source": [
    "要传递几个参数，就得有几个参数来接收，而且位置还得一一对应。\n",
    "\n",
    "定义时小括号中的参数，用来接收参数用的，称为 “形参”\n",
    "\n",
    "调用时小括号中的参数，用来传递给函数用的，称为 “实参”"
   ]
  },
  {
   "cell_type": "code",
   "execution_count": 20,
   "metadata": {},
   "outputs": [
    {
     "name": "stdout",
     "output_type": "stream",
     "text": [
      "请输入数字:13\n",
      "请输入数字:14\n",
      "13 + 14 = 27\n"
     ]
    }
   ],
   "source": [
    "def sum(a , b):\n",
    "    result = a + b\n",
    "    print('%d + %d = %d'%(a,b,result))\n",
    "    \n",
    "a = int(input('请输入数字:'))\n",
    "b = int(input('请输入数字:'))\n",
    "sum(a,b)"
   ]
  },
  {
   "cell_type": "markdown",
   "metadata": {},
   "source": [
    "### 函数的返回值"
   ]
  },
  {
   "cell_type": "code",
   "execution_count": 23,
   "metadata": {},
   "outputs": [
    {
     "name": "stdout",
     "output_type": "stream",
     "text": [
      "你这个月的工资是10000\n",
      "小明工资为:30000\n"
     ]
    }
   ],
   "source": [
    "def salary():\n",
    "    salary = 10000\n",
    "    print('你这个月的工资是%d'%salary)\n",
    "    return salary\n",
    "\n",
    "def xiaoming_salary(NUM):\n",
    "    xmgz = NUM * 3\n",
    "    print('小明工资为:%d'%xmgz)\n",
    "    \n",
    "new_salary = salary()\n",
    "xiaoming_salary(new_salary)"
   ]
  },
  {
   "cell_type": "markdown",
   "metadata": {},
   "source": [
    "### 函数中多个返回值"
   ]
  },
  {
   "cell_type": "code",
   "execution_count": 24,
   "metadata": {},
   "outputs": [
    {
     "name": "stdout",
     "output_type": "stream",
     "text": [
      "1\n"
     ]
    }
   ],
   "source": [
    "def function():                ### 首先，这种写法是得不到多个返回值的，因为在函数中，遇到 return a \n",
    "                               ### 就相当于结束函数，所以是不可能有机会执行，return b 和 return c .只会返回a\n",
    "    a = 1\n",
    "    b = 2\n",
    "    c = 3\n",
    "    return a \n",
    "    return b\n",
    "    return c\n",
    "num = function()\n",
    "print(num)"
   ]
  },
  {
   "cell_type": "code",
   "execution_count": 25,
   "metadata": {},
   "outputs": [
    {
     "name": "stdout",
     "output_type": "stream",
     "text": [
      "1\n",
      "1\n"
     ]
    }
   ],
   "source": [
    "def function():                  ### 即使像如下函数一样重复调用两次，函数依然只会返回a\n",
    "    a = 1\n",
    "    b = 2\n",
    "    c = 3\n",
    "    return a\n",
    "    return b\n",
    "    return c\n",
    "num = function()\n",
    "print(num)\n",
    "num = function()\n",
    "print(num)"
   ]
  },
  {
   "cell_type": "raw",
   "metadata": {},
   "source": [
    "如果要返回多个函数值，就要一个变量把多个函数值存储起来，再返回这个变量"
   ]
  },
  {
   "cell_type": "code",
   "execution_count": 28,
   "metadata": {},
   "outputs": [],
   "source": [
    "def function():\n",
    "    a = 1\n",
    "    b = 2\n",
    "    c = 3\n",
    "    \n",
    "### 第一种返回方式\n",
    "    d = [a,b,c]\n",
    "    return d\n",
    "### 第二种返回方式\n",
    "    return [a,b,c]\n",
    "### 第三种返回方式\n",
    "    return (a,b,c)  \n",
    "### 第四种返回方式\n",
    "    return a,b,c"
   ]
  },
  {
   "cell_type": "code",
   "execution_count": 29,
   "metadata": {},
   "outputs": [
    {
     "data": {
      "text/plain": [
       "[1, 2, 3]"
      ]
     },
     "execution_count": 29,
     "metadata": {},
     "output_type": "execute_result"
    }
   ],
   "source": [
    "function()"
   ]
  },
  {
   "cell_type": "markdown",
   "metadata": {},
   "source": [
    "### 函数的四种类型"
   ]
  },
  {
   "cell_type": "markdown",
   "metadata": {},
   "source": [
    "#### 无参无返回值"
   ]
  },
  {
   "cell_type": "code",
   "execution_count": 32,
   "metadata": {},
   "outputs": [
    {
     "name": "stdout",
     "output_type": "stream",
     "text": [
      "JINCHANGLONG\n"
     ]
    }
   ],
   "source": [
    "def fun():\n",
    "    print('JINCHANGLONG')   ### 调用该函数指挥执行输出语句\n",
    "\n",
    "fun()"
   ]
  },
  {
   "cell_type": "markdown",
   "metadata": {},
   "source": [
    "#### 无参有返回值"
   ]
  },
  {
   "cell_type": "code",
   "execution_count": 33,
   "metadata": {},
   "outputs": [
    {
     "data": {
      "text/plain": [
       "10086"
      ]
     },
     "execution_count": 33,
     "metadata": {},
     "output_type": "execute_result"
    }
   ],
   "source": [
    "def func():\n",
    "    return 10086\n",
    "\n",
    "func()"
   ]
  },
  {
   "cell_type": "markdown",
   "metadata": {},
   "source": [
    "#### 有参无返回值"
   ]
  },
  {
   "cell_type": "code",
   "execution_count": 38,
   "metadata": {},
   "outputs": [
    {
     "name": "stdout",
     "output_type": "stream",
     "text": [
      "1\n",
      "5\n"
     ]
    }
   ],
   "source": [
    "def func(a,b):\n",
    "    print(a)\n",
    "    print(b)\n",
    "    \n",
    "func(1,5)"
   ]
  },
  {
   "cell_type": "markdown",
   "metadata": {},
   "source": [
    "#### 有参有返回值"
   ]
  },
  {
   "cell_type": "code",
   "execution_count": 41,
   "metadata": {},
   "outputs": [
    {
     "name": "stdout",
     "output_type": "stream",
     "text": [
      "30\n"
     ]
    }
   ],
   "source": [
    "def func(a,b):\n",
    "    result = a * b\n",
    "    print(result)\n",
    "    \n",
    "func(5,6)"
   ]
  },
  {
   "cell_type": "markdown",
   "metadata": {},
   "source": [
    "### 函数的嵌套调用"
   ]
  },
  {
   "cell_type": "code",
   "execution_count": 42,
   "metadata": {},
   "outputs": [
    {
     "name": "stdout",
     "output_type": "stream",
     "text": [
      "Im\n",
      "CN\n",
      "CTZ\n"
     ]
    }
   ],
   "source": [
    "def fun():\n",
    "    print('CN')\n",
    "    \n",
    "def fun1():\n",
    "    print('Im')\n",
    "    fun()\n",
    "    print('CTZ')\n",
    "    \n",
    "fun1()"
   ]
  },
  {
   "cell_type": "markdown",
   "metadata": {},
   "source": [
    "### 函数嵌套的应用"
   ]
  },
  {
   "cell_type": "raw",
   "metadata": {},
   "source": [
    "计算三个数的平均值"
   ]
  },
  {
   "cell_type": "code",
   "execution_count": 46,
   "metadata": {},
   "outputs": [
    {
     "name": "stdout",
     "output_type": "stream",
     "text": [
      "2.0\n"
     ]
    }
   ],
   "source": [
    "def sum_3_num(a,b,c):\n",
    "    result = a + b + c\n",
    "    return result\n",
    "\n",
    "def average_3_num(a1,b1,c1):\n",
    "    result = sum_3_num(a1,b1,c1)\n",
    "    agerage = result/3\n",
    "    print(agerage)\n",
    "    \n",
    "average_3_num(1,2,3)"
   ]
  },
  {
   "cell_type": "markdown",
   "metadata": {},
   "source": [
    "### 局部变量"
   ]
  },
  {
   "cell_type": "code",
   "execution_count": 54,
   "metadata": {},
   "outputs": [
    {
     "name": "stdout",
     "output_type": "stream",
     "text": [
      "3\n"
     ]
    }
   ],
   "source": [
    "def fun():\n",
    "    a = 3\n",
    "    print(a)\n",
    "    \n",
    "fun()"
   ]
  },
  {
   "cell_type": "markdown",
   "metadata": {},
   "source": [
    "### 全局变量"
   ]
  },
  {
   "cell_type": "code",
   "execution_count": 53,
   "metadata": {},
   "outputs": [
    {
     "name": "stdout",
     "output_type": "stream",
     "text": [
      "20000\n"
     ]
    }
   ],
   "source": [
    "b = 20000\n",
    "def fun():\n",
    "    print(b)\n",
    "fun()"
   ]
  },
  {
   "cell_type": "code",
   "execution_count": 56,
   "metadata": {},
   "outputs": [
    {
     "name": "stdout",
     "output_type": "stream",
     "text": [
      "200\n"
     ]
    }
   ],
   "source": [
    "b = 20000\n",
    "def fun1():\n",
    "    b = 200\n",
    "    print(b)\n",
    "fun1()\n",
    "\n",
    "### 为什么不是20000？在fun1()执行输出 b 时，首先会看自己函数内部有没有这个变量\n",
    "### 如果有，则用自己的变量 b ,如果没有才会去使用全局变量 b 。\n",
    "### 如果全局变量也没有这个变量，则会报错。"
   ]
  },
  {
   "cell_type": "markdown",
   "metadata": {},
   "source": [
    "### 全局变量与局部变量的区别"
   ]
  },
  {
   "cell_type": "code",
   "execution_count": 57,
   "metadata": {},
   "outputs": [
    {
     "name": "stdout",
     "output_type": "stream",
     "text": [
      "0\n"
     ]
    }
   ],
   "source": [
    "b = 0\n",
    "def fun():\n",
    "    b = 30\n",
    "    \n",
    "def fun1():\n",
    "    print(b)\n",
    "fun1()"
   ]
  },
  {
   "cell_type": "markdown",
   "metadata": {},
   "source": [
    "#### 怎样输出30？"
   ]
  },
  {
   "cell_type": "code",
   "execution_count": 60,
   "metadata": {},
   "outputs": [
    {
     "name": "stdout",
     "output_type": "stream",
     "text": [
      "30\n"
     ]
    }
   ],
   "source": [
    "def fun():\n",
    "    b = 30\n",
    "    return b\n",
    "def fun1(bb):\n",
    "    print(bb)\n",
    "result = fun()\n",
    "fun1(result)"
   ]
  },
  {
   "cell_type": "markdown",
   "metadata": {},
   "source": [
    "#### 修改全局变量，在局部前加global"
   ]
  },
  {
   "cell_type": "code",
   "execution_count": 64,
   "metadata": {},
   "outputs": [
    {
     "name": "stdout",
     "output_type": "stream",
     "text": [
      "30\n"
     ]
    }
   ],
   "source": [
    "b = 0 \n",
    "def fun():\n",
    "    global b\n",
    "    b = 30\n",
    "    \n",
    "def fun1():\n",
    "    print(b)\n",
    "    \n",
    "fun()\n",
    "fun1()"
   ]
  },
  {
   "cell_type": "markdown",
   "metadata": {},
   "source": [
    "### 全局变量定义的位置"
   ]
  },
  {
   "cell_type": "markdown",
   "metadata": {},
   "source": [
    "#### 第一种"
   ]
  },
  {
   "cell_type": "code",
   "execution_count": 65,
   "metadata": {},
   "outputs": [
    {
     "name": "stdout",
     "output_type": "stream",
     "text": [
      "0\n"
     ]
    }
   ],
   "source": [
    "b = 0\n",
    "def fun():\n",
    "    print(b)\n",
    "fun()"
   ]
  },
  {
   "cell_type": "markdown",
   "metadata": {},
   "source": [
    "#### 第二种"
   ]
  },
  {
   "cell_type": "code",
   "execution_count": 66,
   "metadata": {},
   "outputs": [
    {
     "name": "stdout",
     "output_type": "stream",
     "text": [
      "0\n"
     ]
    }
   ],
   "source": [
    "def fun():\n",
    "    print(b)\n",
    "\n",
    "b = 0\n",
    "fun()"
   ]
  },
  {
   "cell_type": "raw",
   "metadata": {},
   "source": [
    " 由此可见，全局变量首先要在函数的外面，其次要在调用函数之前。\n",
    " 因为函数是从上往下执行，所以在函数调用之前声明全局变量，\n",
    " 类似于让电脑看到这个变量一次，等到调用时就知道这个变量在哪里，直接拿来用。\n",
    " 如果在调用后声明，类似于电脑没见过这个变量，所以调用时就找不到这个变量，就会出错"
   ]
  },
  {
   "cell_type": "markdown",
   "metadata": {},
   "source": [
    "### 函数的缺省参数"
   ]
  },
  {
   "cell_type": "raw",
   "metadata": {},
   "source": [
    "缺省参数就是，在定义函数接收变量的形参时，就给形参一个默认的值。这种形参就是缺省参数。缺省参数只能在无默认值的参数的后面"
   ]
  },
  {
   "cell_type": "code",
   "execution_count": 67,
   "metadata": {},
   "outputs": [
    {
     "name": "stdout",
     "output_type": "stream",
     "text": [
      "1\n",
      "3\n",
      "10\n"
     ]
    }
   ],
   "source": [
    "def fun(a,b,c = 10):\n",
    "    print(a)\n",
    "    print(b)\n",
    "    print(c)\n",
    "    \n",
    "fun(1,3)"
   ]
  },
  {
   "cell_type": "code",
   "execution_count": 68,
   "metadata": {},
   "outputs": [
    {
     "name": "stdout",
     "output_type": "stream",
     "text": [
      "11\n",
      "88\n",
      "100\n"
     ]
    }
   ],
   "source": [
    "def fun(a,b = 88,c = 10):\n",
    "    print(a)\n",
    "    print(b)\n",
    "    print(c)\n",
    "    \n",
    "fun(11,c = 100)"
   ]
  },
  {
   "cell_type": "code",
   "execution_count": 70,
   "metadata": {},
   "outputs": [
    {
     "name": "stdout",
     "output_type": "stream",
     "text": [
      "1\n",
      "888\n",
      "999\n",
      "2\n"
     ]
    }
   ],
   "source": [
    "def fun(a,d,b = 88 ,c = 10):\n",
    "    print(a)\n",
    "    print(b)\n",
    "    print(c)\n",
    "    print(d)\n",
    "    \n",
    "fun(1,2,b = 888 , c = 999)       ### 按def设定写"
   ]
  },
  {
   "cell_type": "markdown",
   "metadata": {},
   "source": [
    "### 不定长参数"
   ]
  },
  {
   "cell_type": "code",
   "execution_count": 17,
   "metadata": {},
   "outputs": [
    {
     "name": "stdout",
     "output_type": "stream",
     "text": [
      "1\n",
      "2\n",
      "(3, 4, 5, 6, 7)\n",
      "1\n",
      "2\n",
      "(3,)\n"
     ]
    }
   ],
   "source": [
    "def sum(a,b,*args):     ### 在定义函数处加一个args的参数且前面要加\"*\"号\n",
    "    print(a)            ### args中保存的是没有利用的所有多余参数，保存方式为元组\n",
    "    print(b)\n",
    "    print(args)\n",
    "\n",
    "sum(1,2,3,4,5,6,7)\n",
    "sum(1,2,3)"
   ]
  },
  {
   "cell_type": "code",
   "execution_count": 20,
   "metadata": {},
   "outputs": [
    {
     "name": "stdout",
     "output_type": "stream",
     "text": [
      "1\n",
      "2\n",
      "(3, 4, 5, 6, 7)\n",
      "{'age': 26, 'shengao': 193}\n"
     ]
    }
   ],
   "source": [
    "def sum(a,b,*args,**kwargs):\n",
    "    print(a)\n",
    "    print(b)\n",
    "    print(args)\n",
    "    print(kwargs)            ### kwargs 是一个字典\n",
    "sum(1,2,3,4,5,6,7,age = 26 , shengao = 193)"
   ]
  },
  {
   "cell_type": "markdown",
   "metadata": {},
   "source": [
    "### 拆包"
   ]
  },
  {
   "cell_type": "code",
   "execution_count": 21,
   "metadata": {},
   "outputs": [
    {
     "name": "stdout",
     "output_type": "stream",
     "text": [
      "1\n",
      "2\n",
      "(3, 4, 5, (1, 2, 3, 4, 5), {'name': 'xm', 'age': 6})\n",
      "{}\n"
     ]
    }
   ],
   "source": [
    "def sum(a,b,*args,**kwargs):\n",
    "    print(a)\n",
    "    print(b)\n",
    "    print(args)\n",
    "    print(kwargs)\n",
    "    \n",
    "A=(1,2,3,4,5)\n",
    "B={'name':\"xm\",\"age\":6}\n",
    "sum(1,2,3,4,5,A,B)"
   ]
  },
  {
   "cell_type": "code",
   "execution_count": 23,
   "metadata": {},
   "outputs": [
    {
     "name": "stdout",
     "output_type": "stream",
     "text": [
      "1\n",
      "2\n",
      "(3, 4, 5, 1, 2, 3, 4, 5)\n",
      "{'name': 'xm', 'age': 6}\n"
     ]
    }
   ],
   "source": [
    "sum(1,2,3,4,5,*A,**B)     ### 正确调用方法"
   ]
  },
  {
   "cell_type": "markdown",
   "metadata": {},
   "source": [
    "### 引用"
   ]
  },
  {
   "cell_type": "code",
   "execution_count": 24,
   "metadata": {},
   "outputs": [
    {
     "name": "stdout",
     "output_type": "stream",
     "text": [
      "140721053578112\n",
      "140721053578112\n"
     ]
    }
   ],
   "source": [
    "a = 100\n",
    "b =  a\n",
    "\n",
    "print(id(a))   ### 代表100 所在的内存地址\n",
    "print(id(b))"
   ]
  },
  {
   "cell_type": "code",
   "execution_count": null,
   "metadata": {},
   "outputs": [],
   "source": []
  }
 ],
 "metadata": {
  "kernelspec": {
   "display_name": "Python 3",
   "language": "python",
   "name": "python3"
  },
  "language_info": {
   "codemirror_mode": {
    "name": "ipython",
    "version": 3
   },
   "file_extension": ".py",
   "mimetype": "text/x-python",
   "name": "python",
   "nbconvert_exporter": "python",
   "pygments_lexer": "ipython3",
   "version": "3.8.5"
  },
  "toc": {
   "base_numbering": 1,
   "nav_menu": {},
   "number_sections": true,
   "sideBar": true,
   "skip_h1_title": false,
   "title_cell": "Table of Contents",
   "title_sidebar": "Contents",
   "toc_cell": false,
   "toc_position": {},
   "toc_section_display": true,
   "toc_window_display": false
  }
 },
 "nbformat": 4,
 "nbformat_minor": 4
}
