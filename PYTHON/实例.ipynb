{
 "cells": [
  {
   "cell_type": "markdown",
   "metadata": {},
   "source": [
    "### 如何输出\"Hello World!\""
   ]
  },
  {
   "cell_type": "code",
   "execution_count": null,
   "metadata": {},
   "outputs": [],
   "source": [
    "print('Hello World!')"
   ]
  },
  {
   "cell_type": "markdown",
   "metadata": {},
   "source": [
    "### 用户输入两个数字，并计算两个数字之和："
   ]
  },
  {
   "cell_type": "code",
   "execution_count": null,
   "metadata": {},
   "outputs": [],
   "source": [
    "num1 = input('输入第一个数字')\n",
    "num2 = input('输入第二个数字')\n",
    "\n",
    "sum = float(num1) + float(num2)\n",
    "\n",
    "print('数字{0} 和 数字{1} 相加的结果为: {2}'.format(num1 , num2 , sum))"
   ]
  },
  {
   "cell_type": "code",
   "execution_count": null,
   "metadata": {},
   "outputs": [],
   "source": [
    "print(\n",
    "    '两数之和为%.1f'%(\n",
    "        float(\n",
    "            input('输入第一个数字:')\n",
    "        ) + float(\n",
    "            input('输入第二个数字:')\n",
    "        )\n",
    "                )\n",
    ")"
   ]
  },
  {
   "cell_type": "markdown",
   "metadata": {},
   "source": [
    "### 平方根"
   ]
  },
  {
   "cell_type": "code",
   "execution_count": null,
   "metadata": {},
   "outputs": [],
   "source": [
    "pow(-4,1/2)"
   ]
  },
  {
   "cell_type": "code",
   "execution_count": null,
   "metadata": {},
   "outputs": [],
   "source": [
    "(-4) ** (1/2)"
   ]
  },
  {
   "cell_type": "code",
   "execution_count": null,
   "metadata": {},
   "outputs": [],
   "source": [
    "num1 = input('请输入要计算算数平方根的数')\n",
    "num2 = 1/2 \n",
    "\n",
    "num_sqrt = pow(float(num1) , num2)\n",
    "\n",
    "print('算数平方根为{0}'.format(num_sqrt))"
   ]
  },
  {
   "cell_type": "markdown",
   "metadata": {},
   "source": [
    "### 二次方程"
   ]
  },
  {
   "cell_type": "code",
   "execution_count": null,
   "metadata": {},
   "outputs": [],
   "source": [
    "a = input('请输入a: ')\n",
    "b = input('请输入b: ')\n",
    "c = input('请输入c: ')\n",
    "\n",
    "d = float(b)**2 - 4 * float(a) * float(c) \n",
    "d = float(d)\n",
    "\n",
    "sol1 = (-float(b) + float(d)) / (2 * float(a))\n",
    "sol2 = (-float(b) - float(d)) / (2 * float(a))\n",
    "\n",
    "print('二次方程的两个接解为:{0},{1}'.format(sol1 , sol2))"
   ]
  },
  {
   "cell_type": "markdown",
   "metadata": {},
   "source": [
    "### 计算三角形面积"
   ]
  },
  {
   "cell_type": "code",
   "execution_count": null,
   "metadata": {},
   "outputs": [],
   "source": [
    "a = input('请输入边长a: ')\n",
    "b = input('请输入边长b: ')\n",
    "c = input('请输入边长c: ')\n",
    "\n",
    "a = float(a)\n",
    "b = float(b)\n",
    "c = float(c)\n",
    "\n",
    "p = (1/2) * (a + b + c)\n",
    "type(p)\n",
    "\n",
    "S = (1/4) * pow( (float(a) + float(b) + float(c)) * (float(a) + float(b) - float(c)) * (float(a) + float(c) - float(b)) * (float(b) + float(c) - float(a)),1/2)\n",
    "### 注意乘法需要使用 * \n",
    "print('三角形的面积为:{0}'.format(S))\n"
   ]
  },
  {
   "cell_type": "markdown",
   "metadata": {},
   "source": [
    "### 计算圆的面积"
   ]
  },
  {
   "cell_type": "code",
   "execution_count": null,
   "metadata": {},
   "outputs": [],
   "source": [
    "def circular_area(r):\n",
    "    PI = 3.14\n",
    "    return  3.14 * r * r \n",
    "    \n",
    "circular_area(7)"
   ]
  },
  {
   "cell_type": "markdown",
   "metadata": {},
   "source": [
    "### 随机数生成"
   ]
  },
  {
   "cell_type": "code",
   "execution_count": null,
   "metadata": {},
   "outputs": [],
   "source": [
    "import random\n",
    "\n",
    "random.randint(0 , 9 )"
   ]
  },
  {
   "cell_type": "markdown",
   "metadata": {},
   "source": [
    "### 摄氏温度转华氏温度"
   ]
  },
  {
   "cell_type": "code",
   "execution_count": null,
   "metadata": {},
   "outputs": [],
   "source": [
    "Fahrenheit = input('请输入华氏度')\n",
    "Fahrenheit = float(Fahrenheit)\n",
    "\n",
    "Celsius = Fahrenheit * 1.8 + 32\n",
    "print('摄氏温度为:{0}'.format(Celsius))"
   ]
  },
  {
   "cell_type": "markdown",
   "metadata": {},
   "source": [
    "### 交换变量"
   ]
  },
  {
   "cell_type": "code",
   "execution_count": null,
   "metadata": {},
   "outputs": [],
   "source": [
    "value1 = input('输入变量1: ')\n",
    "value2 = input('输入变量2: ')\n",
    "\n",
    "value1 , value2 = value2 , value1\n",
    "print('-----------------------')\n",
    "print('变量1的值为 :{}'.format(value1))\n",
    "print('变量2的值为 :{}'.format(value2))"
   ]
  },
  {
   "cell_type": "markdown",
   "metadata": {},
   "source": [
    "### if 语句"
   ]
  },
  {
   "cell_type": "markdown",
   "metadata": {},
   "source": [
    "#### 外嵌"
   ]
  },
  {
   "cell_type": "code",
   "execution_count": null,
   "metadata": {},
   "outputs": [],
   "source": [
    "num = input('请输入需要判断正负的数字: ')\n",
    "\n",
    "num = float(num)\n",
    "\n",
    "if num > 0:\n",
    "    print('{0}是正数'.format(num))\n",
    "elif num < 0:\n",
    "    print('{0}是负数'.format(num))\n",
    "else:\n",
    "    print('您输入的数字为0')"
   ]
  },
  {
   "cell_type": "markdown",
   "metadata": {},
   "source": [
    "#### 内嵌"
   ]
  },
  {
   "cell_type": "code",
   "execution_count": null,
   "metadata": {},
   "outputs": [],
   "source": [
    "num = float(input('请输入需要判断正负的数字: '))\n",
    "\n",
    "if num >= 0:\n",
    "    if num > 0:\n",
    "        print('{0}是正数'.format(num))\n",
    "    else:\n",
    "        print('您输入的数字是0')\n",
    "else:\n",
    "    print('{0}是负数'.format(num))"
   ]
  },
  {
   "cell_type": "markdown",
   "metadata": {},
   "source": [
    "### 判断字符串是否为数字"
   ]
  },
  {
   "cell_type": "code",
   "execution_count": null,
   "metadata": {},
   "outputs": [],
   "source": [
    "is_number = input('请输入字符串: ')\n",
    "a = '您输入的字符串为数字'\n",
    "b = '您输入的字符串不是数字'\n",
    "\n",
    "def num(is_number):\n",
    "    try:\n",
    "        float(is_number)\n",
    "        return a              ###  return只能写在def函数里面\n",
    "    except ValueError:\n",
    "        print(b)\n",
    "        \n",
    "num(is_number)"
   ]
  },
  {
   "cell_type": "code",
   "execution_count": null,
   "metadata": {},
   "outputs": [],
   "source": [
    "def is_number(s):\n",
    "    try:\n",
    "        float(s)\n",
    "        return True\n",
    "    except ValueError:\n",
    "        pass\n",
    " \n",
    "    try:\n",
    "        import unicodedata\n",
    "        unicodedata.numeric(s)\n",
    "        return True\n",
    "    except (TypeError, ValueError):\n",
    "        pass\n",
    " \n",
    "    return False"
   ]
  },
  {
   "cell_type": "code",
   "execution_count": null,
   "metadata": {},
   "outputs": [],
   "source": [
    "print(is_number('foo'))   # False\n",
    "print(is_number('1'))      # True\n",
    "print(is_number('1.3'))   # True\n",
    "print(is_number('-1.37')) # True\n",
    "print(is_number('1e3'))   # True\n",
    "# 测试 Unicode\n",
    "# 阿拉伯语 5\n",
    "print(is_number('٥'))  # True\n",
    "# 泰语 2\n",
    "print(is_number('๒'))  # True\n",
    "# 中文数字\n",
    "print(is_number('四')) # True\n",
    "# 版权号\n",
    "print(is_number('©'))  # False"
   ]
  },
  {
   "cell_type": "markdown",
   "metadata": {},
   "source": [
    "### 判断奇偶数"
   ]
  },
  {
   "cell_type": "code",
   "execution_count": null,
   "metadata": {},
   "outputs": [],
   "source": [
    "num = input ('请输入要判断奇偶的数字: ')\n",
    "num = float(num)\n",
    "\n",
    "if num % 2 == 0:\n",
    "    print('您输入的数字{}为偶数'.format(num))\n",
    "else:\n",
    "    print('您输入的数字{}为奇数'.format(num))"
   ]
  },
  {
   "cell_type": "markdown",
   "metadata": {},
   "source": [
    "### 判断闰年"
   ]
  },
  {
   "cell_type": "code",
   "execution_count": null,
   "metadata": {},
   "outputs": [],
   "source": [
    "year = input('请输入需要判断闰年的年份: ')\n",
    "\n",
    "year = int(year)\n",
    "\n",
    "if year % 400 == 0 :\n",
    "    print('输入的年份{}为世纪闰年'.format(year))\n",
    "elif year % 4 == 0:\n",
    "    print('输入的年费{}为普通闰年'.format(year))\n",
    "else:\n",
    "    print('输入的年费{}为平年'.formatf(year))"
   ]
  },
  {
   "cell_type": "code",
   "execution_count": null,
   "metadata": {},
   "outputs": [],
   "source": [
    "year = int(input('请输入需要判断闰年的年份: '))\n",
    "if (year % 4) == 0:\n",
    "    if (year % 100) == 0:\n",
    "        if (year % 400) == 0:\n",
    "            print(\"{0} 是闰年\".format(year))   # 整百年能被400整除的是闰年\n",
    "        else:\n",
    "            print(\"{0} 不是闰年\".format(year))\n",
    "    else:\n",
    "        print(\"{0} 是闰年\".format(year))       # 非整百年能被4整除的为闰年\n",
    "else:\n",
    "    print(\"{0} 不是闰年\".format(year))"
   ]
  },
  {
   "cell_type": "markdown",
   "metadata": {},
   "source": [
    "### 获取最大值"
   ]
  },
  {
   "cell_type": "code",
   "execution_count": null,
   "metadata": {},
   "outputs": [],
   "source": [
    "print(max(1,2))\n",
    "print(max('a','b'))\n",
    "\n",
    "print(max([1,2]))\n",
    "print(max(['a','b']))"
   ]
  },
  {
   "cell_type": "markdown",
   "metadata": {},
   "source": [
    "### 质数判断"
   ]
  },
  {
   "cell_type": "raw",
   "metadata": {},
   "source": [
    "一个大于1的自然数,除了1和它本身外,不能被其他自然数(质数)整除(2, 3, 5, 7等)\n",
    "该数除了1和它本身以外不再有其他的因数"
   ]
  },
  {
   "cell_type": "code",
   "execution_count": null,
   "metadata": {},
   "outputs": [],
   "source": [
    "num = int(input(\"请输入一个数字: \"))\n",
    " \n",
    "# 质数大于 1\n",
    "if num > 1:\n",
    "   # 查看因子\n",
    "   for i in range( 2 , num):\n",
    "       if (num % i) == 0:\n",
    "           print(num,\"不是质数\")\n",
    "           print(i , \"乘于\" , num // i,\"是\" , num)\n",
    "           break\n",
    "   else:\n",
    "       print(num,\"是质数\")\n",
    "\n",
    "else:\n",
    "    print(num,\"不是质数\")"
   ]
  },
  {
   "cell_type": "markdown",
   "metadata": {},
   "source": [
    "### 输出指定范围内的素数"
   ]
  },
  {
   "cell_type": "code",
   "execution_count": null,
   "metadata": {},
   "outputs": [],
   "source": [
    "Lower = int(input('输入区间最小值: '))\n",
    "Upper = int(input('输入区间最大值: '))\n",
    "\n",
    "for num in range(Lower , Upper + 1):\n",
    "    if num > 1:\n",
    "       for i in range( 2 , num):\n",
    "           if (num % i) == 0:\n",
    "               print(num,\"不是质数\")\n",
    "               break\n",
    "       else:\n",
    "           print(num,\"是质数\")\n",
    "\n",
    "    else:\n",
    "        print(num,\"不是质数\")"
   ]
  },
  {
   "cell_type": "markdown",
   "metadata": {},
   "source": [
    "### 阶乘"
   ]
  },
  {
   "cell_type": "code",
   "execution_count": null,
   "metadata": {},
   "outputs": [],
   "source": [
    "num = int(input(\"请输入一个数字: \"))\n",
    "factorial = 1\n",
    "\n",
    "if num < 0 :\n",
    "    print('负数没有阶乘')\n",
    "elif num == 0:\n",
    "    printt('0 的阶乘为1')\n",
    "else:\n",
    "    for i in range(1 , num + 1):\n",
    "        factorial = factorial * i\n",
    "    print('{0}的阶乘为{1}'.format(num , factorial))"
   ]
  },
  {
   "cell_type": "markdown",
   "metadata": {},
   "source": [
    "### 九九乘法表"
   ]
  },
  {
   "cell_type": "code",
   "execution_count": null,
   "metadata": {},
   "outputs": [],
   "source": [
    "for i in range(1 , 10):\n",
    "    for j in range(1 , i + 1):\n",
    "        print('{}*{}={}\\t'.format(j , i , i * j), end = '')\n",
    "    print( )"
   ]
  },
  {
   "cell_type": "markdown",
   "metadata": {},
   "source": [
    "### 斐波那契数列"
   ]
  },
  {
   "cell_type": "code",
   "execution_count": null,
   "metadata": {},
   "outputs": [],
   "source": [
    "nterms = int(input(\"你需要几项？\"))\n",
    "# 第一和第二项\n",
    "n1 = 0\n",
    "n2 = 1\n",
    "count = 2\n",
    "if nterms <= 0:\n",
    "    print(\"请输入一个正整数。\")\n",
    "elif nterms == 1:\n",
    "    print(\"斐波那契数列：\")\n",
    "    print(n1)\n",
    "else:\n",
    "    print(\"斐波那契数列：\")\n",
    "    print(n1,\",\",n2,end = \" , \")\n",
    "    while count < nterms:\n",
    "        nth = n1 + n2\n",
    "        print(nth,end = \" , \")\n",
    "        # 更新值\n",
    "        n1 = n2\n",
    "        n2 = nth\n",
    "        count += 1"
   ]
  },
  {
   "cell_type": "code",
   "execution_count": null,
   "metadata": {},
   "outputs": [],
   "source": [
    "def recur_fibo(n):\n",
    "    if n <= 1:\n",
    "        return n\n",
    "    else:\n",
    "        return(recur_fibo(n-1) + recur_fibo(n-2))\n",
    "\n",
    "nterms = int(input(\"您要输出几项? \"))\n",
    "\n",
    "if nterms <= 0:\n",
    "    print(\"输入正数\")\n",
    "else:\n",
    "    print(\"斐波那契数列:\")\n",
    "    for i in range(nterms):\n",
    "        print(recur_fibo(i))"
   ]
  },
  {
   "cell_type": "markdown",
   "metadata": {},
   "source": [
    "### 阿姆斯特朗数"
   ]
  },
  {
   "cell_type": "code",
   "execution_count": null,
   "metadata": {},
   "outputs": [],
   "source": [
    "num = int(input(\"请输入一个1000以内数字: \"))\n",
    "sum = 0\n",
    "n = len(str(num)) \n",
    "temp = num\n",
    "while temp > 0:\n",
    "    digit = temp % 10\n",
    "    sum += digit ** n\n",
    "    temp //= 10\n",
    " \n",
    "if num == sum:\n",
    "    print(num,\"是阿姆斯特朗数\")\n",
    "else:\n",
    "    print(num,\"不是阿姆斯特朗数\") "
   ]
  },
  {
   "cell_type": "code",
   "execution_count": null,
   "metadata": {},
   "outputs": [],
   "source": [
    "lower = int(input(\"最小值: \"))                            ### 获取指定期间内的阿姆斯特朗数\n",
    "upper = int(input(\"最大值: \"))\n",
    " \n",
    "for num in range(lower,upper + 1):\n",
    "    sum = 0\n",
    "    n = len(str(num))\n",
    "\n",
    "    temp = num\n",
    "    while temp > 0:\n",
    "        digit = temp % 10\n",
    "        sum += digit ** n\n",
    "        temp //= 10\n",
    "        if num == sum:\n",
    "            print(num)"
   ]
  },
  {
   "cell_type": "markdown",
   "metadata": {},
   "source": [
    "### 十进制转二进制、八进制、十六进制"
   ]
  },
  {
   "cell_type": "code",
   "execution_count": null,
   "metadata": {},
   "outputs": [],
   "source": [
    "decem  = int(input('输入十进制数字: '))\n",
    "\n",
    "print('十进制数为 :' , decem)\n",
    "print('转换为二进制为: ' , bin(decem))\n",
    "print('转换为八进制为: ' , oct(decem))\n",
    "print('转换为十六进制为: ' , hex(decem))"
   ]
  },
  {
   "cell_type": "markdown",
   "metadata": {},
   "source": [
    "### ASCII码与字符相互转换"
   ]
  },
  {
   "cell_type": "code",
   "execution_count": null,
   "metadata": {},
   "outputs": [],
   "source": [
    "str  = input('输入十进制数字: ')\n",
    "ASC = int(input('请输入一个ASCII码: '))\n",
    "\n",
    "print(str + '的ASCII码为: ' , ord(str))\n",
    "print(ASC , '对应的字符为' ,chr(ASC))"
   ]
  },
  {
   "cell_type": "markdown",
   "metadata": {},
   "source": [
    "### 最大公约数算法"
   ]
  },
  {
   "cell_type": "code",
   "execution_count": null,
   "metadata": {},
   "outputs": [],
   "source": [
    "def hcf(x, y):\n",
    "    if x > y:\n",
    "        smaller = y\n",
    "    else:\n",
    "        smaller = x\n",
    " \n",
    "    for i in range(1,smaller + 1):                                                    ### 两个数的公约数可能会有很多个,经过遍历后只会挑选最后(大)的数\n",
    "        if((x % i == 0) and (y % i == 0)):\n",
    "            hcf = i\n",
    " \n",
    "    return hcf\n",
    "\n",
    "num1 = int(input(\"输入第一个数字: \"))\n",
    "num2 = int(input(\"输入第二个数字: \"))\n",
    " \n",
    "print( num1,\"和\", num2,\"的最大公约数为\", hcf(num1, num2))"
   ]
  },
  {
   "cell_type": "markdown",
   "metadata": {},
   "source": [
    "### 最小公约数计算"
   ]
  },
  {
   "cell_type": "code",
   "execution_count": null,
   "metadata": {},
   "outputs": [],
   "source": [
    "def lcm(x, y):\n",
    "    if x > y:\n",
    "        greater = x\n",
    "    else:\n",
    "        greater = y\n",
    " \n",
    "    while(True):\n",
    "        if((greater % x == 0) and (greater % y == 0)):\n",
    "            lcm = greater\n",
    "            break\n",
    "        greater += 1\n",
    "    return lcm\n",
    "\n",
    "num1 = int(input(\"输入第一个数字: \"))\n",
    "num2 = int(input(\"输入第二个数字: \"))\n",
    " \n",
    "print( num1,\"和\", num2,\"的最小公倍数为\", lcm(num1, num2))"
   ]
  },
  {
   "cell_type": "markdown",
   "metadata": {},
   "source": [
    "### 计算器实现"
   ]
  },
  {
   "cell_type": "code",
   "execution_count": null,
   "metadata": {},
   "outputs": [],
   "source": [
    "def add(x, y):\n",
    "   return x + y\n",
    " \n",
    "def subtract(x, y):\n",
    "   return x - y\n",
    " \n",
    "def multiply(x, y): \n",
    "   return x * y\n",
    " \n",
    "def divide(x, y):\n",
    "   return x / y\n",
    " \n",
    "print(\"选择运算：\")\n",
    "print(\"1、相加\")\n",
    "print(\"2、相减\")\n",
    "print(\"3、相乘\")\n",
    "print(\"4、相除\")\n",
    " \n",
    "choice = input(\"输入你的选择(1/2/3/4):\")\n",
    " \n",
    "num1 = int(input(\"输入第一个数字: \"))\n",
    "num2 = int(input(\"输入第二个数字: \"))\n",
    " \n",
    "if choice == '1':\n",
    "    print(num1,\"+\",num2,\"=\", add(num1,num2))\n",
    " \n",
    "elif choice == '2':\n",
    "    print(num1,\"-\",num2,\"=\", subtract(num1,num2))\n",
    " \n",
    "elif choice == '3':\n",
    "    print(num1,\"*\",num2,\"=\", multiply(num1,num2))\n",
    " \n",
    "elif choice == '4':\n",
    "    print(num1,\"/\",num2,\"=\", divide(num1,num2))\n",
    "    \n",
    "else:\n",
    "    print(\"非法输入\")"
   ]
  },
  {
   "cell_type": "markdown",
   "metadata": {},
   "source": [
    "### 生成日历"
   ]
  },
  {
   "cell_type": "code",
   "execution_count": null,
   "metadata": {},
   "outputs": [],
   "source": [
    "import calendar\n",
    "\n",
    "year = int(input('输入年份: '))\n",
    "month = int(input('输入月份: '))\n",
    "\n",
    "print(calendar.month(year,month))"
   ]
  },
  {
   "cell_type": "markdown",
   "metadata": {},
   "source": [
    "### 文件IO"
   ]
  },
  {
   "cell_type": "code",
   "execution_count": null,
   "metadata": {},
   "outputs": [],
   "source": [
    "with open(\"test.txt\", \"wt\") as out_file:\n",
    "    out_file.write(\"该文本会写入到文件中\\n看到我了吧！\")\n",
    "\n",
    "with open(\"test.txt\", \"rt\") as in_file:\n",
    "    text = in_file.read()\n",
    " \n",
    "print(text)"
   ]
  },
  {
   "cell_type": "markdown",
   "metadata": {},
   "source": [
    "### 字符串判断"
   ]
  },
  {
   "cell_type": "code",
   "execution_count": null,
   "metadata": {},
   "outputs": [],
   "source": [
    "print(\"测试实例一\")\n",
    "str = \"COOLBOY.com\"\n",
    "print(str.isalnum())                # 判断所有字符都是数字或者字母\n",
    "print(str.isalpha())                 # 判断所有字符都是字母\n",
    "print(str.isdigit())                   # 判断所有字符都是数字\n",
    "print(str.islower())                 # 判断所有字符都是小写\n",
    "print(str.isupper())                # 判断所有字符都是大写\n",
    "print(str.istitle())                   # 判断所有单词都是首字母大写，像标题\n",
    "print(str.isspace())               # 判断所有字符都是空白字符、\\t、\\n、\\r\n",
    "\n",
    "print(\"------------------------\")\n",
    "\n",
    "print(\"测试实例二\")\n",
    "str = \"COOLBOY\"\n",
    "print(str.isalnum())                # 判断所有字符都是数字或者字母\n",
    "print(str.isalpha())                 # 判断所有字符都是字母\n",
    "print(str.isdigit())                   # 判断所有字符都是数字\n",
    "print(str.islower())                 # 判断所有字符都是小写\n",
    "print(str.isupper())                # 判断所有字符都是大写\n",
    "print(str.istitle())                   # 判断所有单词都是首字母大写，像标题\n",
    "print(str.isspace())               # 判断所有字符都是空白字符、\\t、\\n、\\r"
   ]
  },
  {
   "cell_type": "markdown",
   "metadata": {},
   "source": [
    "### 字符串大小写转换"
   ]
  },
  {
   "cell_type": "code",
   "execution_count": null,
   "metadata": {},
   "outputs": [],
   "source": [
    "str = 'www.coolboykim.com'\n",
    "\n",
    "print(str.upper())             # 把所有字符中的小写字母转换成大写字母\n",
    "print(str.lower())             # 把所有字符中的大写字母转换成小写字母\n",
    "print(str.capitalize())      # 把第一个字母转化为大写字母，其余小写\n",
    "print(str.title())               # 把每个单词的第一个字母转化为大写，其余小写 "
   ]
  },
  {
   "cell_type": "markdown",
   "metadata": {},
   "source": [
    "### 计算每个月天数"
   ]
  },
  {
   "cell_type": "code",
   "execution_count": null,
   "metadata": {},
   "outputs": [],
   "source": [
    "import calendar\n",
    "\n",
    "monthRange = calendar.monthrange(2021,10)\n",
    "print(monthRange)          ### 输出结果为元组,第一个元素是所查月份的第一天对应的是星期几,第二个元素是这个月的天数"
   ]
  },
  {
   "cell_type": "markdown",
   "metadata": {},
   "source": [
    "### 获取昨天的日期"
   ]
  },
  {
   "cell_type": "code",
   "execution_count": null,
   "metadata": {},
   "outputs": [],
   "source": [
    "import datetime\n",
    "\n",
    "def getYesterday():\n",
    "    today = datetime.date.today()\n",
    "    oneday = datetime.timedelta(days = 1)\n",
    "    yesterday = today - oneday\n",
    "    return yesterday\n",
    "\n",
    "print(getYesterday())"
   ]
  },
  {
   "cell_type": "markdown",
   "metadata": {},
   "source": [
    "### list 常用操作"
   ]
  },
  {
   "cell_type": "markdown",
   "metadata": {},
   "source": [
    "#### 定义"
   ]
  },
  {
   "cell_type": "code",
   "execution_count": null,
   "metadata": {},
   "outputs": [],
   "source": [
    "li = [ 'a' , 'b' , 'mpilgrim' ,'z' , 'example']\n",
    "print(li)\n",
    "print(li[1])"
   ]
  },
  {
   "cell_type": "markdown",
   "metadata": {},
   "source": [
    "#### 负数索引"
   ]
  },
  {
   "cell_type": "code",
   "execution_count": null,
   "metadata": {},
   "outputs": [],
   "source": [
    "print(li[-1])\n",
    "print(li[-3])\n",
    "print(li)\n",
    "print(li[1:3]  )\n",
    "print(li[1:-1])\n",
    "print(li[0:3]  )"
   ]
  },
  {
   "cell_type": "markdown",
   "metadata": {},
   "source": [
    "#### 增加元素"
   ]
  },
  {
   "cell_type": "code",
   "execution_count": null,
   "metadata": {},
   "outputs": [],
   "source": [
    "li = ['a', 'b', 'mpilgrim', 'z', 'example']\n",
    "\n",
    "li.append(\"new\")\n",
    "print(li)\n",
    "li.insert(2, \"new\")\n",
    "print(li)\n",
    "li.extend([\"two\", \"elements\"])\n",
    "print(li)"
   ]
  },
  {
   "cell_type": "markdown",
   "metadata": {},
   "source": [
    "#### 搜索"
   ]
  },
  {
   "cell_type": "code",
   "execution_count": null,
   "metadata": {},
   "outputs": [],
   "source": [
    "li = ['a', 'b', 'new', 'mpilgrim', 'z', 'example', 'new', 'two', 'elements']\n",
    "\n",
    "print(li.index(\"example\"))\n",
    "print(li.index(\"new\"))\n",
    "print(\"c\" in li)"
   ]
  },
  {
   "cell_type": "markdown",
   "metadata": {},
   "source": [
    "#### 删除元素"
   ]
  },
  {
   "cell_type": "code",
   "execution_count": null,
   "metadata": {},
   "outputs": [],
   "source": [
    "li = ['a', 'b', 'new', 'mpilgrim', 'z', 'example', 'new', 'two', 'elements']\n",
    "\n",
    "li.remove(\"z\")  \n",
    "print(li)\n",
    "li.remove(\"new\")    # 删除首次出现的一个值\n",
    "print(li)\n",
    "li.pop()      # pop 会做两件事: 删除 list 的最后一个元素, 然后返回删除元素的值。\n",
    "print(li)"
   ]
  },
  {
   "cell_type": "markdown",
   "metadata": {},
   "source": [
    "#### 运算符"
   ]
  },
  {
   "cell_type": "code",
   "execution_count": null,
   "metadata": {},
   "outputs": [],
   "source": [
    "li = ['a', 'b', 'mpilgrim']\n",
    "li = li + ['example', 'new']\n",
    "print(li)\n",
    "\n",
    "li += ['two']        \n",
    "print(li)\n",
    "\n",
    "li = [1, 2] * 3\n",
    "print(li)"
   ]
  },
  {
   "cell_type": "markdown",
   "metadata": {},
   "source": [
    "#### 使用join链接list成为字符串"
   ]
  },
  {
   "cell_type": "code",
   "execution_count": null,
   "metadata": {},
   "outputs": [],
   "source": [
    "params = {\"server\":\"mpilgrim\", \"database\":\"master\", \"uid\":\"sa\", \"pwd\":\"secret\"}\n",
    "\n",
    "print([\"%s=%s\" % (k, v) for k, v in params.items()])\n",
    "print((\";\".join([\"%s=%s\" % (k, v) for k, v in params.items()])))"
   ]
  },
  {
   "cell_type": "markdown",
   "metadata": {},
   "source": [
    "#### 分割字符串"
   ]
  },
  {
   "cell_type": "code",
   "execution_count": null,
   "metadata": {},
   "outputs": [],
   "source": [
    "li = ['server=mpilgrim', 'uid=sa', 'database=master', 'pwd=secret']\n",
    "s = \";\".join(li)\n",
    "\n",
    "print(s)\n",
    "print(s.split(\";\"))\n",
    "print(s.split(\";\", 1))"
   ]
  },
  {
   "cell_type": "markdown",
   "metadata": {},
   "source": [
    "#### list的映射解析"
   ]
  },
  {
   "cell_type": "code",
   "execution_count": null,
   "metadata": {},
   "outputs": [],
   "source": [
    "li = [1, 9, 8, 4]\n",
    "\n",
    "print([elem*2 for elem in li])\n",
    "print(li)\n",
    "\n",
    "li = [elem*2 for elem in li]\n",
    "print(li)"
   ]
  },
  {
   "cell_type": "markdown",
   "metadata": {},
   "source": [
    "#### dictionary 中的解析"
   ]
  },
  {
   "cell_type": "code",
   "execution_count": null,
   "metadata": {},
   "outputs": [],
   "source": [
    "params = {\"server\":\"mpilgrim\", \"database\":\"master\", \"uid\":\"sa\", \"pwd\":\"secret\"}\n",
    "\n",
    "print(params.keys())\n",
    "print(params.values())\n",
    "print(params.items())\n",
    "print([k for k, v in params.items()])\n",
    "print([v for k, v in params.items()])\n",
    "print([\"%s=%s\" % (k, v) for k, v in params.items()])"
   ]
  },
  {
   "cell_type": "markdown",
   "metadata": {},
   "source": [
    "#### list 过滤"
   ]
  },
  {
   "cell_type": "code",
   "execution_count": null,
   "metadata": {},
   "outputs": [],
   "source": [
    "li = [\"a\", \"mpilgrim\", \"foo\", \"b\", \"c\", \"b\", \"d\", \"d\"]\n",
    "\n",
    "print([elem for elem in li if len(elem) > 1])\n",
    "print([elem for elem in li if elem != \"b\"])\n",
    "print([elem for elem in li if li.count(elem) == 1])"
   ]
  },
  {
   "cell_type": "markdown",
   "metadata": {
    "run_control": {
     "marked": true
    }
   },
   "source": [
    "### 约瑟夫生者死者小游戏"
   ]
  },
  {
   "cell_type": "code",
   "execution_count": null,
   "metadata": {},
   "outputs": [],
   "source": [
    "people={}\n",
    "for x in range(1,31):\n",
    "    people[x] = 1\n",
    "# print(people)\n",
    "check = 0\n",
    "i = 1\n",
    "j = 0\n",
    "while i <= 31:\n",
    "    if i == 31:\n",
    "        i = 1\n",
    "    elif j == 15:\n",
    "        break\n",
    "    else:\n",
    "        if people[i] == 0:\n",
    "            i += 1\n",
    "            continue\n",
    "        else:\n",
    "            check += 1\n",
    "            if check == 9:\n",
    "                people[i] = 0\n",
    "                check = 0\n",
    "                print(\"{}号下船了\".format(i))\n",
    "                j += 1\n",
    "            else:\n",
    "                i += 1\n",
    "                continue"
   ]
  },
  {
   "cell_type": "markdown",
   "metadata": {},
   "source": [
    "### 五人分🐟"
   ]
  },
  {
   "cell_type": "code",
   "execution_count": null,
   "metadata": {},
   "outputs": [],
   "source": [
    "def main():\n",
    "    fish = 1\n",
    "    while True:\n",
    "        total, enough = fish, True\n",
    "        for _ in range(5):\n",
    "            if (total - 1) % 5 == 0:\n",
    "                total = (total - 1)  //  5 * 4\n",
    "            else:\n",
    "                enough = False\n",
    "                break\n",
    "        if enough:\n",
    "            print(f'总共有{fish}条鱼')\n",
    "            break\n",
    "        fish += 1\n",
    "\n",
    "if __name__ == '__main__':\n",
    "    main()"
   ]
  },
  {
   "cell_type": "markdown",
   "metadata": {},
   "source": [
    "### 实现秒表功能"
   ]
  },
  {
   "cell_type": "code",
   "execution_count": 3,
   "metadata": {},
   "outputs": [
    {
     "name": "stdout",
     "output_type": "stream",
     "text": [
      "按下回车开始计时，按下 Ctrl + C 停止计时。\n",
      "\n",
      "开始\n",
      "结束:  4.0 秒\n",
      "总共的时间为: 5.0 secs\n"
     ]
    }
   ],
   "source": [
    "import time\n",
    "print('按下回车开始计时，按下 I , I 停止计时.')\n",
    "while True:  \n",
    "    input(\"\") \n",
    "    starttime = time.time()\n",
    "    print('开始')\n",
    "    try:\n",
    "        while True:\n",
    "            print('计时: ', round(time.time() - starttime, 0), '秒', end=\"\\r\")\n",
    "            time.sleep(1)\n",
    "    except KeyboardInterrupt:\n",
    "        print('结束')\n",
    "        endtime = time.time()\n",
    "        print('总共的时间为:', round(endtime - starttime, 2),'secs')\n",
    "        break"
   ]
  },
  {
   "cell_type": "markdown",
   "metadata": {},
   "source": [
    "### 计算 n 个自然数的立方和"
   ]
  },
  {
   "cell_type": "code",
   "execution_count": 7,
   "metadata": {},
   "outputs": [
    {
     "name": "stdout",
     "output_type": "stream",
     "text": [
      "225\n"
     ]
    }
   ],
   "source": [
    "def  sumpow(n):\n",
    "    sum = 0\n",
    "    for i in range (1 , n + 1):\n",
    "        sum += pow( i , 3)\n",
    "    return sum\n",
    "\n",
    "n = 5\n",
    "print(sumpow(5))"
   ]
  },
  {
   "cell_type": "markdown",
   "metadata": {},
   "source": [
    "### 计算数组元素之和"
   ]
  },
  {
   "cell_type": "code",
   "execution_count": 9,
   "metadata": {},
   "outputs": [
    {
     "name": "stdout",
     "output_type": "stream",
     "text": [
      "数组元素之和为: 34\n"
     ]
    }
   ],
   "source": [
    "def tupsum(arr, n):\n",
    "    return(sum(arr))\n",
    "\n",
    "arr = []\n",
    "arr = [12,3 ,4,15]\n",
    "\n",
    "n = len(arr)\n",
    "\n",
    "print('数组元素之和为:' , tupsum(arr , n))"
   ]
  },
  {
   "cell_type": "markdown",
   "metadata": {},
   "source": [
    "### 数组翻转指定个数的元素"
   ]
  },
  {
   "cell_type": "markdown",
   "metadata": {},
   "source": [
    "#### 实例1"
   ]
  },
  {
   "cell_type": "code",
   "execution_count": 3,
   "metadata": {},
   "outputs": [
    {
     "name": "stdout",
     "output_type": "stream",
     "text": [
      "3,4,5,6,7,1,2,"
     ]
    }
   ],
   "source": [
    "def leftRotate(arr, d, n):\n",
    "    for i in range(d):\n",
    "        leftRotatebyOne(arr, n)\n",
    "def leftRotatebyOne(arr, n):\n",
    "    temp = arr[0]\n",
    "    for i in range(n-1):\n",
    "        arr[i] = arr[i+1]\n",
    "    arr[n-1] = temp\n",
    "         \n",
    " \n",
    "def printArray(arr,size):\n",
    "    for i in range(size):\n",
    "        print (\"%d\"% arr[i],end=\",\")\n",
    " \n",
    "\n",
    "arr = [1, 2, 3, 4, 5, 6, 7]\n",
    "leftRotate(arr, 2, 7)\n",
    "printArray(arr, 7)"
   ]
  },
  {
   "cell_type": "markdown",
   "metadata": {},
   "source": [
    "#### 实例2"
   ]
  },
  {
   "cell_type": "code",
   "execution_count": 5,
   "metadata": {},
   "outputs": [
    {
     "name": "stdout",
     "output_type": "stream",
     "text": [
      "3,4,5,6,7,1,2,"
     ]
    }
   ],
   "source": [
    "def leftRotate(arr, d, n):\n",
    "    for i in range(gcd(d,n)):          ### gcd 最大公约数     \n",
    "        temp = arr[i]                       ### 最小公倍数  a*b / gcd(a,b)\n",
    "        j = i\n",
    "        while 1:\n",
    "            k = j + d\n",
    "            if k >= n:\n",
    "                k = k - n\n",
    "            if k == i:\n",
    "                break\n",
    "            arr[j] = arr[k]\n",
    "            j = k\n",
    "        arr[j] = temp\n",
    "\n",
    "def printArray(arr, size):\n",
    "    for i in range(size):\n",
    "        print (\"%d\" % arr[i], end=\",\")\n",
    "\n",
    "def gcd(a, b):\n",
    "    if b == 0:\n",
    "        return a;\n",
    "    else:\n",
    "        return gcd(b, a%b)\n",
    "\n",
    "arr = [1, 2, 3, 4, 5, 6, 7]\n",
    "leftRotate(arr, 2, 7)\n",
    "printArray(arr, 7)"
   ]
  },
  {
   "cell_type": "markdown",
   "metadata": {},
   "source": [
    "#### 实例3"
   ]
  },
  {
   "cell_type": "code",
   "execution_count": 13,
   "metadata": {},
   "outputs": [
    {
     "name": "stdout",
     "output_type": "stream",
     "text": [
      "3,4,5,6,7,1,2,"
     ]
    }
   ],
   "source": [
    "def rverseArray(arr, start, end):\n",
    "    while (start < end):\n",
    "        temp = arr[start]\n",
    "        arr[start] = arr[end]\n",
    "        arr[end] = temp\n",
    "        start += 1\n",
    "        end = end-1\n",
    " \n",
    "def leftRotate(arr, d):\n",
    "    n = len(arr)\n",
    "    rverseArray(arr, 0, d-1)\n",
    "    rverseArray(arr, d, n-1)\n",
    "    rverseArray(arr, 0, n-1)\n",
    " \n",
    "def printArray(arr):\n",
    "    for i in range(0, len(arr)):\n",
    "        print (arr[i], end=',')\n",
    " \n",
    "arr = [1, 2, 3, 4, 5, 6, 7]\n",
    "leftRotate(arr, 2)\n",
    "printArray(arr)"
   ]
  },
  {
   "cell_type": "markdown",
   "metadata": {},
   "source": [
    "### 将列表中的头尾两个元素对调"
   ]
  },
  {
   "cell_type": "markdown",
   "metadata": {},
   "source": [
    "#### 实例1"
   ]
  },
  {
   "cell_type": "code",
   "execution_count": 17,
   "metadata": {},
   "outputs": [
    {
     "name": "stdout",
     "output_type": "stream",
     "text": [
      "[3, 2, 1]\n"
     ]
    }
   ],
   "source": [
    "def swapList(newList):\n",
    "    size = len(newList)\n",
    "     \n",
    "    temp = newList[0]\n",
    "    newList[0] = newList[size - 1]\n",
    "    newList[size - 1] = temp\n",
    "     \n",
    "    return newList\n",
    "\n",
    "newList = [1, 2, 3]\n",
    " \n",
    "print(swapList(newList))"
   ]
  },
  {
   "cell_type": "markdown",
   "metadata": {},
   "source": [
    "#### 实例2"
   ]
  },
  {
   "cell_type": "code",
   "execution_count": 18,
   "metadata": {},
   "outputs": [
    {
     "name": "stdout",
     "output_type": "stream",
     "text": [
      "[3, 2, 1]\n"
     ]
    }
   ],
   "source": [
    "def swapList(newList):     \n",
    "    newList[0], newList[-1] = newList[-1], newList[0]\n",
    "    return newList\n",
    "     \n",
    "newList = [1, 2, 3]\n",
    "print(swapList(newList))"
   ]
  },
  {
   "cell_type": "markdown",
   "metadata": {},
   "source": [
    "#### 实例3"
   ]
  },
  {
   "cell_type": "code",
   "execution_count": 19,
   "metadata": {},
   "outputs": [
    {
     "name": "stdout",
     "output_type": "stream",
     "text": [
      "[3, 2, 1]\n"
     ]
    }
   ],
   "source": [
    "def swapList(list):\n",
    "    get = list[-1], list[0]   \n",
    "    list[0], list[-1] = get   \n",
    "    return list\n",
    "     \n",
    "newList = [1, 2, 3]\n",
    "print(swapList(newList))"
   ]
  },
  {
   "cell_type": "markdown",
   "metadata": {},
   "source": [
    "### 将列表中的指定位置的两个元素对调"
   ]
  },
  {
   "cell_type": "code",
   "execution_count": 20,
   "metadata": {},
   "outputs": [
    {
     "name": "stdout",
     "output_type": "stream",
     "text": [
      "请输入第一个需要对调的元素: 1\n",
      "请输入第二个需要对调的元素: 3\n"
     ]
    },
    {
     "data": {
      "text/plain": [
       "[19, 65, 23, 90]"
      ]
     },
     "execution_count": 20,
     "metadata": {},
     "output_type": "execute_result"
    }
   ],
   "source": [
    "List = [23,65,19,90] \n",
    "pos1 = int(input('请输入第一个需要对调的元素: '))\n",
    "pos2 = int(input('请输入第二个需要对调的元素: '))\n",
    "\n",
    "List[pos1 - 1 ] , List[pos2 - 1]  = List[pos2 - 1] , List[pos1 - 1]\n",
    "List"
   ]
  },
  {
   "cell_type": "markdown",
   "metadata": {},
   "source": [
    "### 翻转列表"
   ]
  },
  {
   "cell_type": "markdown",
   "metadata": {},
   "source": [
    "#### 实例1"
   ]
  },
  {
   "cell_type": "code",
   "execution_count": 24,
   "metadata": {},
   "outputs": [
    {
     "name": "stdout",
     "output_type": "stream",
     "text": [
      "[15, 14, 13, 12, 11, 10]\n"
     ]
    },
    {
     "data": {
      "text/plain": [
       "[15, 14, 13, 12, 11, 10]"
      ]
     },
     "execution_count": 24,
     "metadata": {},
     "output_type": "execute_result"
    }
   ],
   "source": [
    "List = [10, 11, 12, 13, 14, 15]\n",
    "\n",
    "reversedeList = reversed(List)\n",
    "print(list(reversedeList))"
   ]
  },
  {
   "cell_type": "markdown",
   "metadata": {},
   "source": [
    "#### 实例2"
   ]
  },
  {
   "cell_type": "code",
   "execution_count": 25,
   "metadata": {},
   "outputs": [
    {
     "data": {
      "text/plain": [
       "[15, 14, 13, 12, 11, 10]"
      ]
     },
     "execution_count": 25,
     "metadata": {},
     "output_type": "execute_result"
    }
   ],
   "source": [
    "List = [10, 11, 12, 13, 14, 15]\n",
    "\n",
    "List[::-1]"
   ]
  },
  {
   "cell_type": "markdown",
   "metadata": {},
   "source": [
    "### 判断元素是否存在"
   ]
  },
  {
   "cell_type": "markdown",
   "metadata": {},
   "source": [
    "#### 实例1"
   ]
  },
  {
   "cell_type": "code",
   "execution_count": 26,
   "metadata": {},
   "outputs": [
    {
     "name": "stdout",
     "output_type": "stream",
     "text": [
      "查看4是否在列表中(使用循环) :\n",
      "存在\n",
      "查看4是否在列表中(使用in关键字) :\n",
      "存在\n"
     ]
    }
   ],
   "source": [
    "test_list = [ 1, 6, 3, 5, 3, 4 ]\n",
    "print(\"查看4是否在列表中(使用循环) :\")\n",
    " \n",
    "for i in test_list:\n",
    "    if(i == 4) :\n",
    "        print (\"存在\")\n",
    " \n",
    "print(\"查看4是否在列表中(使用in关键字) :\")\n",
    "\n",
    "if (4 in test_list):\n",
    "    print (\"存在\")"
   ]
  },
  {
   "cell_type": "markdown",
   "metadata": {},
   "source": [
    "#### 实例2"
   ]
  },
  {
   "cell_type": "code",
   "execution_count": 29,
   "metadata": {},
   "outputs": [
    {
     "name": "stdout",
     "output_type": "stream",
     "text": [
      "查看 4 是否在列表中 ( 使用 set() + in) : \n",
      "存在\n",
      "查看4是否在列表中(使用count()):\n",
      "存在\n"
     ]
    }
   ],
   "source": [
    "test_list_set = [ 1, 6, 3, 5, 3, 4 ]\n",
    "test_list_bisect = [ 1, 6, 3, 5, 3, 4 ]\n",
    " \n",
    "print(\"查看 4 是否在列表中 ( 使用 set() + in) : \")\n",
    " \n",
    "test_list_set = set(test_list_set)    ### set() 函数创建一个无序不重复元素集,可进行关系测试,删除重复数据,还可以计算交集、差集、并集等.\n",
    "if 4 in test_list_set:\n",
    "    print('存在')\n",
    "    \n",
    "print('查看4是否在列表中(使用count()):')\n",
    "\n",
    "if test_list_bisect.count(4) > 0 :\n",
    "    print('存在')"
   ]
  },
  {
   "cell_type": "markdown",
   "metadata": {},
   "source": [
    "### 清空列表"
   ]
  },
  {
   "cell_type": "code",
   "execution_count": 30,
   "metadata": {},
   "outputs": [
    {
     "name": "stdout",
     "output_type": "stream",
     "text": [
      "[10, 11, 12, 13, 14, 15]\n",
      "[]\n"
     ]
    }
   ],
   "source": [
    "LIst = [6 , 0 , 4 , 1]\n",
    "print(List)\n",
    "\n",
    "List.clear()\n",
    "print(List)"
   ]
  },
  {
   "cell_type": "markdown",
   "metadata": {},
   "source": [
    "### 复制列表"
   ]
  },
  {
   "cell_type": "markdown",
   "metadata": {},
   "source": [
    "#### 实例1"
   ]
  },
  {
   "cell_type": "code",
   "execution_count": 31,
   "metadata": {},
   "outputs": [
    {
     "name": "stdout",
     "output_type": "stream",
     "text": [
      "原始列表:  [4, 8, 2, 10, 15, 18]\n",
      "复制列表:  [4, 8, 2, 10, 15, 18]\n"
     ]
    }
   ],
   "source": [
    "def copy_List(li1):\n",
    "    li_copy = li1[:]\n",
    "    return li_copy\n",
    "\n",
    "li1 = [4 , 8 , 2 , 10 , 15 , 18]\n",
    "li2 = copy_List(li1)\n",
    "print('原始列表: ', li1)\n",
    "print('复制列表: ', li2)"
   ]
  },
  {
   "cell_type": "markdown",
   "metadata": {},
   "source": [
    "#### 实例2"
   ]
  },
  {
   "cell_type": "code",
   "execution_count": 5,
   "metadata": {},
   "outputs": [
    {
     "name": "stdout",
     "output_type": "stream",
     "text": [
      "原始列表: [4, 8, 2, 10, 15, 18]\n",
      "复制后列表: [4, 8, 2, 10, 15, 18]\n"
     ]
    }
   ],
   "source": [
    "def copy_List(li1):\n",
    "    li_copy = []\n",
    "    li_copy.extend(li1)\n",
    "    return li_copy\n",
    " \n",
    "li1 = [4, 8, 2, 10, 15, 18]\n",
    "li2 = copy_List(li1)\n",
    "print(\"原始列表:\", li1)\n",
    "print(\"复制后列表:\", li2)"
   ]
  },
  {
   "cell_type": "markdown",
   "metadata": {},
   "source": [
    "### 计算元素在列表中出现的次数"
   ]
  },
  {
   "cell_type": "markdown",
   "metadata": {},
   "source": [
    "#### 实例1"
   ]
  },
  {
   "cell_type": "code",
   "execution_count": 8,
   "metadata": {},
   "outputs": [
    {
     "data": {
      "text/plain": [
       "3"
      ]
     },
     "execution_count": 8,
     "metadata": {},
     "output_type": "execute_result"
    }
   ],
   "source": [
    "import math\n",
    "\n",
    "lst = [15, 6, 7, 10, 12, 20, 10, 28, 10]\n",
    "x = lst.count(10)\n",
    "x"
   ]
  },
  {
   "cell_type": "markdown",
   "metadata": {},
   "source": [
    "#### 实例2"
   ]
  },
  {
   "cell_type": "code",
   "execution_count": 12,
   "metadata": {
    "run_control": {
     "marked": true
    }
   },
   "outputs": [
    {
     "name": "stdout",
     "output_type": "stream",
     "text": [
      "请输入需要计算个数的数字10\n",
      "3\n"
     ]
    }
   ],
   "source": [
    "def lstcount(lst,x):\n",
    "    return lst.count(x)\n",
    "\n",
    "lst = [15, 6, 7, 10, 12, 20, 10, 28, 10]\n",
    "x = int(input('请输入需要计算个数的数字'))\n",
    "print(lstcount(lst, x))"
   ]
  },
  {
   "cell_type": "markdown",
   "metadata": {},
   "source": [
    "#### 实例3"
   ]
  },
  {
   "cell_type": "code",
   "execution_count": 13,
   "metadata": {},
   "outputs": [
    {
     "name": "stdout",
     "output_type": "stream",
     "text": [
      "请输入需要计算个数的数字10\n",
      "3\n"
     ]
    }
   ],
   "source": [
    "def lstcount(lst , x):\n",
    "    count = 0\n",
    "    for ele in lst:\n",
    "        if (ele == x):\n",
    "            count = count + 1 \n",
    "    return count\n",
    "\n",
    "lst = [15, 6, 7, 10, 12, 20, 10, 28, 10]\n",
    "x = int(input('请输入需要计算个数的数字'))\n",
    "print(lstcount(lst, x))"
   ]
  },
  {
   "cell_type": "markdown",
   "metadata": {},
   "source": [
    "### 计算列表元素之和"
   ]
  },
  {
   "cell_type": "markdown",
   "metadata": {},
   "source": [
    "#### 实例1"
   ]
  },
  {
   "cell_type": "code",
   "execution_count": 22,
   "metadata": {},
   "outputs": [
    {
     "name": "stdout",
     "output_type": "stream",
     "text": [
      "列表的元素之和为:  74\n"
     ]
    }
   ],
   "source": [
    "lst = [11 ,  5 , 17 , 18 , 23]\n",
    "\n",
    "total = sum(lst)\n",
    "print('列表的元素之和为: ' , total)"
   ]
  },
  {
   "cell_type": "markdown",
   "metadata": {},
   "source": [
    "#### 实例2"
   ]
  },
  {
   "cell_type": "code",
   "execution_count": 21,
   "metadata": {},
   "outputs": [
    {
     "name": "stdout",
     "output_type": "stream",
     "text": [
      "列表的元素之和为:  74\n"
     ]
    }
   ],
   "source": [
    "total = 0\n",
    "lst = [11 ,  5 , 17 , 18 , 23]\n",
    "\n",
    "for ele in range(0 , len(lst)):\n",
    "    total = total + lst[ele]\n",
    "    \n",
    "print('列表的元素之和为: ' , total)"
   ]
  },
  {
   "cell_type": "markdown",
   "metadata": {},
   "source": [
    "#### 实例3"
   ]
  },
  {
   "cell_type": "code",
   "execution_count": 25,
   "metadata": {},
   "outputs": [
    {
     "name": "stdout",
     "output_type": "stream",
     "text": [
      "列表的元素之和为:  74\n"
     ]
    }
   ],
   "source": [
    "total = 0\n",
    "ele = 0\n",
    "lst = [11 ,  5 , 17 , 18 , 23]\n",
    "\n",
    "while (ele < len(lst)):\n",
    "    total = total + lst[ele]\n",
    "    ele += 1\n",
    "    \n",
    "print('列表的元素之和为: ' , total)"
   ]
  },
  {
   "cell_type": "markdown",
   "metadata": {},
   "source": [
    "#### 实例4"
   ]
  },
  {
   "cell_type": "code",
   "execution_count": 32,
   "metadata": {},
   "outputs": [
    {
     "name": "stdout",
     "output_type": "stream",
     "text": [
      "列表元素之和为:  74\n"
     ]
    }
   ],
   "source": [
    "lst = [11 ,  5 , 17 , 18 , 23]\n",
    "\n",
    "def sumOflst(lst, size):\n",
    "    if (size == 0):\n",
    "        return 0\n",
    "    else:\n",
    "        return lst[size - 1] + sumOflst(lst, size - 1)\n",
    "total = sumOflst(lst, len(lst))\n",
    "\n",
    "print(\"列表元素之和为: \", total)"
   ]
  },
  {
   "cell_type": "markdown",
   "metadata": {},
   "source": [
    "### 计算列表元素之积"
   ]
  },
  {
   "cell_type": "code",
   "execution_count": 33,
   "metadata": {},
   "outputs": [
    {
     "name": "stdout",
     "output_type": "stream",
     "text": [
      "6\n",
      "24\n"
     ]
    }
   ],
   "source": [
    "def multiplyList(myList):   \n",
    "    result = 1\n",
    "    for x in myList:\n",
    "         result = result * x  \n",
    "    return result  \n",
    "\n",
    "list1 = [1, 2, 3]  \n",
    "list2 = [3, 2, 4]\n",
    "print(multiplyList(list1))\n",
    "print(multiplyList(list2))"
   ]
  },
  {
   "cell_type": "markdown",
   "metadata": {},
   "source": [
    "### 查找列表中最小元素"
   ]
  },
  {
   "cell_type": "markdown",
   "metadata": {},
   "source": [
    "#### 实例1"
   ]
  },
  {
   "cell_type": "code",
   "execution_count": 36,
   "metadata": {},
   "outputs": [
    {
     "name": "stdout",
     "output_type": "stream",
     "text": [
      "最小元素为: 4\n"
     ]
    }
   ],
   "source": [
    "list1 = [10, 20, 4, 45, 99]\n",
    " \n",
    "list1.sort()\n",
    "print(\"最小元素为:\", *list1[:1])"
   ]
  },
  {
   "cell_type": "markdown",
   "metadata": {},
   "source": [
    "#### 实例2"
   ]
  },
  {
   "cell_type": "code",
   "execution_count": 41,
   "metadata": {},
   "outputs": [
    {
     "name": "stdout",
     "output_type": "stream",
     "text": [
      "最小元素为:  4\n"
     ]
    }
   ],
   "source": [
    "list1 = [10, 20, 4, 45, 99]\n",
    "\n",
    "print('最小元素为: ' , min(list1))"
   ]
  },
  {
   "cell_type": "markdown",
   "metadata": {},
   "source": [
    "### 查找列表中最大的元素"
   ]
  },
  {
   "cell_type": "markdown",
   "metadata": {},
   "source": [
    "#### 实例1"
   ]
  },
  {
   "cell_type": "code",
   "execution_count": 48,
   "metadata": {},
   "outputs": [
    {
     "name": "stdout",
     "output_type": "stream",
     "text": [
      "最大元素为: 99\n"
     ]
    }
   ],
   "source": [
    "list1 = [10, 20, 4, 45, 99]\n",
    "\n",
    "list1.sort()\n",
    "print('最大元素为:' , *list1[-1:])"
   ]
  },
  {
   "cell_type": "markdown",
   "metadata": {},
   "source": [
    "#### 实例2"
   ]
  },
  {
   "cell_type": "code",
   "execution_count": 44,
   "metadata": {},
   "outputs": [
    {
     "name": "stdout",
     "output_type": "stream",
     "text": [
      "最大元素为:  99\n"
     ]
    }
   ],
   "source": [
    "list1 = [10, 20, 4, 45, 99]\n",
    "\n",
    "print('最大元素为: ' , max(list1))"
   ]
  },
  {
   "cell_type": "markdown",
   "metadata": {},
   "source": [
    "### 移除字符串中的指定位置字符"
   ]
  },
  {
   "cell_type": "markdown",
   "metadata": {},
   "source": [
    "#### 实例1"
   ]
  },
  {
   "cell_type": "code",
   "execution_count": 53,
   "metadata": {},
   "outputs": [
    {
     "name": "stdout",
     "output_type": "stream",
     "text": [
      "原始字符串为: GoodDay\n",
      "请输入要付出字符的位置5\n",
      "字符串移除后为: GoodDy\n"
     ]
    }
   ],
   "source": [
    "text_str = 'GoodDay'\n",
    "\n",
    "print('原始字符串为:' , text_str)\n",
    "\n",
    "new_str = ''\n",
    "num = int(input('请输入要付出字符的位置'))\n",
    "\n",
    "for i in range (0 , len(text_str)):\n",
    "    if i != num:\n",
    "        new_str = new_str + text_str[i]\n",
    "        \n",
    "print('字符串移除后为:' , new_str)"
   ]
  },
  {
   "cell_type": "markdown",
   "metadata": {},
   "source": [
    "#### 实例2"
   ]
  },
  {
   "cell_type": "code",
   "execution_count": 58,
   "metadata": {},
   "outputs": [
    {
     "name": "stdout",
     "output_type": "stream",
     "text": [
      "请输入要付出字符的位置5\n"
     ]
    },
    {
     "data": {
      "text/plain": [
       "'GoodDy'"
      ]
     },
     "execution_count": 58,
     "metadata": {},
     "output_type": "execute_result"
    }
   ],
   "source": [
    "text_str = 'GoodDay'\n",
    "\n",
    "num = int(input('请输入要付出字符的位置'))\n",
    "\n",
    "new_str = text_str.replace(text_str[num] , '')\n",
    "new_str"
   ]
  },
  {
   "cell_type": "markdown",
   "metadata": {},
   "source": [
    "### 判断字符串是否存在子字符串"
   ]
  },
  {
   "cell_type": "code",
   "execution_count": 4,
   "metadata": {},
   "outputs": [
    {
     "name": "stdout",
     "output_type": "stream",
     "text": [
      "存在！\n"
     ]
    }
   ],
   "source": [
    "def check(string, sub_str): \n",
    "    if (string.find(sub_str) == -1):      ### 当string.find(sub_str) == -1时 ， 表示子字符串不在该字符串中\n",
    "        \n",
    "        print(\"不存在！\") \n",
    "    else:                                           ### 当string.find(sub_str) ! = -1 时 ， 表示子字符串在该字符串中\n",
    "        print(\"存在！\") \n",
    " \n",
    "string = \"kimchanglong is a good guy\"\n",
    "sub_str =\"kimchanglong\"\n",
    "check(string, sub_str)"
   ]
  },
  {
   "cell_type": "markdown",
   "metadata": {},
   "source": [
    "### 判断字符串长度"
   ]
  },
  {
   "cell_type": "markdown",
   "metadata": {},
   "source": [
    "#### 实例1"
   ]
  },
  {
   "cell_type": "code",
   "execution_count": 6,
   "metadata": {},
   "outputs": [
    {
     "data": {
      "text/plain": [
       "12"
      ]
     },
     "execution_count": 6,
     "metadata": {},
     "output_type": "execute_result"
    }
   ],
   "source": [
    "string = 'kimchanglong'\n",
    "\n",
    "l = len(string)\n",
    "l"
   ]
  },
  {
   "cell_type": "markdown",
   "metadata": {},
   "source": [
    "#### 实例2"
   ]
  },
  {
   "cell_type": "code",
   "execution_count": 7,
   "metadata": {},
   "outputs": [
    {
     "name": "stdout",
     "output_type": "stream",
     "text": [
      "12\n"
     ]
    }
   ],
   "source": [
    "def findlen(str):\n",
    "    counter = 0\n",
    "    while str[counter:]:\n",
    "        counter += 1 \n",
    "    return counter\n",
    "\n",
    "str = 'kimchanglong'\n",
    "print(findlen(str))"
   ]
  },
  {
   "cell_type": "markdown",
   "metadata": {},
   "source": [
    "### 使用正则表达式提取字符串中的URL"
   ]
  },
  {
   "cell_type": "code",
   "execution_count": 14,
   "metadata": {},
   "outputs": [
    {
     "name": "stdout",
     "output_type": "stream",
     "text": [
      "Urls:  ['https://www.runoob.com']\n"
     ]
    }
   ],
   "source": [
    "import re\n",
    "def Find(string): \n",
    "    # findall() 查找匹配正则表达式的字符串\n",
    "    url = re.findall('https?://(?:[-\\w.]|(?:%[\\da-fA-F]{2}))+', string)\n",
    "    return url \n",
    "\n",
    "string = 'https://www.runoob.com/python3/python3-examples.html'\n",
    "print(\"Urls: \", Find(string))"
   ]
  },
  {
   "cell_type": "markdown",
   "metadata": {},
   "source": [
    "### 将字符串作为代码执行"
   ]
  },
  {
   "cell_type": "code",
   "execution_count": 29,
   "metadata": {},
   "outputs": [
    {
     "name": "stdout",
     "output_type": "stream",
     "text": [
      "120\n"
     ]
    }
   ],
   "source": [
    "def exec_code():\n",
    "    LOC = \"\"\n",
    "    def factorial(num):\n",
    "        fact = 1 \n",
    "        for i in range (1 , num +1 ):\n",
    "            fact = fact * i\n",
    "        return fact\n",
    "    print(factorial(5))\n",
    "    \"\"\n",
    "\n",
    "exec_code()"
   ]
  },
  {
   "cell_type": "markdown",
   "metadata": {},
   "source": [
    "### 字符串反转"
   ]
  },
  {
   "cell_type": "markdown",
   "metadata": {},
   "source": [
    "#### 实例1"
   ]
  },
  {
   "cell_type": "code",
   "execution_count": 30,
   "metadata": {},
   "outputs": [
    {
     "name": "stdout",
     "output_type": "stream",
     "text": [
      "gnolgnahcmik\n"
     ]
    }
   ],
   "source": [
    "str = 'kimchanglong'\n",
    "print(str[::-1])"
   ]
  },
  {
   "cell_type": "markdown",
   "metadata": {},
   "source": [
    "#### 实例2"
   ]
  },
  {
   "cell_type": "code",
   "execution_count": 41,
   "metadata": {},
   "outputs": [
    {
     "data": {
      "text/plain": [
       "'gnolgnahcmik'"
      ]
     },
     "execution_count": 41,
     "metadata": {},
     "output_type": "execute_result"
    }
   ],
   "source": [
    "string = 'kimchanglong'\n",
    "l = ''.join(reversed(str))     ### join 将序列中的元素以指定的字符连接成一个新的字符串\n",
    "l"
   ]
  },
  {
   "cell_type": "markdown",
   "metadata": {},
   "source": [
    "### 对字符串切片及翻转"
   ]
  },
  {
   "cell_type": "code",
   "execution_count": 50,
   "metadata": {},
   "outputs": [
    {
     "name": "stdout",
     "output_type": "stream",
     "text": [
      "头部切片翻转 :  noobRu\n",
      "尾部切片翻转 :  obRuno\n"
     ]
    }
   ],
   "source": [
    "def rotate(input,d): \n",
    "  \n",
    "    Lfirst = input[0 : d] \n",
    "    Lsecond = input[d :] \n",
    "    Rfirst = input[0 : len(input)-d] \n",
    "    Rsecond = input[len(input)-d : ] \n",
    "  \n",
    "    print( \"头部切片翻转 : \", (Lsecond + Lfirst) )\n",
    "    print( \"尾部切片翻转 : \", (Rsecond + Rfirst) )\n",
    " \n",
    "if __name__ == \"__main__\": \n",
    "    input = 'Runoob'\n",
    "    d = 2  \n",
    "    rotate(input,d)"
   ]
  },
  {
   "cell_type": "markdown",
   "metadata": {},
   "source": [
    "### 按键(key)或值(value)对字典进行排序"
   ]
  },
  {
   "cell_type": "markdown",
   "metadata": {},
   "source": [
    "#### 实例1"
   ]
  },
  {
   "cell_type": "code",
   "execution_count": 52,
   "metadata": {},
   "outputs": [
    {
     "name": "stdout",
     "output_type": "stream",
     "text": [
      "按键(key)排序:\n",
      "(1, 2) (2, 56) (3, 323) (4, 24) (5, 12) (6, 18) "
     ]
    }
   ],
   "source": [
    "def dictionairy():  \n",
    "    key_value ={}     \n",
    "\n",
    "    key_value[2] = 56       \n",
    "    key_value[1] = 2 \n",
    "    key_value[5] = 12 \n",
    "    key_value[4] = 24\n",
    "    key_value[6] = 18      \n",
    "    key_value[3] = 323 \n",
    " \n",
    "    print (\"按键(key)排序:\")   \n",
    " \n",
    "    for i in sorted (key_value) : \n",
    "        print ((i, key_value[i]), end =\" \") \n",
    "  \n",
    "def main(): \n",
    "    dictionairy()              \n",
    "\n",
    "if __name__==\"__main__\":      \n",
    "    main()"
   ]
  },
  {
   "cell_type": "markdown",
   "metadata": {},
   "source": [
    "#### 实例2"
   ]
  },
  {
   "cell_type": "code",
   "execution_count": 53,
   "metadata": {},
   "outputs": [
    {
     "name": "stdout",
     "output_type": "stream",
     "text": [
      "按值(value)排序:\n",
      "[(1, 2), (5, 12), (6, 18), (4, 24), (2, 56), (3, 323)]\n"
     ]
    }
   ],
   "source": [
    "def dictionairy():  \n",
    "    key_value ={}     \n",
    "\n",
    "    key_value[2] = 56       \n",
    "    key_value[1] = 2 \n",
    "    key_value[5] = 12 \n",
    "    key_value[4] = 24\n",
    "    key_value[6] = 18      \n",
    "    key_value[3] = 323 \n",
    "\n",
    "    print (\"按值(value)排序:\")   \n",
    "    print(sorted(key_value.items(), key = lambda kv:(kv[1], kv[0])))     \n",
    "   \n",
    "def main(): \n",
    "    dictionairy()             \n",
    "      \n",
    "if __name__==\"__main__\":       \n",
    "    main()"
   ]
  },
  {
   "cell_type": "markdown",
   "metadata": {},
   "source": [
    "#### 实例3"
   ]
  },
  {
   "cell_type": "code",
   "execution_count": 54,
   "metadata": {},
   "outputs": [
    {
     "name": "stdout",
     "output_type": "stream",
     "text": [
      "列表通过 age 升序排序: \n",
      "[{'name': 'Runoob', 'age': 7}, {'name': 'Taobao', 'age': 100}, {'name': 'Google', 'age': 100}, {'name': 'Wiki', 'age': 200}]\n",
      "\r\n",
      "列表通过 age 和 name 排序: \n",
      "[{'name': 'Runoob', 'age': 7}, {'name': 'Google', 'age': 100}, {'name': 'Taobao', 'age': 100}, {'name': 'Wiki', 'age': 200}]\n",
      "\r\n",
      "列表通过 age 降序排序: \n",
      "[{'name': 'Wiki', 'age': 200}, {'name': 'Taobao', 'age': 100}, {'name': 'Google', 'age': 100}, {'name': 'Runoob', 'age': 7}]\n"
     ]
    }
   ],
   "source": [
    "lis = [{ \"name\" : \"Taobao\", \"age\" : 100},  \n",
    "{ \"name\" : \"Runoob\", \"age\" : 7 }, \n",
    "{ \"name\" : \"Google\", \"age\" : 100 }, \n",
    "{ \"name\" : \"Wiki\" , \"age\" : 200 }] \n",
    "\n",
    "print (\"列表通过 age 升序排序: \")\n",
    "print (sorted(lis, key = lambda i: i['age']) )\n",
    "  \n",
    "print (\"\\r\") \n",
    "\n",
    "print (\"列表通过 age 和 name 排序: \")\n",
    "print (sorted(lis, key = lambda i: (i['age'], i['name'])) )\n",
    "  \n",
    "print (\"\\r\") \n",
    "\n",
    "print (\"列表通过 age 降序排序: \")\n",
    "print (sorted(lis, key = lambda i: i['age'],reverse=True) )"
   ]
  },
  {
   "cell_type": "markdown",
   "metadata": {},
   "source": [
    "### 计算字典值之和"
   ]
  },
  {
   "cell_type": "code",
   "execution_count": 64,
   "metadata": {},
   "outputs": [
    {
     "name": "stdout",
     "output_type": "stream",
     "text": [
      "600\n"
     ]
    }
   ],
   "source": [
    "dict = {'a': 100, 'b':200, 'c':300}\n",
    "print(sum(dict.values()))"
   ]
  },
  {
   "cell_type": "markdown",
   "metadata": {},
   "source": [
    "### 移除字典点键值(key/value)对"
   ]
  },
  {
   "cell_type": "markdown",
   "metadata": {},
   "source": [
    "#### 使用del()移除"
   ]
  },
  {
   "cell_type": "code",
   "execution_count": 67,
   "metadata": {},
   "outputs": [
    {
     "name": "stdout",
     "output_type": "stream",
     "text": [
      "{'Runoob': 1, 'Google': 2, 'Taobao': 3, 'Zhihu': 4}\n",
      "{'Runoob': 1, 'Google': 2, 'Taobao': 3}\n"
     ]
    }
   ],
   "source": [
    "test_dict = {\"Runoob\" : 1, \"Google\" : 2, \"Taobao\" : 3, \"Zhihu\" : 4} \n",
    "\n",
    "print(test_dict)\n",
    "\n",
    "del test_dict['Zhihu']\n",
    "print(test_dict)\n"
   ]
  },
  {
   "cell_type": "markdown",
   "metadata": {},
   "source": [
    "#### 使用pop()移除"
   ]
  },
  {
   "cell_type": "code",
   "execution_count": 74,
   "metadata": {},
   "outputs": [
    {
     "name": "stdout",
     "output_type": "stream",
     "text": [
      "{'Runoob': 1, 'Google': 2, 'Taobao': 3, 'Zhihu': 4}\n",
      "{'Runoob': 1, 'Google': 2, 'Taobao': 3}\n"
     ]
    },
    {
     "data": {
      "text/plain": [
       "'没有该键(key)'"
      ]
     },
     "execution_count": 74,
     "metadata": {},
     "output_type": "execute_result"
    }
   ],
   "source": [
    "test_dict = {\"Runoob\" : 1, \"Google\" : 2, \"Taobao\" : 3, \"Zhihu\" : 4} \n",
    "\n",
    "print(test_dict)\n",
    "\n",
    "test_dict.pop('Zhihu')\n",
    "print(test_dict)\n",
    "\n",
    "removed_value = test_dict.pop('Zhihu', '没有该键(key)')      ### 使用 pop() 移除没有的 key 不会发生异常，可自定义提示信息\n",
    "removed_value"
   ]
  },
  {
   "cell_type": "markdown",
   "metadata": {},
   "source": [
    "#### 使用iterms()移除"
   ]
  },
  {
   "cell_type": "code",
   "execution_count": 75,
   "metadata": {},
   "outputs": [
    {
     "name": "stdout",
     "output_type": "stream",
     "text": [
      "{'Runoob': 1, 'Google': 2, 'Taobao': 3, 'Zhihu': 4}\n"
     ]
    },
    {
     "data": {
      "text/plain": [
       "{'Runoob': 1, 'Google': 2, 'Taobao': 3}"
      ]
     },
     "execution_count": 75,
     "metadata": {},
     "output_type": "execute_result"
    }
   ],
   "source": [
    "test_dict = {\"Runoob\" : 1, \"Google\" : 2, \"Taobao\" : 3, \"Zhihu\" : 4} \n",
    "\n",
    "print(test_dict)\n",
    "\n",
    "new_dict = {key:val for key ,val in test_dict.items() if key != 'Zhihu'}\n",
    "new_dict"
   ]
  },
  {
   "cell_type": "markdown",
   "metadata": {},
   "source": [
    "### 合并字典"
   ]
  },
  {
   "cell_type": "markdown",
   "metadata": {},
   "source": [
    "#### dict2.update(dict1)"
   ]
  },
  {
   "cell_type": "code",
   "execution_count": 79,
   "metadata": {},
   "outputs": [
    {
     "name": "stdout",
     "output_type": "stream",
     "text": [
      "{'d': 6, 'c': 4, 'a': 10, 'b': 8}\n",
      "{'a': 10, 'b': 8}\n"
     ]
    }
   ],
   "source": [
    "dict1 = {'a': 10, 'b': 8} \n",
    "dict2 = {'d': 6, 'c': 4} \n",
    "\n",
    "dict2.update(dict1)\n",
    "print(dict2)"
   ]
  },
  {
   "cell_type": "markdown",
   "metadata": {},
   "source": [
    "#### 使用**,函数将参数以字典的形式导入"
   ]
  },
  {
   "cell_type": "code",
   "execution_count": 80,
   "metadata": {},
   "outputs": [
    {
     "name": "stdout",
     "output_type": "stream",
     "text": [
      "{'a': 10, 'b': 8, 'd': 6, 'c': 4}\n"
     ]
    }
   ],
   "source": [
    "dict1 = {'a': 10, 'b': 8} \n",
    "dict2 = {'d': 6, 'c': 4} \n",
    "\n",
    "dict3 = {**dict1 , **dict2}\n",
    "print(dict3)"
   ]
  },
  {
   "cell_type": "markdown",
   "metadata": {},
   "source": [
    "### 将字符串的时间转换为时间戳"
   ]
  },
  {
   "cell_type": "code",
   "execution_count": 88,
   "metadata": {},
   "outputs": [
    {
     "name": "stdout",
     "output_type": "stream",
     "text": [
      "time.struct_time(tm_year=2019, tm_mon=5, tm_mday=10, tm_hour=23, tm_min=40, tm_sec=0, tm_wday=4, tm_yday=130, tm_isdst=-1)\n",
      "1557502800.0\n",
      "2019/05/10 23:40:00\n"
     ]
    }
   ],
   "source": [
    "import time\n",
    " \n",
    "a1 = \"2019-5-10 23:40:00\"\n",
    "\n",
    "timeArray = time.strptime(a1, \"%Y-%m-%d %H:%M:%S\")\n",
    "print(timeArray)\n",
    "\n",
    "timeStamp = time.mktime(timeArray)\n",
    "print(timeStamp)\n",
    "\n",
    "a2 = \"2019/5/10 23:40:00\"\n",
    "timeArray = time.strptime(a2, \"%Y/%m/%d %H:%M:%S\")\n",
    "otherStyleTime = time.strftime(\"%Y/%m/%d %H:%M:%S\", timeArray)\n",
    "print(otherStyleTime)"
   ]
  },
  {
   "cell_type": "markdown",
   "metadata": {},
   "source": [
    "### 获取几天前的时间"
   ]
  },
  {
   "cell_type": "markdown",
   "metadata": {},
   "source": [
    "#### 实例1"
   ]
  },
  {
   "cell_type": "code",
   "execution_count": 91,
   "metadata": {},
   "outputs": [
    {
     "name": "stdout",
     "output_type": "stream",
     "text": [
      "1635404429\n",
      "2021-10-28 15-00-29\n"
     ]
    }
   ],
   "source": [
    "import time \n",
    "import datetime\n",
    "\n",
    "threedaysago = (datetime.datetime.now() - datetime.timedelta(days = 3))\n",
    "timeStamp = int(time.mktime(threedaysago.timetuple()))\n",
    "print(timeStamp)\n",
    "otherStyleTime = threedaysago.strftime('%Y-%m-%d %H-%M-%S')\n",
    "print(otherStyleTime)"
   ]
  },
  {
   "cell_type": "markdown",
   "metadata": {},
   "source": [
    "#### 实例2"
   ]
  },
  {
   "cell_type": "code",
   "execution_count": 92,
   "metadata": {},
   "outputs": [
    {
     "name": "stdout",
     "output_type": "stream",
     "text": [
      "2019-05-10 15:40:00\n",
      "2019-05-07 15:40:00\n"
     ]
    }
   ],
   "source": [
    "import time\n",
    "import datetime\n",
    "\n",
    "timestamp = 1557502800\n",
    "dateArray  = datetime.datetime.utcfromtimestamp(timestamp)\n",
    "print(dateArray)\n",
    "\n",
    "threedaysago = dateArray - datetime.timedelta(days = 3)\n",
    "print(threedaysago)"
   ]
  },
  {
   "cell_type": "markdown",
   "metadata": {},
   "source": [
    "### 将时间戳转换为指定格式日期"
   ]
  },
  {
   "cell_type": "markdown",
   "metadata": {},
   "source": [
    "#### 当前时间戳"
   ]
  },
  {
   "cell_type": "markdown",
   "metadata": {},
   "source": [
    "##### 实例1"
   ]
  },
  {
   "cell_type": "code",
   "execution_count": 95,
   "metadata": {},
   "outputs": [
    {
     "name": "stdout",
     "output_type": "stream",
     "text": [
      "1635664294\n",
      "time.struct_time(tm_year=2021, tm_mon=10, tm_mday=31, tm_hour=15, tm_min=11, tm_sec=34, tm_wday=6, tm_yday=304, tm_isdst=0)\n",
      "2021-10-31 15:11:34\n"
     ]
    }
   ],
   "source": [
    "import time \n",
    "now = int(time.time())          ### 如果只需要自纪元以来的秒数部分,round(time.time())\n",
    "print(now)                            ### 如果只需要毫秒部分,time.time() % 1\n",
    "\n",
    "timeArray = time.localtime(now)\n",
    "print(timeArray)\n",
    "\n",
    "oherStyleTime = time.strftime('%Y-%m-%d %H:%M:%S', timeArray)\n",
    "print(oherStyleTime)"
   ]
  },
  {
   "cell_type": "markdown",
   "metadata": {},
   "source": [
    "##### 实例2"
   ]
  },
  {
   "cell_type": "code",
   "execution_count": 108,
   "metadata": {},
   "outputs": [
    {
     "name": "stdout",
     "output_type": "stream",
     "text": [
      "2021-10-31 15:19:24.214615\n",
      "2021-10-31 15:19:24\n"
     ]
    }
   ],
   "source": [
    "import time \n",
    "import datetime\n",
    "\n",
    "now = datetime.datetime.now()  \n",
    "print(now)\n",
    "\n",
    "oherStyleTime = now.strftime('%Y-%m-%d %H:%M:%S')      \n",
    "print(oherStyleTime)"
   ]
  },
  {
   "cell_type": "markdown",
   "metadata": {},
   "source": [
    "#### 指定时间戳"
   ]
  },
  {
   "cell_type": "markdown",
   "metadata": {},
   "source": [
    "##### 实例1"
   ]
  },
  {
   "cell_type": "code",
   "execution_count": 114,
   "metadata": {},
   "outputs": [
    {
     "name": "stdout",
     "output_type": "stream",
     "text": [
      "2021-10-31 15:11:34\n"
     ]
    }
   ],
   "source": [
    "import time \n",
    "timeStamp = 1635664294\n",
    "timeArray = time.localtime(timeStamp)\n",
    "oherStyleTime = time.strftime('%Y-%m-%d %H:%M:%S' , timeArray)\n",
    "print(oherStyleTime)"
   ]
  },
  {
   "cell_type": "markdown",
   "metadata": {},
   "source": [
    "##### 实例2"
   ]
  },
  {
   "cell_type": "code",
   "execution_count": 115,
   "metadata": {},
   "outputs": [
    {
     "name": "stdout",
     "output_type": "stream",
     "text": [
      "2021-10-31 15:11:34\n"
     ]
    }
   ],
   "source": [
    "import datetime\n",
    "\n",
    "timeStamp = 1635664294\n",
    "dateArray = datetime.datetime.utcfromtimestamp(timeStamp)\n",
    "oherStyleTimer = dateArray.strftime('%Y-%m-%d %H:%M:%S')\n",
    "print(oherStyleTime)"
   ]
  },
  {
   "cell_type": "markdown",
   "metadata": {},
   "source": [
    "### 打印自己设计的字体"
   ]
  },
  {
   "cell_type": "code",
   "execution_count": 118,
   "metadata": {
    "scrolled": true
   },
   "outputs": [
    {
     "name": "stdout",
     "output_type": "stream",
     "text": [
      "..#...#...\n",
      "..#..#....\n",
      "..##...... \n",
      "..#..#....\n",
      "..#...#...\n",
      "\n",
      "\n",
      "..######..\n",
      "....##....\n",
      "....##.... \n",
      "....##....\n",
      "..######..\n",
      "\n",
      "\n",
      "..#....#..\n",
      "..##..##..\n",
      "..#.##.#.. \n",
      "..#....#..\n",
      "..#....#..\n",
      "\n",
      "\n",
      "..######..\n",
      "..#.......\n",
      "..#....... \n",
      "..#.......\n",
      "..######..\n",
      "\n",
      "\n",
      "..#....#..\n",
      "..#....#..\n",
      "..######.. \n",
      "..#....#..\n",
      "..#....#..\n",
      "\n",
      "\n",
      "..######..\n",
      "..#....#..\n",
      "..######.. \n",
      "..#....#..\n",
      "..#....#..\n",
      "\n",
      "\n",
      "..#....#..\n",
      "..##...#..\n",
      "..#.#..#.. \n",
      "..#..#.#..\n",
      "..#...##..\n",
      "\n",
      "\n",
      "..######..\n",
      "..#.......\n",
      "..#.####.. \n",
      "..#....#..\n",
      "..#####...\n",
      "\n",
      "\n",
      "..#.......\n",
      "..#.......\n",
      "..#....... \n",
      "..#.......\n",
      "..######..\n",
      "\n",
      "\n",
      "..######..\n",
      "..#....#..\n",
      "..#....#.. \n",
      "..#....#..\n",
      "..######..\n",
      "\n",
      "\n",
      "..#....#..\n",
      "..##...#..\n",
      "..#.#..#.. \n",
      "..#..#.#..\n",
      "..#...##..\n",
      "\n",
      "\n",
      "..######..\n",
      "..#.......\n",
      "..#.####.. \n",
      "..#....#..\n",
      "..#####...\n",
      "\n",
      "\n"
     ]
    }
   ],
   "source": [
    "name = \"KIMCHANGLONG\"\n",
    "\n",
    "lngth = len(name) \n",
    "l = \"\" \n",
    "  \n",
    "for x in range(0, lngth): \n",
    "    c = name[x] \n",
    "    c = c.upper() \n",
    "      \n",
    "    if (c == \"A\"): \n",
    "        print(\"..######..\\n..#....#..\\n..######..\", end = \" \") \n",
    "        print(\"\\n..#....#..\\n..#....#..\\n\\n\") \n",
    "          \n",
    "    elif (c == \"B\"): \n",
    "        print(\"..######..\\n..#....#..\\n..#####...\", end = \" \") \n",
    "        print(\"\\n..#....#..\\n..######..\\n\\n\") \n",
    "          \n",
    "    elif (c == \"C\"): \n",
    "        print(\"..######..\\n..#.......\\n..#.......\", end = \" \") \n",
    "        print(\"\\n..#.......\\n..######..\\n\\n\") \n",
    "          \n",
    "    elif (c == \"D\"): \n",
    "        print(\"..#####...\\n..#....#..\\n..#....#..\", end = \" \") \n",
    "        print(\"\\n..#....#..\\n..#####...\\n\\n\") \n",
    "          \n",
    "    elif (c == \"E\"): \n",
    "        print(\"..######..\\n..#.......\\n..#####...\", end = \" \") \n",
    "        print(\"\\n..#.......\\n..######..\\n\\n\") \n",
    "          \n",
    "    elif (c == \"F\"): \n",
    "        print(\"..######..\\n..#.......\\n..#####...\", end = \" \") \n",
    "        print(\"\\n..#.......\\n..#.......\\n\\n\") \n",
    "          \n",
    "    elif (c == \"G\"): \n",
    "        print(\"..######..\\n..#.......\\n..#.####..\", end = \" \") \n",
    "        print(\"\\n..#....#..\\n..#####...\\n\\n\") \n",
    "          \n",
    "    elif (c == \"H\"): \n",
    "        print(\"..#....#..\\n..#....#..\\n..######..\", end = \" \") \n",
    "        print(\"\\n..#....#..\\n..#....#..\\n\\n\") \n",
    "          \n",
    "    elif (c == \"I\"): \n",
    "        print(\"..######..\\n....##....\\n....##....\", end = \" \") \n",
    "        print(\"\\n....##....\\n..######..\\n\\n\") \n",
    "          \n",
    "    elif (c == \"J\"): \n",
    "        print(\"..######..\\n....##....\\n....##....\", end = \" \") \n",
    "        print(\"\\n..#.##....\\n..####....\\n\\n\") \n",
    "          \n",
    "    elif (c == \"K\"): \n",
    "        print(\"..#...#...\\n..#..#....\\n..##......\", end = \" \") \n",
    "        print(\"\\n..#..#....\\n..#...#...\\n\\n\") \n",
    "          \n",
    "    elif (c == \"L\"): \n",
    "        print(\"..#.......\\n..#.......\\n..#.......\", end = \" \") \n",
    "        print(\"\\n..#.......\\n..######..\\n\\n\") \n",
    "          \n",
    "    elif (c == \"M\"): \n",
    "        print(\"..#....#..\\n..##..##..\\n..#.##.#..\", end = \" \") \n",
    "        print(\"\\n..#....#..\\n..#....#..\\n\\n\") \n",
    "          \n",
    "    elif (c == \"N\"): \n",
    "        print(\"..#....#..\\n..##...#..\\n..#.#..#..\", end = \" \") \n",
    "        print(\"\\n..#..#.#..\\n..#...##..\\n\\n\") \n",
    "          \n",
    "    elif (c == \"O\"): \n",
    "        print(\"..######..\\n..#....#..\\n..#....#..\", end = \" \") \n",
    "        print(\"\\n..#....#..\\n..######..\\n\\n\") \n",
    "          \n",
    "    elif (c == \"P\"): \n",
    "        print(\"..######..\\n..#....#..\\n..######..\", end = \" \") \n",
    "        print(\"\\n..#.......\\n..#.......\\n\\n\") \n",
    "          \n",
    "    elif (c == \"Q\"): \n",
    "        print(\"..######..\\n..#....#..\\n..#.#..#..\", end = \" \") \n",
    "        print(\"\\n..#..#.#..\\n..######..\\n\\n\") \n",
    "          \n",
    "    elif (c == \"R\"): \n",
    "        print(\"..######..\\n..#....#..\\n..#.##...\", end = \" \") \n",
    "        print(\"\\n..#...#...\\n..#....#..\\n\\n\") \n",
    "          \n",
    "    elif (c == \"S\"): \n",
    "        print(\"..######..\\n..#.......\\n..######..\", end = \" \") \n",
    "        print(\"\\n.......#..\\n..######..\\n\\n\") \n",
    "          \n",
    "    elif (c == \"T\"): \n",
    "        print(\"..######..\\n....##....\\n....##....\", end = \" \") \n",
    "        print(\"\\n....##....\\n....##....\\n\\n\") \n",
    "          \n",
    "    elif (c == \"U\"): \n",
    "        print(\"..#....#..\\n..#....#..\\n..#....#..\", end = \" \") \n",
    "        print(\"\\n..#....#..\\n..######..\\n\\n\") \n",
    "          \n",
    "    elif (c == \"V\"): \n",
    "        print(\"..#....#..\\n..#....#..\\n..#....#..\", end = \" \") \n",
    "        print(\"\\n...#..#...\\n....##....\\n\\n\") \n",
    "          \n",
    "    elif (c == \"W\"): \n",
    "        print(\"..#....#..\\n..#....#..\\n..#.##.#..\", end = \" \") \n",
    "        print(\"\\n..##..##..\\n..#....#..\\n\\n\") \n",
    "          \n",
    "    elif (c == \"X\"): \n",
    "        print(\"..#....#..\\n...#..#...\\n....##....\", end = \" \") \n",
    "        print(\"\\n...#..#...\\n..#....#..\\n\\n\") \n",
    "          \n",
    "    elif (c == \"Y\"): \n",
    "        print(\"..#....#..\\n...#..#...\\n....##....\", end = \" \") \n",
    "        print(\"\\n....##....\\n....##....\\n\\n\") \n",
    "          \n",
    "    elif (c == \"Z\"): \n",
    "        print(\"..######..\\n......#...\\n.....#....\", end = \" \") \n",
    "        print(\"\\n....#.....\\n..######..\\n\\n\") \n",
    "          \n",
    "    elif (c == \" \"): \n",
    "        print(\"..........\\n..........\\n..........\", end = \" \") \n",
    "        print(\"\\n..........\\n\\n\") \n",
    "          \n",
    "    elif (c == \".\"): \n",
    "        print(\"----..----\\n\\n\")"
   ]
  },
  {
   "cell_type": "markdown",
   "metadata": {},
   "source": [
    "### 二分查找"
   ]
  },
  {
   "cell_type": "code",
   "execution_count": 1,
   "metadata": {},
   "outputs": [
    {
     "name": "stdout",
     "output_type": "stream",
     "text": [
      "元素在数组中的索引为 3\n"
     ]
    }
   ],
   "source": [
    "def binarySearch (arr, l, r, x): \n",
    "    if r >= l: \n",
    "        mid = int(l + (r - l)/2)\n",
    "\n",
    "        if arr[mid] == x: \n",
    "            return mid \n",
    "        elif arr[mid] > x: \n",
    "            return binarySearch(arr, l, mid-1, x) \n",
    "        else: \n",
    "            return binarySearch(arr, mid+1, r, x)   \n",
    "    else: \n",
    "        return -1\n",
    "  \n",
    "arr = [ 2, 3, 4, 10, 40 ] \n",
    "x = 10\n",
    "result = binarySearch(arr, 0, len(arr) - 1, x) \n",
    "\n",
    "if result != -1: \n",
    "    print (\"元素在数组中的索引为 %d\" % result )\n",
    "else: \n",
    "    print (\"元素不在数组中\")"
   ]
  },
  {
   "cell_type": "markdown",
   "metadata": {},
   "source": [
    "### 线性查找"
   ]
  },
  {
   "cell_type": "code",
   "execution_count": 3,
   "metadata": {},
   "outputs": [
    {
     "name": "stdout",
     "output_type": "stream",
     "text": [
      "元素在数组中的索引为 3\n"
     ]
    }
   ],
   "source": [
    "def search(arr, n, x): \n",
    "    for i in range (0, n): \n",
    "        if (arr[i] == x): \n",
    "            return i; \n",
    "    return -1; \n",
    "\n",
    "arr = [ 'A', 'B', 'C', 'D', 'E' ]; \n",
    "x = 'D'; \n",
    "n = len(arr); \n",
    "result = search(arr , n , x) \n",
    "if(result == -1): \n",
    "    print(\"元素不在数组中\") \n",
    "else:\n",
    "    print(\"元素在数组中的索引为\", result)"
   ]
  },
  {
   "cell_type": "markdown",
   "metadata": {},
   "source": [
    "### 插入排序"
   ]
  },
  {
   "cell_type": "code",
   "execution_count": 7,
   "metadata": {},
   "outputs": [
    {
     "name": "stdout",
     "output_type": "stream",
     "text": [
      "排序后的数组:\n",
      "1\n",
      "5\n",
      "6\n",
      "7\n",
      "8\n",
      "11\n",
      "12\n",
      "13\n",
      "96\n",
      "134\n"
     ]
    }
   ],
   "source": [
    "def insertionSort(arr):\n",
    "    for i in range(1 , len(arr)):\n",
    "        key = arr[i]\n",
    "        j = i - 1\n",
    "        while j >= 0 and key < arr[j]:\n",
    "            arr[ j + 1] = arr[j]\n",
    "            j -= 1 \n",
    "        arr[j + 1] = key\n",
    "        \n",
    "arr = [12 , 11 , 13 , 5 , 6, 7 ,8, 1, 96, 134]\n",
    "insertionSort(arr)\n",
    "print('排序后的数组:')\n",
    "for i in range(len(arr)):\n",
    "    print('%d' %arr[i])"
   ]
  },
  {
   "cell_type": "markdown",
   "metadata": {},
   "source": [
    "### 快速排列"
   ]
  },
  {
   "cell_type": "code",
   "execution_count": 8,
   "metadata": {},
   "outputs": [
    {
     "name": "stdout",
     "output_type": "stream",
     "text": [
      "排序后的数组:\n",
      "1\n",
      "5\n",
      "7\n",
      "8\n",
      "9\n",
      "10\n"
     ]
    }
   ],
   "source": [
    "def partition(arr,low,high): \n",
    "    i = ( low-1 )       \n",
    "    pivot = arr[high]     \n",
    "    for j in range(low , high): \n",
    "        if   arr[j] <= pivot: \n",
    "            i = i+1 \n",
    "            arr[i],arr[j] = arr[j],arr[i]  \n",
    "    arr[i+1],arr[high] = arr[high],arr[i+1] \n",
    "    return ( i+1 ) \n",
    "\n",
    "def quickSort(arr,low,high): \n",
    "    if low < high:   \n",
    "        pi = partition(arr,low,high) \n",
    "        quickSort(arr, low, pi-1) \n",
    "        quickSort(arr, pi+1, high) \n",
    "arr = [10, 7, 8, 9, 1, 5] \n",
    "n = len(arr) \n",
    "quickSort(arr,0,n-1) \n",
    "print (\"排序后的数组:\") \n",
    "for i in range(n): \n",
    "    print (\"%d\" %arr[i])"
   ]
  },
  {
   "cell_type": "markdown",
   "metadata": {},
   "source": [
    "### 选择排序"
   ]
  },
  {
   "cell_type": "code",
   "execution_count": 9,
   "metadata": {},
   "outputs": [
    {
     "name": "stdout",
     "output_type": "stream",
     "text": [
      "排序后的数组：\n",
      "11\n",
      "12\n",
      "22\n",
      "25\n",
      "64\n"
     ]
    }
   ],
   "source": [
    "import sys \n",
    "A = [64, 25, 12, 22, 11] \n",
    "  \n",
    "for i in range(len(A)):    \n",
    "    min_idx = i \n",
    "    for j in range(i+1, len(A)): \n",
    "        if A[min_idx] > A[j]: \n",
    "            min_idx = j \n",
    "                \n",
    "    A[i], A[min_idx] = A[min_idx], A[i] \n",
    "print (\"排序后的数组：\") \n",
    "for i in range(len(A)): \n",
    "    print(\"%d\" %A[i]),"
   ]
  },
  {
   "cell_type": "markdown",
   "metadata": {},
   "source": [
    "### 冒泡排序"
   ]
  },
  {
   "cell_type": "code",
   "execution_count": 10,
   "metadata": {},
   "outputs": [
    {
     "name": "stdout",
     "output_type": "stream",
     "text": [
      "排序后的数组:\n",
      "11\n",
      "12\n",
      "22\n",
      "25\n",
      "34\n",
      "64\n",
      "90\n"
     ]
    }
   ],
   "source": [
    "def bubbleSort(arr):\n",
    "    n = len(arr)\n",
    "    for i in range(n): \n",
    "        for j in range(0, n-i-1): \n",
    "            if arr[j] > arr[j+1] :\n",
    "                arr[j], arr[j+1] = arr[j+1], arr[j]\n",
    "arr = [64, 34, 25, 12, 22, 11, 90]\n",
    "bubbleSort(arr)\n",
    "print (\"排序后的数组:\")\n",
    "for i in range(len(arr)):\n",
    "    print (\"%d\" %arr[i])"
   ]
  },
  {
   "cell_type": "markdown",
   "metadata": {},
   "source": [
    "### 归并排序"
   ]
  },
  {
   "cell_type": "code",
   "execution_count": 11,
   "metadata": {},
   "outputs": [
    {
     "name": "stdout",
     "output_type": "stream",
     "text": [
      "给定的数组\n",
      "12\n",
      "11\n",
      "13\n",
      "5\n",
      "6\n",
      "7\n",
      "\n",
      "\n",
      "排序后的数组\n",
      "5\n",
      "6\n",
      "7\n",
      "11\n",
      "12\n",
      "13\n"
     ]
    }
   ],
   "source": [
    "def merge(arr, l, m, r): \n",
    "    n1 = m - l + 1\n",
    "    n2 = r- m \n",
    "    L = [0] * (n1)\n",
    "    R = [0] * (n2)\n",
    "\n",
    "    for i in range(0 , n1): \n",
    "        L[i] = arr[l + i] \n",
    "    for j in range(0 , n2): \n",
    "        R[j] = arr[m + 1 + j] \n",
    "\n",
    "    i = 0     \n",
    "    j = 0    \n",
    "    k = l       \n",
    "    while i < n1 and j < n2 : \n",
    "        if L[i] <= R[j]: \n",
    "            arr[k] = L[i] \n",
    "            i += 1\n",
    "        else: \n",
    "            arr[k] = R[j] \n",
    "            j += 1\n",
    "        k += 1\n",
    "    while i < n1: \n",
    "        arr[k] = L[i] \n",
    "        i += 1\n",
    "        k += 1\n",
    "\n",
    "    while j < n2: \n",
    "        arr[k] = R[j] \n",
    "        j += 1\n",
    "        k += 1  \n",
    "def mergeSort(arr,l,r): \n",
    "    if l < r: \n",
    "        m = int((l+(r-1))/2)  \n",
    "        mergeSort(arr, l, m) \n",
    "        mergeSort(arr, m+1, r) \n",
    "        merge(arr, l, m, r) \n",
    "arr = [12, 11, 13, 5, 6, 7] \n",
    "n = len(arr) \n",
    "print (\"给定的数组\") \n",
    "for i in range(n): \n",
    "    print (\"%d\" %arr[i]), \n",
    "mergeSort(arr,0,n-1) \n",
    "print (\"\\n\\n排序后的数组\") \n",
    "for i in range(n): \n",
    "    print (\"%d\" %arr[i])"
   ]
  },
  {
   "cell_type": "markdown",
   "metadata": {},
   "source": [
    "### 堆排序"
   ]
  },
  {
   "cell_type": "code",
   "execution_count": 12,
   "metadata": {},
   "outputs": [
    {
     "name": "stdout",
     "output_type": "stream",
     "text": [
      "排序后\n",
      "5\n",
      "6\n",
      "7\n",
      "11\n",
      "12\n",
      "13\n"
     ]
    }
   ],
   "source": [
    "def heapify(arr, n, i): \n",
    "    largest = i  \n",
    "    l = 2 * i + 1     # left = 2*i + 1 \n",
    "    r = 2 * i + 2     # right = 2*i + 2   \n",
    "    if l < n and arr[i] < arr[l]: \n",
    "        largest = l  \n",
    "    if r < n and arr[largest] < arr[r]: \n",
    "        largest = r  \n",
    "    if largest != i: \n",
    "        arr[i],arr[largest] = arr[largest],arr[i]  # 交换 \n",
    "        heapify(arr, n, largest)   \n",
    "def heapSort(arr): \n",
    "    n = len(arr) \n",
    "\n",
    "    for i in range(n, -1, -1): \n",
    "        heapify(arr, n, i) \n",
    "\n",
    "    for i in range(n-1, 0, -1): \n",
    "        arr[i], arr[0] = arr[0], arr[i]   # 交换\n",
    "        heapify(arr, i, 0) \n",
    "arr = [ 12, 11, 13, 5, 6, 7] \n",
    "heapSort(arr) \n",
    "n = len(arr) \n",
    "print (\"排序后\") \n",
    "for i in range(n): \n",
    "    print (\"%d\" %arr[i])"
   ]
  },
  {
   "cell_type": "markdown",
   "metadata": {},
   "source": [
    "### 计数排序"
   ]
  },
  {
   "cell_type": "code",
   "execution_count": 13,
   "metadata": {},
   "outputs": [
    {
     "name": "stdout",
     "output_type": "stream",
     "text": [
      "字符数组排序 bcmnoooruwww\n"
     ]
    }
   ],
   "source": [
    "def countSort(arr): \n",
    "    output = [0 for i in range(256)] \n",
    "    count = [0 for i in range(256)] \n",
    "    ans = [\"\" for _ in arr] \n",
    "    for i in arr: \n",
    "        count[ord(i)] += 1\n",
    "    for i in range(256): \n",
    "        count[i] += count[i-1] \n",
    "    for i in range(len(arr)): \n",
    "        output[count[ord(arr[i])]-1] = arr[i] \n",
    "        count[ord(arr[i])] -= 1\n",
    "    for i in range(len(arr)): \n",
    "        ans[i] = output[i] \n",
    "    return ans  \n",
    "arr = \"wwwrunoobcom\"\n",
    "ans = countSort(arr) \n",
    "print ( \"字符数组排序 %s\"  %(\"\".join(ans)) )"
   ]
  },
  {
   "cell_type": "markdown",
   "metadata": {},
   "source": [
    "### 希尔排序"
   ]
  },
  {
   "cell_type": "code",
   "execution_count": 14,
   "metadata": {},
   "outputs": [
    {
     "name": "stdout",
     "output_type": "stream",
     "text": [
      "排序前:\n",
      "12\n",
      "34\n",
      "54\n",
      "2\n",
      "3\n",
      "\n",
      "排序后:\n",
      "2\n",
      "3\n",
      "12\n",
      "34\n",
      "54\n"
     ]
    }
   ],
   "source": [
    "def shellSort(arr): \n",
    "    n = len(arr)\n",
    "    gap = int(n/2)\n",
    "    while gap > 0: \n",
    "        for i in range(gap,n): \n",
    "            temp = arr[i] \n",
    "            j = i \n",
    "            while  j >= gap and arr[j-gap] >temp: \n",
    "                arr[j] = arr[j-gap] \n",
    "                j -= gap \n",
    "            arr[j] = temp \n",
    "        gap = int(gap/2)\n",
    "arr = [ 12, 34, 54, 2, 3] \n",
    "n = len(arr) \n",
    "print (\"排序前:\") \n",
    "for i in range(n): \n",
    "    print(arr[i]), \n",
    "shellSort(arr) \n",
    "print (\"\\n排序后:\") \n",
    "for i in range(n): \n",
    "    print(arr[i]),"
   ]
  },
  {
   "cell_type": "markdown",
   "metadata": {},
   "source": [
    "### 拓扑排序"
   ]
  },
  {
   "cell_type": "code",
   "execution_count": 15,
   "metadata": {},
   "outputs": [
    {
     "name": "stdout",
     "output_type": "stream",
     "text": [
      "拓扑排序结果：\n",
      "[5, 4, 2, 3, 1, 0]\n"
     ]
    }
   ],
   "source": [
    "from collections import defaultdict \n",
    "class Graph: \n",
    "    def __init__(self,vertices): \n",
    "        self.graph = defaultdict(list) \n",
    "        self.V = vertices\n",
    "    def addEdge(self,u,v): \n",
    "        self.graph[u].append(v) \n",
    "    def topologicalSortUtil(self,v,visited,stack): \n",
    "        visited[v] = True\n",
    "        for i in self.graph[v]: \n",
    "            if visited[i] == False: \n",
    "                self.topologicalSortUtil(i,visited,stack) \n",
    "        stack.insert(0,v) \n",
    "    def topologicalSort(self): \n",
    "        visited = [False]*self.V \n",
    "        stack =[] \n",
    "        for i in range(self.V): \n",
    "            if visited[i] == False: \n",
    "                self.topologicalSortUtil(i,visited,stack) \n",
    "        print (stack) \n",
    "g= Graph(6) \n",
    "g.addEdge(5, 2); \n",
    "g.addEdge(5, 0); \n",
    "g.addEdge(4, 0); \n",
    "g.addEdge(4, 1); \n",
    "g.addEdge(2, 3); \n",
    "g.addEdge(3, 1); \n",
    "  \n",
    "print (\"拓扑排序结果：\")\n",
    "g.topologicalSort()"
   ]
  }
 ],
 "metadata": {
  "kernelspec": {
   "display_name": "Python 3",
   "language": "python",
   "name": "python3"
  },
  "language_info": {
   "codemirror_mode": {
    "name": "ipython",
    "version": 3
   },
   "file_extension": ".py",
   "mimetype": "text/x-python",
   "name": "python",
   "nbconvert_exporter": "python",
   "pygments_lexer": "ipython3",
   "version": "3.8.5"
  },
  "toc": {
   "base_numbering": 1,
   "nav_menu": {},
   "number_sections": true,
   "sideBar": true,
   "skip_h1_title": false,
   "title_cell": "Table of Contents",
   "title_sidebar": "Contents",
   "toc_cell": false,
   "toc_position": {},
   "toc_section_display": true,
   "toc_window_display": true
  }
 },
 "nbformat": 4,
 "nbformat_minor": 4
}
