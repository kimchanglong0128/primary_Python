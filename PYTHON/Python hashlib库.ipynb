{
 "cells": [
  {
   "cell_type": "markdown",
   "metadata": {},
   "source": [
    "### hashlib 基本概念"
   ]
  },
  {
   "cell_type": "raw",
   "metadata": {},
   "source": [
    "1、什么叫hash:hash是一种算法(不同的hash算法只是复杂度不一样)(3.x里代替了md5模块和sha模块,主要提供 SHA1, SHA224, SHA256, SHA384, SHA512 ,MD5 算法),该算法接受传入的内容,经过运算得到一串hash值\n",
    "2、hash值的特点是(hash值/产品)有三大特性:\n",
    "2.1 只要传入的内容一样,得到的hash值必然一样     ----------->    要用明文传输密码文件完整性校验\n",
    "2.2 不能由hash值返解成内容     ----------->    把密码做成hash值,不应该在网络传输明文密码(只能有内容返回hash值)\n",
    "2.3 只要使用的hash算法不变,无论校验的内容有多大,得到的hash值长度是固定的(如从网上下载文件要进行hash校验,保证网络传输没有丢包)\n",
    "基于2.1和2.3可以做文件下载一致性的校验\n",
    "基于2.1和2.2可以对用户密码进行加密\n",
    "hash算法就像一座工厂,工厂接收你送来的原材料(可以用m.update()\n",
    "为工厂运送原材料),经过加工返回的产品就是hash值i "
   ]
  },
  {
   "cell_type": "markdown",
   "metadata": {},
   "source": [
    "### 如何产生hash值之三个阶段"
   ]
  },
  {
   "cell_type": "code",
   "execution_count": 1,
   "metadata": {},
   "outputs": [],
   "source": [
    "import hashlib         #(hash库)\n",
    "import hashlib\n",
    "########## 256 ########\n",
    "## 1、造出hash工厂\n",
    "hash = hashlib.sha256('898oaFs09f'.encode('utf8'))     #同一种hash算法得到的长度是固定的\n",
    "## 2、运送原材料\n",
    "hash.update('alvin'.encode('utf8'))                     #工厂传入的原材料都是bytes类型\n",
    "## 3、产出hash值\n",
    "print(hash.hexdigest())                        # e79e68f070cdedcfe63eaf1a2e92c83b4cfb1b5c6bc452d214c1b7e77cdfd1c7\n",
    "\n",
    "\n",
    "\n",
    "import hashlib\n",
    "m=hashlib.md5()                               #括号内也可以传值，类型也要求是bytes类型\n",
    "m.update('你好呀！'.encode('utf-8'))\n",
    "print(m.hexdigest())                          # 9e49eb8e75b9a87424e388b862ea5f83\n",
    "\n",
    "# 与上述hash的结果一样\n",
    "import hashlib\n",
    "m = hashlib.md5('你'.encode('utf-8'))          #括号内也可以传值，类型也要求是bytes类型\n",
    "m.update('好呀！'.encode('utf-8'))\n",
    "print(m.hexdigest())"
   ]
  },
  {
   "cell_type": "markdown",
   "metadata": {},
   "source": [
    "### 校验文件的一致性(如何保证下载的文件过程中不丢包，保证下载数据的完整性)"
   ]
  },
  {
   "cell_type": "code",
   "execution_count": 2,
   "metadata": {},
   "outputs": [],
   "source": [
    "# -----------文件一致校验----------------\n",
    "'''可以拷贝一个文件放在两个不同的盘中，然后通过判断两个文件的hash值是否相等，判断两个文件是否是同一个文件'''\n",
    "import hashlib\n",
    "m = hashlib.sha384()\n",
    "with open(r'C:/Users/jinchanglong/1.jpg','rb') as f:\n",
    "    for line in f:\n",
    "        m.update(line)\n",
    "print(m.hexdigest())          #47a6b079cc33a4f312786b46e61e0305\n",
    "\n",
    "import hashlib\n",
    "m = hashlib.sha384()\n",
    "with open(r'C:/Users/jinchanglong/1.jpg','rb') as f:\n",
    "    for line in f:\n",
    "        m.update(line)\n",
    "print(m.hexdigest())"
   ]
  },
  {
   "cell_type": "markdown",
   "metadata": {},
   "source": [
    "### 对明文密码进行加密"
   ]
  },
  {
   "cell_type": "code",
   "execution_count": 4,
   "metadata": {},
   "outputs": [
    {
     "name": "stdout",
     "output_type": "stream",
     "text": [
      ">>>>>:4399\n",
      "bdbca288fee7f92f2bfa9f7012727740\n",
      ">>>>>:4399\n",
      "c3fb8344839ea5a5f1c46393fd1177bd\n"
     ]
    }
   ],
   "source": [
    "# 应用：对明文密码进行加密（暴力破解-------用明文密码用一种算法算出一个hash值，与截取的hash值进行比对，比对成功说明明文密码一致，就可以破解用户的密码）\n",
    "'''如用户在某网站进行注册信息，这个时候防止信息被恶意拦截获取，可以对用户明文密码进行加密，存成hash值得形式，这样用户每次登陆虽然输的是明文密码，校验hash值即可'''\n",
    "password = input('>>>>>:').strip()\n",
    "import hashlib\n",
    "m = hashlib.md5()\n",
    "m.update(password.encode('utf-8'))\n",
    "print(m.hexdigest())             # 00dcbdaede875d5e23f1f9f64c7849ef\n",
    "\n",
    "\n",
    "# 对密码进行加盐（暗号）----------进一步加强密码的安全性\n",
    "password = input('>>>>>:').strip()\n",
    "import hashlib\n",
    "m = hashlib.md5()\n",
    "m.update('一行白鹭上青天'.encode('utf-8'))         #对密码加盐\n",
    "m.update(password.encode('utf-8'))\n",
    "print(m.hexdigest())"
   ]
  },
  {
   "cell_type": "markdown",
   "metadata": {},
   "source": [
    "### 破解用户注册的密码"
   ]
  },
  {
   "cell_type": "code",
   "execution_count": 15,
   "metadata": {
    "code_folding": []
   },
   "outputs": [
    {
     "name": "stdout",
     "output_type": "stream",
     "text": [
      "密码是===>\u001b[41malex3714\u001b[0m\n"
     ]
    }
   ],
   "source": [
    "# 重点\n",
    "'''模拟撞库破解密码'''\n",
    "import hashlib\n",
    "passwds=[                      #可以通过random实现对passwds中的内容\n",
    "    'alex3714',\n",
    "    'alex1313',\n",
    "    'alex94139413',\n",
    "    'alex123456',\n",
    "    '123456alex',\n",
    "    'a123lex',\n",
    "    ]\n",
    "\n",
    "def make_passwd_dic(passwds):                # 通过明文密码列表，造出与之对应的hash值得字典\n",
    "    dic={}\n",
    "    for passwd in passwds:\n",
    "        m=hashlib.md5()                      # 使用md5算法，造了一个工厂\n",
    "        m.update(passwd.encode('utf-8'))     # 给工厂运送原材料(即我们要加密的内容)\n",
    "        dic[passwd]=m.hexdigest()            # 产出hash值（即最终的产品），将其加入到我们事先造好的空字典中，字典形式:{密码：hash值}\n",
    "    return dic\n",
    "\n",
    "def break_code(cryptograph,passwd_dic):      # 判断拦截的hash值是否与字典中事先造好的hash值相等，相等则说明成功进行破解\n",
    "    for k,v in passwd_dic.items():\n",
    "        if v == cryptograph:\n",
    "            print('密码是===>\\033[41m%s\\033[0m' %k)   # 开头部分：\\033[显示方式;前景色;背景色m + 内容 +结尾部分：\\033[0m         \\033[***开头，\\033[0m结尾\n",
    "\n",
    "cryptograph='aee949757a2e698417463d47acac93df'     # 我们拦截拿到的密码，经过加密的hash值\n",
    "break_code(cryptograph,make_passwd_dic(passwds))   # 将要破解的密码hash值，和事先造好的hash的字典当做函数的实参传给对应的形参"
   ]
  },
  {
   "cell_type": "markdown",
   "metadata": {},
   "source": [
    "### hmac模块的加密方式，与hashlib类似"
   ]
  },
  {
   "cell_type": "code",
   "execution_count": 21,
   "metadata": {},
   "outputs": [
    {
     "name": "stdout",
     "output_type": "stream",
     "text": [
      "1abaae8f65f68f2695a8545c5bc8e738\n",
      "0426ccec3b134e8c18fdcefee841ef25\n",
      "0426ccec3b134e8c18fdcefee841ef25\n",
      "ff1214d895bbaf5f1847db4ebae8212e\n"
     ]
    },
    {
     "data": {
      "text/plain": [
       "'\\n0426ccec3b134e8c18fdcefee841ef25\\n0426ccec3b134e8c18fdcefee841ef25\\nff1214d895bbaf5f1847db4ebae8212e\\n'"
      ]
     },
     "execution_count": 21,
     "metadata": {},
     "output_type": "execute_result"
    }
   ],
   "source": [
    "'''python 还有一个 hmac 模块，它内部对我们创建 key 和 内容 进行进一步的处理然后再加密:'''\n",
    "import hmac\n",
    "h = hmac.new('天王盖地虎'.encode('utf8'),digestmod = 'MD5')          #hmac必须要加盐\n",
    "h.update('hello'.encode('utf8'))\n",
    "print(h.hexdigest())                 #1abaae8f65f68f2695a8545c5bc8e738\n",
    "\n",
    "#要想保证hmac最终结果一致，必须保证：\n",
    "#1:hmac.new括号内指定的初始key一样\n",
    "#2:无论update多少次，校验的内容累加到一起是一样的内容\n",
    "\n",
    "# 下面单重方式得到的结果是一样的\n",
    "import hmac\n",
    "h1=hmac.new(b'tom',digestmod = 'MD5')          #初始值必须保证一致，最终得到的结果就会不一样\n",
    "h1.update(b'hello')\n",
    "h1.update(b'world')\n",
    "print(h1.hexdigest())\n",
    "\n",
    "h2=hmac.new(b'tom',digestmod = 'MD5')         #初始值必须保证一致，最终得到的结果就会不一样\n",
    "h2.update(b'helloworld')\n",
    "print(h2.hexdigest())\n",
    "\n",
    "h3=hmac.new(b'tomhelloworld',digestmod = 'MD5')   #初始值不一样，所以与上面两种的结果不一样\n",
    "print(h3.hexdigest())\n",
    "\n",
    "'''\n",
    "0426ccec3b134e8c18fdcefee841ef25\n",
    "0426ccec3b134e8c18fdcefee841ef25\n",
    "ff1214d895bbaf5f1847db4ebae8212e\n",
    "'''"
   ]
  }
 ],
 "metadata": {
  "kernelspec": {
   "display_name": "Python 3",
   "language": "python",
   "name": "python3"
  },
  "language_info": {
   "codemirror_mode": {
    "name": "ipython",
    "version": 3
   },
   "file_extension": ".py",
   "mimetype": "text/x-python",
   "name": "python",
   "nbconvert_exporter": "python",
   "pygments_lexer": "ipython3",
   "version": "3.8.5"
  },
  "toc": {
   "base_numbering": 1,
   "nav_menu": {},
   "number_sections": true,
   "sideBar": true,
   "skip_h1_title": false,
   "title_cell": "Table of Contents",
   "title_sidebar": "Contents",
   "toc_cell": false,
   "toc_position": {},
   "toc_section_display": true,
   "toc_window_display": false
  }
 },
 "nbformat": 4,
 "nbformat_minor": 4
}
