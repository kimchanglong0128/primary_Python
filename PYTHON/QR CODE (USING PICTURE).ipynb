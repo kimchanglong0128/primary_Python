{
 "cells": [
  {
   "cell_type": "code",
   "execution_count": 1,
   "metadata": {},
   "outputs": [
    {
     "name": "stdout",
     "output_type": "stream",
     "text": [
      "line 16: mode: alphanumeric\n"
     ]
    },
    {
     "data": {
      "text/plain": [
       "(2, 'H', 'C:\\\\Users\\\\jinchanglong\\\\qrcode.png')"
      ]
     },
     "metadata": {},
     "output_type": "display_data"
    }
   ],
   "source": [
    "from MyQR import myqr\n",
    "\n",
    "df1 = myqr.run(words = 'MGA8FH0050' )  ### 二维码在默认文档里\n",
    "\n",
    "display(df1)"
   ]
  },
  {
   "cell_type": "code",
   "execution_count": 2,
   "metadata": {},
   "outputs": [
    {
     "name": "stdout",
     "output_type": "stream",
     "text": [
      "line 16: mode: alphanumeric\n"
     ]
    }
   ],
   "source": [
    "from MyQR import myqr\n",
    "\n",
    "df1 = myqr.run(words = 'I LOVE YOU',picture = r'C:\\Users\\jinchanglong\\Desktop\\1.jpg')  ### 图片形式二维码"
   ]
  },
  {
   "cell_type": "code",
   "execution_count": 3,
   "metadata": {},
   "outputs": [
    {
     "name": "stdout",
     "output_type": "stream",
     "text": [
      "line 16: mode: alphanumeric\n"
     ]
    }
   ],
   "source": [
    "from MyQR import myqr \n",
    "\n",
    "df1 = myqr.run(words = 'I LOVE YOU',picture = r'C:\\Users\\jinchanglong\\Desktop\\1.jpg',colorized = True)"
   ]
  },
  {
   "cell_type": "markdown",
   "metadata": {},
   "source": [
    "###### words -> 二维码指向链接  -> str\n",
    "###### level -> 纠错等级 -> str L、M、Q、H 从左到右依次升高\n",
    "###### version -> 边长 -> int 范围是 1 到 40 \n",
    "######  picture -> 结合图片 -> str \n",
    "###### colorized -> bool -> True为彩色\n",
    "###### contrast -> 对比度 -> float\n",
    "###### brightness -> 亮度  -> float\n",
    "###### save_name ->输出文件名 -> str\n",
    "###### save_dir -> 存储位置 ->str"
   ]
  },
  {
   "cell_type": "code",
   "execution_count": 4,
   "metadata": {},
   "outputs": [
    {
     "name": "stdout",
     "output_type": "stream",
     "text": [
      "line 16: mode: alphanumeric\n"
     ]
    }
   ],
   "source": [
    "from MyQR import myqr\n",
    "import os\n",
    "df1 = myqr.run(words = 'I LOVE YOU' ,\n",
    "               picture = r'C:\\Users\\jinchanglong\\Desktop\\1.jpg',\n",
    "               colorized = True,\n",
    "               version = 20 , \n",
    "               level = 'H',\n",
    "               contrast = 1.0 , \n",
    "               brightness = 1.0 , \n",
    "               save_name = 'kimchanglong.png',\n",
    "               save_dir = r'C:\\Users\\jinchanglong\\Desktop')"
   ]
  },
  {
   "cell_type": "code",
   "execution_count": null,
   "metadata": {},
   "outputs": [],
   "source": []
  },
  {
   "cell_type": "code",
   "execution_count": null,
   "metadata": {},
   "outputs": [],
   "source": []
  },
  {
   "cell_type": "code",
   "execution_count": null,
   "metadata": {},
   "outputs": [],
   "source": []
  },
  {
   "cell_type": "code",
   "execution_count": null,
   "metadata": {},
   "outputs": [],
   "source": []
  }
 ],
 "metadata": {
  "kernelspec": {
   "display_name": "Python 3",
   "language": "python",
   "name": "python3"
  },
  "language_info": {
   "codemirror_mode": {
    "name": "ipython",
    "version": 3
   },
   "file_extension": ".py",
   "mimetype": "text/x-python",
   "name": "python",
   "nbconvert_exporter": "python",
   "pygments_lexer": "ipython3",
   "version": "3.8.5"
  }
 },
 "nbformat": 4,
 "nbformat_minor": 4
}
