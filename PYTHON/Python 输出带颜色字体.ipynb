{
 "cells": [
  {
   "cell_type": "markdown",
   "metadata": {},
   "source": [
    "### 书写格式"
   ]
  },
  {
   "cell_type": "raw",
   "metadata": {},
   "source": [
    " 开头部分：\\033[显示方式;前景色;背景色m + 内容 +结尾部分：\\033[0m\n",
    " 注意：开头部分的三个参数：显示方式,前景色,背景色是可选参数,可以只写其中的某一个\n",
    " 另外由于表示三个参数不同含义的数值都是唯一的没有重复的,所以三个参数的书写先后顺序没有固定要求,系统都能识别\n",
    " 但是,建议按照默认的格式规范书写\n",
    " 对于结尾部分,其实也可以省略,但是为了书写规范,建议\\033[***开头,\\033[0m结尾"
   ]
  },
  {
   "cell_type": "markdown",
   "metadata": {},
   "source": [
    "|字体色|背景色|颜色描述|\n",
    "|------|-------|-------|\n",
    "|30|40|黑色|\n",
    "|31|41|红色|\n",
    "|32|42|绿色|\n",
    "|33|43|黃色|\n",
    "|34|44|蓝色|\n",
    "|35|45|紫红色|\n",
    "|36|46|青蓝色|\n",
    "|37|47|白色|\n",
    "\n",
    "***\n",
    "\n",
    "|显示方式|效果|\n",
    "|--------|----|\n",
    "|0|终端默认设置|\n",
    "|1|高亮显示|\n",
    "|4|使用下划线|\n",
    "|5|闪烁|\n",
    "|7|反白显示|\n",
    "|8|不可见|"
   ]
  },
  {
   "cell_type": "markdown",
   "metadata": {},
   "source": [
    "### 数值表示的参数含义"
   ]
  },
  {
   "cell_type": "raw",
   "metadata": {},
   "source": [
    "显示方式: 0(默认值)、1(高亮)、22(非粗体)、4(下划线)、24(非下划线)、 5(闪烁)、25(非闪烁)、7(反显)、27(非反显)\n",
    "前景色(字体色): 30(黑色)、31(红色)、32(绿色)、 33(黄色)、34(蓝色)、35(洋 红)、36(青色)、37(白色) \n",
    "背景色: 40(黑色)、41(红色)、42(绿色)、 43(黄色)、44(蓝色)、45(洋 红)、46(青色)、47(白色)"
   ]
  },
  {
   "cell_type": "markdown",
   "metadata": {},
   "source": [
    "### 常见的开头格式"
   ]
  },
  {
   "cell_type": "raw",
   "metadata": {},
   "source": [
    "\\033[0m         默认字体正常显示,不高亮\n",
    "\\033[32;0m       红色字体正常显示\n",
    "\\033[1;32;40m  显示方式: 高亮    字体前景色：绿色    背景色：黑色\n",
    "\\033[0;31;46m  显示方式: 正常    字体前景色：红色    背景色：青色\n",
    "\\033[1;31m    显示方式: 高亮    字体前景色：红色    背景色：无"
   ]
  },
  {
   "cell_type": "code",
   "execution_count": 5,
   "metadata": {},
   "outputs": [
    {
     "name": "stdout",
     "output_type": "stream",
     "text": [
      "\u001b[1;35;0m字体变色，但无背景色 \u001b[0m\n",
      "\u001b[1;45m 字体不变色，有背景色 \u001b[0m\n",
      "\u001b[1;33;46m 字体有色，且有背景色 \u001b[0m\n",
      "\u001b[0;35;46m 字体有色，且有背景色 \u001b[0m\n"
     ]
    }
   ],
   "source": [
    "print('\\033[1;35;0m字体变色,但无背景色 \\033[0m')  # 有高亮 或者 print('\\033[1;35m字体有色,但无背景色 \\033[0m')\n",
    "print('\\033[1;45m 字体不变色,有背景色 \\033[0m')  # 有高亮\n",
    "print('\\033[1;33;46m 字体有色,且有背景色 \\033[0m')  # 有高亮\n",
    "print('\\033[0;35;46m 字体有色,且有背景色 \\033[0m')  # 无高亮"
   ]
  },
  {
   "cell_type": "code",
   "execution_count": 18,
   "metadata": {},
   "outputs": [
    {
     "name": "stdout",
     "output_type": "stream",
     "text": [
      "\u001b[1;33;44m床前明月光,\n",
      "疑是地上霜.\n",
      "举头望明月,\n",
      "低头思故乡.\u001b[0m\n"
     ]
    }
   ],
   "source": [
    "print('\\033[1;33;44m床前明月光,')\n",
    "print('疑是地上霜.')\n",
    "print('举头望明月,')\n",
    "print('低头思故乡.\\033[0m')"
   ]
  }
 ],
 "metadata": {
  "kernelspec": {
   "display_name": "Python 3",
   "language": "python",
   "name": "python3"
  },
  "language_info": {
   "codemirror_mode": {
    "name": "ipython",
    "version": 3
   },
   "file_extension": ".py",
   "mimetype": "text/x-python",
   "name": "python",
   "nbconvert_exporter": "python",
   "pygments_lexer": "ipython3",
   "version": "3.8.5"
  },
  "toc": {
   "base_numbering": 1,
   "nav_menu": {},
   "number_sections": true,
   "sideBar": true,
   "skip_h1_title": false,
   "title_cell": "Table of Contents",
   "title_sidebar": "Contents",
   "toc_cell": false,
   "toc_position": {},
   "toc_section_display": true,
   "toc_window_display": false
  }
 },
 "nbformat": 4,
 "nbformat_minor": 4
}
