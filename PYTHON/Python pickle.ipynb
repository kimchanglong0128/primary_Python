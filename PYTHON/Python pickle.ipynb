{
 "cells": [
  {
   "cell_type": "markdown",
   "metadata": {},
   "source": [
    "### pickle模块详解"
   ]
  },
  {
   "cell_type": "raw",
   "metadata": {},
   "source": [
    "pickle提供了一个简单的持久化功能,可以将对象以文件的形式存放在磁盘上\n",
    "pickle模块只能在Python中使用，python中几乎所有的数据类型（列表，字典，集合，类等）都可以用pickle来序列化\n",
    "pickle序列化后的数据，可读性差，人一般无法识别\n",
    "该pickle模块实现了用于序列化和反序列化Python对象结构的二进制协议\n",
    "'Pickling'是将Python对象层次结构转换为字节流的过程\n",
    "'unpickling'是反向操作,从而将字节流(来自二进制文件或类似字节的对象)转换回对象层次结构\n",
    "pickle模块对于错误或恶意构造的数据是不安全的"
   ]
  },
  {
   "cell_type": "markdown",
   "metadata": {
    "run_control": {
     "marked": false
    }
   },
   "source": [
    "### pickle协议和JSON（JavaScript Object Notation）的区别"
   ]
  },
  {
   "cell_type": "raw",
   "metadata": {},
   "source": [
    "　　1. JSON是一种文本序列化格式（它输出unicode文本，虽然大部分时间它被编码utf-8），而pickle是二进制序列化格式\n",
    "　　2. JSON是人类可读的，而pickle则不是\n",
    "　　3. JSON是可互操作的，并且在Python生态系统之外广泛使用，而pickle是特定于Python的\n",
    "\n",
    "默认情况下,JSON只能表示Python内置类型的子集,而不能表示自定义类\n",
    "pickle可以表示极其庞大的Python类型(其中许多是自动的，通过巧妙地使用Python的内省工具;复杂的案例可以通过实现特定的对象API来解决)\n",
    "\n",
    "pickle数据格式是特定于Python的。它的优点是没有外部标准强加的限制，例如JSON或XDR（不能代表指针共享）; 但是这意味着非Python程序可能无法重建pickled Python对象\n",
    "默认情况下,pickle数据格式使用相对紧凑的二进制表示\n",
    "如果需要最佳尺寸特征，则可以有效地压缩数据"
   ]
  },
  {
   "cell_type": "markdown",
   "metadata": {},
   "source": [
    "### 模块接口"
   ]
  },
  {
   "cell_type": "raw",
   "metadata": {},
   "source": [
    "要序列化对象层次结构，只需调用该dumps()函数即可\n",
    "同样，要对数据流进行反序列化，请调用该loads()函数\n",
    "但是，如果您想要更多地控制序列化和反序列化，则可以分别创建一个Pickler或一个Unpickler对象"
   ]
  },
  {
   "cell_type": "raw",
   "metadata": {},
   "source": [
    "pickle模块提供以下常量：\n",
    "\n",
    "pickle.HIGHEST_PROTOCOL\n",
    "整数， 可用的最高协议版本\n",
    "这个值可以作为一个被传递协议的价值函数 dump()和dumps()以及该Pickler 构造函数\n",
    "\n",
    "pickle.DEFAULT_PROTOCOL\n",
    "整数，用于编码的默认协议版本。可能不到HIGHEST_PROTOCOL\n",
    "目前，默认协议是3，这是为Python 3设计的新协议"
   ]
  },
  {
   "cell_type": "raw",
   "metadata": {},
   "source": [
    "pickle模块提供以下功能,使酸洗过程更加方便：\n",
    "\n",
    "pickle.dump(obj,file,protocol = None,*,fix_imports = True )\n",
    "将obj对象的编码pickle编码表示写入到文件对象中,相当于Pickler(file,protocol).dump(obj)\n",
    "\n",
    "可供选择的协议参数是一个整数,指定pickler使用的协议版本,支持的协议是0到HIGHEST_PROTOCOL\n",
    "如果未指定,则默认为DEFAULT_PROTOCOL\n",
    "如果指定为负数,则选择HIGHEST_PROTOCOL\n",
    "\n",
    "文件参数必须具有接受单个字节的参数写方法\n",
    "因此,它可以是为二进制写入打开的磁盘文件,io.BytesIO实例或满足此接口的任何其他自定义对象\n",
    "\n",
    "如果fix_imports为true且protocol小于3,则pickle将尝试将新的Python 3名称映射到Python 2中使用的旧模块名称,以便使用Python 2可读取pickle数据流\n",
    "\n",
    "pickle.dumps(obj,protocol = None,*,fix_imports = True)\n",
    "将对象的pickled表示作为bytes对象返回,而不是将其写入文件\n",
    "\n",
    "参数protocol和fix_imports具有与in中相同的含义 dump()\n",
    "\n",
    "pickle.load(file,*,fix_imports = True,encoding = 'ASCII',errors ='strict')\n",
    "从打开的文件对象文件中读取pickle对象表示,并返回其中指定的重构对象层次结构\n",
    "这相当于Unpickler(file).load()\n",
    "\n",
    "pickle的协议版本是自动检测的,因此不需要协议参数\n",
    "超过pickle对象的表示的字节将被忽略\n",
    "\n",
    "参数文件必须有两个方法,一个采用整数参数的read()方法和一个不需要参数的readline()方法\n",
    "两种方法都应返回字节\n",
    "因此,文件可以是为二进制读取而打开的磁盘文件,io.BytesIO对象或满足此接口的任何其他自定义对象\n",
    "\n",
    "可选的关键字参数是fix_imports,encoding和errors,用于控制Python 2生成的pickle流的兼容性支持\n",
    "如果fix_imports为true,则pickle将尝试将旧的Python 2名称映射到Python 3中使用的新名称\n",
    "编码和错误告诉pickle如何解码Python 2编码的8位字符串实例\n",
    "这些默认分别为'ASCII'和'strict'\n",
    "该编码可以是“字节”作为字节对象读取这些8位串的实例\n",
    "使用encoding='latin1'所需的取储存NumPy的阵列和实例datetime,date并且time被Python 2解码。\n",
    "\n",
    "pickle.loads(bytes_object,*,fix_imports = True,encoding =“ASCII”,errors = 'strict')\n",
    "从bytes对象读取pickle对象层次结构并返回其中指定的重构对象层次结构\n",
    "\n",
    "pickle的协议版本是自动检测的,因此不需要协议参数。超过pickle对象的表示的字节将被忽略"
   ]
  },
  {
   "cell_type": "code",
   "execution_count": 6,
   "metadata": {},
   "outputs": [
    {
     "name": "stdout",
     "output_type": "stream",
     "text": [
      "{'a': 123, 'b': 'ads', 'c': [[1, 2], [3, 4]]}\n"
     ]
    }
   ],
   "source": [
    "import numpy as np\n",
    "import pickle\n",
    "import io\n",
    "\n",
    "if __name__ == '__main__':\n",
    "    path = 'test'\n",
    "    f = open(path, 'wb')\n",
    "    data = {'a':123, 'b':'ads', 'c':[[1,2],[3,4]]}\n",
    "    pickle.dump(data, f)\n",
    "    f.close()\n",
    "\n",
    "    f1 = open(path, 'rb')\n",
    "    data1 = pickle.load(f1)\n",
    "    print(data1)"
   ]
  }
 ],
 "metadata": {
  "kernelspec": {
   "display_name": "Python 3",
   "language": "python",
   "name": "python3"
  },
  "language_info": {
   "codemirror_mode": {
    "name": "ipython",
    "version": 3
   },
   "file_extension": ".py",
   "mimetype": "text/x-python",
   "name": "python",
   "nbconvert_exporter": "python",
   "pygments_lexer": "ipython3",
   "version": "3.8.5"
  },
  "toc": {
   "base_numbering": 1,
   "nav_menu": {},
   "number_sections": true,
   "sideBar": true,
   "skip_h1_title": false,
   "title_cell": "Table of Contents",
   "title_sidebar": "Contents",
   "toc_cell": false,
   "toc_position": {},
   "toc_section_display": true,
   "toc_window_display": false
  }
 },
 "nbformat": 4,
 "nbformat_minor": 4
}
