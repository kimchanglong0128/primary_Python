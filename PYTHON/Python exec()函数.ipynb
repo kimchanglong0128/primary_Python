{
 "cells": [
  {
   "cell_type": "raw",
   "metadata": {},
   "source": [
    "exec 执行储存在字符串或文件中的 Python语句,相比于 eval,exec可以执行更复杂的 Python代码"
   ]
  },
  {
   "cell_type": "markdown",
   "metadata": {},
   "source": [
    "exec(object[, globals[, locals]])\n",
    "\n",
    "+ object:必选参数,表示需要被指定的 Python代码.它必须是字符串或 code对象\n",
    "如果 object 是一个字符串,该字符串会先被解析为一组 Python 语句,然后再执行(除非发生语法错误).如果 object是一个 code对象,那么它只是被简单的执行\n",
    "+ globals:可选参数,表示全局命名空间(存放全局变量),如果被提供,则必须是一个字典对象\n",
    "+ locals:可选参数,表示当前局部命名空间(存放局部变量),如果被提供,可以是任何映射对象.如果该参数被忽略,那么它将会取与 globals相同的值"
   ]
  },
  {
   "cell_type": "markdown",
   "metadata": {},
   "source": [
    "#### 简单使用"
   ]
  },
  {
   "cell_type": "code",
   "execution_count": 2,
   "metadata": {},
   "outputs": [
    {
     "name": "stdout",
     "output_type": "stream",
     "text": [
      "996\n"
     ]
    }
   ],
   "source": [
    "exec('a = 996')\n",
    "print(a)"
   ]
  },
  {
   "cell_type": "code",
   "execution_count": 6,
   "metadata": {},
   "outputs": [
    {
     "name": "stdout",
     "output_type": "stream",
     "text": [
      "120\n"
     ]
    }
   ],
   "source": [
    "func = 'def fact(n):\\n\\t return 1 if n==1 else n*fact(n-1)'\n",
    "exec(func)\n",
    "a = fact(5)       ### fact()函数:阶乘 5*4*3*2*1*\n",
    "print(a)"
   ]
  },
  {
   "cell_type": "markdown",
   "metadata": {},
   "source": [
    "#### 执行文件中的Python 代码"
   ]
  },
  {
   "cell_type": "code",
   "execution_count": 9,
   "metadata": {},
   "outputs": [
    {
     "name": "stdout",
     "output_type": "stream",
     "text": [
      "720\n"
     ]
    }
   ],
   "source": [
    "def fact1(n):\n",
    "    if n==1:\n",
    "        return 1\n",
    "    else:\n",
    "        return n*fact1(n-1)\n",
    "t = fact1(6)\n",
    "print(t)"
   ]
  },
  {
   "cell_type": "markdown",
   "metadata": {},
   "source": [
    "#### 在 exec中传参"
   ]
  },
  {
   "cell_type": "code",
   "execution_count": 13,
   "metadata": {},
   "outputs": [
    {
     "name": "stdout",
     "output_type": "stream",
     "text": [
      "60\n",
      "33\n",
      "34\n"
     ]
    }
   ],
   "source": [
    "x = 10\n",
    "expr = \"\"\"\n",
    "z = 30\n",
    "sum = x + y + z\n",
    "print(sum)\n",
    "\"\"\"\n",
    " \n",
    "def func():\n",
    "    y = 20\n",
    "    exec(expr)\n",
    "    exec(expr, {'x': 1, 'y': 2})\n",
    "    exec(expr, {'x': 1, 'y': 2}, {'y': 3, 'z': 4})\n",
    " \n",
    "func()"
   ]
  }
 ],
 "metadata": {
  "kernelspec": {
   "display_name": "Python 3",
   "language": "python",
   "name": "python3"
  },
  "language_info": {
   "codemirror_mode": {
    "name": "ipython",
    "version": 3
   },
   "file_extension": ".py",
   "mimetype": "text/x-python",
   "name": "python",
   "nbconvert_exporter": "python",
   "pygments_lexer": "ipython3",
   "version": "3.8.5"
  },
  "toc": {
   "base_numbering": 1,
   "nav_menu": {},
   "number_sections": true,
   "sideBar": true,
   "skip_h1_title": false,
   "title_cell": "Table of Contents",
   "title_sidebar": "Contents",
   "toc_cell": false,
   "toc_position": {},
   "toc_section_display": true,
   "toc_window_display": false
  }
 },
 "nbformat": 4,
 "nbformat_minor": 4
}
