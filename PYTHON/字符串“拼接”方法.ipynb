{
 "cells": [
  {
   "cell_type": "markdown",
   "metadata": {},
   "source": [
    "### 加号连接"
   ]
  },
  {
   "cell_type": "code",
   "execution_count": 3,
   "metadata": {},
   "outputs": [
    {
     "data": {
      "text/plain": [
       "'BAJH0211Yn is Mono-Cell'"
      ]
     },
     "execution_count": 3,
     "metadata": {},
     "output_type": "execute_result"
    }
   ],
   "source": [
    "a , b = 'BAJH0211Yn is' , ' Mono-Cell'\n",
    "a + b"
   ]
  },
  {
   "cell_type": "markdown",
   "metadata": {},
   "source": [
    "### 逗号连接"
   ]
  },
  {
   "cell_type": "code",
   "execution_count": 4,
   "metadata": {},
   "outputs": [
    {
     "name": "stdout",
     "output_type": "stream",
     "text": [
      "BAJH0211Yn is  Mono-Cell\n"
     ]
    }
   ],
   "source": [
    "a , b = 'BAJH0211Yn is' , ' Mono-Cell'    ### 使用逗号形式要注意一点，只能用 print 打印\n",
    "print( a , b )"
   ]
  },
  {
   "cell_type": "code",
   "execution_count": 5,
   "metadata": {},
   "outputs": [
    {
     "data": {
      "text/plain": [
       "('BAJH0211Yn is', ' Mono-Cell')"
      ]
     },
     "execution_count": 5,
     "metadata": {},
     "output_type": "execute_result"
    }
   ],
   "source": [
    "a,b     ### 复赋值操作会生成元组"
   ]
  },
  {
   "cell_type": "markdown",
   "metadata": {},
   "source": [
    "### 直接连接"
   ]
  },
  {
   "cell_type": "code",
   "execution_count": 7,
   "metadata": {},
   "outputs": [
    {
     "name": "stdout",
     "output_type": "stream",
     "text": [
      "BAJH0211Yn is Mono-Cell\n",
      "BAJH0211Yn is Mono-Cell\n"
     ]
    }
   ],
   "source": [
    "print('BAJH0211Yn is'  ' Mono-Cell')    ### 中间有无空格均可\n",
    "print('BAJH0211Yn is'' Mono-Cell')"
   ]
  },
  {
   "cell_type": "markdown",
   "metadata": {},
   "source": [
    "### 百分号 %"
   ]
  },
  {
   "cell_type": "code",
   "execution_count": 18,
   "metadata": {},
   "outputs": [
    {
     "name": "stdout",
     "output_type": "stream",
     "text": [
      "BAJH0211Yn is Mono-Cell\n",
      "BAJH0211Yn is Mono-Cell Packaging 3-1\n"
     ]
    }
   ],
   "source": [
    "print('%s %s' % ('BAJH0211Yn is' , 'Mono-Cell'))\n",
    "print('%s %s %s' % ('BAJH0211Yn is' , 'Mono-Cell','Packaging 3-1'))"
   ]
  },
  {
   "cell_type": "markdown",
   "metadata": {},
   "source": [
    "### format 函数"
   ]
  },
  {
   "cell_type": "code",
   "execution_count": 19,
   "metadata": {},
   "outputs": [
    {
     "name": "stdout",
     "output_type": "stream",
     "text": [
      "BAJH0211Yn is Mono-Cell\n",
      "BAJH0211Yn is Mono-Cell Packaging 3-1\n"
     ]
    }
   ],
   "source": [
    "print('{} {}'.format('BAJH0211Yn is' , 'Mono-Cell'))\n",
    "print('{} {} {}'.format('BAJH0211Yn is' , 'Mono-Cell','Packaging 3-1'))"
   ]
  },
  {
   "cell_type": "markdown",
   "metadata": {},
   "source": [
    "### join 函数"
   ]
  },
  {
   "cell_type": "code",
   "execution_count": 21,
   "metadata": {},
   "outputs": [
    {
     "name": "stdout",
     "output_type": "stream",
     "text": [
      "BAJH0211Yn is Mono-Cell\n",
      "BAJH0211Yn is Mono-Cell Packaging 3-1\n"
     ]
    }
   ],
   "source": [
    "print(' '.join(['BAJH0211Yn is' , 'Mono-Cell']))                  ### 第一个引号，即使用何种分隔符\n",
    "print(' '.join(['BAJH0211Yn is' , 'Mono-Cell','Packaging 3-1']))"
   ]
  },
  {
   "cell_type": "markdown",
   "metadata": {},
   "source": [
    "### f-string (Formatted String Literals : 字面量格式化字符串)"
   ]
  },
  {
   "cell_type": "code",
   "execution_count": 31,
   "metadata": {},
   "outputs": [
    {
     "name": "stdout",
     "output_type": "stream",
     "text": [
      "BAJH0211Yn is Mono-Cell\n",
      "BAJH0211Yn is ddd Mono-Cell\n"
     ]
    }
   ],
   "source": [
    "a , b = 'BAJH0211Yn is' , 'Mono-Cell'    ### 花括号后是以何种分隔符进行分割\n",
    "print(f'{a} {b}')\n",
    "print(f'{a}{b}')"
   ]
  },
  {
   "cell_type": "markdown",
   "metadata": {},
   "source": [
    "### 星号*"
   ]
  },
  {
   "cell_type": "code",
   "execution_count": 33,
   "metadata": {},
   "outputs": [
    {
     "data": {
      "text/plain": [
       "'AAJH0412f9_AAJH0412f9_AAJH0412f9_'"
      ]
     },
     "execution_count": 33,
     "metadata": {},
     "output_type": "execute_result"
    }
   ],
   "source": [
    "a = 'AAJH0412f9_'\n",
    "a * 3"
   ]
  },
  {
   "cell_type": "raw",
   "metadata": {},
   "source": [
    "*操作符其实是一种操作符重载操作 ， 对应的魔术方法是 __mul__"
   ]
  },
  {
   "cell_type": "code",
   "execution_count": 35,
   "metadata": {},
   "outputs": [
    {
     "name": "stdout",
     "output_type": "stream",
     "text": [
      "[426, 426]\n",
      "[426, 426, 426]\n"
     ]
    }
   ],
   "source": [
    "a = [426]\n",
    "print(a * 2)\n",
    "\n",
    "print(a.__mul__(3))"
   ]
  }
 ],
 "metadata": {
  "kernelspec": {
   "display_name": "Python 3",
   "language": "python",
   "name": "python3"
  },
  "language_info": {
   "codemirror_mode": {
    "name": "ipython",
    "version": 3
   },
   "file_extension": ".py",
   "mimetype": "text/x-python",
   "name": "python",
   "nbconvert_exporter": "python",
   "pygments_lexer": "ipython3",
   "version": "3.8.5"
  },
  "toc": {
   "base_numbering": 1,
   "nav_menu": {},
   "number_sections": true,
   "sideBar": true,
   "skip_h1_title": false,
   "title_cell": "Table of Contents",
   "title_sidebar": "Contents",
   "toc_cell": false,
   "toc_position": {},
   "toc_section_display": true,
   "toc_window_display": false
  }
 },
 "nbformat": 4,
 "nbformat_minor": 4
}
