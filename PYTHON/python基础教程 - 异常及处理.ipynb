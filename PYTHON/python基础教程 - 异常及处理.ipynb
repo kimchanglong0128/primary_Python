{
 "cells": [
  {
   "cell_type": "raw",
   "metadata": {},
   "source": [
    "异常是程序执行过程中，影响程序正常执行的一个事件\n",
    "异常是python中的一个对象，表示一种错误，我们需要捕获异常并且处理异常，防止程序终止运行"
   ]
  },
  {
   "cell_type": "raw",
   "metadata": {},
   "source": [
    "我们可以通过 try... except ... else... 来捕获异常，依法结构为："
   ]
  },
  {
   "cell_type": "markdown",
   "metadata": {},
   "source": [
    "### try... except ... else..."
   ]
  },
  {
   "cell_type": "raw",
   "metadata": {},
   "source": [
    "...\n",
    "try:\n",
    "    [执行语句]\n",
    "    ......\n",
    "except [异常类型] as [异常参数]:\n",
    "    [执行语句]\n",
    "    ......\n",
    "else:\n",
    "    [执行语句]\n",
    "    ......"
   ]
  },
  {
   "cell_type": "raw",
   "metadata": {},
   "source": [
    "...\n",
    "try:\n",
    "    [执行语句]\n",
    "    ......\n",
    "except ([异常类型1],[异常参数2],......:\n",
    "    [执行语句]\n",
    "    ......\n",
    "else:\n",
    "    [执行语句]\n",
    "    ......"
   ]
  },
  {
   "cell_type": "code",
   "execution_count": 3,
   "metadata": {},
   "outputs": [
    {
     "name": "stdout",
     "output_type": "stream",
     "text": [
      "开始执行Text()函数\n",
      "该程序执行中出现以下错误:\n",
      "异常类型:\t<class 'TypeError'>\n",
      "异常参数为:\tText() missing 1 required positional argument: 'name'\n",
      "给Text()函数传入一个参数:\n",
      "我的名字是:jinchanglong\n"
     ]
    }
   ],
   "source": [
    "def Text(name):\n",
    "    print('我的名字是:' + name )\n",
    "    \n",
    "try:\n",
    "    print('开始执行Text()函数')\n",
    "    Text()\n",
    "    \n",
    "except TypeError as e:\n",
    "    print('该程序执行中出现以下错误:')\n",
    "    print('异常类型:\\t' + str(TypeError) + '\\n异常参数为:\\t' + str(e))\n",
    "    \n",
    "    User = 'jinchanglong'\n",
    "    print('给Text()函数传入一个参数:')\n",
    "    Text(User)\n",
    "    \n",
    "else:\n",
    "    print('如果没有异常执行else')"
   ]
  },
  {
   "cell_type": "code",
   "execution_count": 6,
   "metadata": {},
   "outputs": [
    {
     "data": {
      "text/plain": [
       "BaseException"
      ]
     },
     "execution_count": 6,
     "metadata": {},
     "output_type": "execute_result"
    }
   ],
   "source": [
    "BaseException"
   ]
  },
  {
   "cell_type": "markdown",
   "metadata": {},
   "source": [
    "BaseException\n",
    " + SystemExit\n",
    " + KeyboardInterrupt\n",
    " + GeneratorExit\n",
    " + Exception\n",
    "      + StopIteration\n",
    "      + StandardError\n",
    "          ++ BufferError\n",
    "          ++ ArithmeticError\n",
    "                + FloatingPointError\n",
    "                + OverflowError\n",
    "                + ZeroDivisionError\n",
    "          + AssertionError\n",
    "          + AttributeError\n",
    "          + EnvironmentError\n",
    "                + IOError\n",
    "                + OSError\n",
    "                + WindowsError (Windows)\n",
    "                + VMSError (VMS)\n",
    "          + EOFError\n",
    "          + ImportError\n",
    "          + LookupError\n",
    "                + IndexError\n",
    "                + KeyError\n",
    "          + MemoryError\n",
    "          + NameError\n",
    "                + UnboundLocalError\n",
    "          + ReferenceError\n",
    "          + RuntimeError\n",
    "                + NotImplementedError\n",
    "          + SyntaxError\n",
    "                + IndentationError\n",
    "                + TabError\n",
    "          + SystemError\n",
    "          + TypeError\n",
    "          + ValueError\n",
    "                + UnicodeError\n",
    "                + UnicodeDecodeError\n",
    "                + UnicodeEncodeError\n",
    "                + UnicodeTranslateError\n",
    "      + Warning\n",
    "           + DeprecationWarning\n",
    "           + PendingDeprecationWarning\n",
    "           + RuntimeWarning\n",
    "           + SyntaxWarning\n",
    "           + UserWarning\n",
    "           + FutureWarning\n",
    "\t   + ImportWarning\n",
    "\t   + UnicodeWarning\n",
    "\t   + BytesWarning\n"
   ]
  },
  {
   "cell_type": "markdown",
   "metadata": {},
   "source": [
    "### try...finally...语句"
   ]
  },
  {
   "cell_type": "raw",
   "metadata": {},
   "source": [
    "该语句中的 finally 一定会被执行\n",
    "通常用与一些即便出现异常，依然需要去进行一些操作的场景\n",
    "如文件的关闭等类似动作，即便文件关闭之前出现异常，我们依然可以通过finally将文件关闭"
   ]
  },
  {
   "cell_type": "raw",
   "metadata": {},
   "source": [
    "try:\n",
    "    [执行语句]\n",
    "    ......\n",
    "except [异常类型] as [异常参数]：\n",
    "    [执行语句]\n",
    "    ......\n",
    "else:\n",
    "    [执行语句]\n",
    "    ......\n",
    "finally:\n",
    "    [执行语句]\n",
    "    ......"
   ]
  },
  {
   "cell_type": "markdown",
   "metadata": {},
   "source": [
    "### 断言assert 语句"
   ]
  },
  {
   "cell_type": "raw",
   "metadata": {},
   "source": [
    "该语句常用于测试场景\n",
    "如在程序运行过程中，我们可以通过该语句设置某一个条件为真程序才会继续进行，否则终端程序\n",
    "调用默认的异常处理器，并输入我们设置的提示信息"
   ]
  },
  {
   "cell_type": "raw",
   "metadata": {},
   "source": [
    "...\n",
    "assert [条件], '[提示信息]'\n",
    "..."
   ]
  }
 ],
 "metadata": {
  "kernelspec": {
   "display_name": "Python 3",
   "language": "python",
   "name": "python3"
  },
  "language_info": {
   "codemirror_mode": {
    "name": "ipython",
    "version": 3
   },
   "file_extension": ".py",
   "mimetype": "text/x-python",
   "name": "python",
   "nbconvert_exporter": "python",
   "pygments_lexer": "ipython3",
   "version": "3.8.5"
  },
  "toc": {
   "base_numbering": 1,
   "nav_menu": {},
   "number_sections": true,
   "sideBar": true,
   "skip_h1_title": false,
   "title_cell": "Table of Contents",
   "title_sidebar": "Contents",
   "toc_cell": false,
   "toc_position": {},
   "toc_section_display": true,
   "toc_window_display": false
  }
 },
 "nbformat": 4,
 "nbformat_minor": 4
}
