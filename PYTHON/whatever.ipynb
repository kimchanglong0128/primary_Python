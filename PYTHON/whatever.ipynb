{
 "cells": [
  {
   "cell_type": "raw",
   "metadata": {},
   "source": [
    "import os\n",
    "\n",
    "path = 'c:\\\\Users\\jinchanglong\\Desktop\\新建文件夹'\n",
    "path1 = 'c:\\\\Users\\jinchanglong\\Desktop\\新建文件夹\\EXCEL 函数2013'\n",
    "\n",
    "file_list = os.listdir(path)\n",
    "file_list1 = os.listdir(path1)\n",
    "\n",
    "path2 = os.getcwd()\n",
    "print(path2)\n",
    "\n",
    "print(file_list)\n",
    "\n",
    "for i in file_list1:\n",
    "    print(i)\n",
    "    \n",
    "path3 = 'example.xlsx'\n",
    "separate = os.path.splitext(path3)\n",
    "print(separate)\n",
    "\n",
    "path4 = 'im a good.man'\n",
    "separate1 = os.path.splitext(path4)\n",
    "print(separate1)\n",
    "\n",
    "oldname = 'C:\\\\Users\\\\jinchanglong\\\\Desktop\\\\22.xlsx'\n",
    "newname = 'C:\\\\Users\\\\jinchanglong\\\\Desktop\\\\22.xlsx'\n",
    "os.rename(oldname,newname)\n",
    "\n",
    "oldname1 = 'C:\\\\Users\\\\jinchanglong\\\\Desktop\\\\22.xlsx'\n",
    "newname1 = 'C:\\\\Users\\\\jinchanglong\\\\Desktop\\\\新建文件夹\\\\22.xlsx'\n",
    "os.rename(oldname1,newname1)"
   ]
  },
  {
   "cell_type": "raw",
   "metadata": {},
   "source": [
    "import xlwings as wx\n",
    "app = xw.App(visible = True , add_book = False)\n",
    "workbook = app.books.open('C:\\\\Users\\\\jinchanglong\\\\Desktop\\\\新建文件夹\\\\22.xlsx')\n",
    "workbook = app.books.open(r'C:\\Users\\jinchanglong\\Desktop\\新建文件夹\\22.xlsx')\n",
    "\n",
    "worksheet = workbook.sheets['Sheet1']\n",
    "worksheet.range('A1').value = '编号'\n",
    "worksheet = workbook.sheets.add('产品统计表')\n",
    "\n",
    "workbook.save('sample.xlsx')\n",
    "\n",
    "workbook.close()\n",
    "app.quit()"
   ]
  },
  {
   "cell_type": "code",
   "execution_count": null,
   "metadata": {},
   "outputs": [],
   "source": [
    "import xlwings as xw\n",
    "\n",
    "app = xw.App(visible = False)\n",
    "workbook = app.books.add()\n",
    "worksheet = workbook.sheets.add('产品统计表')\n",
    "worksheet.range('A1').value = '编号'\n",
    "workbook.save('C:\\\\Users\\\\jinchanglong\\\\Desktop\\\\999.xlsx')\n",
    "workbook.close()\n",
    "app.quit"
   ]
  },
  {
   "cell_type": "code",
   "execution_count": null,
   "metadata": {},
   "outputs": [],
   "source": [
    "import numpy as np\n",
    "\n",
    "a = [1 ,2 ,3 ,4]                #列表\n",
    "b = np.array([1 ,2 ,3 ,4])      #数组\n",
    "\n",
    "print(a)\n",
    "print(b)\n",
    "\n",
    "print(type(a))\n",
    "print(type(b))\n",
    "\n",
    "print(a[1])\n",
    "print(b[1])\n",
    "\n",
    "print(a[0:2])\n",
    "print(b[0:2])"
   ]
  },
  {
   "cell_type": "code",
   "execution_count": null,
   "metadata": {},
   "outputs": [],
   "source": [
    "import numpy as np\n",
    "\n",
    "a = [1, 2, 3, 4]                       ##列表\n",
    "b = np.array([1, 2, 3, 4])             ##数组\n",
    "\n",
    "c = a * 2\n",
    "d = b * 2 \n",
    "\n",
    "print(c)\n",
    "print(d)"
   ]
  },
  {
   "cell_type": "code",
   "execution_count": null,
   "metadata": {},
   "outputs": [],
   "source": [
    "import numpy as np\n",
    "\n",
    "e = [[1, 2],[3, 4],[5, 6]]\n",
    "f = np.array([[1, 2],[3, 4],[5, 6]])\n",
    "\n",
    "print(e)\n",
    "print(f)"
   ]
  },
  {
   "cell_type": "code",
   "execution_count": null,
   "metadata": {},
   "outputs": [],
   "source": [
    "import numpy as np \n",
    "\n",
    "a = np.array([1,2,3,4])\n",
    "b = np.array([[1,2],[3,4],[5,6]])\n",
    "\n",
    "print(a)\n",
    "print(b)"
   ]
  },
  {
   "cell_type": "code",
   "execution_count": 1,
   "metadata": {},
   "outputs": [
    {
     "name": "stdout",
     "output_type": "stream",
     "text": [
      "[0 1 2 3 4]\n",
      "[5 6 7 8 9]\n",
      "[5 7 9]\n"
     ]
    }
   ],
   "source": [
    "import numpy as np \n",
    "\n",
    "x = np.arange(5)\n",
    "y = np.arange(5,10)\n",
    "z = np.arange(5,10,2)\n",
    "\n",
    "print(x)\n",
    "print(y)\n",
    "print(z)"
   ]
  },
  {
   "cell_type": "code",
   "execution_count": null,
   "metadata": {},
   "outputs": [],
   "source": [
    "import numpy as np \n",
    "\n",
    "c = np.random.randn(3)\n",
    "d = np.random.randn(3,4)\n",
    "\n",
    "print(c)\n",
    "print(d)"
   ]
  },
  {
   "cell_type": "code",
   "execution_count": null,
   "metadata": {},
   "outputs": [],
   "source": [
    "import numpy as np\n",
    "\n",
    "e = np.arange(12).reshape(3,4)\n",
    "d = np.random.randn(3,4).reshape(4,3)\n",
    "\n",
    "print(e)\n",
    "print(d)"
   ]
  },
  {
   "cell_type": "code",
   "execution_count": null,
   "metadata": {},
   "outputs": [],
   "source": [
    "import numpy as np\n",
    "\n",
    "a = np.random.randint(0,10,(4,5))\n",
    "b = np.random.randint(1,999,(10,10))\n",
    "\n",
    "print(a)\n",
    "print(b)"
   ]
  },
  {
   "cell_type": "code",
   "execution_count": null,
   "metadata": {},
   "outputs": [],
   "source": [
    "import pandas as pd\n",
    "\n",
    "a = pd.Series(['丁一','王二','张三'])\n",
    "\n",
    "print(a)"
   ]
  },
  {
   "cell_type": "code",
   "execution_count": null,
   "metadata": {},
   "outputs": [],
   "source": [
    "import pandas as pd\n",
    "\n",
    "a = pd.DataFrame([[1,2],[3,4],[5,6]])\n",
    "\n",
    "print(a)"
   ]
  },
  {
   "cell_type": "code",
   "execution_count": null,
   "metadata": {},
   "outputs": [],
   "source": [
    "import pandas as pd\n",
    "\n",
    "a = pd.DataFrame([[1,2],[3,4],[5,6]],columns = ['Date','Score'], index = ['A','B','C'])\n",
    "\n",
    "print(a)"
   ]
  },
  {
   "cell_type": "code",
   "execution_count": null,
   "metadata": {},
   "outputs": [],
   "source": [
    "import pandas as pd\n",
    "\n",
    "a = pd.DataFrame()\n",
    "\n",
    "data = [1,2,3]\n",
    "score = [5,6,7]\n",
    "\n",
    "a['data'] = data\n",
    "a['score'] = score\n",
    "\n",
    "print(a)"
   ]
  },
  {
   "cell_type": "code",
   "execution_count": null,
   "metadata": {},
   "outputs": [],
   "source": [
    "import pandas as pd \n",
    "\n",
    "b = pd.DataFrame({'a':[1,2,3],'b':[5,6,7],'c':[2,5,7]},index = ['x','y','z'])\n",
    "\n",
    "print(b)"
   ]
  },
  {
   "cell_type": "code",
   "execution_count": null,
   "metadata": {},
   "outputs": [],
   "source": [
    "import pandas as pd \n",
    "import numpy as np\n",
    "\n",
    "a = np.arange(12).reshape(3,4)\n",
    "b = pd.DataFrame(a,index = [1,2,3],columns = ['A','B','C','D'])\n",
    "\n",
    "print(b)"
   ]
  },
  {
   "cell_type": "code",
   "execution_count": null,
   "metadata": {},
   "outputs": [],
   "source": [
    "import pandas as pd\n",
    "\n",
    "a = pd.DataFrame([[1,2],[3,4],[5,6]],columns = ['date','score'],index = ['A','B','C'])\n",
    "\n",
    "print(a)\n",
    "\n",
    "a.index.name = '公司' \n",
    "b = a \n",
    "\n",
    "print(b)"
   ]
  },
  {
   "cell_type": "code",
   "execution_count": null,
   "metadata": {},
   "outputs": [],
   "source": [
    "import pandas as pd\n",
    "\n",
    "a = pd.DataFrame([[1,2],[3,4],[5,6]],columns = ['date','score'],index = ['A','B','C'])\n",
    "a.index.name = '公司' \n",
    "\n",
    "print(a)"
   ]
  },
  {
   "cell_type": "code",
   "execution_count": null,
   "metadata": {},
   "outputs": [],
   "source": [
    "a = a.rename(index = {'A':'万科','B':'阿里','C':'百度'},columns = {'date':'日期','score':'分数'})\n",
    "\n",
    "print(a)"
   ]
  },
  {
   "cell_type": "code",
   "execution_count": null,
   "metadata": {},
   "outputs": [],
   "source": [
    "import pandas as pd\n",
    "\n",
    "df3 = pd.read_excel(r\"C:\\\\Users\\jinchanglong\\Desktop\\LAM.xlsx\")\n",
    "                    \n",
    "print(df3)\n",
    "\n",
    "b = df3['PJT']\n",
    "\n",
    "print(b)"
   ]
  },
  {
   "cell_type": "code",
   "execution_count": null,
   "metadata": {},
   "outputs": [],
   "source": [
    "import pandas as pd \n",
    "import matplotlib.pyplot as plt\n",
    "\n",
    "plt.rcParams['font.sans-serif']=['SimHei']\n",
    "plt.rcParams['axes.unicode_minus']=False\n",
    "\n",
    "df4 = pd.read_csv(r\"C:\\\\Users\\jinchanglong\\Desktop\\LAM.csv\",encoding = 'UTF-8')\n",
    "\n",
    "print(df4)"
   ]
  },
  {
   "cell_type": "code",
   "execution_count": null,
   "metadata": {},
   "outputs": [],
   "source": [
    "import pandas as pd \n",
    "\n",
    "data = pd.DataFrame([[1,2],[3,4],[5,6]],columns = ['A列','B列'])\n",
    "\n",
    "data.to_excel('data.xlsx')\n"
   ]
  },
  {
   "cell_type": "code",
   "execution_count": null,
   "metadata": {},
   "outputs": [],
   "source": [
    "import pandas as pd \n",
    "\n",
    "data1 = pd.DataFrame([[1,2,3],[4,5,6],[7,8,9]],index = ['r1','r2','r3'],columns = ['c1','c2','3'])\n",
    "\n",
    "print(data1)\n"
   ]
  },
  {
   "cell_type": "code",
   "execution_count": null,
   "metadata": {},
   "outputs": [],
   "source": [
    "import pandas as pd \n",
    "import numpy as np\n",
    "\n",
    "data2 = pd.DataFrame(np.arange(1,10).reshape(3,3),index = ['r1','r2','r3'], columns = ['c1','c2','c3'])\n",
    "\n",
    "print(data2)\n"
   ]
  },
  {
   "cell_type": "code",
   "execution_count": null,
   "metadata": {},
   "outputs": [],
   "source": [
    "a = data2['c1']\n",
    "\n",
    "print(a)\n",
    "print(type(c))"
   ]
  },
  {
   "cell_type": "code",
   "execution_count": null,
   "metadata": {},
   "outputs": [],
   "source": [
    "c = data2[['c2']]\n",
    "\n",
    "print(c)\n",
    "print(type(c))"
   ]
  },
  {
   "cell_type": "code",
   "execution_count": null,
   "metadata": {},
   "outputs": [],
   "source": [
    "d = data2[['c1','c3']]\n",
    "\n",
    "print(d)\n",
    "print(type(d))"
   ]
  },
  {
   "cell_type": "code",
   "execution_count": null,
   "metadata": {},
   "outputs": [],
   "source": [
    "e = data2[1:3]\n",
    "\n",
    "print(e)\n",
    "print(type(e))"
   ]
  },
  {
   "cell_type": "code",
   "execution_count": null,
   "metadata": {},
   "outputs": [],
   "source": [
    "f = data2.iloc[1:3]\n",
    "\n",
    "print(f)\n",
    "print(type(f))"
   ]
  },
  {
   "cell_type": "code",
   "execution_count": null,
   "metadata": {},
   "outputs": [],
   "source": [
    "g = data2.iloc[2]\n",
    "\n",
    "print(g)\n",
    "print(type(g))"
   ]
  },
  {
   "cell_type": "code",
   "execution_count": null,
   "metadata": {},
   "outputs": [],
   "source": [
    "h = data2.iloc[-1]\n",
    "\n",
    "print(h)"
   ]
  },
  {
   "cell_type": "code",
   "execution_count": null,
   "metadata": {},
   "outputs": [],
   "source": [
    "i = data2.loc[['r1','r2']]\n",
    "\n",
    "print(i)"
   ]
  },
  {
   "cell_type": "code",
   "execution_count": null,
   "metadata": {},
   "outputs": [],
   "source": [
    "j = data2[['c1','c3']][0:2]\n",
    "\n",
    "print(j)"
   ]
  },
  {
   "cell_type": "code",
   "execution_count": null,
   "metadata": {},
   "outputs": [],
   "source": [
    "k = data2[0:2][['c1','c3']]\n",
    "\n",
    "print(k)"
   ]
  },
  {
   "cell_type": "code",
   "execution_count": null,
   "metadata": {},
   "outputs": [],
   "source": [
    "l = data2.iloc[0:2][['c1','c2']]      #先行后列\n",
    "\n",
    "print(l)"
   ]
  },
  {
   "cell_type": "code",
   "execution_count": null,
   "metadata": {},
   "outputs": [],
   "source": [
    "m = data2.iloc[2]['c1']\n",
    "\n",
    "print(m)"
   ]
  },
  {
   "cell_type": "code",
   "execution_count": null,
   "metadata": {
    "scrolled": false
   },
   "outputs": [],
   "source": [
    "import numpy as np\n",
    "import pandas as pd\n",
    "\n",
    "from pandas import *\n",
    "from numpy import *\n",
    "\n",
    "data4 = DataFrame(np.arange(16).reshape(4,4),index = list(\"ABCD\"),columns = list(\"wxyz\"))\n",
    "\n",
    "print(data4)"
   ]
  },
  {
   "cell_type": "code",
   "execution_count": null,
   "metadata": {},
   "outputs": [],
   "source": [
    "a = data4[data4['w'] > 1]\n",
    "\n",
    "print(a)"
   ]
  },
  {
   "cell_type": "code",
   "execution_count": null,
   "metadata": {},
   "outputs": [],
   "source": [
    "b = data4[data4['w'] > 4]\n",
    "\n",
    "print(b)"
   ]
  },
  {
   "cell_type": "code",
   "execution_count": null,
   "metadata": {},
   "outputs": [],
   "source": [
    "c = data4[data4['w'] > 8]\n",
    "\n",
    "print(c)"
   ]
  },
  {
   "cell_type": "code",
   "execution_count": null,
   "metadata": {},
   "outputs": [],
   "source": [
    "d = data4[data4['w'] > 12]\n",
    "\n",
    "print(d)\n",
    "print(type(d))"
   ]
  },
  {
   "cell_type": "code",
   "execution_count": null,
   "metadata": {},
   "outputs": [],
   "source": [
    "print(data4.loc[\"A\"])\n",
    "print(type(data4.loc['A']))"
   ]
  },
  {
   "cell_type": "code",
   "execution_count": null,
   "metadata": {},
   "outputs": [],
   "source": [
    "print(data4.loc[\"A\",\"w\"])\n",
    "print(type(data4.loc[\"A\",\"w\"]))"
   ]
  },
  {
   "cell_type": "code",
   "execution_count": null,
   "metadata": {},
   "outputs": [],
   "source": [
    "print(data4.loc[:,\"w\"])\n",
    "print(type(data4.loc[:,\"w\"]))"
   ]
  },
  {
   "cell_type": "code",
   "execution_count": null,
   "metadata": {},
   "outputs": [],
   "source": [
    "print(data4.loc[\"A\":\"C\"])\n",
    "print(type(data4.loc[\"A\":\"C\"]))"
   ]
  },
  {
   "cell_type": "code",
   "execution_count": null,
   "metadata": {},
   "outputs": [],
   "source": [
    "print(data4.loc[\"A\":\"C\",\"w\":\"y\"])\n",
    "print(type(data4.loc[\"A\":\"C\",\"w\":\"y\"]))"
   ]
  },
  {
   "cell_type": "code",
   "execution_count": null,
   "metadata": {},
   "outputs": [],
   "source": [
    "print(data4.loc[[\"A\",\"C\"],[\"w\",\"y\"]])\n",
    "print(type(data4.loc[[\"A\",\"C\"],[\"w\",\"y\"]]))"
   ]
  },
  {
   "cell_type": "code",
   "execution_count": null,
   "metadata": {},
   "outputs": [],
   "source": [
    "print(data4.loc[:,[\"w\",\"y\"]])\n",
    "print(type(data4.loc[:,[\"w\",\"y\"]]))"
   ]
  },
  {
   "cell_type": "code",
   "execution_count": null,
   "metadata": {},
   "outputs": [],
   "source": [
    "print(data4.loc[:,\"w\"])"
   ]
  },
  {
   "cell_type": "code",
   "execution_count": null,
   "metadata": {},
   "outputs": [],
   "source": [
    "print(data4.loc[data4[\"w\"]>5,\"w\"])\n",
    "print(type(data4.loc[data4[\"w\"]>5,\"w\"]))"
   ]
  },
  {
   "cell_type": "code",
   "execution_count": null,
   "metadata": {},
   "outputs": [],
   "source": [
    "print(data4.loc[data4[\"w\"]>5])"
   ]
  },
  {
   "cell_type": "code",
   "execution_count": null,
   "metadata": {},
   "outputs": [],
   "source": [
    "print(data4[\"w\"]==0)\n",
    "print(data4.loc[lambda data4:data4['w']==0])\n",
    "print(type(data4.loc[lambda data4:data4[\"w\"]==0]))"
   ]
  },
  {
   "cell_type": "code",
   "execution_count": null,
   "metadata": {},
   "outputs": [],
   "source": [
    "data4.loc[[\"A\",\"C\"],[\"w\",\"x\"]]=999\n",
    "print(data4)"
   ]
  },
  {
   "cell_type": "code",
   "execution_count": null,
   "metadata": {},
   "outputs": [],
   "source": [
    "data5 = DataFrame(np.arange(16).reshape(4,4),index = list(\"ABCD\"),columns = list(\"wxyz\"))\n",
    "\n",
    "print(data5)"
   ]
  },
  {
   "cell_type": "code",
   "execution_count": null,
   "metadata": {},
   "outputs": [],
   "source": [
    "print(data5.iloc[0])\n",
    "print(type(data5.iloc[0]))"
   ]
  },
  {
   "cell_type": "code",
   "execution_count": null,
   "metadata": {},
   "outputs": [],
   "source": [
    "print(data5.loc[[\"A\"]])\n",
    "print(type(data5.loc[[\"A\"]]))"
   ]
  },
  {
   "cell_type": "code",
   "execution_count": null,
   "metadata": {},
   "outputs": [],
   "source": [
    "print(data5.loc[\"A\"])\n",
    "print()\n",
    "\n",
    "print(data5.loc[[\"A\"]])      "
   ]
  },
  {
   "cell_type": "code",
   "execution_count": null,
   "metadata": {},
   "outputs": [],
   "source": [
    "a = data2[data2['c1']>1]\n",
    "\n",
    "print(a)"
   ]
  },
  {
   "cell_type": "code",
   "execution_count": null,
   "metadata": {},
   "outputs": [],
   "source": [
    "b = data2[(data2['c1']>1)&(data2['c2']==5)]\n",
    "\n",
    "print(b)"
   ]
  },
  {
   "cell_type": "code",
   "execution_count": null,
   "metadata": {},
   "outputs": [],
   "source": [
    "c = data2[(data2['c1']>1)|(data2['c2'])==5]\n",
    "print(c)"
   ]
  },
  {
   "cell_type": "code",
   "execution_count": null,
   "metadata": {},
   "outputs": [],
   "source": [
    "d = data2.sort_values(by = 'c2',ascending = False)\n",
    "print(d)"
   ]
  },
  {
   "cell_type": "code",
   "execution_count": null,
   "metadata": {},
   "outputs": [],
   "source": [
    "e = data2.sort_index(ascending = False)\n",
    "print(e)"
   ]
  },
  {
   "cell_type": "code",
   "execution_count": null,
   "metadata": {},
   "outputs": [],
   "source": [
    "data2['c4'] = data2['c3'] - data2['c1']\n",
    "print(data2)"
   ]
  },
  {
   "cell_type": "code",
   "execution_count": null,
   "metadata": {},
   "outputs": [],
   "source": [
    "print(data2)"
   ]
  },
  {
   "cell_type": "code",
   "execution_count": null,
   "metadata": {},
   "outputs": [],
   "source": [
    "a = data2.drop(columns = 'c1')\n",
    "print(a)"
   ]
  },
  {
   "cell_type": "code",
   "execution_count": null,
   "metadata": {},
   "outputs": [],
   "source": [
    "b = data2.drop(columns = ['c1','c3'])\n",
    "print(b)"
   ]
  },
  {
   "cell_type": "code",
   "execution_count": null,
   "metadata": {},
   "outputs": [],
   "source": [
    "print(data2)"
   ]
  },
  {
   "cell_type": "code",
   "execution_count": null,
   "metadata": {},
   "outputs": [],
   "source": [
    "c = data2.drop(index = ['r1','r3'])\n",
    "print(c)"
   ]
  },
  {
   "cell_type": "code",
   "execution_count": null,
   "metadata": {},
   "outputs": [],
   "source": [
    "print(data4)                 "
   ]
  },
  {
   "cell_type": "code",
   "execution_count": null,
   "metadata": {},
   "outputs": [],
   "source": [
    "a = data4.drop(columns = 'w')\n",
    "\n",
    "print(a)\n",
    "print()\n",
    "print(data4)\n"
   ]
  },
  {
   "cell_type": "code",
   "execution_count": null,
   "metadata": {},
   "outputs": [],
   "source": [
    "b = data4.drop(columns = ['w','y'])\n",
    "\n",
    "print(b)\n",
    "print()\n",
    "print(data4)"
   ]
  },
  {
   "cell_type": "code",
   "execution_count": null,
   "metadata": {},
   "outputs": [],
   "source": [
    "c = data4.drop(index = ['A','B'])\n",
    "\n",
    "print(c)\n",
    "print()\n",
    "print(data4)"
   ]
  },
  {
   "cell_type": "code",
   "execution_count": null,
   "metadata": {},
   "outputs": [],
   "source": [
    "d = data4.drop(index = ['C','D'],inplace = True)  # 赋值与d是无意义行为，因为inplace = True是对原数据进行修改\n",
    "                                                   #可以直接写成data4.drop(index = ['C','D'],inplace = True)\n",
    "print(d)\n",
    "print()\n",
    "print(data4)"
   ]
  },
  {
   "cell_type": "code",
   "execution_count": null,
   "metadata": {},
   "outputs": [],
   "source": [
    "import pandas as pd \n",
    "\n",
    "df1 = pd.DataFrame({'公司':['恒盛','创锐','快学'],'分数':[90,95,85]})\n",
    "df2 = pd.DataFrame({'公司':['恒盛','创锐','京西'],'股价':[20,180,30]})\n",
    "\n",
    "print(df1)\n",
    "print()\n",
    "print(df2)"
   ]
  },
  {
   "cell_type": "code",
   "execution_count": null,
   "metadata": {},
   "outputs": [],
   "source": [
    "df3 = pd.merge(df1,df2)\n",
    "df4 = pd.merge(df1,df2, on = '公司')    #哪一列进行合并\n",
    "df5 = pd.merge(df1,df2, how = 'outer')  #取并集，选取两个表共有内容\n",
    "df6 = pd.merge(df1,df2, how = 'left')   #保留左表\n",
    "df7 = pd.merge(df1,df2, how = 'right')  #保留右表\n",
    "df8 = pd.merge(df1,df2, left_index = True , right_index = True)\n",
    "\n",
    "print(df3)\n",
    "print()\n",
    "print(df4)\n",
    "print()\n",
    "print(df5)\n",
    "print()\n",
    "print(df6)\n",
    "print()\n",
    "print(df7)\n"
   ]
  },
  {
   "cell_type": "code",
   "execution_count": null,
   "metadata": {},
   "outputs": [],
   "source": [
    "df9 = pd.concat([df1,df2])\n",
    "print(df9)\n",
    "\n",
    "print()\n",
    "print()\n",
    "\n",
    "df10 = pd.concat([df1,df2],ignore_index = True)\n",
    "print(df10)\n",
    "\n",
    "print()\n",
    "print()\n",
    "\n",
    "df11 = pd.concat([df1,df2],axis = 1)\n",
    "print(df11)"
   ]
  },
  {
   "cell_type": "code",
   "execution_count": null,
   "metadata": {},
   "outputs": [],
   "source": [
    "df11 = df1.append(df2)\n",
    "print(df11)\n",
    "\n",
    "print()\n",
    "print()\n",
    "\n",
    "df12 = df1.append({'公司':'腾飞','分数':'90'} , ignore_index = True)\n",
    "print(df12)"
   ]
  },
  {
   "cell_type": "markdown",
   "metadata": {},
   "source": [
    "import matplotlib.pyplot as plt\n",
    "\n",
    "x = [1,2,3,4,5,6,7,8]\n",
    "y = [2,4,6,8,1,3,5,7]\n",
    "\n",
    "plt.plot(x,y)\n",
    "plt.show"
   ]
  },
  {
   "cell_type": "code",
   "execution_count": null,
   "metadata": {},
   "outputs": [],
   "source": [
    "import matplotlib.pyplot as plt\n",
    "\n",
    "x = [1,2,3,4,5,6]\n",
    "y = [6,5,4,3,2,1]\n",
    "\n",
    "plt.bar(x,y)\n",
    "plt.show"
   ]
  },
  {
   "cell_type": "code",
   "execution_count": null,
   "metadata": {},
   "outputs": [],
   "source": [
    "import xlwings as wx\n",
    "import pandas as pd\n",
    "\n",
    "app = xw.App(visible = False)\n",
    "workbook = app.books.add()\n",
    "worksheet = workbook.sheets.add('新工作表')\n",
    "\n",
    "df = pd.DataFrame([[1,2],[3,4]],columns = ['a','b'])\n",
    "worksheet.range('A1').value = df\n",
    "workbook.save(r\"C:\\\\Users\\jinchanglong\\Desktop\\jiaohu.xlsx\")\n",
    "workbook.close()\n",
    "app.quit()"
   ]
  },
  {
   "cell_type": "code",
   "execution_count": null,
   "metadata": {},
   "outputs": [],
   "source": [
    "import xlwings as wx\n",
    "import pandas as pd\n",
    "\n",
    "figure = plt.figure()\n",
    "\n",
    "x = [1,2,3,4,5]\n",
    "y = [2,4,6,8,10]\n",
    "\n",
    "plt.plot(x,y)\n",
    "app = wx.App(visible = False)\n",
    "workbook = app.books.add()\n",
    "worksheet = workbook.sheets.add('新工作表')\n",
    "\n",
    "worksheet.pictures.add(figure , name = '图片1',update = True , left = 100)\n",
    "workbook.save(\"C:\\\\Users\\jinchanglong\\Desktop\\pictures.xlsx\")\n",
    "workbook.close()\n",
    "app.quit()"
   ]
  },
  {
   "cell_type": "markdown",
   "metadata": {},
   "source": [
    "import xlwings as xw \n",
    "\n",
    "app = xw.App(visible = True , add_book = False)\n",
    "\n",
    "for i in range(4):\n",
    "    workbook = app.books.add()\n",
    "    workbook.save(f\"C:\\\\Users\\\\jinchanglong\\\\Desktop\\\\text{i}.xlsx\")   #需要和\\\\而不是\\,否则报错."
   ]
  },
  {
   "cell_type": "code",
   "execution_count": null,
   "metadata": {},
   "outputs": [],
   "source": [
    "name = 'Thomas'                #利用f-string\n",
    "age = 85\n",
    "a = f'{name}’s age is {age}'\n",
    "print(a)"
   ]
  },
  {
   "cell_type": "markdown",
   "metadata": {},
   "source": [
    "import os \n",
    "import xlwings as xw\n",
    "\n",
    "file_path = 'C:\\\\Users\\\\jinchanglong\\\\Desktop\\\\199608'\n",
    "file_list = os.listdir(file_path)\n",
    "\n",
    "app = xw.App(visible = True , add_book = False)\n",
    "for i in file_list:\n",
    "    if os.path.splitext(i)[1] == '.xlsx' or os.path.splitext(i)[1]=='.xls':       # 判定是否为xlsx格式或者xls格式\n",
    "    #if os.path.splitext(i)[1] == '.xlsx':                                         # 判定是否为xlsx格式\n",
    "        app.books.open(file_path + '\\\\' + i)"
   ]
  },
  {
   "cell_type": "markdown",
   "metadata": {},
   "source": [
    "import os\n",
    "\n",
    "file_path = 'C:\\\\Users\\\\jinchanglong\\\\Desktop'\n",
    "file_path = os.listdir(file_path)\n",
    "\n",
    "for i in file_list:\n",
    "    print(i)"
   ]
  },
  {
   "cell_type": "markdown",
   "metadata": {},
   "source": [
    "import xlwings as xw\n",
    "  \n",
    "app = xw.App(visible = False , add_book = False)                                  #启动EXCEL程序\n",
    "workbook = app.books.open('C:\\\\Users\\\\jinchanglong\\\\Desktop\\\\199608\\\\221.xlsx')             #打开工作簿\n",
    "worksheets = workbook.sheets                                               #获取工作簿的所有工作表\n",
    "\n",
    "for i in range(len(worksheets)):                                             #遍历获取到的工作表\n",
    "    worksheets[i].name = worksheets[i].name.replace('销售', '')\n",
    "    \n",
    "workbook.save('C:\\\\Users\\\\jinchanglong\\\\Desktop\\\\199608\\\\222.xlsx')                     #重命名后工作表后的工作簿\n",
    "app.quit()"
   ]
  },
  {
   "cell_type": "code",
   "execution_count": null,
   "metadata": {},
   "outputs": [],
   "source": [
    "import xlwings as wx\n",
    "\n",
    "\n",
    "app = xw.App(visible = False , add_book = False)\n",
    "workbook = app.books.open('C:\\\\Users\\\\jinchanglong\\\\Desktop\\\\199608\\\\221.xlsx')\n",
    "worksheets = workbook.sheets\n",
    "\n",
    "for i in range(len(worksheets))[:5]:\n",
    "    worksheets[i].name = worksheets[i].name.replace('1','')\n",
    "    \n",
    "workbook.save('C:\\\\Users\\\\jinchanglong\\\\Desktop\\\\199608\\\\222.xlsx')\n",
    "app.quit()"
   ]
  },
  {
   "cell_type": "markdown",
   "metadata": {},
   "source": [
    "import xlwings as xw \n",
    "\n",
    "app = xw.App(visible = False , add_book = False)\n",
    "\n",
    "for i in range(10):\n",
    "    workbook = app.books.add()\n",
    "    workbook.save(f\"C:\\\\Users\\\\jinchanglong\\\\Desktop\\\\199609\\\\销售表{i}.xlsx\")   #需要和\\\\而不是\\,否则报错."
   ]
  },
  {
   "cell_type": "code",
   "execution_count": null,
   "metadata": {
    "scrolled": true
   },
   "outputs": [],
   "source": [
    "file_path = 'C:\\\\Users\\\\jinchanglong\\\\Desktop\\\\199609'\n",
    "file_list = os.listdir(file_path)\n",
    "\n",
    "old_book_name = '2021-05-21'\n",
    "new_book_name = '2021-05-21---'\n",
    "\n",
    "for i in file_list: \n",
    "    if i.startswith('~$'):                                   #因为EXCEL会生成一些文件名为以“~￥”开头的临时文件\n",
    "        continue\n",
    "    new_file = i.replace(old_book_name , new_book_name)\n",
    "    \n",
    "    old_file_path = os.path.join(file_path , i)\n",
    "    new_file_path = os.path.join(file_path , new_file)\n",
    "    os.rename(old_file_path , new_file_path)"
   ]
  },
  {
   "cell_type": "markdown",
   "metadata": {},
   "source": [
    "import os\n",
    "import xlwings as xw\n",
    "\n",
    "file_path = 'C:\\\\Users\\\\jinchanglong\\\\Desktop\\\\199609'        #给出要打印的工作簿所在的文件夹路径\n",
    "file_list = os.listdir(file_path)                      #列出文件夹下所有文件和子文件夹的名称\n",
    "\n",
    "app = xw.App(visible = False , add_book = False)\n",
    "for i in file_list:\n",
    "    if i.startswith('~$'):\n",
    "        continue\n",
    "    file_paths = os.path.join(file_path , i)               #获取需要打印的工作簿的文件路径\n",
    "    \n",
    "    workbook = app.books.open(file_paths)                 #打开要打印的工作簿\n",
    "    workbook.api.PrintOut()                           #打印工作簿\n",
    "     \n",
    "app.quit()"
   ]
  },
  {
   "cell_type": "code",
   "execution_count": null,
   "metadata": {},
   "outputs": [],
   "source": [
    "import os\n",
    "import xlwings as xw\n",
    "\n",
    "file_path = 'C:\\\\Users\\\\jinchanglong\\\\Desktop\\\\199609\\\\'\n",
    "file_list = os.listdir(file_path)\n",
    "app = xw.App(visible = False , add_book = False)\n",
    "for i in file_list:\n",
    "    if i.startswith('~$'):\n",
    "        continue\n",
    "        \n",
    "    file_paths = os.path.join(file_path , i)\n",
    "    workbook = app.books.open(file_paths)\n",
    "    for j in workbook.sheets:\n",
    "        value = j.range('A1').expand('table')\n",
    "        value.columns_wight = 12\n",
    "        value.row_height = 20\n",
    "    workbook.save()\n",
    "    workbook.close()\n",
    "app.quit()"
   ]
  },
  {
   "cell_type": "code",
   "execution_count": null,
   "metadata": {},
   "outputs": [],
   "source": [
    "### 精确调整一个工作簿中所有的工作表的行高和列宽\n",
    "\n",
    "import xlwings as xw \n",
    "app = xw.App(visible = False , add_book = False)\n",
    "workbook = app.books.open('C:\\\\Users\\\\jinchanglong\\\\Desktop\\\\199609\\\\2021-05-21---2.xlsx')\n",
    "\n",
    "for i in workbook.sheets:\n",
    "    value = i.range('A1').expand('table')\n",
    "    value.columns_width = 255\n",
    "    value.row_height = 409.5\n",
    "    \n",
    "workbook.save()\n",
    "app.quit()"
   ]
  },
  {
   "cell_type": "code",
   "execution_count": null,
   "metadata": {},
   "outputs": [],
   "source": [
    "import os\n",
    "import xlwings as xw\n",
    "\n",
    "file_path = 'C:\\\\Users\\\\jinchanglong\\\\Desktop\\\\199609'\n",
    "file_list = os.listdir(file_path)\n",
    "app = xw.App(visible = False , add_book = False)\n",
    "\n",
    "for i in file_list:\n",
    "    if i.startswith('~$'):\n",
    "        continue\n",
    "    \n",
    "    file_paths = os.path.join(file_path , i)\n",
    "    workbook = app.books.open(file_paths)\n",
    "    \n",
    "    for j in workbook.sheets:\n",
    "        row_num = j['A1'].current_region.last_cell.row\n",
    "        j['A2:A{}'.format(row_num)].number_format = 'm/d'\n",
    "        j['D2:D{}'.format(row_num)].number_format = '¥#,##0.00'\n",
    "    \n",
    "    workbook.save()\n",
    "    workbook.close()\n",
    "app.quit()"
   ]
  },
  {
   "cell_type": "code",
   "execution_count": null,
   "metadata": {},
   "outputs": [],
   "source": [
    "import pandas as pd\n",
    "import matplotlib.pyplot as plt\n",
    "\n",
    "df = pd.read_excel('C:\\\\Users\\\\jinchanglong\\\\Desktop\\\\199609\\\\2021-05-21---9.xlsx')\n",
    "\n",
    "plt.rcParams['font.sans-serif'] = ['SimHei']            \n",
    "plt.rcParams['axes.unicode_minus'] = False\n",
    "\n",
    "x = df['月份']\n",
    "y = df['销售额']\n",
    "\n",
    "plt.bar(x,y,label = '销售额')\n",
    "\n",
    "#for a,b in zip(x,y):\n",
    "    #plt.text(a,b,b,fontdict = {'family':'KaiTi','color':'red','size':20})\n",
    "#plt.legend(loc = 'upper left',fontsize = 20,facecolor = 'w',edgecolor = 'w',shadow = True)\n",
    "#plt.show()\n",
    "\n",
    "plt.plot(x,y,color = 'black', linewidth = 3 , linestyle = 'solid')\n",
    "\n",
    "max1 = df['销售额'].max()\n",
    "df_max = df[df['销售额'] == max1]\n",
    "for a, b in zip(df_max['月份'],df_max['销售额']):\n",
    "    plt.text(a , b +0.05 , (a , '%.0f'%b),ha = 'center' , va = 'bottom', fontsize = 10)   #标记最大值\n",
    "    \n",
    "plt.bar(x, y, color = 'red', linewidth = 3 , linestyle = 'solid')\n",
    "plt.title(label = '总数',fontdict = {'color':'black','size':30 },loc = 'center')\n",
    "plt.xlabel('月份',fontdict = {'family':'SimSun','color':'black','size':15},labelpad = 10)\n",
    "plt.ylabel('销售额',fontdict = {'family':'SimSun','color':'black','size':14},labelpad = 10)\n",
    "\n",
    "#for a,b in zip(x,y):\n",
    "    #plt.text(a,b,b,fontdict = {'family':'KaiTi','color':'red','size':20})\n",
    "#plt.show\n",
    "    \n",
    "\n",
    "x.label = ['月份']\n",
    "y.label = ['销售额']\n"
   ]
  },
  {
   "cell_type": "code",
   "execution_count": null,
   "metadata": {},
   "outputs": [],
   "source": [
    "import pandas as pd \n",
    "import matplotlib.pyplot as plt\n",
    "\n",
    "df = pd.read_excel('C:\\\\Users\\\\jinchanglong\\\\Desktop\\\\199609\\\\2021-05-21---9.xlsx')\n",
    "x = df['月份']\n",
    "y1 = df['销售额']\n",
    "y2 = df['同比增长']\n",
    "\n",
    "plt.bar(x,y1,color = 'grey' , label = '销售额')\n",
    "plt.ylim = (0,1300)\n",
    "plt.legend(loc = 'upper left',fontsize = 20)\n",
    "\n",
    "plt.twinx()\n",
    "\n",
    "plt.plot(x,y2,color = 'black',linewidth = 3 , label = '同比增长')\n",
    "plt.legend(loc = 'upper right',fontsize = 20)\n",
    "\n",
    "#max1 = df['销售额'].max()\n",
    "#df_max = df[df['销售额']==max1]\n",
    "#for a, b in zip(df_max['月份'],df_max['销售额']):\n",
    "    #plt.text(a , b +0.05 , (a , '%.0f'%b),ha = 'center' , va = 'bottom', fontsize = 10)   #标记最大值\n",
    "    \n",
    "plt.show()"
   ]
  },
  {
   "cell_type": "code",
   "execution_count": null,
   "metadata": {},
   "outputs": [],
   "source": [
    "import pandas as pd\n",
    "import matplotlib.pyplot as plt\n",
    "\n",
    "df = pd.read_excel('C:\\\\Users\\\\jinchanglong\\\\Desktop\\\\LAM.xlsx')\n",
    "\n",
    "plt.rcParams['font.sans-serif'] = ['SimHei']\n",
    "plt.rcParams['axes.unicode_minus'] = False\n",
    "\n",
    "x = df['型号']\n",
    "y = df['Lot数']\n",
    "\n",
    "plt.plot(x,y,color = 'black',linewidth = 1.5 , linestyle = 'solid')\n",
    "plt.legend(loc = 'upper left',fontsize = 5)\n",
    "\n",
    "#plt.title(label = '数据统计',fontdict = {'color':'black','size':30,loc = 'center'})\n",
    "#plt.grid(b = False ,axis = 'both', color = 'red',linestyle = 'dashed',linewidth = 1)\n",
    "\n",
    "#for a,b in zip(x,y):\n",
    "    #plt.text(a,b,b,fontdict = {'family':'KaiTi','color':'red','size':14})\n",
    "    \n",
    "plt.show()"
   ]
  },
  {
   "cell_type": "code",
   "execution_count": null,
   "metadata": {},
   "outputs": [],
   "source": [
    "import pandas as pd\n",
    "import matplotlib.pyplot as plt\n",
    "from sklearn import linear_model\n",
    "\n",
    "df = pd.read_excel('C:\\\\Users\\\\jinchanglong\\\\Desktop\\\\LAM.xlsx')\n",
    "\n",
    "plt.rcParams['font.sans-serif'] = ['SimHei']\n",
    "plt.rcParams['axes.unicode_minus'] = False\n",
    "\n",
    "x = df['型号']\n",
    "y = df['Lot数']\n",
    "\n",
    "plt.scatter(x, y , s = 400 ,color = 'blue' , marker = 'o' , degecolor = 'black')\n",
    "plt.show()"
   ]
  },
  {
   "cell_type": "code",
   "execution_count": null,
   "metadata": {},
   "outputs": [],
   "source": [
    "import pandas as pd\n",
    "df=pd.DataFrame({\n",
    "    '类型':['遥控','遥控','遥控','非遥控','非遥控','非遥控'],\n",
    "    '产品名称':['机器人','猛击赛车','莱肯赛车','机器人','猛击赛车','莱肯赛车'],\n",
    "    '数量':[15,23,36,48,21,11]\n",
    "                                })\n",
    "print(df)"
   ]
  },
  {
   "cell_type": "code",
   "execution_count": null,
   "metadata": {},
   "outputs": [],
   "source": [
    "nodes = []\n",
    "for i in range(2):\n",
    "    values = df.iloc[:,i].unique()\n",
    "    for value in values:\n",
    "        dic={}\n",
    "        dic['name'] = value\n",
    "        nodes.append(dic)\n",
    "print(nodes)"
   ]
  },
  {
   "cell_type": "code",
   "execution_count": null,
   "metadata": {},
   "outputs": [],
   "source": [
    "linkes = []\n",
    "for i in df.values:\n",
    "    dic = {}\n",
    "    dic['source'] = i[0]\n",
    "    dic['target'] = i[1]\n",
    "    dic['value'] = i[2]\n",
    "    linkes.append(dic)\n",
    "print(linkes)"
   ]
  },
  {
   "cell_type": "code",
   "execution_count": null,
   "metadata": {},
   "outputs": [],
   "source": [
    "from pyecharts.charts import Sankey\n",
    "from pyecharts import options as opts\n",
    "import matplotlib.pyplot as plt\n",
    "\n",
    "pic=(\n",
    "    Sankey().add(\n",
    "        '',                                    #图例名称\n",
    "        nodes,                                 #传入节点数据\n",
    "        linkes,                                #传入边和流量数据\n",
    "                                               #设置透明度、弯曲度、颜色\n",
    "        linestyle_opt=opts.LineStyleOpts(opacity=0.3,curve=0.5,color='source'),\n",
    "                                               #标签显示位置\n",
    "        label_opts=opts.LabelOpts(position='right'),\n",
    "                                              #节点之间的距离\n",
    "        node_gap=30,\n",
    "        \n",
    "        orient=\"vertical\"                     #垂直\n",
    "    )\n",
    "    .set_global_opts(title_opts=opts.TitleOpts(title='桑吉图'))\n",
    ")\n",
    "\n",
    "pic.render('test.html')"
   ]
  },
  {
   "cell_type": "code",
   "execution_count": null,
   "metadata": {
    "scrolled": true
   },
   "outputs": [],
   "source": [
    "import pandas as pd\n",
    "df1 = pd.DataFrame({\n",
    "    '产品名称':['机器人','猛击赛车','莱肯赛车','机器人','猛击赛车','莱肯赛车'],\n",
    "    '第一次购买':['遥控机器人','遥控猛击赛车','遥控莱肯赛车','非遥控机器人','非遥控猛击赛车','非遥控莱肯赛车'],\n",
    "    '第二次购买':['未购买','购买','未购买','购买','未购买','购买'],\n",
    "    '数量':[12,23,45,32,11,12]\n",
    "})\n",
    "print(df1)"
   ]
  },
  {
   "cell_type": "code",
   "execution_count": null,
   "metadata": {},
   "outputs": [],
   "source": [
    "nodes1=[]\n",
    "for i in range(3):              #修改处\n",
    "    vales=df.iloc[:,i].unique()\n",
    "    for value in vales:\n",
    "        dic={}\n",
    "        dic['name']=value\n",
    "        nodes1.append(dic)\n",
    "print(nodes1)"
   ]
  },
  {
   "cell_type": "code",
   "execution_count": null,
   "metadata": {},
   "outputs": [],
   "source": [
    "first = df1.groupby(['产品名称','第一次购买'])['数量'].sum().reset_index()\n",
    "second = df1.iloc[:,1:]\n",
    "first.columns = ['source','target','value']\n",
    "second.columns = ['source','target','value']\n",
    "result = pd.concat([first,second])\n",
    "print(result.head(6))"
   ]
  },
  {
   "cell_type": "code",
   "execution_count": null,
   "metadata": {},
   "outputs": [],
   "source": [
    "linkes1=[]\n",
    "for i in result.values:\n",
    "    dic={}\n",
    "    dic['source'] = i[0]\n",
    "    dic['target'] = i[1]\n",
    "    dic['value'] = i[2]\n",
    "    linkes1.append(dic)"
   ]
  },
  {
   "cell_type": "code",
   "execution_count": null,
   "metadata": {},
   "outputs": [],
   "source": [
    "pic=(\n",
    "    Sankey().add(\n",
    "        '',                             #图例名称\n",
    "        nodes1,                          #传入节点数据\n",
    "        linkes1,                         #传入边和流量数据\n",
    "                                        #设置透明度、弯曲度、颜色\n",
    "        linestyle_opt=opts.LineStyleOpts(opacity=0.5,curve=0.5,color='source'),\n",
    "                                        #标签显示位置\n",
    "        label_opts=opts.LabelOpts(position='right'),\n",
    "                                        #节点之间的距离\n",
    "        node_gap=30,\n",
    "                                        #orient=\"vertical\",#查看垂直图片的操作\n",
    "        \n",
    "         orient=\"vertical\"              #垂直\n",
    "    )\n",
    "    .set_global_opts(title_opts=opts.TitleOpts(title='桑吉图三分支'))\n",
    ")\n",
    "\n",
    "\n",
    "pic.render('sangjitu-san.html')\n"
   ]
  },
  {
   "cell_type": "code",
   "execution_count": null,
   "metadata": {},
   "outputs": [],
   "source": [
    "a = {\n",
    "'N3APKGM15;CPP_1_ACTIVE':'PKG 10-1:(-) CPP Tape 01',\n",
    "'N3APKGM15;CPP_2_ACTIVE':'PKG 10-1:(-) CPP Tape 02',\n",
    "'N3APKGM15;CPP_3_ACTIVE':'PKG 10-1:(+) CPP Tape 01',\n",
    "'N3APKGM15;CPP_4_ACTIVE':'PKG 10-1:(+) CPP Tape 02',\n",
    "'N3APKGM15;EL_1_ACTIVE':'PKG 12-2:LEAD (+)',\n",
    "'N3APKGM15;EL_2_ACTIVE':'PKG 10-1:Local EL Tank #2',\n",
    "'N3APKGM15;EL_3_ACTIVE':'PKG 10-1:Local EL Tank #3',\n",
    "'N3APKGM15;EL_4_ACTIVE':'PKG 10-1:Central EL Tank #1',\n",
    "'N3APKGM15;EL_5_ACTIVE':'PKG 10-1:Central EL Tank #2',\n",
    "'N3APKGM15;POUCH_1_1':'PKG 10-1:Pouch 01',\n",
    "'N3APKGM15;POUCH_1_2':'PKG 10-1:Pouch 02',\n",
    "'N3APKGM15;TAB_1_ACTIVE':'PKG 10-1:LEAD (-)',\n",
    "'N3APKGM15;TAB_2_ACTIVE':'PKG 10-1:LEAD (+)',\n",
    "'N3APKGM16;CPP_1_ACTIVE':'PKG 10-2:(-) CPP Tape 01',\n",
    "'N3APKGM16;CPP_2_ACTIVE':'PKG 10-2:(-) CPP Tape 02',\n",
    "'N3APKGM16;CPP_3_ACTIVE':'PKG 10-2:(+) CPP Tape 01',\n",
    "'N3APKGM16;CPP_4_ACTIVE':'PKG 10-2:(+) CPP Tape 02',\n",
    "'N3APKGM16;EL_1_ACTIVE':'PKG 10-2:Local EL Tank #1',\n",
    "'N3APKGM16;EL_2_ACTIVE':'PKG 10-2:Local EL Tank #2',\n",
    "'N3APKGM16;EL_3_ACTIVE':'PKG 10-2:Local EL Tank #3',\n",
    "'N3APKGM16;EL_4_ACTIVE':'PKG 10-2:Central EL Tank #1',\n",
    "'N3APKGM16;EL_5_ACTIVE':'PKG 10-2:Central EL Tank #2',\n",
    "'N3APKGM16;POUCH_1_1':'PKG 10-2:Pouch 01',\n",
    "'N3APKGM16;POUCH_1_2':'PKG 10-2:Pouch 02',\n",
    "'N3APKGM16;TAB_1_ACTIVE':'PKG 10-2:LEAD (-)',\n",
    "'N3APKGM16;TAB_2_ACTIVE':'PKG 10-2:LEAD (+)',\n",
    "'N3APKGM17;CPP_1_ACTIVE':'PKG 11-1:(-) CPP Tape 01',\n",
    "'N3APKGM17;CPP_2_ACTIVE':'PKG 11-1:(-) CPP Tape 02',\n",
    "'N3APKGM17;CPP_3_ACTIVE':'PKG 11-1:(+) CPP Tape 01',\n",
    "'N3APKGM17;CPP_4_ACTIVE':'PKG 11-1:(+) CPP Tape 02',\n",
    "'N3APKGM17;EL_1_ACTIVE':'PKG 11-1:Local EL Tank #1',\n",
    "'N3APKGM17;EL_2_ACTIVE':'PKG 11-1:Local EL Tank #2',\n",
    "'N3APKGM17;EL_3_ACTIVE':'PKG 11-1:Local EL Tank #3',\n",
    "'N3APKGM17;EL_4_ACTIVE':'PKG 11-1:Central EL Tank #1',\n",
    "'N3APKGM17;EL_5_ACTIVE':'PKG 11-1:Central EL Tank #2',\n",
    "'N3APKGM17;POUCH_1_1':'PKG 11-1:Pouch 01',\n",
    "'N3APKGM17;POUCH_1_2':'PKG 11-1:Pouch 02',\n",
    "'N3APKGM17;TAB_1_ACTIVE':'PKG 11-1:LEAD (-)',\n",
    "'N3APKGM17;TAB_2_ACTIVE':'PKG 11-1:LEAD (+)',\n",
    "'N3APKGM18;CPP_1_ACTIVE':'PKG 11-2:(-) CPP Tape 01',\n",
    "'N3APKGM18;CPP_2_ACTIVE':'PKG 11-2:(-) CPP Tape 02',\n",
    "'N3APKGM18;CPP_3_ACTIVE':'PKG 11-2:(+) CPP Tape 01',\n",
    "'N3APKGM18;CPP_4_ACTIVE':'PKG 11-2:(+) CPP Tape 02',\n",
    "'N3APKGM18;EL_1_ACTIVE':'PKG 11-2:Local EL Tank #1',\n",
    "'N3APKGM18;EL_2_ACTIVE':'PKG 11-2:Local EL Tank #2',\n",
    "'N3APKGM18;EL_3_ACTIVE':'PKG 11-2:Local EL Tank #3',\n",
    "'N3APKGM18;EL_4_ACTIVE':'PKG 11-2:Central EL Tank #1',\n",
    "'N3APKGM18;EL_5_ACTIVE':'PKG 11-2:Central EL Tank #2',\n",
    "'N3APKGM18;POUCH_1_1':'PKG 11-2:Pouch 01',\n",
    "'N3APKGM18;POUCH_1_2':'PKG 11-2:Pouch 02',\n",
    "'N3APKGM18;TAB_1_ACTIVE':'PKG 11-2:LEAD (-)',\n",
    "'N3APKGM18;TAB_2_ACTIVE':'PKG 11-2:LEAD (+)',\n",
    "'N3APKGM19;CPP_1_ACTIVE':'PKG 12-1:(-) CPP Tape 01',\n",
    "'N3APKGM19;CPP_2_ACTIVE':'PKG 12-1:(-) CPP Tape 02',\n",
    "'N3APKGM19;CPP_3_ACTIVE':'PKG 12-1:(+) CPP Tape 01',\n",
    "'N3APKGM19;CPP_4_ACTIVE':'PKG 12-1:(+) CPP Tape 02',\n",
    "'N3APKGM19;EL_1_ACTIVE':'PKG 12-1:Local EL Tank #1',\n",
    "'N3APKGM19;EL_2_ACTIVE':'PKG 12-1:Local EL Tank #2',\n",
    "'N3APKGM19;EL_3_ACTIVE':'PKG 12-1:Local EL Tank #3',\n",
    "'N3APKGM19;EL_4_ACTIVE':'PKG 12-1:Central EL Tank #1',\n",
    "'N3APKGM19;EL_5_ACTIVE':'PKG 12-1:Central EL Tank #2',\n",
    "'N3APKGM19;POUCH_1_1':'PKG 12-1:Pouch 01',\n",
    "'N3APKGM19;POUCH_1_2':'PKG 12-1:Pouch 02',\n",
    "'N3APKGM19;TAB_1_ACTIVE':'PKG 12-1:LEAD (-)',\n",
    "'N3APKGM19;TAB_2_ACTIVE':'PKG 12-1:LEAD (+)',\n",
    "'N3APKGM20;CPP_1_ACTIVE':'PKG 12-2:(-) CPP Tape 01',\n",
    "'N3APKGM20;CPP_2_ACTIVE':'PKG 12-2:(-) CPP Tape 02',\n",
    "'N3APKGM20;CPP_3_ACTIVE':'PKG 12-2:(+) CPP Tape 01',\n",
    "'N3APKGM20;CPP_4_ACTIVE':'PKG 12-2:(+) CPP Tape 02',\n",
    "'N3APKGM20;EL_1_ACTIVE':'PKG 12-2:Local EL Tank #1',\n",
    "'N3APKGM20;EL_2_ACTIVE':'PKG 12-2:Local EL Tank #2',\n",
    "'N3APKGM20;EL_3_ACTIVE':'PKG 12-2:Local EL Tank #3',\n",
    "'N3APKGM20;EL_4_ACTIVE':'PKG 12-2:Central EL Tank #1',\n",
    "'N3APKGM20;EL_5_ACTIVE':'PKG 12-2:Central EL Tank #2',\n",
    "'N3APKGM20;POUCH_1_1':'PKG 12-2:Pouch 01',\n",
    "'N3APKGM20;POUCH_1_2':'PKG 12-2:Pouch 02',\n",
    "'N3APKGM20;TAB_1_ACTIVE':'PKG 12-2:LEAD (-)',\n",
    "'N3APKGM20;TAB_2_ACTIVE':'PKG 12-2:LEAD (+)'\n",
    "}\n",
    "\n",
    "for key,value in a.items():   \n",
    "    print('key:' + key + '-------------------------' + 'value:'+value)\n",
    "    \n",
    "\n",
    "    #for x,y in zip(value,key):\n",
    "\n",
    "           #print('''^XA\n",
    "^A0N,40,40^FO200,50^FD*(x)S\n",
    "^BY2,2.6,200^FO150,150^BCN,N,30,N,N,N^FD ''' + 'x' +'''S\n",
    "^BY2,2.6,200^FO150,150^BCN,N,30,N,N,N^FD''' + 'y' + '''^FS\n",
    "^PQ1,0,1,Y\n",
    "^XZ''')"
   ]
  },
  {
   "cell_type": "code",
   "execution_count": null,
   "metadata": {},
   "outputs": [],
   "source": [
    "\n",
    "\n"
   ]
  },
  {
   "cell_type": "code",
   "execution_count": null,
   "metadata": {},
   "outputs": [],
   "source": [
    "import pandas as pd \n",
    "import numpy as np\n",
    "\n",
    "df1 = pd.read_excel(r\"C:\\\\Users\\\\jinchanglong\\\\Desktop\\\\first_one.xlsx\")\n",
    "print(df1)\n",
    "print(df1.columns[df1])\n",
    "print(df1.shape)"
   ]
  },
  {
   "cell_type": "code",
   "execution_count": null,
   "metadata": {},
   "outputs": [],
   "source": [
    "number = [1,2,3,4,5,6,7,8,9,10]\n",
    "char = ['cat','Tom','pet','Anglela']\n",
    "\n",
    "number.sort(reverse = False)\n",
    "print(number)\n",
    "number.sort(reverse = True)\n",
    "print(number)\n",
    " \n",
    "char.sort()                 #区分字母大小写\n",
    "print(char)\n",
    "char.sort(key=str.lower)    #不区分字母大小写\n",
    "print(char)\n",
    "\n",
    "number1 = sorted(number , reverse = False)\n",
    "print(number)"
   ]
  },
  {
   "cell_type": "code",
   "execution_count": null,
   "metadata": {},
   "outputs": [],
   "source": [
    "import random\n",
    "\n",
    "randomnumber = [random.randint(10,100) for i in range(10)]\n",
    "print(\"生成的随机数为:\" , randomnumber)\n",
    "\n",
    "randomnumber1 = random.randint(0,100)\n",
    "print(randomnumber1)\n",
    "\n"
   ]
  },
  {
   "cell_type": "code",
   "execution_count": null,
   "metadata": {},
   "outputs": [],
   "source": [
    "import pandas as pd\n",
    "\n",
    "df1 = pd.read_excel(r\"C:\\Users\\jinchanglong\\Desktop\\loss_sql.xlsx\" , index_col = \"EQPTID\")\n",
    "\n",
    "\n",
    "#rint(df1)\n",
    "print(df1.loc(1))\n"
   ]
  },
  {
   "cell_type": "code",
   "execution_count": null,
   "metadata": {},
   "outputs": [],
   "source": [
    "import pandas as pd\n",
    "\n",
    "df1 = pd.read_excel(r\"C:\\\\Users\\jinchanglong\\Desktop\\LAM.xlsx\")\n",
    "print(df1)\n",
    "df1.head(5)\n"
   ]
  },
  {
   "cell_type": "code",
   "execution_count": null,
   "metadata": {},
   "outputs": [],
   "source": [
    "import pandas as pd \n",
    "import numpy as np\n",
    "\n",
    "\n",
    "df1  = pd.read_excel(r\"C:\\\\Users\\\\jinchanglong\\\\Desktop\\\\A8A03_ESNB05.xlsx\")\n",
    "\n",
    "print(df1)\n",
    "df1.head()"
   ]
  },
  {
   "cell_type": "code",
   "execution_count": null,
   "metadata": {},
   "outputs": [],
   "source": [
    "df1 = df1.set_index\n",
    "(\n",
    "\n",
    "[\n",
    "\"* 使用与否\",\n",
    "\"[#] 使用与否_DESC\",\n",
    "\"Plant ID\",\n",
    "\"[#] Plant ID_DESC\",\n",
    "\"* 栋 ID\",\n",
    "\"[#] 栋 ID_DESC\",\n",
    "\"Line ID\",\n",
    "\"[#] Line ID_DESC\",\n",
    "\"* 设备 ID\",\n",
    "\"[#] 设备 ID_DESC\",\n",
    "\"* 运营设备状态\",\n",
    "\"[#] 运营设备状态_DESC\",\n",
    "\"* 错误code\",\n",
    "\"[#] 错误名_KOKR\",\n",
    "\"[#] 错误名_ZHCN\",\n",
    "\"[#] 错误名_ENUS\",\n",
    "\"[#] 错误名_PLPL\",\n",
    "\"[#] 错误名_UKUA\",\n",
    "\"[#] 错误名_RURU\",\n",
    "\"处理说明\",\n",
    "\"LOSS code\",\n",
    "\"[#] LOSS code_DESC\",\n",
    "\"LOSS 详细 code\",\n",
    "\"设备故障 SMS 发送与否\",\n",
    "\"设备故障 Kakao Talk 发送与否\",\n",
    "\"EMS 提醒 Service 与否\",\n",
    "\"故障简称名\",\n",
    "\"[#] NEW_TRBL_CODE\",\n",
    "\"[#] IWO_PRT_FLAG\",\n",
    "\"[#] IWO_PRT_COUNT\",\n",
    "\"Part No\",\n",
    "\"Part 方向\",\n",
    "\"[#] Part 方向_DESC\",\n",
    "\"Part 类型 code\",\n",
    "\"[#] Part 类型 code_DESC\",\n",
    "\"Part 名\",\n",
    "\"Device No\",\n",
    "\"Divice 方向\",\n",
    "\"[#] Divice 方向_DESC\",\n",
    "\"Divice 范围内容\",\n",
    "\"Device  名\",\n",
    "\"Sensor Switch No\",\n",
    "\"Sensor Switch 方向\",\n",
    "\"[#] Sensor Switch 方向_DESC\",\n",
    "\"Sensor Switch 条件内容\",\n",
    "\"Sensor Switch 状态\",\n",
    "\"Sensor Switch 名 code\",\n",
    "\"Target source\",\n",
    "\"逻辑内容\",\n",
    "\"一般 Controller No\",\n",
    "\"一般 Controller  方向\",\n",
    "\"[#] 一般 Controller  方向_DESC\",\n",
    "\"一般 Controller 名\",\n",
    "\"一般 Controller 错误\",\n",
    "\"发生设备ID\",\n",
    "\"生成者\",\n",
    "\"生成日期\",\n",
    "\"修改者\",\n",
    "\"修改日期\",\n",
    "] \n",
    ")"
   ]
  },
  {
   "cell_type": "code",
   "execution_count": null,
   "metadata": {},
   "outputs": [],
   "source": [
    "import pandas as pd\n",
    "import numpy as np\n",
    "import os\n",
    "import linecache\n",
    "import xlrd\n",
    "import xlwt\n",
    "import openpyxl\n",
    "\n",
    "#df1 = pd.read_excel(r\"C:\\\\Users\\\\jinchanglong\\\\Desktop\\\\N3ANND102.xlsx\")\n",
    "\n",
    "#pd.set_option('max_columns' , None)\n",
    "\n",
    "\n",
    "#print(df1.columns)\n",
    "#print(len(df1.columns))\n",
    "\n",
    "#df1._stat_axis.values.tolist()     #行名称\n",
    "#df1.columns.values.tolist()        #列名称   \n",
    "\n",
    "\n",
    "#print(len(df1._stat_axis.values.tolist()))  #行数\n",
    "#print(len(df1.columns.values.tolist()))     #列数\n",
    "\n",
    "#a = len(df1._stat_axis.values.tolist())\n",
    "#b = len(df1.columns.values.tolist())\n",
    "\n",
    "\n",
    "#c = int(len(df1._stat_axis.values.tolist()))\n",
    "#d = int(len(df1.columns.values.tolist()))\n",
    "\n",
    "#c = print(a)\n",
    "#d = print(b)\n",
    "\n",
    "#print(type(a))\n",
    "#print(type(b))\n",
    "\n",
    "#if a < 500:           #使用一个EXCEL\n",
    "    #print(df1.columns[8])\n",
    "\n",
    "    \n",
    "#wb = openpyxl.Workbook()\n",
    "#ws = df1.active\n",
    "#k = 0\n",
    "#for i in range(3,a):\n",
    "    #ws.cell( row = i , column = 8,value = \"N3ANND102\" )\n",
    "    #k += 1\n",
    "    \n",
    "#df1.save('wow.xlsx')\n",
    "\n",
    "filename = 'N3ANND102.xlsx'\n",
    "data1 = xlrd.open_workbook(base_dir(r\"C:\\\\Users\\\\jinchanglong\\\\Desktop\\\\N3ANND102.xlsx\"))\n",
    "\n",
    "\n",
    "#df1.write(3,8,\"N3ANND102\")"
   ]
  },
  {
   "cell_type": "code",
   "execution_count": null,
   "metadata": {},
   "outputs": [],
   "source": [
    "!pwd"
   ]
  },
  {
   "cell_type": "code",
   "execution_count": null,
   "metadata": {},
   "outputs": [],
   "source": [
    "%pwd"
   ]
  },
  {
   "cell_type": "code",
   "execution_count": null,
   "metadata": {},
   "outputs": [],
   "source": [
    "%autosave = 30"
   ]
  },
  {
   "cell_type": "code",
   "execution_count": null,
   "metadata": {},
   "outputs": [],
   "source": [
    "%matplotlib"
   ]
  },
  {
   "cell_type": "code",
   "execution_count": null,
   "metadata": {},
   "outputs": [],
   "source": [
    "import pandas as pd\n",
    "import numpy as np \n",
    "import os\n",
    "\n",
    "data2 = pd.read_excel(\"\")\n",
    "\n",
    "f = open(\"data2\",\"a\")\n",
    "f.write('199696969696')\n",
    "f.close"
   ]
  },
  {
   "cell_type": "code",
   "execution_count": null,
   "metadata": {},
   "outputs": [],
   "source": [
    "! pip install ipython-sql"
   ]
  },
  {
   "cell_type": "code",
   "execution_count": null,
   "metadata": {},
   "outputs": [],
   "source": [
    "import pandas as pd\n",
    "import numpy as np \n",
    "\n",
    "df1 = pd.read_excel(r\"C:\\\\Users\\\\jinchanglong\\\\Desktop\\\\1-20.xlsx\")\n",
    "\n",
    "df2 = df1.iloc[1]\n",
    "print(df2)"
   ]
  },
  {
   "cell_type": "code",
   "execution_count": null,
   "metadata": {},
   "outputs": [],
   "source": [
    "i = [\n",
    "\"N3ANNDM26\",\n",
    "\"N3ANNDM15\",\n",
    "\"N3ANNDM17\",\n",
    "\"N3ANND126\",\n",
    "\"N3ANND129\",\n",
    "\"N3ANNDM16\",\n",
    "\"N3ANNDM18\",\n",
    "\"N3ANND137\",\n",
    "\"N3ANND138\",\n",
    "\"N3ANNDM05\",\n",
    "\"N3ANNDM07\",\n",
    "\"N3ANND110\",\n",
    "\"N3ANND114\",\n",
    "\"N3ANNDM06\",\n",
    "\"N3ANNDM08\",\n",
    "\"N3ANND111\",\n",
    "\"N3ANND115\",\n",
    "\"N3ANNDM13\",\n",
    "\"N3ANNDM14\",\n",
    "\"N3ANND168\",\n",
    "\"N3ANND171\"\n",
    "]\n",
    "\n",
    "a = np.arange(0,21,1)\n",
    "for b in a:\n",
    "    \n",
    "    print(i[b]*6 )"
   ]
  },
  {
   "cell_type": "code",
   "execution_count": null,
   "metadata": {},
   "outputs": [],
   "source": [
    "import numpy as np\n",
    "import pandas as pd\n",
    "\n",
    "\n",
    "a = [\n",
    "\"N3APKGM15;CPP_1_ACTIVE\",\n",
    "\"N3APKGM15;CPP_2_ACTIVE\",\n",
    "\"N3APKGM15;CPP_3_ACTIVE\",\n",
    "\"N3APKGM15;CPP_4_ACTIVE\",\n",
    "\"N3APKGM15;EL_1_ACTIVE\",\n",
    "\"N3APKGM15;EL_2_ACTIVE\",\n",
    "\"N3APKGM15;EL_3_ACTIVE\",\n",
    "\"N3APKGM15;EL_4_ACTIVE\",\n",
    "\"N3APKGM15;EL_5_ACTIVE\",\n",
    "\"N3APKGM15;POUCH_1_1\",\n",
    "\"N3APKGM15;POUCH_1_2\",\n",
    "\"N3APKGM15;TAB_1_ACTIVE\",\n",
    "\"N3APKGM15;TAB_2_ACTIVE\",\n",
    "\"N3APKGM16;CPP_1_ACTIVE\",\n",
    "\"N3APKGM16;CPP_2_ACTIVE\",\n",
    "\"N3APKGM16;CPP_3_ACTIVE\",\n",
    "\"N3APKGM16;CPP_4_ACTIVE\",\n",
    "\"N3APKGM16;EL_1_ACTIVE\",\n",
    "\"N3APKGM16;EL_2_ACTIVE\",\n",
    "\"N3APKGM16;EL_3_ACTIVE\",\n",
    "\"N3APKGM16;EL_4_ACTIVE\",\n",
    "\"N3APKGM16;EL_5_ACTIVE\",\n",
    "\"N3APKGM16;POUCH_1_1\",\n",
    "\"N3APKGM16;POUCH_1_2\",\n",
    "\"N3APKGM16;TAB_1_ACTIVE\",\n",
    "\"N3APKGM16;TAB_2_ACTIVE\",\n",
    "\"N3APKGM17;CPP_1_ACTIVE\",\n",
    "\"N3APKGM17;CPP_2_ACTIVE\",\n",
    "\"N3APKGM17;CPP_3_ACTIVE\",\n",
    "\"N3APKGM17;CPP_4_ACTIVE\",\n",
    "\"N3APKGM17;EL_1_ACTIVE\",\n",
    "\"N3APKGM17;EL_2_ACTIVE\",\n",
    "\"N3APKGM17;EL_3_ACTIVE\",\n",
    "\"N3APKGM17;EL_4_ACTIVE\",\n",
    "\"N3APKGM17;EL_5_ACTIVE\",\n",
    "\"N3APKGM17;POUCH_1_1\",\n",
    "\"N3APKGM17;POUCH_1_2\",\n",
    "\"N3APKGM17;TAB_1_ACTIVE\",\n",
    "\"N3APKGM17;TAB_2_ACTIVE\",\n",
    "\"N3APKGM18;CPP_1_ACTIVE\",\n",
    "\"N3APKGM18;CPP_2_ACTIVE\",\n",
    "\"N3APKGM18;CPP_3_ACTIVE\",\n",
    "\"N3APKGM18;CPP_4_ACTIVE\",\n",
    "\"N3APKGM18;EL_1_ACTIVE\",\n",
    "\"N3APKGM18;EL_2_ACTIVE\",\n",
    "\"N3APKGM18;EL_3_ACTIVE\",\n",
    "\"N3APKGM18;EL_4_ACTIVE\",\n",
    "\"N3APKGM18;EL_5_ACTIVE\",\n",
    "\"N3APKGM18;POUCH_1_1\",\n",
    "\"N3APKGM18;POUCH_1_2\",\n",
    "\"N3APKGM18;TAB_1_ACTIVE\",\n",
    "\"N3APKGM18;TAB_2_ACTIVE\",\n",
    "\"N3APKGM19;CPP_1_ACTIVE\",\n",
    "\"N3APKGM19;CPP_2_ACTIVE\",\n",
    "\"N3APKGM19;CPP_3_ACTIVE\",\n",
    "\"N3APKGM19;CPP_4_ACTIVE\",\n",
    "\"N3APKGM19;EL_1_ACTIVE\",\n",
    "\"N3APKGM19;EL_2_ACTIVE\",\n",
    "\"N3APKGM19;EL_3_ACTIVE\",\n",
    "\"N3APKGM19;EL_4_ACTIVE\",\n",
    "\"N3APKGM19;EL_5_ACTIVE\",\n",
    "\"N3APKGM19;POUCH_1_1\",\n",
    "\"N3APKGM19;POUCH_1_2\",\n",
    "\"N3APKGM19;TAB_1_ACTIVE\",\n",
    "\"N3APKGM19;TAB_2_ACTIVE\",\n",
    "\"N3APKGM20;CPP_1_ACTIVE\",\n",
    "\"N3APKGM20;CPP_2_ACTIVE\",\n",
    "\"N3APKGM20;CPP_3_ACTIVE\",\n",
    "\"N3APKGM20;CPP_4_ACTIVE\",\n",
    "\"N3APKGM20;EL_1_ACTIVE\",\n",
    "\"N3APKGM20;EL_2_ACTIVE\",\n",
    "\"N3APKGM20;EL_3_ACTIVE\",\n",
    "\"N3APKGM20;EL_4_ACTIVE\",\n",
    "\"N3APKGM20;EL_5_ACTIVE\",\n",
    "\"N3APKGM20;POUCH_1_1\",\n",
    "\"N3APKGM20;POUCH_1_2\",\n",
    "\"N3APKGM20;TAB_1_ACTIVE\",\n",
    "\"N3APKGM20;TAB_2_ACTIVE\",\n",
    "\n",
    "]\n",
    "\n",
    "b = [\n",
    "\"PKG 10-1:(-) CPP Tape 01\",\n",
    "\"PKG 10-1:(-) CPP Tape 02\",\n",
    "\"PKG 10-1:(+) CPP Tape 01\",\n",
    "\"PKG 10-1:(+) CPP Tape 02\",\n",
    "\"PKG 10-1:Local EL Tank #1\",\n",
    "\"PKG 10-1:Local EL Tank #2\",\n",
    "\"PKG 10-1:Local EL Tank #3\",\n",
    "\"PKG 10-1:Central EL Tank #1\",\n",
    "\"PKG 10-1:Central EL Tank #2\",\n",
    "\"PKG 10-1:Pouch 01\",\n",
    "\"PKG 10-1:Pouch 02\",\n",
    "\"PKG 10-1:LEAD (-)\",\n",
    "\"PKG 10-1:LEAD (+)\",\n",
    "\"PKG 10-2:(-) CPP Tape 01\",\n",
    "\"PKG 10-2:(-) CPP Tape 02\",\n",
    "\"PKG 10-2:(+) CPP Tape 01\",\n",
    "\"PKG 10-2:(+) CPP Tape 02\",\n",
    "\"PKG 10-2:Local EL Tank #1\",\n",
    "\"PKG 10-2:Local EL Tank #2\",\n",
    "\"PKG 10-2:Local EL Tank #3\",\n",
    "\"PKG 10-2:Central EL Tank #1\",\n",
    "\"PKG 10-2:Central EL Tank #2\",\n",
    "\"PKG 10-2:Pouch 01\",\n",
    "\"PKG 10-2:Pouch 02\",\n",
    "\"PKG 10-2:LEAD (-)\",\n",
    "\"PKG 10-2:LEAD (+)\",\n",
    "\"PKG 11-1:(-) CPP Tape 01\",\n",
    "\"PKG 11-1:(-) CPP Tape 02\",\n",
    "\"PKG 11-1:(+) CPP Tape 01\",\n",
    "\"PKG 11-1:(+) CPP Tape 02\",\n",
    "\"PKG 11-1:Local EL Tank #1\",\n",
    "\"PKG 11-1:Local EL Tank #2\",\n",
    "\"PKG 11-1:Local EL Tank #3\",\n",
    "\"PKG 11-1:Central EL Tank #1\",\n",
    "\"PKG 11-1:Central EL Tank #2\",\n",
    "\"PKG 11-1:Pouch 01\",\n",
    "\"PKG 11-1:Pouch 02\",\n",
    "\"PKG 11-1:LEAD (-)\",\n",
    "\"PKG 11-1:LEAD (+)\",\n",
    "\"PKG 11-2:(-) CPP Tape 01\",\n",
    "\"PKG 11-2:(-) CPP Tape 02\",\n",
    "\"PKG 11-2:(+) CPP Tape 01\",\n",
    "\"PKG 11-2:(+) CPP Tape 02\",\n",
    "\"PKG 11-2:Local EL Tank #1\",\n",
    "\"PKG 11-2:Local EL Tank #2\",\n",
    "\"PKG 11-2:Local EL Tank #3\",\n",
    "\"PKG 11-2:Central EL Tank #1\",\n",
    "\"PKG 11-2:Central EL Tank #2\",\n",
    "\"PKG 11-2:Pouch 01\",\n",
    "\"PKG 11-2:Pouch 02\",\n",
    "\"PKG 11-2:LEAD (-)\",\n",
    "\"PKG 11-2:LEAD (+)\",\n",
    "\"PKG 12-1:(-) CPP Tape 01\",\n",
    "\"PKG 12-1:(-) CPP Tape 02\",\n",
    "\"PKG 12-1:(+) CPP Tape 01\",\n",
    "\"PKG 12-1:(+) CPP Tape 02\",\n",
    "\"PKG 12-1:Local EL Tank #1\",\n",
    "\"PKG 12-1:Local EL Tank #2\",\n",
    "\"PKG 12-1:Local EL Tank #3\",\n",
    "\"PKG 12-1:Central EL Tank #1\",\n",
    "\"PKG 12-1:Central EL Tank #2\",\n",
    "\"PKG 12-1:Pouch 01\",\n",
    "\"PKG 12-1:Pouch 02\",\n",
    "\"PKG 12-1:LEAD (-)\",\n",
    "\"PKG 12-1:LEAD (+)\",\n",
    "\"PKG 12-2:(-) CPP Tape 01\",\n",
    "\"PKG 12-2:(-) CPP Tape 02\",\n",
    "\"PKG 12-2:(+) CPP Tape 01\",\n",
    "\"PKG 12-2:(+) CPP Tape 02\",\n",
    "\"PKG 12-2:Local EL Tank #1\",\n",
    "\"PKG 12-2:Local EL Tank #2\",\n",
    "\"PKG 12-2:Local EL Tank #3\",\n",
    "\"PKG 12-2:Central EL Tank #1\",\n",
    "\"PKG 12-2:Central EL Tank #2\",\n",
    "\"PKG 12-2:Pouch 01\",\n",
    "\"PKG 12-2:Pouch 02\",\n",
    "\"PKG 12-2:LEAD (-)\",\n",
    "\"PKG 12-2:LEAD (+)\",\n",
    "   \n",
    "]\n",
    "\n",
    "c = np.arange(0,78,1)\n",
    "\n",
    "for i in c:\n",
    "    print(\n",
    "\"^XA\"+\n",
    "\"^A0N,40,40^FO200,50^FD*\" + b[i] + \"*^FS\"\n",
    "\"^BY2,2.6,200^FO150,150^BCN,N,30,N,N,N^FD\" + a[i] + \"^FS\"\n",
    "\"^PQ1,0,1,Y\"\n",
    "\"^XZ\")"
   ]
  },
  {
   "cell_type": "code",
   "execution_count": null,
   "metadata": {},
   "outputs": [],
   "source": [
    "%pwd"
   ]
  },
  {
   "cell_type": "code",
   "execution_count": null,
   "metadata": {},
   "outputs": [],
   "source": [
    "%time sum(range(10000))"
   ]
  },
  {
   "cell_type": "code",
   "execution_count": null,
   "metadata": {},
   "outputs": [],
   "source": [
    "range(10000)"
   ]
  },
  {
   "cell_type": "code",
   "execution_count": null,
   "metadata": {},
   "outputs": [],
   "source": [
    "import pandas as pd\n",
    "import numpy as np\n",
    "\n",
    "a = [\n",
    "\"PKG 10-1:(-) CPP Tape 01\",\n",
    "\"PKG 10-1:(-) CPP Tape 02\",\n",
    "\"PKG 10-1:(+) CPP Tape 01\",\n",
    "\"PKG 10-1:(+) CPP Tape 02\",\n",
    "\"PKG 10-1:Local EL Tank #1\",\n",
    "\"PKG 10-1:Local EL Tank #2\",\n",
    "\"PKG 10-1:Local EL Tank #3\",\n",
    "\"PKG 10-1:Central EL Tank #1\",\n",
    "\"PKG 10-1:Central EL Tank #2\",\n",
    "\"PKG 10-1:Pouch 01\",\n",
    "\"PKG 10-1:Pouch 02\",\n",
    "\"PKG 10-1:LEAD (-)\",\n",
    "\"PKG 10-1:LEAD (+)\",\n",
    "\"PKG 10-2:(-) CPP Tape 01\",\n",
    "\"PKG 10-2:(-) CPP Tape 02\",\n",
    "\"PKG 10-2:(+) CPP Tape 01\",\n",
    "\"PKG 10-2:(+) CPP Tape 02\",\n",
    "\"PKG 10-2:Local EL Tank #1\",\n",
    "\"PKG 10-2:Local EL Tank #2\",\n",
    "\"PKG 10-2:Local EL Tank #3\",\n",
    "\"PKG 10-2:Central EL Tank #1\",\n",
    "\"PKG 10-2:Central EL Tank #2\",\n",
    "\"PKG 10-2:Pouch 01\",\n",
    "\"PKG 10-2:Pouch 02\",\n",
    "\"PKG 10-2:LEAD (-)\",\n",
    "\"PKG 10-2:LEAD (+)\",\n",
    "\"PKG 11-1:(-) CPP Tape 01\",\n",
    "\"PKG 11-1:(-) CPP Tape 02\",\n",
    "\"PKG 11-1:(+) CPP Tape 01\",\n",
    "\"PKG 11-1:(+) CPP Tape 02\",\n",
    "\"PKG 11-1:Local EL Tank #1\",\n",
    "\"PKG 11-1:Local EL Tank #2\",\n",
    "\"PKG 11-1:Local EL Tank #3\",\n",
    "\"PKG 11-1:Central EL Tank #1\",\n",
    "\"PKG 11-1:Central EL Tank #2\",\n",
    "\"PKG 11-1:Pouch 01\",\n",
    "\"PKG 11-1:Pouch 02\",\n",
    "\"PKG 11-1:LEAD (-)\",\n",
    "\"PKG 11-1:LEAD (+)\",\n",
    "\"PKG 11-2:(-) CPP Tape 01\",\n",
    "\"PKG 11-2:(-) CPP Tape 02\",\n",
    "\"PKG 11-2:(+) CPP Tape 01\",\n",
    "\"PKG 11-2:(+) CPP Tape 02\",\n",
    "\"PKG 11-2:Local EL Tank #1\",\n",
    "\"PKG 11-2:Local EL Tank #2\",\n",
    "\"PKG 11-2:Local EL Tank #3\",\n",
    "\"PKG 11-2:Central EL Tank #1\",\n",
    "\"PKG 11-2:Central EL Tank #2\",\n",
    "\"PKG 11-2:Pouch 01\",\n",
    "\"PKG 11-2:Pouch 02\",\n",
    "\"PKG 11-2:LEAD (-)\",\n",
    "\"PKG 11-2:LEAD (+)\",\n",
    "\"PKG 12-1:(-) CPP Tape 01\",\n",
    "\"PKG 12-1:(-) CPP Tape 02\",\n",
    "\"PKG 12-1:(+) CPP Tape 01\",\n",
    "\"PKG 12-1:(+) CPP Tape 02\",\n",
    "\"PKG 12-1:Local EL Tank #1\",\n",
    "\"PKG 12-1:Local EL Tank #2\",\n",
    "\"PKG 12-1:Local EL Tank #3\",\n",
    "\"PKG 12-1:Central EL Tank #1\",\n",
    "\"PKG 12-1:Central EL Tank #2\",\n",
    "\"PKG 12-1:Pouch 01\",\n",
    "\"PKG 12-1:Pouch 02\",\n",
    "\"PKG 12-1:LEAD (-)\",\n",
    "\"PKG 12-1:LEAD (+)\",\n",
    "\"PKG 12-2:(-) CPP Tape 01\",\n",
    "\"PKG 12-2:(-) CPP Tape 02\",\n",
    "\"PKG 12-2:(+) CPP Tape 01\",\n",
    "\"PKG 12-2:(+) CPP Tape 02\",\n",
    "\"PKG 12-2:Local EL Tank #1\",\n",
    "\"PKG 12-2:Local EL Tank #2\",\n",
    "\"PKG 12-2:Local EL Tank #3\",\n",
    "\"PKG 12-2:Central EL Tank #1\",\n",
    "\"PKG 12-2:Central EL Tank #2\",\n",
    "\"PKG 12-2:Pouch 01\",\n",
    "\"PKG 12-2:Pouch 02\",\n",
    "\"PKG 12-2:LEAD (-)\",\n",
    "\"PKG 12-2:LEAD (+)\",\n",
    "   \n",
    "]\n",
    "b = set(a)\n",
    "#for i in a:\n",
    "    #num = set(b)\n",
    "    \n",
    "    #num=a.count(i)\n",
    "    #print(i,num)\n",
    "    #print(b)\n",
    "    #print(type(b))\n",
    "    \n",
    "a.count(\"PKG\")"
   ]
  },
  {
   "cell_type": "code",
   "execution_count": null,
   "metadata": {},
   "outputs": [],
   "source": [
    "import pandas as pd\n",
    "import numpy as np\n",
    "\n",
    "df1 = pd.read_csv(r\"C:\\Users\\jinchanglong\\Desktop\\E63F.csv\")\n",
    "df2 = df1.head(1000000)\n",
    "\n",
    "print(df1)\n",
    "df2.to_csv('001.csv') \n",
    "df3 = df1[1000000:2000000]\n",
    "df4 = df1[2000000:3000000]\n",
    "df5 = df1[3000000:4000000]\n",
    "df6 = df1[4000000:5000000]\n",
    "df7 = df1[5000000:6000000]\n",
    "df8 = df1[6000000:7000000]\n",
    "df9 = df1[7000000:8000000]\n",
    "df10 =df1[8000000:8856351]\n",
    "#print(df1[1:3])\n",
    "#df3.to_csv('002.csv') \n",
    "#df4.to_csv('003.csv') \n",
    "#df5.to_csv('004.csv') \n",
    "#df6.to_csv('005.csv') \n",
    "#df7.to_csv('006.csv') \n",
    "#df8.to_excel('007.xlsx') \n",
    "#df9.to_excel('008.xlsx') \n",
    "#df10.to_excel('009.xlsx') "
   ]
  },
  {
   "cell_type": "code",
   "execution_count": null,
   "metadata": {},
   "outputs": [],
   "source": [
    "class1 = ['122','133','144','166','177']\n",
    "a = ','.join(class1)\n",
    "print(a)\n",
    "print(class1)"
   ]
  },
  {
   "cell_type": "code",
   "execution_count": null,
   "metadata": {},
   "outputs": [],
   "source": [
    "a = 'hi hello world'\n",
    "print(a.split(' '))"
   ]
  },
  {
   "cell_type": "code",
   "execution_count": null,
   "metadata": {},
   "outputs": [],
   "source": [
    "b = '<em>UAAVE3LMC1,</em>UAAU82FFC2'\n",
    "c = b.replace('<em>','')\n",
    "d = b.replace('</em>','')\n",
    "e = b.replace('</em>','')\n",
    "e = b.replace('<em>','')\n",
    "print(b)\n",
    "print(c)\n",
    "print(d)\n",
    "print(e)"
   ]
  },
  {
   "cell_type": "code",
   "execution_count": null,
   "metadata": {},
   "outputs": [],
   "source": [
    "today = '2021-05-20'\n",
    "a = today.split('-')\n",
    "print(a)\n",
    "b = today.split('-')[0]\n",
    "print(b)\n",
    "b = today.split('-')[1]\n",
    "print(b)\n",
    "b = today.split('-')[2]\n",
    "print(b)"
   ]
  },
  {
   "cell_type": "code",
   "execution_count": null,
   "metadata": {},
   "outputs": [],
   "source": [
    "def y(x,q):\n",
    "    print(x*4+45+4/q)\n",
    "y(123,51324)"
   ]
  },
  {
   "cell_type": "code",
   "execution_count": null,
   "metadata": {},
   "outputs": [],
   "source": [
    "def y(x,q):\n",
    "    print(x*4+45+4/q)\n",
    "y(123,51324)\n",
    "y(102,10024)\n",
    "y(103,10086)"
   ]
  },
  {
   "cell_type": "code",
   "execution_count": null,
   "metadata": {},
   "outputs": [],
   "source": [
    "import pandas as pd\n",
    "import numpy as np\n",
    "\n",
    "df1 = pd.read_excel(r'C:\\Users\\jinchanglong\\Desktop\\NND_设备ID.xlsx')\n",
    "df2 = df1.head(5)\n",
    "print(df2)"
   ]
  },
  {
   "cell_type": "code",
   "execution_count": null,
   "metadata": {},
   "outputs": [],
   "source": [
    "import pandas as pd\n",
    "import numpy as np\n",
    "\n",
    "df1 = pd.read_csv(r\"C:\\Users\\jinchanglong\\Desktop\\E63F.csv\")\n",
    "\n",
    "\n",
    "df2 = df1[1:200000]\n",
    "df3 = df1[200000:400000]\n",
    "df4 = df1[400000:600000]\n",
    "df5 = df1[600000:800000]\n",
    "df6 = df1[800000:1000000]\n",
    "\n",
    "df7 = df1[1000000:1200000]\n",
    "df8 = df1[1200000:1400000]\n",
    "df9 = df1[1400000:1600000]\n",
    "df10 =df1[1600000:1800000]\n",
    "df11 =df1[1800000:2000000]\n",
    "\n",
    "df12 =df1[2000000:2200000]\n",
    "df13 =df1[2200000:2400000]\n",
    "df14 =df1[2400000:2600000]\n",
    "df15 =df1[2600000:2800000]\n",
    "df16 =df1[2800000:3000000]\n",
    "\n",
    "df17 =df1[3000000:3200000]\n",
    "df18 =df1[3200000:3400000]\n",
    "df19 =df1[3400000:3600000]\n",
    "df20 =df1[3600000:3800000]\n",
    "df21 =df1[3800000:4000000]\n",
    "\n",
    "df22 =df1[4000000:4200000]\n",
    "df23 =df1[4200000:4400000]\n",
    "df24 =df1[4400000:4600000]\n",
    "df25 =df1[4600000:4800000]\n",
    "df26 =df1[4800000:5000000]\n",
    "\n",
    "df27 =df1[5000000:5200000]\n",
    "df28 =df1[5200000:5400000]\n",
    "df29 =df1[5400000:5600000]\n",
    "df30 =df1[5600000:5800000]\n",
    "df31 =df1[5800000:6000000]\n",
    "\n",
    "df32 =df1[6000000:6200000]\n",
    "df33 =df1[6200000:6400000]\n",
    "df34 =df1[6400000:6600000]\n",
    "df35 =df1[6600000:6800000]\n",
    "df36 =df1[6800000:7000000]\n",
    "\n",
    "df37 =df1[7000000:7200000]\n",
    "df38 =df1[7200000:7400000]\n",
    "df39 =df1[7400000:7600000]\n",
    "df40 =df1[7600000:7800000]\n",
    "df41 =df1[7800000:8000000]\n",
    "\n",
    "df42 =df1[8000000:8200000]\n",
    "df43 =df1[8200000:8400000]\n",
    "df44 =df1[8400000:8600000]\n",
    "df45 =df1[8600000:8800000]\n",
    "df46 =df1[8800000:8855350]\n",
    "\n",
    "\n",
    "df2.to_csv('001.csv') \n",
    "df3.to_csv('002.csv') \n",
    "df4.to_csv('003.csv') \n",
    "df5.to_csv('004.csv') \n",
    "df6.to_csv('005.csv') \n",
    "df7.to_csv('006.csv') \n",
    "df8.to_excel('007.xlsx') \n",
    "df9.to_excel('008.xlsx') \n",
    "df10.to_excel('009.xlsx') \n",
    "\n",
    "df11.to_excel('010.xlsx') \n",
    "df12.to_excel('011.xlsx') \n",
    "df13.to_excel('012.xlsx') \n",
    "df14.to_excel('013.xlsx') \n",
    "df15.to_excel('014.xlsx') \n",
    "df16.to_excel('015.xlsx') \n",
    "df17.to_excel('016.xlsx') \n",
    "df18.to_excel('017.xlsx') \n",
    "df19.to_excel('018.xlsx') \n",
    "df20.to_excel('019.xlsx') \n",
    "\n",
    "df21.to_excel('020.xlsx') \n",
    "df22.to_excel('021.xlsx') \n",
    "df23.to_excel('022.xlsx') \n",
    "df24.to_excel('023.xlsx') \n",
    "df25.to_excel('024.xlsx') \n",
    "df26.to_excel('025.xlsx') \n",
    "df27.to_excel('026.xlsx') \n",
    "df28.to_excel('027.xlsx') \n",
    "df29.to_excel('028.xlsx') \n",
    "df30.to_excel('029.xlsx') \n",
    "\n",
    "df31.to_excel('030.xlsx') \n",
    "df32.to_excel('031.xlsx') \n",
    "df33.to_excel('032.xlsx') \n",
    "df34.to_excel('033.xlsx') \n",
    "df35.to_excel('034.xlsx') \n",
    "df36.to_excel('035.xlsx') \n",
    "df37.to_excel('036.xlsx') \n",
    "df38.to_excel('037.xlsx') \n",
    "df39.to_excel('038.xlsx') \n",
    "df40.to_excel('039.xlsx') \n",
    "\n",
    "df41.to_excel('040.xlsx') \n",
    "df42.to_excel('041.xlsx') \n",
    "df43.to_excel('042.xlsx') \n",
    "df44.to_excel('043.xlsx') \n",
    "df45.to_excel('044.xlsx') \n",
    "df46.to_excel('045.xlsx') \n",
    "df47.to_excel('046.xlsx')"
   ]
  },
  {
   "cell_type": "code",
   "execution_count": null,
   "metadata": {},
   "outputs": [],
   "source": [
    "import pandas as pd\n",
    "import numpy as np\n",
    "\n",
    "#df1 = pd.read_csv(r\"C:\\Users\\jinchanglong\\Desktop\\E63F.csv\")\n",
    "\n",
    "df2 = pd1[1,200000]\n",
    "\n",
    "a = np.arange(3,48,1)\n",
    "for i in a:\n",
    "    print(df[i] = df1[(i - 1)*200000 : i * 2000000])\n",
    "\n"
   ]
  },
  {
   "cell_type": "code",
   "execution_count": null,
   "metadata": {},
   "outputs": [],
   "source": [
    "#df1 = pd.read_csv(r\"C:\\Users\\jinchanglong\\Desktop\\E63F.csv\")\n",
    "\n",
    "a = np.arange(3,48,1)\n",
    "\n",
    "for i in a:\n",
    "    b = list(i).tolist()\n",
    "    \n",
    "print(b)\n",
    "\n",
    "\n",
    "\n",
    "#for i in a:\n",
    "    #df[i] = df1[(int[i] - 1)*200000 : [i] * 2000000]\n",
    "    "
   ]
  },
  {
   "cell_type": "code",
   "execution_count": null,
   "metadata": {},
   "outputs": [],
   "source": [
    "a = np.arange(3,48,1)\n",
    "print(a)\n",
    "print(type(a))"
   ]
  },
  {
   "cell_type": "code",
   "execution_count": null,
   "metadata": {},
   "outputs": [],
   "source": [
    "import json\n",
    "\n",
    "x =  '{ \"name\":\"Bill\", \"age\":63, \"city\":\"Seatle\"}'\n",
    "\n",
    "y = json.loads(x)\n",
    "print(y[\"age\"])\n",
    "print(type(y[\"age\"]))"
   ]
  },
  {
   "cell_type": "code",
   "execution_count": null,
   "metadata": {},
   "outputs": [],
   "source": [
    "import json\n",
    "\n",
    "x = { \"name\":\"Bill\", \"age\":63, \"city\":\"Seatle\"}\n",
    "\n",
    "y = json.dumps(x)\n",
    "\n",
    "print(y)\n",
    "print(type(y))"
   ]
  },
  {
   "cell_type": "code",
   "execution_count": null,
   "metadata": {},
   "outputs": [],
   "source": [
    "import json\n",
    "\n",
    "print(json.dumps({\"name\": \"Bill\", \"age\": 63}))\n",
    "print(json.dumps([\"apple\", \"bananas\"]))\n",
    "print(json.dumps((\"apple\", \"bananas\")))\n",
    "print(json.dumps(\"hello\"))\n",
    "print(json.dumps(42))\n",
    "print(json.dumps(31.76))\n",
    "print(json.dumps(True))\n",
    "print(json.dumps(False))\n",
    "print(json.dumps(None))"
   ]
  },
  {
   "cell_type": "code",
   "execution_count": null,
   "metadata": {},
   "outputs": [],
   "source": [
    "import json\n",
    "\n",
    "x = {\n",
    "  \"name\": \"Bill\",\n",
    "  \"age\": 63,\n",
    "  \"married\": True,\n",
    "  \"divorced\": False,\n",
    "  \"children\": (\"Jennifer\",\"Rory\",\"Phoebe\"),\n",
    "  \"pets\": None,\n",
    "  \"cars\": [\n",
    "    {\"model\": \"Porsche\", \"mpg\": 38.2},\n",
    "    {\"model\": \"BMW M5\", \"mpg\": 26.9}\n",
    "  ]\n",
    "}\n",
    "\n",
    "#print(json.dumps(x))\n",
    "#print(json.dumps(x,indent = 4))\n",
    "print(json.dumps(x,indent = 4,sort_keys = True))"
   ]
  },
  {
   "cell_type": "code",
   "execution_count": null,
   "metadata": {},
   "outputs": [],
   "source": [
    "import re\n",
    "\n",
    "txt = \"China is a great country\"\n",
    "x = re.search(\"^China.*country$\", txt)"
   ]
  },
  {
   "cell_type": "code",
   "execution_count": null,
   "metadata": {},
   "outputs": [],
   "source": [
    "txt = 'Im king of the London'\n",
    "R = re.search(\"^Im.*London$\",txt)\n",
    "X = re.search(\"^Im.*the\",txt)\n",
    "C = re.search(\"^Im.+the\",txt)\n",
    "print(C)"
   ]
  },
  {
   "cell_type": "code",
   "execution_count": null,
   "metadata": {},
   "outputs": [],
   "source": [
    "import re\n",
    "txt1 = \"China is a great country\"\n",
    "x = re.findall(\"a\",txt1)\n",
    "y = re.findall(\"USA\",txt1)\n",
    "print(y)"
   ]
  },
  {
   "cell_type": "code",
   "execution_count": null,
   "metadata": {},
   "outputs": [],
   "source": [
    "import re \n",
    "\n",
    "txt1 = \"China is a great country\"\n",
    "x = re.search(\"\\s\",txt1)\n",
    "print(x)"
   ]
  },
  {
   "cell_type": "code",
   "execution_count": null,
   "metadata": {},
   "outputs": [],
   "source": [
    "import re\n",
    "\n",
    "txt1 = \"China is a great country\"\n",
    "x = re.split(\"\\s\",txt1,0)\n",
    "y = re.split(\"\\s\",txt1,1)\n",
    "z = re.split(\"\\s\",txt1,2)\n",
    "q = re.split(\"\\s\",txt1,3)\n",
    "w = re.split(\"\\s\",txt1,4)\n",
    "e = re.split(\"\\s\",txt1,5)\n",
    "\n",
    "print(x)\n",
    "print(y)\n",
    "print(z)\n",
    "print(q)\n",
    "print(w)\n",
    "print(e)\n"
   ]
  },
  {
   "cell_type": "code",
   "execution_count": null,
   "metadata": {},
   "outputs": [],
   "source": [
    "import re \n",
    "\n",
    "txt1 = \"China is a great country\"\n",
    "\n",
    "x = re.sub(\"\\s\",\"9\",txt1)\n",
    "\n",
    "print(x)"
   ]
  },
  {
   "cell_type": "code",
   "execution_count": null,
   "metadata": {},
   "outputs": [],
   "source": [
    "import re \n",
    "txt1 = \"UCAG612611UCAG612611UCAG612611UCAG612611\"\n",
    "\n",
    "x = re.sub(\"UCA\",\"93AB7\",txt1)\n",
    "print(x)"
   ]
  },
  {
   "cell_type": "code",
   "execution_count": null,
   "metadata": {},
   "outputs": [],
   "source": [
    "import pandas as pd \n",
    "import numpy as np\n",
    "import re \n",
    "\n",
    "df1 = pd.read_excel(r\"C:\\\\Users\\\\jinchanglong\\\\Desktop\\\\PKG_CELL _ID.xlsx\")\n",
    "\n",
    "#print(df1)\n",
    "\n",
    "\n",
    "print(type(df1))"
   ]
  },
  {
   "cell_type": "code",
   "execution_count": null,
   "metadata": {},
   "outputs": [],
   "source": [
    "import re \n",
    "txt1 = \"UCAG612611UCAG612611UCAG612611UCAG612611\"\n",
    "\n",
    "x = re.sub(\"UCA\",\"UAB\",txt1,2)\n",
    "print(x)"
   ]
  },
  {
   "cell_type": "code",
   "execution_count": null,
   "metadata": {},
   "outputs": [],
   "source": [
    "import re \n",
    "\n",
    "q = \"China is a great country\"\n",
    "x = re.search(r\"\\bc\\w+\", q)\n",
    "print(x.span())   \n",
    "print(x.string)"
   ]
  },
  {
   "cell_type": "code",
   "execution_count": null,
   "metadata": {},
   "outputs": [],
   "source": [
    "import re\n",
    "\n",
    "str = \"China is a great country\"\n",
    "x = re.search(r\"\\bC\\w+\", str)\n",
    "print(x.span())"
   ]
  },
  {
   "cell_type": "code",
   "execution_count": null,
   "metadata": {},
   "outputs": [],
   "source": [
    "import re \n",
    "\n",
    "str = \"China is a great country\"\n",
    "\n",
    "x = re.search(r\"\\bC\\w+\",str)\n",
    "print(x.group())"
   ]
  },
  {
   "cell_type": "code",
   "execution_count": null,
   "metadata": {},
   "outputs": [],
   "source": [
    "import pandas as pd\n",
    "import numpy as np\n",
    "import re\n",
    "import os\n",
    "import matplotlib as mpl\n",
    "import seaborn as sns\n",
    "import matplotlib.pyplot as plt\n",
    "\n",
    "for model in np,pd,mpl,sns,re:\n",
    "    print(model.__name__,model.__version__)"
   ]
  },
  {
   "cell_type": "code",
   "execution_count": null,
   "metadata": {},
   "outputs": [],
   "source": [
    "from camelcase import CamelCase\n",
    "\n",
    "c = camelcase.CamelCase()\n",
    "\n",
    "txt = \"maybe we have some troubles need to resolve\"\n",
    "try:\n",
    "    print(c.hump(txt))\n",
    "except ModuleNotFoundError:\n",
    "    print('No module named camelcase')\n",
    "except:\n",
    "    print('something wrong')"
   ]
  },
  {
   "cell_type": "code",
   "execution_count": null,
   "metadata": {},
   "outputs": [],
   "source": [
    "%time !pip --version"
   ]
  },
  {
   "cell_type": "code",
   "execution_count": null,
   "metadata": {},
   "outputs": [],
   "source": [
    "! pip install --upgrade pip"
   ]
  },
  {
   "cell_type": "code",
   "execution_count": null,
   "metadata": {},
   "outputs": [],
   "source": [
    "%time !pip install msgpack"
   ]
  },
  {
   "cell_type": "code",
   "execution_count": null,
   "metadata": {},
   "outputs": [],
   "source": [
    "%time !pip install camlelcase"
   ]
  },
  {
   "cell_type": "code",
   "execution_count": null,
   "metadata": {},
   "outputs": [],
   "source": [
    "!pip install jupyterthemes"
   ]
  },
  {
   "cell_type": "code",
   "execution_count": null,
   "metadata": {},
   "outputs": [],
   "source": [
    "try:\n",
    "    print(x)\n",
    "except NameError:\n",
    "    print('name x is not defined')\n",
    "except SyntaxError:\n",
    "    print('invalid syntax')\n",
    "except:\n",
    "    print('maybe something wrong')"
   ]
  },
  {
   "cell_type": "code",
   "execution_count": null,
   "metadata": {},
   "outputs": [],
   "source": [
    "x = -1\n",
    "\n",
    "if x < 0 :\n",
    "    raise Exception('Sorry, no numbers below zero')"
   ]
  },
  {
   "cell_type": "code",
   "execution_count": null,
   "metadata": {},
   "outputs": [],
   "source": [
    "x = 'UAEGB10940'\n",
    "\n",
    "if not type(x) is int:\n",
    "    raise TypeError(\"Only integers are allowed\")"
   ]
  },
  {
   "cell_type": "code",
   "execution_count": null,
   "metadata": {},
   "outputs": [],
   "source": [
    "x = 'UAEGB10940'\n",
    "print(type(x))"
   ]
  },
  {
   "cell_type": "code",
   "execution_count": null,
   "metadata": {},
   "outputs": [],
   "source": [
    "x = 1996\n",
    "print(type(x))\n",
    "\n",
    "y = str(x)\n",
    "print(type(y))"
   ]
  },
  {
   "cell_type": "code",
   "execution_count": null,
   "metadata": {},
   "outputs": [],
   "source": [
    "import pandas as pd\n",
    "import numpy as np\n",
    "\n",
    "a = np.arange(3,48,1)\n",
    "print(a)\n",
    "print(type(a))\n",
    "\n",
    "for i in a:\n",
    "    print(i)\n",
    "print(type(i))\n",
    "\n",
    "q = int(i)\n",
    "print(type(q))\n",
    "print(q)"
   ]
  },
  {
   "cell_type": "code",
   "execution_count": null,
   "metadata": {},
   "outputs": [],
   "source": [
    "import pandas as pd \n",
    "import numpy as np\n",
    "\n",
    "b = np.arange(1,94,1)\n",
    "\n",
    "for i in b:\n",
    "    print('i:AAB' )"
   ]
  },
  {
   "cell_type": "code",
   "execution_count": 1,
   "metadata": {},
   "outputs": [
    {
     "name": "stdout",
     "output_type": "stream",
     "text": [
      "Enter your name:\n",
      "alex\n",
      "Hello  alex\n"
     ]
    }
   ],
   "source": [
    "print(\"Enter your name:\")\n",
    "x = input()\n",
    "print(\"Hello \", x)"
   ]
  },
  {
   "cell_type": "code",
   "execution_count": 1,
   "metadata": {},
   "outputs": [
    {
     "name": "stdout",
     "output_type": "stream",
     "text": [
      "15\n"
     ]
    }
   ],
   "source": [
    "x = lambda a : a + 10\n",
    "\n",
    "print(x(5))"
   ]
  },
  {
   "cell_type": "code",
   "execution_count": 3,
   "metadata": {},
   "outputs": [
    {
     "name": "stdout",
     "output_type": "stream",
     "text": [
      "Wall time: 0 ns\n",
      "50340\n"
     ]
    }
   ],
   "source": [
    "%time\n",
    "x = lambda a: a * 10068\n",
    "print(x(5))"
   ]
  },
  {
   "cell_type": "code",
   "execution_count": 9,
   "metadata": {},
   "outputs": [
    {
     "name": "stdout",
     "output_type": "stream",
     "text": [
      "Wall time: 0 ns\n",
      "308\n"
     ]
    }
   ],
   "source": [
    "%time\n",
    "x =lambda a , b : a*b*4 + 300\n",
    "print(x(1,2))"
   ]
  },
  {
   "cell_type": "code",
   "execution_count": 10,
   "metadata": {},
   "outputs": [
    {
     "name": "stdout",
     "output_type": "stream",
     "text": [
      "Wall time: 0 ns\n",
      "1462.0\n"
     ]
    }
   ],
   "source": [
    "%time\n",
    "x = lambda a,b,c : a+b*c+100/5\n",
    "print(x(36,37,38))"
   ]
  },
  {
   "cell_type": "code",
   "execution_count": 14,
   "metadata": {},
   "outputs": [
    {
     "name": "stdout",
     "output_type": "stream",
     "text": [
      "22\n"
     ]
    }
   ],
   "source": [
    "def myfunc(n):\n",
    "    return lambda a:a*n\n",
    "\n",
    "mydoubler = myfunc(2)\n",
    "print(mydoubler(11))"
   ]
  },
  {
   "cell_type": "code",
   "execution_count": 18,
   "metadata": {},
   "outputs": [
    {
     "name": "stdout",
     "output_type": "stream",
     "text": [
      "22\n",
      "33\n",
      "2988021\n"
     ]
    }
   ],
   "source": [
    "def mufunc(n):\n",
    "    return lambda a : a * n\n",
    "\n",
    "mydoubler = myfunc(2)\n",
    "mytribler = mufunc(3)\n",
    "\n",
    "print(mydoubler(11))\n",
    "print(mytribler(11))\n",
    "print(mytribler(996007))"
   ]
  },
  {
   "cell_type": "code",
   "execution_count": 17,
   "metadata": {},
   "outputs": [
    {
     "name": "stdout",
     "output_type": "stream",
     "text": [
      "33\n"
     ]
    }
   ],
   "source": [
    "x = lambda a , b : a * b\n",
    "print(x(3,11))"
   ]
  },
  {
   "cell_type": "code",
   "execution_count": 20,
   "metadata": {},
   "outputs": [
    {
     "name": "stdout",
     "output_type": "stream",
     "text": [
      "<zip object at 0x000002B384DD7BC0>\n",
      "[(1, 7), (2, 8), (3, 9), (4, 10)]\n"
     ]
    }
   ],
   "source": [
    "a = [1,2,3,4]\n",
    "b = [7,8,9,10]\n",
    "\n",
    "print(zip(a,b))\n",
    "print(list(zip(a,b)))"
   ]
  },
  {
   "cell_type": "code",
   "execution_count": 43,
   "metadata": {},
   "outputs": [
    {
     "name": "stdout",
     "output_type": "stream",
     "text": [
      "['Porsche', 'BMW', 'Audi']\n",
      "['Porsche', 'BMW']\n",
      "[]\n",
      "['Audi', 'BWM']\n",
      "['BWM', 'Audi']\n"
     ]
    },
    {
     "data": {
      "text/plain": [
       "1"
      ]
     },
     "execution_count": 43,
     "metadata": {},
     "output_type": "execute_result"
    }
   ],
   "source": [
    "cars = [\"Porsche\", \"Volvo\", \"BMW\"]\n",
    "\n",
    "x = len(cars)\n",
    "number1 = cars[0]\n",
    "number2 = cars[1]\n",
    "number3 = cars[2]\n",
    "\n",
    "cars.append(\"Audi\")\n",
    "\n",
    "y = cars\n",
    "\n",
    "cars.pop(1)\n",
    "print(cars)\n",
    "\n",
    "cars.remove(\"Audi\")\n",
    "print(cars)\n",
    "\n",
    "cars.clear()\n",
    "print(cars)\n",
    "\n",
    "cars.insert(1,\"Audi\")\n",
    "cars.append(\"BWM\")\n",
    "print(cars)\n",
    "\n",
    "cars.reverse()\n",
    "print(cars)\n",
    "\n",
    "cars.count(\"Audi\")"
   ]
  },
  {
   "cell_type": "code",
   "execution_count": 3,
   "metadata": {},
   "outputs": [
    {
     "name": "stdout",
     "output_type": "stream",
     "text": [
      "Bill\n",
      "63\n"
     ]
    }
   ],
   "source": [
    "class Myclass:\n",
    "    x = 5\n",
    "\n",
    "class Person:\n",
    "    def __init__(self, name, age):\n",
    "        self.name = name\n",
    "        self.age = age\n",
    "\n",
    "p1 = Person(\"Bill\", 63)\n",
    "\n",
    "print(p1.name)\n",
    "print(p1.age)"
   ]
  },
  {
   "cell_type": "code",
   "execution_count": 26,
   "metadata": {},
   "outputs": [
    {
     "name": "stdout",
     "output_type": "stream",
     "text": [
      "Bill Gates\n"
     ]
    }
   ],
   "source": [
    "class Person:\n",
    "    def __init__(self,fname,lname):\n",
    "        self.firstname = fname\n",
    "        self.lastname = lname\n",
    "        \n",
    "    def printname(self):\n",
    "        print(self.firstname,self.lastname)\n",
    "        \n",
    "x = Person(\"Bill\", \"Gates\")\n",
    "x.printname()\n",
    "\n"
   ]
  },
  {
   "cell_type": "code",
   "execution_count": 33,
   "metadata": {},
   "outputs": [],
   "source": [
    "class Student(Person):\n",
    "    def __init__ (self,fname,lname):\n",
    "        Person.__init__(self,fname,lname)"
   ]
  },
  {
   "cell_type": "code",
   "execution_count": 42,
   "metadata": {},
   "outputs": [
    {
     "name": "stdout",
     "output_type": "stream",
     "text": [
      "apple\n",
      "banana\n",
      "cherry\n"
     ]
    }
   ],
   "source": [
    "mytuple = (\"apple\",\"banana\",\"cherry\")\n",
    "myit = iter(mytuple)\n",
    "\n",
    "print(next(myit))\n",
    "print(next(myit))\n",
    "print(next(myit))"
   ]
  },
  {
   "cell_type": "code",
   "execution_count": 43,
   "metadata": {},
   "outputs": [
    {
     "name": "stdout",
     "output_type": "stream",
     "text": [
      "b\n",
      "a\n",
      "n\n",
      "a\n",
      "n\n",
      "a\n"
     ]
    }
   ],
   "source": [
    "mystr = \"banana\"\n",
    "myit = iter(mystr)\n",
    "\n",
    "print(next(myit))\n",
    "print(next(myit))\n",
    "print(next(myit))\n",
    "print(next(myit))\n",
    "print(next(myit))\n",
    "print(next(myit))"
   ]
  },
  {
   "cell_type": "code",
   "execution_count": 44,
   "metadata": {},
   "outputs": [
    {
     "name": "stdout",
     "output_type": "stream",
     "text": [
      "apple\n",
      "banana\n",
      "cherry\n"
     ]
    }
   ],
   "source": [
    "mytuple = (\"apple\",\"banana\",\"cherry\")\n",
    "\n",
    "for i in mytuple:\n",
    "    print(i)"
   ]
  },
  {
   "cell_type": "code",
   "execution_count": 45,
   "metadata": {},
   "outputs": [
    {
     "name": "stdout",
     "output_type": "stream",
     "text": [
      "b\n",
      "a\n",
      "n\n",
      "a\n",
      "n\n",
      "a\n"
     ]
    }
   ],
   "source": [
    "mystr = \"banana\"\n",
    "\n",
    "for i in mystr:\n",
    "    print(i)"
   ]
  },
  {
   "cell_type": "code",
   "execution_count": 47,
   "metadata": {},
   "outputs": [
    {
     "name": "stdout",
     "output_type": "stream",
     "text": [
      "1\n",
      "2\n",
      "3\n",
      "4\n",
      "5\n"
     ]
    }
   ],
   "source": [
    "class MyNumbers:\n",
    "    def __iter__(self):\n",
    "        self.a = 1\n",
    "        return self\n",
    "    def __next__(self):\n",
    "        x = self.a\n",
    "        self.a +=1\n",
    "        return x\n",
    "    \n",
    "myclass = MyNumbers()\n",
    "myiter = iter(myclass)\n",
    "\n",
    "print(next(myiter))\n",
    "print(next(myiter))\n",
    "print(next(myiter))\n",
    "print(next(myiter))\n",
    "print(next(myiter))\n"
   ]
  },
  {
   "cell_type": "code",
   "execution_count": 52,
   "metadata": {},
   "outputs": [],
   "source": [
    "class MyNumbers:\n",
    "    def __iter__(self):\n",
    "        self.a = 31\n",
    "        return self\n",
    "    \n",
    "    def __next__(self):\n",
    "        if self.a <= 30:\n",
    "            x = self.a\n",
    "            self.a +=1\n",
    "            return x\n",
    "        else:\n",
    "            raise StopIteration\n",
    "            \n",
    "myclass = MyNumbers()\n",
    "myiter = iter(myclass)\n",
    "\n",
    "for x in myiter:\n",
    "    print(x)"
   ]
  },
  {
   "cell_type": "code",
   "execution_count": 59,
   "metadata": {},
   "outputs": [
    {
     "name": "stdout",
     "output_type": "stream",
     "text": [
      "100\n"
     ]
    }
   ],
   "source": [
    "def myfunc():\n",
    "    x = 100\n",
    "    print(x)\n",
    "    \n",
    "myfunc()"
   ]
  },
  {
   "cell_type": "code",
   "execution_count": 60,
   "metadata": {},
   "outputs": [
    {
     "name": "stdout",
     "output_type": "stream",
     "text": [
      "100\n"
     ]
    }
   ],
   "source": [
    "def myfunc():\n",
    "    x = 100\n",
    "    def myinnerfunc():\n",
    "        print(x)\n",
    "    myinnerfunc()\n",
    "    \n",
    "myfunc()"
   ]
  },
  {
   "cell_type": "code",
   "execution_count": 1,
   "metadata": {},
   "outputs": [
    {
     "ename": "NameError",
     "evalue": "name 'x' is not defined",
     "output_type": "error",
     "traceback": [
      "\u001b[1;31m---------------------------------------------------------------------------\u001b[0m",
      "\u001b[1;31mNameError\u001b[0m                                 Traceback (most recent call last)",
      "\u001b[1;32m<ipython-input-1-547213c8dbc9>\u001b[0m in \u001b[0;36m<module>\u001b[1;34m\u001b[0m\n\u001b[0;32m      4\u001b[0m     \u001b[0mprint\u001b[0m\u001b[1;33m(\u001b[0m\u001b[0mx\u001b[0m\u001b[1;33m)\u001b[0m\u001b[1;33m\u001b[0m\u001b[1;33m\u001b[0m\u001b[0m\n\u001b[0;32m      5\u001b[0m \u001b[1;33m\u001b[0m\u001b[0m\n\u001b[1;32m----> 6\u001b[1;33m \u001b[0mmyfunc\u001b[0m\u001b[1;33m(\u001b[0m\u001b[1;33m)\u001b[0m\u001b[1;33m\u001b[0m\u001b[1;33m\u001b[0m\u001b[0m\n\u001b[0m\u001b[0;32m      7\u001b[0m \u001b[1;33m\u001b[0m\u001b[0m\n\u001b[0;32m      8\u001b[0m \u001b[0mprint\u001b[0m\u001b[1;33m(\u001b[0m\u001b[0mx\u001b[0m\u001b[1;33m)\u001b[0m\u001b[1;33m\u001b[0m\u001b[1;33m\u001b[0m\u001b[0m\n",
      "\u001b[1;32m<ipython-input-1-547213c8dbc9>\u001b[0m in \u001b[0;36mmyfunc\u001b[1;34m()\u001b[0m\n\u001b[0;32m      2\u001b[0m \u001b[1;33m\u001b[0m\u001b[0m\n\u001b[0;32m      3\u001b[0m \u001b[1;32mdef\u001b[0m \u001b[0mmyfunc\u001b[0m\u001b[1;33m(\u001b[0m\u001b[1;33m)\u001b[0m\u001b[1;33m:\u001b[0m\u001b[1;33m\u001b[0m\u001b[1;33m\u001b[0m\u001b[0m\n\u001b[1;32m----> 4\u001b[1;33m     \u001b[0mprint\u001b[0m\u001b[1;33m(\u001b[0m\u001b[0mx\u001b[0m\u001b[1;33m)\u001b[0m\u001b[1;33m\u001b[0m\u001b[1;33m\u001b[0m\u001b[0m\n\u001b[0m\u001b[0;32m      5\u001b[0m \u001b[1;33m\u001b[0m\u001b[0m\n\u001b[0;32m      6\u001b[0m \u001b[0mmyfunc\u001b[0m\u001b[1;33m(\u001b[0m\u001b[1;33m)\u001b[0m\u001b[1;33m\u001b[0m\u001b[1;33m\u001b[0m\u001b[0m\n",
      "\u001b[1;31mNameError\u001b[0m: name 'x' is not defined"
     ]
    }
   ],
   "source": [
    "input = \"x =\"\n",
    "\n",
    "def myfunc():\n",
    "    print(x)\n",
    "    \n",
    "myfunc()\n",
    "\n",
    "print(x)"
   ]
  },
  {
   "cell_type": "code",
   "execution_count": null,
   "metadata": {},
   "outputs": [],
   "source": []
  },
  {
   "cell_type": "code",
   "execution_count": null,
   "metadata": {},
   "outputs": [],
   "source": []
  },
  {
   "cell_type": "code",
   "execution_count": null,
   "metadata": {},
   "outputs": [],
   "source": []
  },
  {
   "cell_type": "code",
   "execution_count": null,
   "metadata": {},
   "outputs": [],
   "source": []
  },
  {
   "cell_type": "code",
   "execution_count": null,
   "metadata": {},
   "outputs": [],
   "source": []
  }
 ],
 "metadata": {
  "kernelspec": {
   "display_name": "Python 3",
   "language": "python",
   "name": "python3"
  },
  "language_info": {
   "codemirror_mode": {
    "name": "ipython",
    "version": 3
   },
   "file_extension": ".py",
   "mimetype": "text/x-python",
   "name": "python",
   "nbconvert_exporter": "python",
   "pygments_lexer": "ipython3",
   "version": "3.8.5"
  },
  "toc": {
   "base_numbering": 1,
   "nav_menu": {},
   "number_sections": true,
   "sideBar": true,
   "skip_h1_title": false,
   "title_cell": "Table of Contents",
   "title_sidebar": "Contents",
   "toc_cell": false,
   "toc_position": {},
   "toc_section_display": true,
   "toc_window_display": false
  }
 },
 "nbformat": 4,
 "nbformat_minor": 4
}
