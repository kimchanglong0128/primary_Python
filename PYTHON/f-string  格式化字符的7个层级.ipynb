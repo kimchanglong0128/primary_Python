{
 "cells": [
  {
   "cell_type": "markdown",
   "metadata": {},
   "source": [
    "### 轻松从变量显示值"
   ]
  },
  {
   "cell_type": "markdown",
   "metadata": {},
   "source": [
    "使用f字符串只需要做两件事情\n",
    "+ 在字符串前添加以个小写的f \n",
    "+ 使用f 字符串中以{variable_name}插值变量"
   ]
  },
  {
   "cell_type": "code",
   "execution_count": 3,
   "metadata": {},
   "outputs": [
    {
     "name": "stdout",
     "output_type": "stream",
     "text": [
      "JIN is a full stack hacker\n"
     ]
    }
   ],
   "source": [
    "name = 'JIN'\n",
    "title = 'full stack hacker'\n",
    "\n",
    "print(f'{name} is a {title}')"
   ]
  },
  {
   "cell_type": "markdown",
   "metadata": {},
   "source": [
    "### 数字格式化"
   ]
  },
  {
   "cell_type": "code",
   "execution_count": 5,
   "metadata": {},
   "outputs": [
    {
     "name": "stdout",
     "output_type": "stream",
     "text": [
      "pi is approximately equal to 3.14\n"
     ]
    }
   ],
   "source": [
    "pi = 3.1415926\n",
    "\n",
    "print(f'pi is approximately equal to {pi:.2f}')"
   ]
  },
  {
   "cell_type": "code",
   "execution_count": 9,
   "metadata": {},
   "outputs": [
    {
     "name": "stdout",
     "output_type": "stream",
     "text": [
      "The id is 001\n"
     ]
    }
   ],
   "source": [
    "id = 1 \n",
    "print(f'The id is {id:03d}')"
   ]
  },
  {
   "cell_type": "code",
   "execution_count": 11,
   "metadata": {},
   "outputs": [
    {
     "name": "stdout",
     "output_type": "stream",
     "text": [
      "His networth is $10,000,000,000\n"
     ]
    }
   ],
   "source": [
    "N = 10000000000\n",
    "\n",
    "print(f'His networth is ${N:,d}')"
   ]
  },
  {
   "cell_type": "markdown",
   "metadata": {},
   "source": [
    "### 正确打印特殊字符"
   ]
  },
  {
   "cell_type": "markdown",
   "metadata": {},
   "source": [
    "#### 打印引号"
   ]
  },
  {
   "cell_type": "code",
   "execution_count": 12,
   "metadata": {},
   "outputs": [
    {
     "name": "stdout",
     "output_type": "stream",
     "text": [
      "'Yang'is a full stack hacker\n"
     ]
    }
   ],
   "source": [
    "name = 'JIN'                                   ### 本质上在引号' 前边加 \\ , 不可在花括号内使用\n",
    "\n",
    "print(f'\\'{name}\\'is a full stack hacker')"
   ]
  },
  {
   "cell_type": "markdown",
   "metadata": {},
   "source": [
    "#### 打印花括号"
   ]
  },
  {
   "cell_type": "code",
   "execution_count": 18,
   "metadata": {},
   "outputs": [
    {
     "name": "stdout",
     "output_type": "stream",
     "text": [
      "yang is a full stack hacker.\n",
      "{name} is a full stack hacker.\n",
      "{yang} is a full stack hacker.\n",
      "{{name}} is a full stack hacker.\n",
      "{{yang}} is a full stack hacker.\n"
     ]
    }
   ],
   "source": [
    "name = 'JIN'\n",
    "\n",
    "print(f'{name} is a full stack hacker.')\n",
    "print(f'{{name}} is a full stack hacker.')\n",
    "print(f'{{{name}}} is a full stack hacker.')\n",
    "print(f'{{{{name}}}} is a full stack hacker.')\n",
    "print(f'{{{{{name}}}}} is a full stack hacker.')"
   ]
  },
  {
   "cell_type": "markdown",
   "metadata": {},
   "source": [
    "#### 打印反斜线 \\"
   ]
  },
  {
   "cell_type": "code",
   "execution_count": 20,
   "metadata": {},
   "outputs": [
    {
     "name": "stdout",
     "output_type": "stream",
     "text": [
      "\\JIN\\ is a full stack hacker.\n"
     ]
    }
   ],
   "source": [
    "name = 'JIN'\n",
    "\n",
    "print(f'\\\\{name}\\\\ is a full stack hacker.')"
   ]
  },
  {
   "cell_type": "markdown",
   "metadata": {},
   "source": [
    "### 小心打印字典值"
   ]
  },
  {
   "cell_type": "code",
   "execution_count": 26,
   "metadata": {},
   "outputs": [
    {
     "name": "stdout",
     "output_type": "stream",
     "text": [
      "JIN is a hacker.\n",
      "JIN is a hacker.\n"
     ]
    }
   ],
   "source": [
    "Hacker = {'name':'JIN'}\n",
    "\n",
    "print(f\"{Hacker['name']} is a hacker.\")\n",
    "print(f'{Hacker[\"name\"]} is a hacker.')\n",
    "\n",
    "### print(f\"{Hacker[\"name\"]} is a hacker.\")     ### 单引号和双引号要错开\n",
    "### print(f'{Hacker['name']} is a hacker.')"
   ]
  },
  {
   "cell_type": "markdown",
   "metadata": {},
   "source": [
    "### 正确处理多行 F 字符串"
   ]
  },
  {
   "cell_type": "code",
   "execution_count": 30,
   "metadata": {},
   "outputs": [
    {
     "name": "stdout",
     "output_type": "stream",
     "text": [
      "JIN is a hacker.JIN is a writer.JIN is a human.\n"
     ]
    }
   ],
   "source": [
    "name = 'JIN'\n",
    "\n",
    "print(f'{name} is a hacker.'\n",
    "     f'{name} is a writer.'\n",
    "     f'{name} is a human.')"
   ]
  },
  {
   "cell_type": "markdown",
   "metadata": {},
   "source": [
    "### 日期和时间"
   ]
  },
  {
   "cell_type": "code",
   "execution_count": 38,
   "metadata": {},
   "outputs": [
    {
     "name": "stdout",
     "output_type": "stream",
     "text": [
      "Today is 2021-09-02 12:19:27.112069\n",
      "Today is September 02 , 2021\n",
      "Today is 09-02-2021\n"
     ]
    }
   ],
   "source": [
    "from datetime import datetime\n",
    "\n",
    "today = datetime.today()\n",
    "print(f'Today is {today}')\n",
    "print(f'Today is {today:%B %d , %Y}')\n",
    "print(f'Today is {today:%m-%d-%Y}')"
   ]
  },
  {
   "cell_type": "markdown",
   "metadata": {},
   "source": [
    "### 动态表达式"
   ]
  },
  {
   "cell_type": "code",
   "execution_count": 39,
   "metadata": {},
   "outputs": [
    {
     "name": "stdout",
     "output_type": "stream",
     "text": [
      "Today is 2021-09-02 12:20:58.017852\n"
     ]
    }
   ],
   "source": [
    "from datetime import datetime\n",
    "\n",
    "print(f\"Today is {datetime.today()}\")"
   ]
  }
 ],
 "metadata": {
  "kernelspec": {
   "display_name": "Python 3",
   "language": "python",
   "name": "python3"
  },
  "language_info": {
   "codemirror_mode": {
    "name": "ipython",
    "version": 3
   },
   "file_extension": ".py",
   "mimetype": "text/x-python",
   "name": "python",
   "nbconvert_exporter": "python",
   "pygments_lexer": "ipython3",
   "version": "3.8.5"
  },
  "toc": {
   "base_numbering": 1,
   "nav_menu": {},
   "number_sections": true,
   "sideBar": true,
   "skip_h1_title": false,
   "title_cell": "Table of Contents",
   "title_sidebar": "Contents",
   "toc_cell": false,
   "toc_position": {},
   "toc_section_display": true,
   "toc_window_display": false
  }
 },
 "nbformat": 4,
 "nbformat_minor": 4
}
