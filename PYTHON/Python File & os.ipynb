{
 "cells": [
  {
   "cell_type": "markdown",
   "metadata": {},
   "source": [
    "### Python 文件对象属性"
   ]
  },
  {
   "cell_type": "code",
   "execution_count": 1,
   "metadata": {},
   "outputs": [
    {
     "name": "stdout",
     "output_type": "stream",
     "text": [
      "Name of the file:  json.txt\n",
      "Closed or not :  False\n",
      "Opening mode :  wb\n"
     ]
    }
   ],
   "source": [
    "fo = open(\"json.txt\", \"wb\")\n",
    "print(\"Name of the file: \", fo.name)\n",
    "print(\"Closed or not : \", fo.closed)\n",
    "print(\"Opening mode : \", fo.mode)\n",
    "### print(\"Softspace flag : \", fo.softspace)    3.x  版本已经移除"
   ]
  },
  {
   "cell_type": "markdown",
   "metadata": {},
   "source": [
    "### Python File Close"
   ]
  },
  {
   "cell_type": "code",
   "execution_count": 2,
   "metadata": {},
   "outputs": [
    {
     "name": "stdout",
     "output_type": "stream",
     "text": [
      "Name of the file:  json.txt\n"
     ]
    }
   ],
   "source": [
    "# Open a file\n",
    "fo = open(\"json.txt\", \"wb\")\n",
    "print(\"Name of the file: \", fo.name)\n",
    "\n",
    "# Close opened file\n",
    "fo.close()"
   ]
  },
  {
   "cell_type": "markdown",
   "metadata": {},
   "source": [
    "### Python File flush()"
   ]
  },
  {
   "cell_type": "raw",
   "metadata": {},
   "source": [
    "flush()方法是用来刷新缓冲区的,即将缓冲区中的数据立刻写入文件,同时清空缓冲区,不需要是被动的等待输出缓冲区写入\n",
    "一般情况下,文件关闭后会自动刷新缓冲区,但有时你需要在关闭前刷新它,这时就可以使用 flush() 方法"
   ]
  },
  {
   "cell_type": "markdown",
   "metadata": {},
   "source": [
    "fileObject.flush()"
   ]
  },
  {
   "cell_type": "code",
   "execution_count": 3,
   "metadata": {},
   "outputs": [
    {
     "name": "stdout",
     "output_type": "stream",
     "text": [
      "Name of the file:  json.txt\n"
     ]
    }
   ],
   "source": [
    "# Open a file\n",
    "fo = open(\"json.txt\", \"wb\")\n",
    "print (\"Name of the file: \", fo.name)\n",
    "\n",
    "# Here it does nothing, but you can call it with read operation. \n",
    "# 刷新缓冲区\n",
    "fo.flush()\n",
    "\n",
    "# Close opened file\n",
    "fo.close()"
   ]
  },
  {
   "cell_type": "markdown",
   "metadata": {},
   "source": [
    "### Python File fileno()"
   ]
  },
  {
   "cell_type": "raw",
   "metadata": {},
   "source": [
    "fileno()方法返回一个整型的文件描述符(file descriptor FD整型),可用于底层操作系统的 I/O 操作"
   ]
  },
  {
   "cell_type": "markdown",
   "metadata": {},
   "source": [
    "fileObject.fileno()"
   ]
  },
  {
   "cell_type": "code",
   "execution_count": 4,
   "metadata": {},
   "outputs": [
    {
     "name": "stdout",
     "output_type": "stream",
     "text": [
      "Name of the file:  json.txt\n",
      "File Descriptor:  4\n"
     ]
    }
   ],
   "source": [
    "# Open a file\n",
    "fo = open(\"json.txt\", \"wb\")\n",
    "print(\"Name of the file: \", fo.name)\n",
    "\n",
    "fid = fo.fileno()\n",
    "print(\"File Descriptor: \", fid)\n",
    "\n",
    "# Close opened file\n",
    "fo.close()"
   ]
  },
  {
   "cell_type": "markdown",
   "metadata": {},
   "source": [
    "### Python file isatty() "
   ]
  },
  {
   "cell_type": "markdown",
   "metadata": {},
   "source": [
    "isatty() 方法检测文件是否连接到一个终端设备，如果是返回 True，否则返回 False"
   ]
  },
  {
   "cell_type": "markdown",
   "metadata": {},
   "source": [
    "fileObject.isatty()"
   ]
  },
  {
   "cell_type": "code",
   "execution_count": 5,
   "metadata": {},
   "outputs": [
    {
     "name": "stdout",
     "output_type": "stream",
     "text": [
      "Name of the file:  json.txt\n",
      "Return value :  False\n"
     ]
    }
   ],
   "source": [
    "# Open a file\n",
    "fo = open(\"json.txt\", \"wb\")\n",
    "print(\"Name of the file: \", fo.name)\n",
    "\n",
    "ret = fo.isatty()\n",
    "print(\"Return value : \", ret)\n",
    "\n",
    "# Close opened file\n",
    "fo.close()"
   ]
  },
  {
   "cell_type": "markdown",
   "metadata": {},
   "source": [
    "### Python os.access()"
   ]
  },
  {
   "cell_type": "raw",
   "metadata": {},
   "source": [
    "os.access() 方法使用当前的uid/gid尝试访问路径\n",
    "大部分操作使用有效的 uid/gid, 因此运行环境可以在 suid/sgid 环境尝试"
   ]
  },
  {
   "cell_type": "markdown",
   "metadata": {},
   "source": [
    "+ os.access(path, mode)\n",
    "  + path -- 要用来检测是否有访问权限的路径\n",
    "\n",
    "  + mode -- mode为F_OK，测试存在的路径，或者它可以是包含R_OK, W_OK和X_OK或者R_OK, W_OK和X_OK其中之一或者更多\n",
    "\n",
    "  + os.F_OK: 作为access()的mode参数，测试path是否存在\n",
    "  + os.R_OK: 包含在access()的mode参数中 ， 测试path是否可读\n",
    "  + os.W_OK 包含在access()的mode参数中 ， 测试path是否可写\n",
    "  + os.X_OK 包含在access()的mode参数中 ，测试path是否可执行"
   ]
  },
  {
   "cell_type": "code",
   "execution_count": 6,
   "metadata": {},
   "outputs": [
    {
     "name": "stdout",
     "output_type": "stream",
     "text": [
      "F_OK - return value True\n",
      "R_OK - return value True\n",
      "W_OK - return value True\n",
      "X_OK - return value True\n"
     ]
    }
   ],
   "source": [
    "import os, sys\n",
    "\n",
    "# Assuming /tmp/foo.txt exists and has read/write permissions.\n",
    "\n",
    "ret = os.access(\"json.txt\", os.F_OK)\n",
    "print(\"F_OK - return value %s\"%ret)\n",
    "\n",
    "ret = os.access(\"json.txt\", os.R_OK)\n",
    "print(\"R_OK - return value %s\"%ret)\n",
    "\n",
    "ret = os.access(\"json.txt\", os.W_OK)\n",
    "print(\"W_OK - return value %s\"%ret)\n",
    "\n",
    "ret = os.access(\"json.txt\", os.X_OK)\n",
    "print(\"X_OK - return value %s\"%ret)"
   ]
  },
  {
   "cell_type": "markdown",
   "metadata": {},
   "source": [
    "### Python os.chdir() "
   ]
  },
  {
   "cell_type": "raw",
   "metadata": {},
   "source": [
    "os.chdir()方法用于改变当前工作目录到指定的路径"
   ]
  },
  {
   "cell_type": "markdown",
   "metadata": {},
   "source": [
    "os.chdir(path)"
   ]
  },
  {
   "cell_type": "code",
   "execution_count": 10,
   "metadata": {},
   "outputs": [
    {
     "name": "stdout",
     "output_type": "stream",
     "text": [
      "Current working directory C:\\Users\\jinchanglong\n",
      "Directory changed successfully C:\\Users\\jinchanglong\\Desktop\n"
     ]
    }
   ],
   "source": [
    "import os\n",
    "\n",
    "\n",
    "# Check current working directory.\n",
    "retval = os.getcwd()\n",
    "print(\"Current working directory %s\" %retval)\n",
    "\n",
    "# Now change the directory\n",
    "os.chdir(r\"C:\\Users\\jinchanglong\\Desktop\")\n",
    "\n",
    "# Check current working directory.\n",
    "retval = os.getcwd()\n",
    "print(\"Directory changed successfully %s\" %retval)"
   ]
  },
  {
   "cell_type": "markdown",
   "metadata": {},
   "source": [
    "### Python os.close()"
   ]
  },
  {
   "cell_type": "code",
   "execution_count": 12,
   "metadata": {},
   "outputs": [
    {
     "name": "stdout",
     "output_type": "stream",
     "text": [
      "Closed the file successfully!!\n"
     ]
    }
   ],
   "source": [
    "import os, sys\n",
    "\n",
    "# Open a file\n",
    "fd = os.open( \"json.txt\", os.O_RDWR|os.O_CREAT )\n",
    "\n",
    "\n",
    "str = \"This is test\"\n",
    "str = str.encode()  \n",
    "# Write one string\n",
    "os.write(fd, str)      # os.write(fd, str,'UTF-8')\n",
    " \n",
    "# Close opened file\n",
    "os.close( fd )\n",
    "\n",
    "print(\"Closed the file successfully!!\")"
   ]
  },
  {
   "cell_type": "markdown",
   "metadata": {},
   "source": [
    "### Python os.closerange()"
   ]
  },
  {
   "cell_type": "raw",
   "metadata": {},
   "source": [
    "os.closerange()方法用于关闭所有文件描述符fd，从fd_low(包含)到fd_high(不包含),错误会忽略"
   ]
  },
  {
   "cell_type": "markdown",
   "metadata": {},
   "source": [
    "os.closerange(fd_low, fd_high)"
   ]
  },
  {
   "cell_type": "code",
   "execution_count": 19,
   "metadata": {},
   "outputs": [
    {
     "name": "stdout",
     "output_type": "stream",
     "text": [
      "Closed all the files successfully!!\n"
     ]
    }
   ],
   "source": [
    "import os, sys\n",
    "\n",
    "# Open a file\n",
    "fd = os.open( \"json.txt\", os.O_RDWR|os.O_CREAT )\n",
    "\n",
    "str = \"This is test\"\n",
    "str = str.encode()\n",
    "# Write one string\n",
    "os.write(fd, str)\n",
    "\n",
    "# Close a single opened file\n",
    "os.closerange(fd, fd)\n",
    "\n",
    "print (\"Closed all the files successfully!!\")"
   ]
  },
  {
   "cell_type": "markdown",
   "metadata": {},
   "source": [
    "### Python os.dup()"
   ]
  },
  {
   "cell_type": "raw",
   "metadata": {
    "run_control": {
     "marked": true
    }
   },
   "source": [
    "os.dup()方法用于复制文件描述符fd"
   ]
  },
  {
   "cell_type": "code",
   "execution_count": null,
   "metadata": {},
   "outputs": [],
   "source": [
    "os.dup(fd)"
   ]
  },
  {
   "cell_type": "code",
   "execution_count": 21,
   "metadata": {},
   "outputs": [
    {
     "name": "stdout",
     "output_type": "stream",
     "text": [
      "Closed all the files successfully!!\n"
     ]
    }
   ],
   "source": [
    "import os, sys\n",
    "\n",
    "# Open a file\n",
    "fd = os.open( \"json.txt\", os.O_RDWR|os.O_CREAT )\n",
    "\n",
    "# Get one duplicate file descriptor\n",
    "d_fd = os.dup(fd)\n",
    "\n",
    "str = \"This is test\"\n",
    "str = str.encode()\n",
    "# Write one string using duplicate fd\n",
    "os.write(d_fd, str)\n",
    "\n",
    "# Close a single opened file\n",
    "os.closerange(fd, d_fd)\n",
    "\n",
    "print (\"Closed all the files successfully!!\")"
   ]
  },
  {
   "cell_type": "markdown",
   "metadata": {},
   "source": [
    "### Python os.fdopen()"
   ]
  },
  {
   "cell_type": "raw",
   "metadata": {},
   "source": [
    "os.fdopen()方法用于通过文件描述符fd 创建一个文件对象,并返回这个文件对象\n",
    "Unix, Windows上可用"
   ]
  },
  {
   "cell_type": "markdown",
   "metadata": {},
   "source": [
    "os.fdopen(fd, [, mode[, bufsize]])"
   ]
  },
  {
   "cell_type": "code",
   "execution_count": 32,
   "metadata": {},
   "outputs": [
    {
     "name": "stdout",
     "output_type": "stream",
     "text": [
      "Current I/O pointer position :0\n",
      "Read String is :  b'This is test'\n",
      "Current I/O pointer position :59\n",
      "Closed the file successfully!!\n"
     ]
    }
   ],
   "source": [
    "import os, sys\n",
    "\n",
    "# Open a file\n",
    "fd = os.open( \"json.txt\", os.O_RDWR|os.O_CREAT )\n",
    "\n",
    "# Now get a file object for the above file.\n",
    "fo = os.fdopen(fd, \"w+\")\n",
    "\n",
    "# Tell the current position\n",
    "print(\"Current I/O pointer position :%d\" % fo.tell())\n",
    "# Write one string\n",
    "fo.write( \"Python is a great language.\\nYeah its great!!\\n\");\n",
    "\n",
    "# Now read this file from the beginning.\n",
    "os.lseek(fd, 0, 0)\n",
    "str = os.read(fd, 100)\n",
    "print(\"Read String is : \", str)\n",
    "\n",
    "# Tell the current position\n",
    "print(\"Current I/O pointer position :%d\" % fo.tell())\n",
    "\n",
    "# Close opened file\n",
    "fo.close()\n",
    "\n",
    "print(\"Closed the file successfully!!\")"
   ]
  },
  {
   "cell_type": "markdown",
   "metadata": {},
   "source": [
    "### Python os.fsync()"
   ]
  },
  {
   "cell_type": "raw",
   "metadata": {},
   "source": [
    "os.fsync() 方法强制将文件描述符为fd的文件写入硬盘。在Unix,将调用fsync()函数;在Windows, 调用 _commit()函数\n",
    "如果你准备操作一个Python文件对象f, 首先f.flush(),然后os.fsync(f.fileno()), 确保与f相关的所有内存都写入了硬盘.在unix，Windows中有效\n",
    "Unix、Windows上可用"
   ]
  },
  {
   "cell_type": "markdown",
   "metadata": {},
   "source": [
    "os.fsync(fd)"
   ]
  },
  {
   "cell_type": "code",
   "execution_count": 37,
   "metadata": {},
   "outputs": [
    {
     "name": "stdout",
     "output_type": "stream",
     "text": [
      "Read String is :  b'This is testPython is a great language.\\nYeah its great!!\\n'\n",
      "Closed the file successfully!!\n"
     ]
    }
   ],
   "source": [
    "import os, sys\n",
    "\n",
    "# Open a file\n",
    "fd = os.open( \"json.txt\", os.O_RDWR|os.O_CREAT )\n",
    "\n",
    "# Write one string\n",
    "str = \"This is test\"\n",
    "str = str.encode()\n",
    "\n",
    "os.write(fd, str)\n",
    "\n",
    "# Now you can use fsync() 方法.\n",
    "# Infact here you would not be able to see its effect.\n",
    "os.fsync(fd)\n",
    "\n",
    "# Now read this file from the beginning\n",
    "os.lseek(fd, 0, 0)\n",
    "str = os.read(fd, 100)\n",
    "print (\"Read String is : \", str)\n",
    "\n",
    "# Close opened file\n",
    "os.close( fd )\n",
    "print (\"Closed the file successfully!!\")"
   ]
  },
  {
   "cell_type": "markdown",
   "metadata": {},
   "source": [
    "### Python os.ftruncate()"
   ]
  },
  {
   "cell_type": "raw",
   "metadata": {},
   "source": [
    "os.ftruncate() 裁剪文件描述符fd对应的文件,它最大不能超过文件大小\n",
    "Unix, Windows上可用"
   ]
  },
  {
   "cell_type": "markdown",
   "metadata": {},
   "source": [
    "os.ftruncate(fd, length)"
   ]
  },
  {
   "cell_type": "code",
   "execution_count": 38,
   "metadata": {},
   "outputs": [
    {
     "name": "stdout",
     "output_type": "stream",
     "text": [
      "Read String is :  b'This is te'\n",
      "Closed the file successfully!!\n"
     ]
    }
   ],
   "source": [
    "import os, sys\n",
    "\n",
    "# Open a file\n",
    "fd = os.open( \"json.txt\", os.O_RDWR|os.O_CREAT )\n",
    "\n",
    "str = \"This is test - This is test\"\n",
    "str = str.encode()\n",
    "# Write one string\n",
    "os.write(fd, str)\n",
    "\n",
    "# Now you can use ftruncate() 方法.\n",
    "os.ftruncate(fd, 10)\n",
    "\n",
    "# Now read this file from the beginning.\n",
    "os.lseek(fd, 0, 0)\n",
    "str = os.read(fd, 100)\n",
    "print(\"Read String is : \", str)\n",
    "\n",
    "# Close opened file\n",
    "os.close( fd )\n",
    "print(\"Closed the file successfully!!\")"
   ]
  },
  {
   "cell_type": "markdown",
   "metadata": {},
   "source": [
    "### Python os.getcwd()"
   ]
  },
  {
   "cell_type": "code",
   "execution_count": 40,
   "metadata": {},
   "outputs": [
    {
     "name": "stdout",
     "output_type": "stream",
     "text": [
      "Current working dir : C:\\Users\\jinchanglong\\Desktop\n",
      "Current working dir : C:\\Users\\jinchanglong\\Desktop\\weekly_report\n"
     ]
    }
   ],
   "source": [
    "import os, sys\n",
    "\n",
    "\n",
    "os.chdir(r\"C:\\Users\\jinchanglong\\Desktop\")\n",
    "# Print current working directory\n",
    "print(\"Current working dir : %s\" % os.getcwd())\n",
    "\n",
    "# Now open a directory \"/tmp\"\n",
    "fd = os.open( \"json.txt\", os.O_RDONLY )\n",
    "\n",
    "os.chdir(r\"C:\\Users\\jinchanglong\\Desktop\\weekly_report\")\n",
    "# Print current working directory\n",
    "print(\"Current working dir : %s\" % os.getcwd())\n",
    "\n",
    "# Close opened directory.\n",
    "os.close( fd )"
   ]
  },
  {
   "cell_type": "markdown",
   "metadata": {},
   "source": [
    "### Python os.isatty()"
   ]
  },
  {
   "cell_type": "raw",
   "metadata": {},
   "source": [
    "isatty()方法检测文件是否连接到一个终端设备,如果是返回True，否则返回False"
   ]
  },
  {
   "cell_type": "markdown",
   "metadata": {},
   "source": [
    "fileObject.isatty()"
   ]
  },
  {
   "cell_type": "code",
   "execution_count": 47,
   "metadata": {},
   "outputs": [
    {
     "name": "stdout",
     "output_type": "stream",
     "text": [
      "文件名为:  json.txt\n",
      "返回值 :  False\n"
     ]
    }
   ],
   "source": [
    "# 打开文件\n",
    "fo = open(\"json.txt\", \"wb\")\n",
    "print(\"文件名为: \", fo.name)\n",
    "\n",
    "ret = fo.isatty()\n",
    "print(\"返回值 : \", ret)\n",
    "\n",
    "# 关闭文件\n",
    "fo.close()"
   ]
  },
  {
   "cell_type": "markdown",
   "metadata": {},
   "source": [
    "### Python os.lseek()"
   ]
  },
  {
   "cell_type": "code",
   "execution_count": null,
   "metadata": {},
   "outputs": [],
   "source": [
    "os.lseek() 方法用于设置文件描述符 fd 当前位置为 pos, how 方式修改\n",
    "在Unix，Windows中有效"
   ]
  },
  {
   "cell_type": "markdown",
   "metadata": {},
   "source": [
    "os.lseek(fd, pos, how)"
   ]
  },
  {
   "cell_type": "code",
   "execution_count": 49,
   "metadata": {},
   "outputs": [
    {
     "name": "stdout",
     "output_type": "stream",
     "text": [
      "Read String is :  b'This is test'\n",
      "Closed the file successfully!!\n"
     ]
    }
   ],
   "source": [
    "import os, sys\n",
    "\n",
    "# Open a file\n",
    "fd = os.open( \"json.txt\", os.O_RDWR|os.O_CREAT )\n",
    "\n",
    "# Write one string\n",
    "str =  \"This is test\"\n",
    "str = str.encode()\n",
    "os.write(fd,str)\n",
    "\n",
    "# Now you can use fsync() 方法.\n",
    "# Infact here you would not be able to see its effect.\n",
    "os.fsync(fd)\n",
    "\n",
    "# Now read this file from the beginning\n",
    "os.lseek(fd, 0, 0)\n",
    "str = os.read(fd, 100)\n",
    "print(\"Read String is : \", str)\n",
    "\n",
    "# Close opened file\n",
    "os.close(fd)\n",
    "print(\"Closed the file successfully!!\")"
   ]
  },
  {
   "cell_type": "markdown",
   "metadata": {},
   "source": [
    "### Python os.makedirs() "
   ]
  },
  {
   "cell_type": "raw",
   "metadata": {},
   "source": [
    "os.makedirs()方法用于递归创建目录\n",
    "如果子目录创建失败或者已经存在,会抛出一个 OSError的异常,Windows上Error 183 即为目录已经存在的异常错误\n",
    "如果第一个参数 path只有一级,则 mkdir()函数相同"
   ]
  },
  {
   "cell_type": "markdown",
   "metadata": {},
   "source": [
    "os.makedirs(path, mode=0o777)"
   ]
  },
  {
   "cell_type": "code",
   "execution_count": 51,
   "metadata": {},
   "outputs": [
    {
     "name": "stdout",
     "output_type": "stream",
     "text": [
      "Path is created\n"
     ]
    }
   ],
   "source": [
    "import os, sys\n",
    "\n",
    "# Path to be created\n",
    "path = \"/tmp/home/monthly/daily\"\n",
    "os.makedirs( path, 755 )\n",
    "\n",
    "print (\"Path is created\")"
   ]
  },
  {
   "cell_type": "markdown",
   "metadata": {},
   "source": [
    "### python os.mkdir()"
   ]
  },
  {
   "cell_type": "code",
   "execution_count": null,
   "metadata": {},
   "outputs": [],
   "source": [
    "os.mkdir() 方法用于以数字权限模式创建目录。默认的模式为 0777 (八进制)。\n",
    "如果目录有多级,则创建最后一级,如果最后一级目录的上级目录有不存在的,则会抛出一个 OSError"
   ]
  },
  {
   "cell_type": "markdown",
   "metadata": {},
   "source": [
    "os.mkdir(path[, mode])"
   ]
  },
  {
   "cell_type": "code",
   "execution_count": 56,
   "metadata": {},
   "outputs": [
    {
     "name": "stdout",
     "output_type": "stream",
     "text": [
      "Path is created\n"
     ]
    }
   ],
   "source": [
    "import os, sys\n",
    "\n",
    "# Path to be created\n",
    "\n",
    "os.mkdir(r\"C:\\Users\\jinchanglong\\sec\",755 )\n",
    "\n",
    "print(\"Path is created\")"
   ]
  },
  {
   "cell_type": "markdown",
   "metadata": {},
   "source": [
    "### Python os.open()"
   ]
  },
  {
   "cell_type": "code",
   "execution_count": 58,
   "metadata": {},
   "outputs": [
    {
     "name": "stdout",
     "output_type": "stream",
     "text": [
      "Closed the file successfully!!\n"
     ]
    }
   ],
   "source": [
    "import os, sys\n",
    "\n",
    "# Open a file\n",
    "fd = os.open( \"json.txt\", os.O_RDWR|os.O_CREAT )\n",
    "\n",
    "str =  \"This is test\"\n",
    "str = str.encode()\n",
    "# Write one string\n",
    "os.write(fd,str)\n",
    "\n",
    "# Close opened file\n",
    "os.close(fd)\n",
    "print (\"Closed the file successfully!!\")"
   ]
  },
  {
   "cell_type": "markdown",
   "metadata": {},
   "source": [
    "### Python os.pipe()"
   ]
  },
  {
   "cell_type": "raw",
   "metadata": {},
   "source": [
    "os.pipe() 方法用于创建一个管道, 返回一对文件描述符(r, w) 分别为读和写"
   ]
  },
  {
   "cell_type": "markdown",
   "metadata": {},
   "source": [
    "os.pipe()"
   ]
  },
  {
   "cell_type": "code",
   "execution_count": 71,
   "metadata": {},
   "outputs": [
    {
     "name": "stdout",
     "output_type": "stream",
     "text": [
      "The child will write text to a pipe and \n",
      "the parent will read the text written by child...\n",
      "Parent reading\n",
      "text = \n"
     ]
    }
   ],
   "source": [
    "import os, sys\n",
    "from multiprocessing import Process\n",
    "print(\"The child will write text to a pipe and \")\n",
    "print(\"the parent will read the text written by child...\")\n",
    "\n",
    "# file descriptors r, w for reading and writing\n",
    "r, w = os.pipe()\n",
    "\n",
    "processid = '1'\n",
    "if processid:\n",
    "   # This is the parent process\n",
    "   # Closes file descriptor w\n",
    "    os.close(w)\n",
    "    r = os.fdopen(r)\n",
    "    print(\"Parent reading\")\n",
    "    str = r.read()\n",
    "    print(\"text =\", str )  \n",
    "\n",
    "else:\n",
    "   # This is the child process\n",
    "    os.close(r)\n",
    "    w = os.fdopen(w, 'w')\n",
    "    print(\"Child writing\")\n",
    "    w.write(\"Text written by child...\")\n",
    "    w.close()\n",
    "    print(\"Child closing\")"
   ]
  },
  {
   "cell_type": "markdown",
   "metadata": {},
   "source": [
    "### python os.popen()"
   ]
  },
  {
   "cell_type": "raw",
   "metadata": {},
   "source": [
    "os.popen() 方法用于从一个命令打开一个管道"
   ]
  },
  {
   "cell_type": "markdown",
   "metadata": {},
   "source": [
    "os.popen(command[, mode[, bufsize]])"
   ]
  },
  {
   "cell_type": "code",
   "execution_count": 74,
   "metadata": {},
   "outputs": [
    {
     "name": "stdout",
     "output_type": "stream",
     "text": [
      "<os._wrap_close object at 0x0000016D3A7B1820>\n"
     ]
    }
   ],
   "source": [
    "import os, sys\n",
    "\n",
    "# using command mkdir\n",
    "a = 'mkdir nwdir'\n",
    "b = os.popen(a,'r',1)\n",
    "\n",
    "print (b)"
   ]
  },
  {
   "cell_type": "markdown",
   "metadata": {},
   "source": [
    "### python os.readlink()"
   ]
  },
  {
   "cell_type": "code",
   "execution_count": null,
   "metadata": {},
   "outputs": [],
   "source": [
    "os.readlink()方法用于返回软链接所指向的文件\n",
    "可能返回绝对或相对路径"
   ]
  },
  {
   "cell_type": "markdown",
   "metadata": {},
   "source": [
    "os.readlink(path)"
   ]
  },
  {
   "cell_type": "code",
   "execution_count": 75,
   "metadata": {},
   "outputs": [
    {
     "name": "stdout",
     "output_type": "stream",
     "text": [
      "/usr/bin/python\n"
     ]
    }
   ],
   "source": [
    "import os\n",
    "\n",
    "src = '/usr/bin/python'\n",
    "dst = '/tmp/python'\n",
    "\n",
    "# This creates a symbolic link on python in tmp directory\n",
    "os.symlink(src, dst)\n",
    "\n",
    "# Now let us use readlink to display the source of the link.\n",
    "path = os.readlink(dst)\n",
    "print (path)"
   ]
  },
  {
   "cell_type": "markdown",
   "metadata": {},
   "source": [
    "### Python os.tempnam()"
   ]
  },
  {
   "cell_type": "code",
   "execution_count": 84,
   "metadata": {},
   "outputs": [
    {
     "name": "stdout",
     "output_type": "stream",
     "text": [
      "32.0\n",
      "451\n",
      "-468.40000000000003\n"
     ]
    },
    {
     "name": "stderr",
     "output_type": "stream",
     "text": [
      "<>:2: SyntaxWarning: assertion is always true, perhaps remove parentheses?\n",
      "<>:2: SyntaxWarning: assertion is always true, perhaps remove parentheses?\n",
      "<ipython-input-84-99d25b38b5dd>:2: SyntaxWarning: assertion is always true, perhaps remove parentheses?\n",
      "  assert ((Temperature >= 0),\"Colder than absolute zero!\")\n"
     ]
    }
   ],
   "source": [
    "def KelvinToFahrenheit(Temperature):\n",
    "    assert ((Temperature >= 0),\"Colder than absolute zero!\")\n",
    "    return ((Temperature-273)*1.8)+32\n",
    "print(KelvinToFahrenheit(273))\n",
    "print(int(KelvinToFahrenheit(505.78)))\n",
    "print(KelvinToFahrenheit(-5))"
   ]
  },
  {
   "cell_type": "markdown",
   "metadata": {},
   "source": [
    "### Python CGI 程序"
   ]
  },
  {
   "cell_type": "code",
   "execution_count": 99,
   "metadata": {
    "scrolled": true
   },
   "outputs": [
    {
     "name": "stdout",
     "output_type": "stream",
     "text": [
      "Content-type: text/html\r\n",
      "\r\n",
      "\n",
      "<font size=+1>Environment</font><\br>\n",
      "<b>     ALLUSERSPROFILE</b>: C:\\ProgramData<\br>\n",
      "<b>             APPDATA</b>: C:\\Users\\jinchanglong\\AppData\\Roaming<\br>\n",
      "<b>  COMMONPROGRAMFILES</b>: C:\\Program Files\\Common Files<\br>\n",
      "<b>COMMONPROGRAMFILES(X86)</b>: C:\\Program Files (x86)\\Common Files<\br>\n",
      "<b>  COMMONPROGRAMW6432</b>: C:\\Program Files\\Common Files<\br>\n",
      "<b>        COMPUTERNAME</b>: NB2104LN0008<\br>\n",
      "<b>             COMSPEC</b>: C:\\Windows\\system32\\cmd.exe<\br>\n",
      "<b>   CONDA_DEFAULT_ENV</b>: base<\br>\n",
      "<b>           CONDA_EXE</b>: C:\\ProgramData\\Anaconda3\\Scripts\\conda.exe<\br>\n",
      "<b>CONDA_PROMPT_MODIFIER</b>: (base) <\br>\n",
      "<b>    CONDA_PYTHON_EXE</b>: C:\\ProgramData\\Anaconda3\\python.exe<\br>\n",
      "<b>          CONDA_ROOT</b>: C:\\ProgramData\\Anaconda3<\br>\n",
      "<b>         CONDA_SHLVL</b>: 1<\br>\n",
      "<b>          DRIVERDATA</b>: C:\\Windows\\System32\\Drivers\\DriverData<\br>\n",
      "<b>FPS_BROWSER_APP_PROFILE_STRING</b>: Internet Explorer<\br>\n",
      "<b>FPS_BROWSER_USER_PROFILE_STRING</b>: Default<\br>\n",
      "<b>           HOMEDRIVE</b>: C:<\br>\n",
      "<b>            HOMEPATH</b>: \\Users\\jinchanglong<\br>\n",
      "<b>        LOCALAPPDATA</b>: C:\\Users\\jinchanglong\\AppData\\Local<\br>\n",
      "<b>         LOGONSERVER</b>: \\\\LCHAADPBB1<\br>\n",
      "<b>NUMBER_OF_PROCESSORS</b>: 16<\br>\n",
      "<b>            ONEDRIVE</b>: C:\\Users\\jinchanglong\\OneDrive<\br>\n",
      "<b>                  OS</b>: Windows_NT<\br>\n",
      "<b>                PATH</b>: C:\\ProgramData\\Anaconda3;C:\\ProgramData\\Anaconda3\\Library\\mingw-w64\\bin;C:\\ProgramData\\Anaconda3\\Library\\usr\\bin;C:\\ProgramData\\Anaconda3\\Library\\bin;C:\\ProgramData\\Anaconda3\\Scripts;C:\\ProgramData\\Anaconda3\\bin;C:\\ProgramData\\Anaconda3\\condabin;C:\\ProgramData\\Anaconda3;C:\\ProgramData\\Anaconda3\\Library\\mingw-w64\\bin;C:\\ProgramData\\Anaconda3\\Library\\usr\\bin;C:\\ProgramData\\Anaconda3\\Library\\bin;C:\\ProgramData\\Anaconda3\\Scripts;C:\\Program Files (x86)\\Common Files\\Oracle\\Java\\javapath;C:\\Windows\\system32;C:\\Windows;C:\\Windows\\System32\\Wbem;C:\\Windows\\System32\\WindowsPowerShell\\v1.0;C:\\Windows\\System32\\OpenSSH;C:\\Program Files (x86)\\Microsoft SQL Server\\150\\DTS\\Binn;C:\\Program Files\\Azure Data Studio\\bin;C:\\Program Files\\Python;\"C:\\Windows\\system32;C:\\Windows;C:\\Windows\\System32\\Wbem\";C:\\Program Files\\Python\\Scripts;C:\\Program Files\\Python;C:\\Users\\jinchanglong\\AppData\\Local\\Microsoft\\WindowsApps;C:\\Program Files\\Azure Data Studio\\bin;C:\\Users\\jinchanglong\\AppData\\Local\\Programs\\Microsoft VS Code Insiders\\bin<\br>\n",
      "<b>             PATHEXT</b>: .COM;.EXE;.BAT;.CMD;.VBS;.VBE;.JS;.JSE;.WSF;.WSH;.MSC<\br>\n",
      "<b>PROCESSOR_ARCHITECTURE</b>: AMD64<\br>\n",
      "<b>PROCESSOR_IDENTIFIER</b>: AMD64 Family 23 Model 96 Stepping 1, AuthenticAMD<\br>\n",
      "<b>     PROCESSOR_LEVEL</b>: 23<\br>\n",
      "<b>  PROCESSOR_REVISION</b>: 6001<\br>\n",
      "<b>         PROGRAMDATA</b>: C:\\ProgramData<\br>\n",
      "<b>        PROGRAMFILES</b>: C:\\Program Files<\br>\n",
      "<b>   PROGRAMFILES(X86)</b>: C:\\Program Files (x86)<\br>\n",
      "<b>        PROGRAMW6432</b>: C:\\Program Files<\br>\n",
      "<b>              PROMPT</b>: (base) $P$G<\br>\n",
      "<b>        PSMODULEPATH</b>: C:\\Program Files\\WindowsPowerShell\\Modules;C:\\Windows\\system32\\WindowsPowerShell\\v1.0\\Modules<\br>\n",
      "<b>              PUBLIC</b>: C:\\Users\\Public<\br>\n",
      "<b>         SESSIONNAME</b>: Console<\br>\n",
      "<b>         SYSTEMDRIVE</b>: C:<\br>\n",
      "<b>          SYSTEMROOT</b>: C:\\Windows<\br>\n",
      "<b>                TEMP</b>: C:\\Users\\JINCHA~1\\AppData\\Local\\Temp<\br>\n",
      "<b>                 TMP</b>: C:\\Users\\JINCHA~1\\AppData\\Local\\Temp<\br>\n",
      "<b>       USERDNSDOMAIN</b>: lgchem.com<\br>\n",
      "<b>          USERDOMAIN</b>: LGCHEM<\br>\n",
      "<b>USERDOMAIN_ROAMINGPROFILE</b>: LGCHEM<\br>\n",
      "<b>            USERNAME</b>: jinchanglong<\br>\n",
      "<b>         USERPROFILE</b>: C:\\Users\\jinchanglong<\br>\n",
      "<b>              WINDIR</b>: C:\\Windows<\br>\n",
      "<b>        CONDA_PREFIX</b>: C:\\ProgramData\\Anaconda3<\br>\n",
      "<b> JPY_INTERRUPT_EVENT</b>: 1544<\br>\n",
      "<b> IPY_INTERRUPT_EVENT</b>: 1544<\br>\n",
      "<b>      JPY_PARENT_PID</b>: 3208<\br>\n",
      "<b>                TERM</b>: xterm-color<\br>\n",
      "<b>            CLICOLOR</b>: 1<\br>\n",
      "<b>               PAGER</b>: cat<\br>\n",
      "<b>           GIT_PAGER</b>: cat<\br>\n",
      "<b>          MPLBACKEND</b>: module://ipykernel.pylab.backend_inline<\br>\n"
     ]
    }
   ],
   "source": [
    "import os\n",
    "\n",
    "print(\"Content-type: text/html\\r\\n\\r\\n\")\n",
    "print(\"<font size=+1>Environment</font><\\br>\")\n",
    "for param in os.environ.keys():\n",
    "    print(\"<b>%20s</b>: %s<\\br>\" %(param, os.environ[param]))"
   ]
  },
  {
   "cell_type": "markdown",
   "metadata": {},
   "source": [
    "### Python 同步线程"
   ]
  },
  {
   "cell_type": "code",
   "execution_count": 101,
   "metadata": {},
   "outputs": [
    {
     "name": "stdout",
     "output_type": "stream",
     "text": [
      "Starting Thread-1\n",
      "Starting Thread-2\n",
      "Thread-1: Tue Sep 21 14:25:50 2021\n",
      "Thread-1: Tue Sep 21 14:25:51 2021\n",
      "Thread-1: Tue Sep 21 14:25:52 2021\n",
      "Thread-2: Tue Sep 21 14:25:54 2021\n",
      "Thread-2: Tue Sep 21 14:25:56 2021\n",
      "Thread-2: Tue Sep 21 14:25:58 2021\n",
      "Exiting Main Thread\n"
     ]
    }
   ],
   "source": [
    "import threading\n",
    "import time\n",
    "\n",
    "class myThread (threading.Thread):\n",
    "    def __init__(self, threadID, name, counter):\n",
    "        threading.Thread.__init__(self)\n",
    "        self.threadID = threadID\n",
    "        self.name = name\n",
    "        self.counter = counter\n",
    "    def run(self):\n",
    "        print(\"Starting \" + self.name)\n",
    "      # Get lock to synchronize threads\n",
    "        threadLock.acquire()\n",
    "        print_time(self.name, self.counter, 3)\n",
    "      # Free lock to release next thread\n",
    "        threadLock.release()\n",
    "\n",
    "def print_time(threadName, delay, counter):\n",
    "     while counter:\n",
    "        time.sleep(delay)\n",
    "        print(\"%s: %s\" % (threadName, time.ctime(time.time())))\n",
    "        counter -= 1\n",
    "\n",
    "threadLock = threading.Lock()\n",
    "threads = []\n",
    "\n",
    "# Create new threads\n",
    "thread1 = myThread(1, \"Thread-1\", 1)\n",
    "thread2 = myThread(2, \"Thread-2\", 2)\n",
    "\n",
    "# Start new Threads\n",
    "thread1.start()\n",
    "thread2.start()\n",
    "\n",
    "# Add threads to thread list\n",
    "threads.append(thread1)\n",
    "threads.append(thread2)\n",
    "\n",
    "# Wait for all threads to complete\n",
    "for t in threads:\n",
    "    t.join()\n",
    "print(\"Exiting Main Thread\")"
   ]
  },
  {
   "cell_type": "markdown",
   "metadata": {},
   "source": [
    "### Python 工具类"
   ]
  },
  {
   "cell_type": "code",
   "execution_count": 102,
   "metadata": {},
   "outputs": [
    {
     "name": "stdout",
     "output_type": "stream",
     "text": [
      "  4           0 LOAD_CONST               1 (10)\n",
      "              2 STORE_FAST               0 (vara)\n",
      "\n",
      "  5           4 LOAD_CONST               2 (20)\n",
      "              6 STORE_FAST               1 (varb)\n",
      "\n",
      "  7           8 LOAD_FAST                0 (vara)\n",
      "             10 LOAD_FAST                1 (varb)\n",
      "             12 BINARY_ADD\n",
      "             14 STORE_FAST               2 (sum)\n",
      "\n",
      "  8          16 LOAD_GLOBAL              0 (print)\n",
      "             18 LOAD_CONST               3 ('vara + varb = %d')\n",
      "             20 LOAD_FAST                2 (sum)\n",
      "             22 BINARY_MODULO\n",
      "             24 CALL_FUNCTION            1\n",
      "             26 POP_TOP\n",
      "             28 LOAD_CONST               0 (None)\n",
      "             30 RETURN_VALUE\n"
     ]
    }
   ],
   "source": [
    "import dis\n",
    "\n",
    "def sum():\n",
    "    vara = 10\n",
    "    varb = 20\n",
    "\n",
    "    sum = vara + varb\n",
    "    print(\"vara + varb = %d\" %sum)\n",
    "\n",
    "# Call dis function for the function.\n",
    "\n",
    "dis.dis(sum)"
   ]
  },
  {
   "cell_type": "markdown",
   "metadata": {},
   "source": [
    "### Python Example"
   ]
  },
  {
   "cell_type": "code",
   "execution_count": 103,
   "metadata": {},
   "outputs": [
    {
     "name": "stdout",
     "output_type": "stream",
     "text": [
      "<b><i>hello world</i></b>\n"
     ]
    }
   ],
   "source": [
    "def makebold(fn):\n",
    "    def wrapped():\n",
    "        return \"<b>\" + fn() + \"</b>\"\n",
    "    return wrapped\n",
    "def makeitalic(fn):\n",
    "    def wrapped():\n",
    "        return \"<i>\" + fn() + \"</i>\"\n",
    "    return wrapped\n",
    "@makebold\n",
    "@makeitalic\n",
    "def hello():\n",
    "    return \"hello world\"\n",
    "print(hello())"
   ]
  },
  {
   "cell_type": "markdown",
   "metadata": {},
   "source": [
    "### Python 三引号"
   ]
  },
  {
   "cell_type": "code",
   "execution_count": 105,
   "metadata": {},
   "outputs": [
    {
     "name": "stdout",
     "output_type": "stream",
     "text": [
      "\n",
      "this is a long string that is made up of\n",
      "several lines and non-printable characters such as\n",
      "TAB ( \t ) and they will show up that way when displayed.\n",
      "NEWLINEs within the string, whether explicitly given like\n",
      "this within the brackets [ \n",
      " ], or just a NEWLINE within\n",
      "the variable assignment will also show up.\n",
      "\n"
     ]
    }
   ],
   "source": [
    "para_str = \"\"\"\n",
    "this is a long string that is made up of\n",
    "several lines and non-printable characters such as\n",
    "TAB ( \\t ) and they will show up that way when displayed.\n",
    "NEWLINEs within the string, whether explicitly given like\n",
    "this within the brackets [ \\n ], or just a NEWLINE within\n",
    "the variable assignment will also show up.\n",
    "\"\"\"\n",
    "print(para_str)"
   ]
  },
  {
   "cell_type": "markdown",
   "metadata": {},
   "source": [
    "### Python 销毁对象"
   ]
  },
  {
   "cell_type": "code",
   "execution_count": 94,
   "metadata": {},
   "outputs": [
    {
     "name": "stdout",
     "output_type": "stream",
     "text": [
      "1568673237072 1568673237072 1568673237072\n",
      "Point destroyed\n"
     ]
    }
   ],
   "source": [
    "class Point:\n",
    "    def __init__(self, x=0, y=0):\n",
    "        self.x = x\n",
    "        self.y = y\n",
    "    def __del__(self):\n",
    "        class_name = self.__class__.__name__\n",
    "        print (class_name, \"destroyed\")\n",
    "\n",
    "pt1 = Point()\n",
    "pt2 = pt1\n",
    "pt3 = pt1\n",
    "print(id(pt1), id(pt2), id(pt3)) # prints the ids of the obejcts\n",
    "del pt1\n",
    "del pt2\n",
    "del pt3\n"
   ]
  },
  {
   "cell_type": "markdown",
   "metadata": {},
   "source": [
    "### Python 方法覆盖（重写）"
   ]
  },
  {
   "cell_type": "code",
   "execution_count": 95,
   "metadata": {},
   "outputs": [
    {
     "name": "stdout",
     "output_type": "stream",
     "text": [
      "Calling child 方法\n"
     ]
    }
   ],
   "source": [
    "class Parent:        # define parent class\n",
    "    def myMethod(self):\n",
    "        print('Calling parent 方法')\n",
    "\n",
    "class Child(Parent): # define child class\n",
    "    def myMethod(self):\n",
    "        print('Calling child 方法')\n",
    "\n",
    "c = Child()          # instance of child\n",
    "c.myMethod()         # child calls overridden 方法"
   ]
  },
  {
   "cell_type": "markdown",
   "metadata": {},
   "source": [
    "### Python 方法覆盖运算符"
   ]
  },
  {
   "cell_type": "code",
   "execution_count": 96,
   "metadata": {},
   "outputs": [
    {
     "name": "stdout",
     "output_type": "stream",
     "text": [
      "Vector (7, 8)\n"
     ]
    }
   ],
   "source": [
    "class Vector:\n",
    "    def __init__(self, a, b):\n",
    "        self.a = a\n",
    "        self.b = b\n",
    "\n",
    "    def __str__(self):\n",
    "        return 'Vector (%d, %d)'%(self.a, self.b)\n",
    "\n",
    "    def __add__(self,other):\n",
    "        return Vector(self.a + other.a, self.b + other.b)\n",
    "\n",
    "v1 = Vector(2,10)\n",
    "v2 = Vector(5,-2)\n",
    "print(v1 + v2)"
   ]
  }
 ],
 "metadata": {
  "kernelspec": {
   "display_name": "Python 3",
   "language": "python",
   "name": "python3"
  },
  "language_info": {
   "codemirror_mode": {
    "name": "ipython",
    "version": 3
   },
   "file_extension": ".py",
   "mimetype": "text/x-python",
   "name": "python",
   "nbconvert_exporter": "python",
   "pygments_lexer": "ipython3",
   "version": "3.8.5"
  },
  "toc": {
   "base_numbering": 1,
   "nav_menu": {},
   "number_sections": true,
   "sideBar": true,
   "skip_h1_title": false,
   "title_cell": "Table of Contents",
   "title_sidebar": "Contents",
   "toc_cell": false,
   "toc_position": {
    "height": "calc(100% - 180px)",
    "left": "10px",
    "top": "150px",
    "width": "346.188px"
   },
   "toc_section_display": true,
   "toc_window_display": true
  }
 },
 "nbformat": 4,
 "nbformat_minor": 4
}
