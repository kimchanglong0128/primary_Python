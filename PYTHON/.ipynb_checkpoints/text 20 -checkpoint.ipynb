{
 "cells": [
  {
   "cell_type": "markdown",
   "metadata": {},
   "source": [
    "###### 合并两个字典"
   ]
  },
  {
   "cell_type": "code",
   "execution_count": null,
   "metadata": {},
   "outputs": [],
   "source": [
    "def Merge(dict1 , dict2):\n",
    "    res = {**dict1,**dict2}\n",
    "    return res\n",
    "\n",
    "dict1 = {\"name\": \"Joy\" , \"age\":25}\n",
    "dict2 = {\"name\": \"Joy\" , \"city\":\"New York\"}\n",
    "dict3 = Merge(dict1 , dict2)\n",
    "print(dict3)"
   ]
  },
  {
   "cell_type": "markdown",
   "metadata": {},
   "source": [
    "###### 链式比较"
   ]
  },
  {
   "cell_type": "code",
   "execution_count": 2,
   "metadata": {},
   "outputs": [
    {
     "name": "stdout",
     "output_type": "stream",
     "text": [
      "True\n",
      "False\n"
     ]
    }
   ],
   "source": [
    "a = 5\n",
    "\n",
    "print(2 < a < 8)\n",
    "print(1 == a < 3)"
   ]
  },
  {
   "cell_type": "markdown",
   "metadata": {},
   "source": [
    "###### 重复打印字符串"
   ]
  },
  {
   "cell_type": "code",
   "execution_count": 3,
   "metadata": {},
   "outputs": [
    {
     "name": "stdout",
     "output_type": "stream",
     "text": [
      "Hello!Hello!Hello!Hello!Hello!\n"
     ]
    }
   ],
   "source": [
    "n = 5\n",
    "string  = \"Hello!\"\n",
    "\n",
    "print(string * n)"
   ]
  },
  {
   "cell_type": "markdown",
   "metadata": {},
   "source": [
    "###### 检查文件是否存在"
   ]
  },
  {
   "cell_type": "code",
   "execution_count": 4,
   "metadata": {},
   "outputs": [
    {
     "name": "stdout",
     "output_type": "stream",
     "text": [
      "Does file exist: False\n"
     ]
    }
   ],
   "source": [
    "from os import path\n",
    "\n",
    "def check_for_file():\n",
    "    print(\"Does file exist:\" , path.exists(\"data.csv\"))\n",
    "    \n",
    "if __name__ == \"__main__\":\n",
    "    check_for_file()"
   ]
  },
  {
   "cell_type": "markdown",
   "metadata": {},
   "source": [
    "###### 检索列表最后一个元素"
   ]
  },
  {
   "cell_type": "code",
   "execution_count": 20,
   "metadata": {},
   "outputs": [
    {
     "name": "stdout",
     "output_type": "stream",
     "text": [
      "['banana', 'apple', 'orange']\n"
     ]
    }
   ],
   "source": [
    "my_list = ['banana','apple','orange','pineapple']\n",
    "\n",
    "last_element = my_list[-1]\n",
    "last_element\n",
    "\n",
    "last_element = my_list.pop()    ### pop 输出最后一个值，并在list 中删除 ,并赋值于last_element\n",
    "last_element\n",
    "\n",
    "print(my_list)"
   ]
  },
  {
   "cell_type": "code",
   "execution_count": 17,
   "metadata": {},
   "outputs": [
    {
     "data": {
      "text/plain": [
       "['banana', 'apple', 'orange']"
      ]
     },
     "execution_count": 17,
     "metadata": {},
     "output_type": "execute_result"
    }
   ],
   "source": [
    "my_list = ['banana','apple','orange','pineapple']\n",
    "my_list.pop()                   ### pop 输出最后一个值，并在list 中删除\n",
    "my_list"
   ]
  },
  {
   "cell_type": "markdown",
   "metadata": {},
   "source": [
    "###### 列表推导式"
   ]
  },
  {
   "cell_type": "code",
   "execution_count": 21,
   "metadata": {},
   "outputs": [
    {
     "name": "stdout",
     "output_type": "stream",
     "text": [
      "Vowels are: ['i', 'i', 'o', 'e', 'a', 'o', 'i']\n"
     ]
    }
   ],
   "source": [
    "def get_vowels(string):\n",
    "    return [vowel for vowel in string if vowel in 'aeiou']\n",
    "\n",
    "print('Vowels are:' , get_vowels('This is some random string'))"
   ]
  },
  {
   "cell_type": "markdown",
   "metadata": {},
   "source": [
    "###### 计算代码执行时间"
   ]
  },
  {
   "cell_type": "code",
   "execution_count": 23,
   "metadata": {},
   "outputs": [
    {
     "name": "stdout",
     "output_type": "stream",
     "text": [
      "Sum: 45\n",
      "Time: 0.0\n"
     ]
    }
   ],
   "source": [
    "import time\n",
    "\n",
    "start_time = time.time()\n",
    "\n",
    "total = 0\n",
    "for i in range(10):\n",
    "    total += i\n",
    "print(\"Sum:\" , total)\n",
    "\n",
    "end_time = time.time()\n",
    "time_taken = end_time - start_time\n",
    "print(\"Time:\", time_taken)"
   ]
  },
  {
   "cell_type": "markdown",
   "metadata": {},
   "source": [
    "###### 查找出现次数最多的元素"
   ]
  },
  {
   "cell_type": "code",
   "execution_count": 27,
   "metadata": {},
   "outputs": [
    {
     "name": "stdout",
     "output_type": "stream",
     "text": [
      "出现次数最多的元素是: 2\n"
     ]
    }
   ],
   "source": [
    "def most_frequent(list):\n",
    "    return max(set(list),key = list.count)\n",
    "\n",
    "mylist = [1,1,2,3,4,5,6,6,2,2]\n",
    "print(\"出现次数最多的元素是:\" , most_frequent(mylist))"
   ]
  },
  {
   "cell_type": "markdown",
   "metadata": {},
   "source": [
    "###### 将两个列表转换为字典"
   ]
  },
  {
   "cell_type": "code",
   "execution_count": 28,
   "metadata": {},
   "outputs": [
    {
     "name": "stdout",
     "output_type": "stream",
     "text": [
      "{1: 'one', 2: 'two', 3: 'three'}\n"
     ]
    }
   ],
   "source": [
    "def list_to_dictionary(keys , values):\n",
    "    return dict(zip(keys,values))\n",
    "\n",
    "list1 = [1,2,3]\n",
    "list2 = ['one','two','three']\n",
    "\n",
    "print(list_to_dictionary(list1,list2))"
   ]
  },
  {
   "cell_type": "markdown",
   "metadata": {},
   "source": [
    "###### 异常处理"
   ]
  },
  {
   "cell_type": "code",
   "execution_count": 45,
   "metadata": {},
   "outputs": [
    {
     "name": "stdout",
     "output_type": "stream",
     "text": [
      "Executing finially block\n",
      "It's over\n"
     ]
    }
   ],
   "source": [
    "a ,b = 1 , 0\n",
    "\n",
    "try:\n",
    "    print(a/b)\n",
    "except SyntaxError:\n",
    "    print(\"Can not divide by zero\")\n",
    "except ZeroDivisionError:\n",
    "    print(\"Executing finially block\")\n",
    "finally:\n",
    "    print(\"It\\'s over\")"
   ]
  },
  {
   "cell_type": "markdown",
   "metadata": {},
   "source": [
    "###### 反转字符串"
   ]
  },
  {
   "cell_type": "code",
   "execution_count": 53,
   "metadata": {},
   "outputs": [
    {
     "name": "stdout",
     "output_type": "stream",
     "text": [
      "反转字符串是: !dlroW olleH\n"
     ]
    }
   ],
   "source": [
    "str = 'Hello World!'\n",
    "\n",
    "print(\"反转字符串是:\",str[::-1])"
   ]
  },
  {
   "cell_type": "markdown",
   "metadata": {},
   "source": [
    "###### 字符串列表组成单个字符串"
   ]
  },
  {
   "cell_type": "code",
   "execution_count": 58,
   "metadata": {},
   "outputs": [
    {
     "data": {
      "text/plain": [
       "'Hello world OK bye'"
      ]
     },
     "execution_count": 58,
     "metadata": {},
     "output_type": "execute_result"
    }
   ],
   "source": [
    "list = ['Hello','world','OK','bye']\n",
    "combined_string = \" \".join(list)\n",
    "combined_string"
   ]
  },
  {
   "cell_type": "markdown",
   "metadata": {},
   "source": [
    "###### 返回字典缺失键的默认值"
   ]
  },
  {
   "cell_type": "code",
   "execution_count": 62,
   "metadata": {},
   "outputs": [
    {
     "name": "stdout",
     "output_type": "stream",
     "text": [
      "three\n",
      "four\n",
      "原始字典: {1: 'one', 2: 'two', 4: 'four'}\n"
     ]
    }
   ],
   "source": [
    "dict = {1:'one',2:'two',4:'four'}\n",
    "\n",
    "print(dict.get(3 , 'three'))     ### 在字典里取 key 为 3 的值， 存在则取存在的值， 不存在则返回'three'\n",
    "print(dict.get(4 , 'three'))\n",
    "\n",
    "print(\"原始字典:\",dict)"
   ]
  },
  {
   "cell_type": "markdown",
   "metadata": {},
   "source": [
    "###### 交换两个变量的值"
   ]
  },
  {
   "cell_type": "code",
   "execution_count": 65,
   "metadata": {},
   "outputs": [
    {
     "data": {
      "text/plain": [
       "(30, 20)"
      ]
     },
     "execution_count": 65,
     "metadata": {},
     "output_type": "execute_result"
    }
   ],
   "source": [
    "a ,b = 5 , 10\n",
    "c , d = 20 , 30\n",
    "\n",
    "a ,b = b ,a      ### 第一个方法\n",
    "\n",
    "def swap(c,d):   ### 第二个方法\n",
    "    return d,c\n",
    "swap(c,d)"
   ]
  },
  {
   "cell_type": "markdown",
   "metadata": {},
   "source": [
    "###### 正则表达式"
   ]
  },
  {
   "cell_type": "code",
   "execution_count": 66,
   "metadata": {},
   "outputs": [
    {
     "name": "stdout",
     "output_type": "stream",
     "text": [
      "True\n"
     ]
    }
   ],
   "source": [
    "import re      ### re 模块提供了全部的正则功能\n",
    "\n",
    "text = 'The rain in spain'\n",
    "result = re.search(\"rain\",text)\n",
    "\n",
    "print(True if result else False)"
   ]
  },
  {
   "cell_type": "markdown",
   "metadata": {},
   "source": [
    "###### 筛选值"
   ]
  },
  {
   "cell_type": "code",
   "execution_count": 100,
   "metadata": {},
   "outputs": [
    {
     "data": {
      "text/plain": [
       "(1, 3, 7, 9, 11)"
      ]
     },
     "execution_count": 100,
     "metadata": {},
     "output_type": "execute_result"
    }
   ],
   "source": [
    "my_list = [0,1,2,3,6,7,9,11]\n",
    "\n",
    "result = filter(lambda x : x % 2 != 0 , my_list)\n",
    "\n",
    "tuple(result)              ### 可以转换成元组 ， 但是不能转换成list"
   ]
  },
  {
   "cell_type": "markdown",
   "metadata": {},
   "source": [
    "###### 统计字频"
   ]
  },
  {
   "cell_type": "code",
   "execution_count": 104,
   "metadata": {},
   "outputs": [
    {
     "name": "stdout",
     "output_type": "stream",
     "text": [
      "Counter({'a': 3, 'n': 2, 'b': 1})\n"
     ]
    }
   ],
   "source": [
    "import collections \n",
    "\n",
    "result = Counter('banana')\n",
    "print(result)"
   ]
  },
  {
   "cell_type": "markdown",
   "metadata": {},
   "source": [
    "###### 变量占用内存"
   ]
  },
  {
   "cell_type": "code",
   "execution_count": 107,
   "metadata": {},
   "outputs": [
    {
     "name": "stdout",
     "output_type": "stream",
     "text": [
      "28\n",
      "96\n"
     ]
    }
   ],
   "source": [
    "import sys\n",
    "\n",
    "var1 = 15\n",
    "list1 = [1,2,3,4,5]\n",
    "\n",
    "print(sys.getsizeof(var1))\n",
    "print(sys.getsizeof(list1))"
   ]
  },
  {
   "cell_type": "markdown",
   "metadata": {},
   "source": [
    "###### 链式函数调用"
   ]
  },
  {
   "cell_type": "code",
   "execution_count": 108,
   "metadata": {},
   "outputs": [
    {
     "name": "stdout",
     "output_type": "stream",
     "text": [
      "15\n"
     ]
    }
   ],
   "source": [
    "def add(a,b):\n",
    "    return a + b\n",
    "\n",
    "def subtract(a ,b):\n",
    "    return a - b\n",
    "\n",
    "a , b = 5 , 10\n",
    "\n",
    "print((add if b > a else substract)(a,b))"
   ]
  },
  {
   "cell_type": "markdown",
   "metadata": {},
   "source": [
    "###### 从列表中删除重复项"
   ]
  },
  {
   "cell_type": "code",
   "execution_count": 110,
   "metadata": {},
   "outputs": [
    {
     "name": "stdout",
     "output_type": "stream",
     "text": [
      "{'Mark', 1, 2, 3, 4, 'John', 'Ana'}\n"
     ]
    }
   ],
   "source": [
    "list1 = [1,2,3,3,4 , 'John','Ana','Mark','John']\n",
    "\n",
    "def remove_duplicate(list_value):\n",
    "    return set(list_value)\n",
    "\n",
    "print(remove_duplicate(list1))"
   ]
  },
  {
   "cell_type": "code",
   "execution_count": 111,
   "metadata": {},
   "outputs": [
    {
     "name": "stdout",
     "output_type": "stream",
     "text": [
      "[1, 2, 3, 4, 'John', 'Ana', 'Mark']\n"
     ]
    }
   ],
   "source": [
    "result = []\n",
    "\n",
    "[result.append(x) for x in list1 if x not in result]\n",
    "print(result)"
   ]
  },
  {
   "cell_type": "markdown",
   "metadata": {},
   "source": [
    "###### 首字母大小写"
   ]
  },
  {
   "cell_type": "code",
   "execution_count": 2,
   "metadata": {},
   "outputs": [
    {
     "name": "stdout",
     "output_type": "stream",
     "text": [
      "Programing Is Awesome\n"
     ]
    }
   ],
   "source": [
    "s = \"programing is awesome\"\n",
    "\n",
    "print(s.title())"
   ]
  },
  {
   "cell_type": "code",
   "execution_count": null,
   "metadata": {},
   "outputs": [],
   "source": []
  }
 ],
 "metadata": {
  "kernelspec": {
   "display_name": "Python 3",
   "language": "python",
   "name": "python3"
  },
  "language_info": {
   "codemirror_mode": {
    "name": "ipython",
    "version": 3
   },
   "file_extension": ".py",
   "mimetype": "text/x-python",
   "name": "python",
   "nbconvert_exporter": "python",
   "pygments_lexer": "ipython3",
   "version": "3.8.5"
  },
  "toc": {
   "base_numbering": 1,
   "nav_menu": {},
   "number_sections": true,
   "sideBar": true,
   "skip_h1_title": false,
   "title_cell": "Table of Contents",
   "title_sidebar": "Contents",
   "toc_cell": false,
   "toc_position": {},
   "toc_section_display": true,
   "toc_window_display": false
  }
 },
 "nbformat": 4,
 "nbformat_minor": 4
}
