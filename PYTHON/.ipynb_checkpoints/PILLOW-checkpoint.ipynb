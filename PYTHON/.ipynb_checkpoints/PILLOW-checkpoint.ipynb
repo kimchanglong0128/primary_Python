{
 "cells": [
  {
   "cell_type": "markdown",
   "metadata": {},
   "source": [
    "pip install pillow"
   ]
  },
  {
   "cell_type": "markdown",
   "metadata": {},
   "source": [
    "### 打开本地图片"
   ]
  },
  {
   "cell_type": "code",
   "execution_count": 3,
   "metadata": {},
   "outputs": [],
   "source": [
    "import PIL\n",
    "from PIL import Image\n",
    "\n",
    "\n",
    "image = Image.open(r\"C:\\\\Users\\\\jinchanglong\\\\Desktop\\\\1.jpg\")\n",
    "image.show()"
   ]
  },
  {
   "cell_type": "markdown",
   "metadata": {},
   "source": [
    "### 创建一张新图标"
   ]
  },
  {
   "cell_type": "code",
   "execution_count": 2,
   "metadata": {
    "ExecuteTime": {
     "end_time": "2021-12-30T06:40:46.723909Z",
     "start_time": "2021-12-30T06:40:43.161142Z"
    }
   },
   "outputs": [],
   "source": [
    "from PIL import Image\n",
    "\n",
    "image = Image.new('RGB',(4096,2160),'black')  ### new(mode , size , color) ；创建一张画布\n",
    "image.show()                                ### mode ，图片的模式 ，如'RGB' 真彩图像 ，'L'黑白图像\n",
    "                                            ### size 图片的尺寸 ， 是一个长度为 2 的元组（width , height）,表示的是像素的大小\n",
    "                                            ### color 图片的元素 ，默认值为0表示黑色。可以传入长度为3 的元组表示颜色，也可以传入颜色的十六进制\n",
    "                                            ### （0，0，255） / #0000FF  /  'blue'"
   ]
  },
  {
   "cell_type": "markdown",
   "metadata": {},
   "source": [
    "### image 模块的常用属性"
   ]
  },
  {
   "cell_type": "code",
   "execution_count": 2,
   "metadata": {},
   "outputs": [
    {
     "name": "stdout",
     "output_type": "stream",
     "text": [
      "width: 719\n",
      "height: 448\n",
      "size: (719, 448)\n",
      "mode: RGBA\n",
      "format: PNG\n",
      "category: 0\n",
      "readonly: 1\n",
      "info: {'gamma': 0.45455, 'chromaticity': (0.3127, 0.329, 0.64, 0.33, 0.3, 0.6, 0.15, 0.06)}\n"
     ]
    }
   ],
   "source": [
    "from PIL import Image\n",
    "\n",
    "image = Image.open(r\"C:\\Users\\jinchanglong\\Desktop\\1.jpg\")\n",
    "print('width:' , image.width)\n",
    "print('height:' , image.height)\n",
    "print('size:' , image.size)\n",
    "print('mode:' , image.mode)\n",
    "print('format:' , image.format)\n",
    "print('category:' , image.category)\n",
    "print('readonly:' , image.readonly)\n",
    "print('info:' , image.info)"
   ]
  },
  {
   "cell_type": "markdown",
   "metadata": {},
   "source": [
    "###### 另存为"
   ]
  },
  {
   "cell_type": "code",
   "execution_count": null,
   "metadata": {},
   "outputs": [],
   "source": [
    "image.save('picture.jpg','JPEG')  ### 首参是另存为的名字 ， 后边的参数是保存格式（可省略，默认与原图相同）"
   ]
  },
  {
   "cell_type": "markdown",
   "metadata": {},
   "source": [
    "###### thumbnail 缩略图"
   ]
  },
  {
   "cell_type": "markdown",
   "metadata": {},
   "source": [
    "###### image.thumbnail(size)"
   ]
  },
  {
   "cell_type": "code",
   "execution_count": null,
   "metadata": {},
   "outputs": [],
   "source": [
    "image.thumbnail((200,200))  ### 参数是大小，是个tuple类型"
   ]
  },
  {
   "cell_type": "markdown",
   "metadata": {},
   "source": [
    "###### crop 图片裁剪"
   ]
  },
  {
   "cell_type": "code",
   "execution_count": null,
   "metadata": {},
   "outputs": [],
   "source": [
    "box = (100,100,200,200)  ### 左上角为原点  tuple 分别对应 左 上 右 下\n",
    "\n",
    "image = Image.open(r\"C:\\\\Users\\\\jinchanglong\\\\Desktop\\\\1.jpg\")\n",
    "region = image.crop(box)"
   ]
  },
  {
   "cell_type": "markdown",
   "metadata": {},
   "source": [
    "###### paste 粘贴"
   ]
  },
  {
   "cell_type": "code",
   "execution_count": null,
   "metadata": {},
   "outputs": [],
   "source": [
    "box = (100,100,200,200)  ### 左 上 右 下\n",
    "\n",
    "region = image.crop(box)\n",
    "image.paste(region , box)"
   ]
  },
  {
   "cell_type": "markdown",
   "metadata": {},
   "source": [
    "###### resize 修改图片的大小"
   ]
  },
  {
   "cell_type": "code",
   "execution_count": null,
   "metadata": {},
   "outputs": [],
   "source": [
    "out = image.resize((2000,1250))  ### 修改图片大小，参数是tuple\n",
    "out.save('resize.jpg')"
   ]
  },
  {
   "cell_type": "markdown",
   "metadata": {},
   "source": [
    "###### rotate 旋转"
   ]
  },
  {
   "cell_type": "code",
   "execution_count": null,
   "metadata": {},
   "outputs": [],
   "source": [
    "image = Image.open(r\"C:\\\\Users\\\\jinchanglong\\\\Desktop\\\\1.jpg\")  ### 参数是旋转度数，逆时针\n",
    "out = image,rotate(45)\n",
    "out.save('rotate.jpg')"
   ]
  },
  {
   "cell_type": "markdown",
   "metadata": {},
   "source": [
    "###### transpose 镜像/旋转/转置"
   ]
  },
  {
   "cell_type": "code",
   "execution_count": null,
   "metadata": {},
   "outputs": [],
   "source": [
    "out1 = image.transpose(Image.FLIP_LEFT_RIGHT)  ### 左右镜像\n",
    "out2 = image.transpose(Image.FLIP_TOP_BOTTOM)  ### 上下镜像\n",
    "out3 = image.transpose(Image.ROTATE_90)        ### 逆时针旋转 90\n",
    "out4 = image.transpose(Image.ROTATE_180)       ### 逆时针旋转 180\n",
    "out5 = image.transpose(Image.TRANSPOSE)        ### 像素矩阵转置\n",
    "out6 = image.transpose(Image.TRANSVERSE)       ### 像素矩阵转置翻转"
   ]
  },
  {
   "cell_type": "markdown",
   "metadata": {},
   "source": [
    "###### covert"
   ]
  },
  {
   "cell_type": "markdown",
   "metadata": {},
   "source": [
    "###### PIL 有九种不同模式 ： 1，L，P，RGB，RGBA，CMYK，YCbCr，I，F"
   ]
  },
  {
   "cell_type": "code",
   "execution_count": null,
   "metadata": {},
   "outputs": [],
   "source": [
    "out7 = image.convert('1')      ### 为二值图像，非黑即白。每个像素用8个bit表示，0表示黑，255表示白\n",
    "out8 = image.convert('L')      ### 为灰度图像，每个像素用8个bit表示，0表示黑，255表示白，其他数字表示不同的灰度\n",
    "out9 = image.convert('P')      ### 模式“P”为 8 位彩色图像，它的每个像素用 8 个bit表示，其对应的彩色值是按照调色板查询出来的\n",
    "out10 = image.convert('RGBA')  ### 模式“RGBA”为32位彩色图像，它的每个像素用32个bit表示，其中24bit表示红色、绿色和蓝色三个通道，另外8bit表示alpha通道，即透明通道\n",
    "out11 = image.convert('CMYK')  ### 模式“CMYK”为32位彩色图像，它的每个像素用32个bit表示。模式“CMYK”就是印刷四分色模式，它是彩色印刷时采用的一种套色模式\n",
    "                               ### 利用色料的三原色混色原理，加上黑色油墨，共计四种颜色混合叠加，形成所谓“全彩印刷”。\n",
    "                               ### 四种标准颜色是：C：Cyan = 青色，又称为‘天蓝色’或是‘湛蓝’\n",
    "                               ### M：Magenta = 品红色，又称为‘洋红色’；\n",
    "                               ### Y：Yellow = 黄色；\n",
    "                               ### K：Key Plate(blacK) = 定位套版色（黑色）。\n",
    "out12 = imame.convert('')\n",
    "out13 =\n",
    "out14 =\n",
    "out15 ="
   ]
  },
  {
   "cell_type": "code",
   "execution_count": null,
   "metadata": {},
   "outputs": [],
   "source": []
  },
  {
   "cell_type": "code",
   "execution_count": null,
   "metadata": {},
   "outputs": [],
   "source": []
  },
  {
   "cell_type": "code",
   "execution_count": null,
   "metadata": {},
   "outputs": [],
   "source": []
  },
  {
   "cell_type": "code",
   "execution_count": null,
   "metadata": {},
   "outputs": [],
   "source": []
  },
  {
   "cell_type": "code",
   "execution_count": null,
   "metadata": {},
   "outputs": [],
   "source": []
  },
  {
   "cell_type": "code",
   "execution_count": null,
   "metadata": {},
   "outputs": [],
   "source": []
  },
  {
   "cell_type": "code",
   "execution_count": null,
   "metadata": {},
   "outputs": [],
   "source": []
  },
  {
   "cell_type": "code",
   "execution_count": null,
   "metadata": {},
   "outputs": [],
   "source": []
  },
  {
   "cell_type": "code",
   "execution_count": null,
   "metadata": {},
   "outputs": [],
   "source": []
  },
  {
   "cell_type": "code",
   "execution_count": null,
   "metadata": {},
   "outputs": [],
   "source": []
  },
  {
   "cell_type": "code",
   "execution_count": null,
   "metadata": {},
   "outputs": [],
   "source": []
  },
  {
   "cell_type": "code",
   "execution_count": null,
   "metadata": {},
   "outputs": [],
   "source": []
  },
  {
   "cell_type": "code",
   "execution_count": null,
   "metadata": {},
   "outputs": [],
   "source": []
  },
  {
   "cell_type": "code",
   "execution_count": null,
   "metadata": {},
   "outputs": [],
   "source": []
  },
  {
   "cell_type": "code",
   "execution_count": null,
   "metadata": {},
   "outputs": [],
   "source": []
  },
  {
   "cell_type": "code",
   "execution_count": null,
   "metadata": {},
   "outputs": [],
   "source": []
  }
 ],
 "metadata": {
  "kernelspec": {
   "display_name": "Python 3",
   "language": "python",
   "name": "python3"
  },
  "language_info": {
   "codemirror_mode": {
    "name": "ipython",
    "version": 3
   },
   "file_extension": ".py",
   "mimetype": "text/x-python",
   "name": "python",
   "nbconvert_exporter": "python",
   "pygments_lexer": "ipython3",
   "version": "3.8.5"
  },
  "nbTranslate": {
   "displayLangs": [
    "*"
   ],
   "hotkey": "alt-t",
   "langInMainMenu": true,
   "sourceLang": "en",
   "targetLang": "fr",
   "useGoogleTranslate": true
  },
  "toc": {
   "base_numbering": 1,
   "nav_menu": {},
   "number_sections": true,
   "sideBar": true,
   "skip_h1_title": false,
   "title_cell": "Table of Contents",
   "title_sidebar": "Contents",
   "toc_cell": false,
   "toc_position": {},
   "toc_section_display": true,
   "toc_window_display": false
  },
  "varInspector": {
   "cols": {
    "lenName": 16,
    "lenType": 16,
    "lenVar": 40
   },
   "kernels_config": {
    "python": {
     "delete_cmd_postfix": "",
     "delete_cmd_prefix": "del ",
     "library": "var_list.py",
     "varRefreshCmd": "print(var_dic_list())"
    },
    "r": {
     "delete_cmd_postfix": ") ",
     "delete_cmd_prefix": "rm(",
     "library": "var_list.r",
     "varRefreshCmd": "cat(var_dic_list()) "
    }
   },
   "types_to_exclude": [
    "module",
    "function",
    "builtin_function_or_method",
    "instance",
    "_Feature"
   ],
   "window_display": false
  }
 },
 "nbformat": 4,
 "nbformat_minor": 4
}
