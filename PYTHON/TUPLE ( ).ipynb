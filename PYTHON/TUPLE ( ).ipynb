{
 "cells": [
  {
   "cell_type": "markdown",
   "metadata": {},
   "source": [
    "#### 创建新元组"
   ]
  },
  {
   "cell_type": "code",
   "execution_count": null,
   "metadata": {},
   "outputs": [],
   "source": [
    "t = ()\n",
    "type(t)"
   ]
  },
  {
   "cell_type": "code",
   "execution_count": 5,
   "metadata": {},
   "outputs": [
    {
     "data": {
      "text/plain": [
       "tuple"
      ]
     },
     "execution_count": 5,
     "metadata": {},
     "output_type": "execute_result"
    }
   ],
   "source": [
    "t = (4,4,4,4,2,3,4,5,6)\n",
    "type(t)"
   ]
  },
  {
   "cell_type": "code",
   "execution_count": 4,
   "metadata": {},
   "outputs": [
    {
     "data": {
      "text/plain": [
       "tuple"
      ]
     },
     "execution_count": 4,
     "metadata": {},
     "output_type": "execute_result"
    }
   ],
   "source": [
    "t= 1,2,3,4,5,6\n",
    "type(t)"
   ]
  },
  {
   "cell_type": "markdown",
   "metadata": {},
   "source": [
    "#### 元组操作方法"
   ]
  },
  {
   "cell_type": "code",
   "execution_count": 8,
   "metadata": {},
   "outputs": [
    {
     "name": "stdout",
     "output_type": "stream",
     "text": [
      "7\n",
      "ValueError: tuple.index(x): x not in tuple\n"
     ]
    }
   ],
   "source": [
    "t = (4,4,4,4,2,3,4,5,6)\n",
    "\n",
    "print(t.index(5))        ### 获取元素的索引\n",
    "try:\n",
    "    print(t.index(100))      ### 如果元素不存在则抛出 ValueError: tuple.index(x): x not in tuple\n",
    "except(ValueError):\n",
    "    print('ValueError: tuple.index(x): x not in tuple')"
   ]
  },
  {
   "cell_type": "markdown",
   "metadata": {},
   "source": [
    "###### tuple.count(x)"
   ]
  },
  {
   "cell_type": "code",
   "execution_count": 9,
   "metadata": {},
   "outputs": [
    {
     "name": "stdout",
     "output_type": "stream",
     "text": [
      "5\n",
      "0\n"
     ]
    }
   ],
   "source": [
    "t = (4,4,4,4,2,3,4,5,6)\n",
    "\n",
    "print(t.count(4))         #### 获取元素在元组中出现的次数之和\n",
    "print(t.count(100))       #### 如果输入不存在的元素，则默认返回 0"
   ]
  },
  {
   "cell_type": "markdown",
   "metadata": {},
   "source": [
    "#### 元组切片取值"
   ]
  },
  {
   "cell_type": "code",
   "execution_count": 13,
   "metadata": {},
   "outputs": [
    {
     "name": "stdout",
     "output_type": "stream",
     "text": [
      "4\n",
      "(4, 2, 3)\n",
      "(4, 5, 6)\n",
      "IndexError: tuple index out of range\n"
     ]
    }
   ],
   "source": [
    "t = (4,4,4,4,2,3,4,5,6)\n",
    "\n",
    "print(t[2])           ### 使用下标取单值\n",
    "print(t[3:6])         ### 切片取多值返回的数据是元组类型\n",
    "print(t[6:10])        ### 即使超过元组数据范围，到最后一个数结束\n",
    "try:\n",
    "    print(t[10])      ### 超过元组数据范围，报错\n",
    "except(IndexError):\n",
    "    print(\"IndexError: tuple index out of range\")"
   ]
  },
  {
   "cell_type": "markdown",
   "metadata": {},
   "source": [
    "#### 元组打包解包"
   ]
  },
  {
   "cell_type": "code",
   "execution_count": 20,
   "metadata": {},
   "outputs": [
    {
     "name": "stdout",
     "output_type": "stream",
     "text": [
      "1 2 3 4 5 6\n"
     ]
    }
   ],
   "source": [
    "t = 1 , 2 , 3 , 4 , 5 , 6\n",
    "\n",
    "a,b,c,d,e,f = t             ### 解包 ， 个数要匹配\n",
    "print(a,b,c,d,e,f)"
   ]
  },
  {
   "cell_type": "markdown",
   "metadata": {},
   "source": [
    "#### 元组和列表对比"
   ]
  },
  {
   "cell_type": "raw",
   "metadata": {},
   "source": [
    "list 和 tuple 都切片操作\n",
    "list 和 tuple 都支持索引和负索引取值\n",
    "list 和 tuple 都支持可以随意嵌套"
   ]
  },
  {
   "cell_type": "raw",
   "metadata": {},
   "source": [
    "列表支持索引修改元素，而元组不可以\n",
    "列表是动态长度，后期可进行增删改；元组是固定长度，后期不可进行增删改"
   ]
  },
  {
   "cell_type": "raw",
   "metadata": {},
   "source": []
  },
  {
   "cell_type": "markdown",
   "metadata": {},
   "source": [
    "#### 元组小知识点"
   ]
  },
  {
   "cell_type": "code",
   "execution_count": 24,
   "metadata": {},
   "outputs": [
    {
     "data": {
      "text/plain": [
       "int"
      ]
     },
     "execution_count": 24,
     "metadata": {},
     "output_type": "execute_result"
    }
   ],
   "source": [
    "t = (1)     ### 不是元组\n",
    "\n",
    "type(t)"
   ]
  },
  {
   "cell_type": "code",
   "execution_count": 26,
   "metadata": {},
   "outputs": [
    {
     "name": "stdout",
     "output_type": "stream",
     "text": [
      "<class 'tuple'>\n",
      "<class 'tuple'>\n"
     ]
    }
   ],
   "source": [
    "t = (1 , )   ### 只有一个元素时，想让他变成元组，就必须加上以个逗号\n",
    "r = 1 ,\n",
    "\n",
    "print(type(t))\n",
    "print(type(r))"
   ]
  }
 ],
 "metadata": {
  "kernelspec": {
   "display_name": "Python 3",
   "language": "python",
   "name": "python3"
  },
  "language_info": {
   "codemirror_mode": {
    "name": "ipython",
    "version": 3
   },
   "file_extension": ".py",
   "mimetype": "text/x-python",
   "name": "python",
   "nbconvert_exporter": "python",
   "pygments_lexer": "ipython3",
   "version": "3.8.5"
  }
 },
 "nbformat": 4,
 "nbformat_minor": 4
}
