{
 "cells": [
  {
   "cell_type": "markdown",
   "metadata": {},
   "source": [
    "## Python RegEx"
   ]
  },
  {
   "cell_type": "markdown",
   "metadata": {},
   "source": [
    "RegEx 或正则表达式是形成搜索模式的字符序列 <br>\n",
    "RegEx 可用于检查字符串是否包含指定的搜索模式"
   ]
  },
  {
   "cell_type": "markdown",
   "metadata": {},
   "source": [
    "### RegEx 函数"
   ]
  },
  {
   "cell_type": "markdown",
   "metadata": {},
   "source": [
    "|函数|描述|\n",
    "|----|----|\n",
    "|findall|返回包含所有匹配项的列表|\n",
    "|search|如果字符串中的任意位置存在匹配,则返回 Match对象|\n",
    "|split|返回在每次匹配时拆分字符串的列表|\n",
    "|sub|用字符串替换一个或多个匹配项|"
   ]
  },
  {
   "cell_type": "markdown",
   "metadata": {},
   "source": [
    "### 元字符"
   ]
  },
  {
   "cell_type": "markdown",
   "metadata": {},
   "source": [
    "元字符是具有特殊含义的字符"
   ]
  },
  {
   "cell_type": "markdown",
   "metadata": {},
   "source": [
    "|字符|描述|\n",
    "|----|----|\n",
    "|[]|一组字符|\n",
    "|\\\\|示意特殊序列(也可用于转义特殊字符)\n",
    "|.|任何字符(换行符除外)|\n",
    "|^|起始于|\n",
    "|$|结束于|\n",
    "|*|零次或多次出现|\n",
    "|+|一次或多次出现|\n",
    "|{}|确切地指定的出现次数|\n",
    "|\\||两者任一|\n",
    "|()|捕获和分组|"
   ]
  },
  {
   "cell_type": "markdown",
   "metadata": {},
   "source": [
    "#### 元字符[]"
   ]
  },
  {
   "cell_type": "code",
   "execution_count": 12,
   "metadata": {
    "run_control": {
     "marked": true
    }
   },
   "outputs": [
    {
     "name": "stdout",
     "output_type": "stream",
     "text": [
      "['h', 'e', 'a', 'i', 'i', 'a', 'i']\n"
     ]
    }
   ],
   "source": [
    "import re\n",
    "\n",
    "str = \"The rain in Spain\"\n",
    "#Find all lower case characters alphabetically between \"a\" and \"m\":\n",
    "x = re.findall(\"[a-m]\", str)\n",
    "\n",
    "print(x)"
   ]
  },
  {
   "cell_type": "markdown",
   "metadata": {},
   "source": [
    "#### 元字符\\\\"
   ]
  },
  {
   "cell_type": "code",
   "execution_count": 14,
   "metadata": {},
   "outputs": [
    {
     "name": "stdout",
     "output_type": "stream",
     "text": [
      "['5', '9']\n"
     ]
    }
   ],
   "source": [
    "import re\n",
    "\n",
    "str = \"That will be 59 dollars\"\n",
    "#Find all digit characters:\n",
    "x = re.findall(\"\\d\", str)\n",
    "\n",
    "print(x)"
   ]
  },
  {
   "cell_type": "markdown",
   "metadata": {},
   "source": [
    "#### 元字符 ."
   ]
  },
  {
   "cell_type": "code",
   "execution_count": 16,
   "metadata": {},
   "outputs": [
    {
     "name": "stdout",
     "output_type": "stream",
     "text": [
      "['hello']\n"
     ]
    }
   ],
   "source": [
    "import re\n",
    "\n",
    "str = \"hello world\"\n",
    "#Search for a sequence that starts with \"he\", followed by two (any) characters, and an \"o\":\n",
    "x = re.findall(\"he..o\", str)\n",
    "\n",
    "print(x)"
   ]
  },
  {
   "cell_type": "markdown",
   "metadata": {},
   "source": [
    "#### 元字符 ^"
   ]
  },
  {
   "cell_type": "code",
   "execution_count": 23,
   "metadata": {},
   "outputs": [
    {
     "name": "stdout",
     "output_type": "stream",
     "text": [
      "['hello']\n",
      "Yes, the string starts with 'hello'\n",
      "Yes, the string starts with 'hello'\n"
     ]
    }
   ],
   "source": [
    "import re\n",
    "\n",
    "str = \"hello world\"\n",
    "#Check if the string starts with 'hello':\n",
    "x = re.findall(\"^hello\", str)\n",
    "print(x)\n",
    "\n",
    "if (x):\n",
    "    print(\"Yes, the string starts with 'hello'\")\n",
    "else:\n",
    "    print(\"No match\")\n",
    "    \n",
    "if x == ['hello']:\n",
    "    print(\"Yes, the string starts with 'hello'\")\n",
    "else:\n",
    "    print(\"No match\")"
   ]
  },
  {
   "cell_type": "markdown",
   "metadata": {},
   "source": [
    "#### 元字符 $"
   ]
  },
  {
   "cell_type": "code",
   "execution_count": 24,
   "metadata": {},
   "outputs": [
    {
     "name": "stdout",
     "output_type": "stream",
     "text": [
      "['world']\n",
      "Yes, the string ends with 'world'\n",
      "Yes, the string ends with 'world'\n"
     ]
    }
   ],
   "source": [
    "import re\n",
    "\n",
    "str = \"hello world\"\n",
    "#Check if the string ends with 'world':\n",
    "x = re.findall(\"world$\", str)\n",
    "print(x)\n",
    "\n",
    "if (x):\n",
    "    print(\"Yes, the string ends with 'world'\")\n",
    "else:\n",
    "    print(\"No match\")\n",
    "\n",
    "if x == ['world']:\n",
    "    print(\"Yes, the string ends with 'world'\")\n",
    "else:\n",
    "    print(\"No match\")"
   ]
  },
  {
   "cell_type": "markdown",
   "metadata": {},
   "source": [
    "#### 元字符 *"
   ]
  },
  {
   "cell_type": "code",
   "execution_count": 25,
   "metadata": {},
   "outputs": [
    {
     "name": "stdout",
     "output_type": "stream",
     "text": [
      "['ai', 'ai', 'ai', 'ai']\n",
      "Yes, there is at least one match!\n"
     ]
    }
   ],
   "source": [
    "import re\n",
    "\n",
    "str = \"The rain in Spain falls mainly in the plain!\"\n",
    "#Check if the string contains \"ai\" followed by 0 or more \"x\" characters:\n",
    "x = re.findall(\"aix*\", str)\n",
    "print(x)\n",
    "\n",
    "if (x):\n",
    "    print(\"Yes, there is at least one match!\")\n",
    "else:\n",
    "    print(\"No match\")\n"
   ]
  },
  {
   "cell_type": "markdown",
   "metadata": {},
   "source": [
    "#### 元字符 +"
   ]
  },
  {
   "cell_type": "code",
   "execution_count": 26,
   "metadata": {},
   "outputs": [
    {
     "name": "stdout",
     "output_type": "stream",
     "text": [
      "[]\n",
      "No match\n"
     ]
    }
   ],
   "source": [
    "import re\n",
    "\n",
    "str = \"The rain in Spain falls mainly in the plain!\"\n",
    "#Check if the string contains \"ai\" followed by 1 or more \"x\" characters:\n",
    "x = re.findall(\"aix+\", str)\n",
    "print(x)\n",
    "\n",
    "if (x):\n",
    "    print(\"Yes, there is at least one match!\")\n",
    "else:\n",
    "    print(\"No match\")"
   ]
  },
  {
   "cell_type": "markdown",
   "metadata": {},
   "source": [
    "#### 元字符 {}"
   ]
  },
  {
   "cell_type": "code",
   "execution_count": 36,
   "metadata": {},
   "outputs": [
    {
     "name": "stdout",
     "output_type": "stream",
     "text": [
      "['al']\n",
      "['all']\n",
      "Yes, there is at least one match!\n",
      "Yes, there is at least one match!\n"
     ]
    }
   ],
   "source": [
    "import re\n",
    "\n",
    "str = \"The rain in Spain falls mainly in the plain!\"\n",
    "#Check if the string contains \"a\" followed by exactly two \"l\" characters:\n",
    "x = re.findall(\"al{1}\", str)\n",
    "y = re.findall(\"al{2}\", str)\n",
    "print(x)\n",
    "print(y)\n",
    "\n",
    "if (x):\n",
    "    print(\"Yes, there is at least one match!\")\n",
    "else:\n",
    "    print(\"No match\")\n",
    "    \n",
    "if (y):\n",
    "    print(\"Yes, there is at least one match!\")\n",
    "else:\n",
    "    print(\"No match\")    "
   ]
  },
  {
   "cell_type": "markdown",
   "metadata": {},
   "source": [
    "#### 元字符 |"
   ]
  },
  {
   "cell_type": "code",
   "execution_count": 40,
   "metadata": {},
   "outputs": [
    {
     "name": "stdout",
     "output_type": "stream",
     "text": [
      "['falls', 'mainly']\n",
      "Yes, there is at least one match!\n"
     ]
    }
   ],
   "source": [
    "import re\n",
    "\n",
    "str = \"The rain in Spain falls mainly in the plain!\"\n",
    "#Check if the string contains either \"falls\" or \"mainly\":\n",
    "x = re.findall(\"falls|mainly\", str)\n",
    "print(x)\n",
    "\n",
    "if (x):\n",
    "    print(\"Yes, there is at least one match!\")\n",
    "else:\n",
    "    print(\"No match\")"
   ]
  },
  {
   "cell_type": "markdown",
   "metadata": {},
   "source": [
    "### 特殊序列"
   ]
  },
  {
   "cell_type": "markdown",
   "metadata": {},
   "source": [
    "特殊序列指的是 \\ 后跟下表中的某个字符，拥有特殊含义"
   ]
  },
  {
   "cell_type": "markdown",
   "metadata": {},
   "source": [
    "|字符|描述|\n",
    "|----|----|\n",
    "|\\A|如果指定的字符位于字符串的开头,则返回匹配项|\n",
    "|\\b|返回指定字符位于单词的开头或末尾的匹配项|\n",
    "|\\B|返回指定字符存在的匹配项,但不在单词的开头(或结尾处)|\n",
    "|\\d|返回字符串包含数字的匹配项(数字0-9)|\n",
    "|\\D|返回字符串不包含数字的匹配项|\n",
    "|\\s|返回字符串包含空白字符的匹配项|\n",
    "|\\S|返回字符串不包含空白字符的匹配项|\n",
    "|\\w|返回一个匹配项,其中字符串包含任何单词字符(从a到Z的字符,从0到9的数字和下划线_字符)|\n",
    "|\\W|返回一个匹配项,其中字符串不包含任何单词字符|\n",
    "|\\Z|如果指定的字符位于字符串的末尾,则返回匹配项|"
   ]
  },
  {
   "cell_type": "markdown",
   "metadata": {},
   "source": [
    "#### 特殊字符 \\A"
   ]
  },
  {
   "cell_type": "code",
   "execution_count": 42,
   "metadata": {},
   "outputs": [
    {
     "name": "stdout",
     "output_type": "stream",
     "text": [
      "['The']\n",
      "Yes, there is a match!\n"
     ]
    }
   ],
   "source": [
    "import re\n",
    "\n",
    "str = \"The rain in Spain\"\n",
    "#Check if the string starts with \"The\":\n",
    "x = re.findall(\"\\AThe\", str)\n",
    "print(x)\n",
    "\n",
    "if (x):\n",
    "    print(\"Yes, there is a match!\")\n",
    "else:\n",
    "    print(\"No match\")"
   ]
  },
  {
   "cell_type": "markdown",
   "metadata": {},
   "source": [
    "#### 特殊字符 \\b"
   ]
  },
  {
   "cell_type": "code",
   "execution_count": 46,
   "metadata": {},
   "outputs": [
    {
     "name": "stdout",
     "output_type": "stream",
     "text": [
      "[]\n",
      "No match\n"
     ]
    }
   ],
   "source": [
    "import re\n",
    "\n",
    "str = \"The rain in Spain\"\n",
    "#Check if \"ain\" is present at the beginning of a WORD:\n",
    "x = re.findall(r\"\\bain\", str)\n",
    "print(x)\n",
    "\n",
    "if (x):\n",
    "    print(\"Yes, there is at least one match!\")\n",
    "else:\n",
    "    print(\"No match\")"
   ]
  },
  {
   "cell_type": "code",
   "execution_count": 48,
   "metadata": {},
   "outputs": [
    {
     "name": "stdout",
     "output_type": "stream",
     "text": [
      "['ain', 'ain']\n",
      "Yes, there is at least one match!\n"
     ]
    }
   ],
   "source": [
    "import re\n",
    "\n",
    "str = \"The rain in Spain\"\n",
    "#Check if \"ain\" is present at the end of a WORD:\n",
    "x = re.findall(r\"ain\\b\", str)\n",
    "print(x)\n",
    "\n",
    "if (x):\n",
    "    print(\"Yes, there is at least one match!\")\n",
    "else:\n",
    "    print(\"No match\")"
   ]
  },
  {
   "cell_type": "markdown",
   "metadata": {},
   "source": [
    "#### 特殊字符 \\B"
   ]
  },
  {
   "cell_type": "code",
   "execution_count": 49,
   "metadata": {},
   "outputs": [
    {
     "name": "stdout",
     "output_type": "stream",
     "text": [
      "[]\n",
      "No match\n"
     ]
    }
   ],
   "source": [
    "import re\n",
    "\n",
    "str = \"The rain in Spain\"\n",
    "#Check if \"ain\" is present, but NOT at the end of a word:\n",
    "x = re.findall(r\"ain\\B\", str)\n",
    "print(x)\n",
    "\n",
    "if (x):\n",
    "    print(\"Yes, there is at least one match!\")\n",
    "else:\n",
    "    print(\"No match\")"
   ]
  },
  {
   "cell_type": "code",
   "execution_count": 53,
   "metadata": {},
   "outputs": [
    {
     "name": "stdout",
     "output_type": "stream",
     "text": [
      "['ain', 'ain']\n",
      "Yes, there is at least one match!\n"
     ]
    }
   ],
   "source": [
    "import re\n",
    "\n",
    "str = \"The rain in Spain\"\n",
    "#Check if \"ain\" is present, but NOT at the start of a word:\n",
    "x = re.findall(r\"\\Bain\", str)\n",
    "print(x)\n",
    "\n",
    "if (x):\n",
    "    print(\"Yes, there is at least one match!\")\n",
    "else:\n",
    "    print(\"No match\")"
   ]
  },
  {
   "cell_type": "markdown",
   "metadata": {},
   "source": [
    "#### 特殊字符 \\d"
   ]
  },
  {
   "cell_type": "code",
   "execution_count": 55,
   "metadata": {},
   "outputs": [
    {
     "name": "stdout",
     "output_type": "stream",
     "text": [
      "[]\n",
      "No match\n"
     ]
    }
   ],
   "source": [
    "import re\n",
    "\n",
    "str = \"The rain in Spain\"\n",
    "#Check if the string contains any digits (numbers from 0-9):\n",
    "x = re.findall(\"\\d\", str)\n",
    "print(x)\n",
    "\n",
    "if (x):\n",
    "    print(\"Yes, there is at least one match!\")\n",
    "else:\n",
    "    print(\"No match\")"
   ]
  },
  {
   "cell_type": "markdown",
   "metadata": {},
   "source": [
    "#### 特殊字符 \\D"
   ]
  },
  {
   "cell_type": "code",
   "execution_count": 56,
   "metadata": {},
   "outputs": [
    {
     "name": "stdout",
     "output_type": "stream",
     "text": [
      "['T', 'h', 'e', ' ', 'r', 'a', 'i', 'n', ' ', 'i', 'n', ' ', 'S', 'p', 'a', 'i', 'n']\n",
      "Yes, there is at least one match!\n"
     ]
    }
   ],
   "source": [
    "import re\n",
    "\n",
    "str = \"The rain in Spain\"\n",
    "#Return a match at every no-digit character:\n",
    "x = re.findall(\"\\D\", str)\n",
    "print(x)\n",
    "\n",
    "if (x):\n",
    "    print(\"Yes, there is at least one match!\")\n",
    "else:\n",
    "    print(\"No match\")"
   ]
  },
  {
   "cell_type": "markdown",
   "metadata": {},
   "source": [
    "#### 特殊字符 \\s"
   ]
  },
  {
   "cell_type": "code",
   "execution_count": 57,
   "metadata": {},
   "outputs": [
    {
     "name": "stdout",
     "output_type": "stream",
     "text": [
      "[' ', ' ', ' ']\n",
      "Yes, there is at least one match!\n"
     ]
    }
   ],
   "source": [
    "import re\n",
    "\n",
    "str = \"The rain in Spain\"\n",
    "#Return a match at every white-space character:\n",
    "x = re.findall(\"\\s\", str)\n",
    "print(x)\n",
    "\n",
    "if (x):\n",
    "    print(\"Yes, there is at least one match!\")\n",
    "else:\n",
    "    print(\"No match\")"
   ]
  },
  {
   "cell_type": "markdown",
   "metadata": {},
   "source": [
    "#### 特殊字符 \\S"
   ]
  },
  {
   "cell_type": "code",
   "execution_count": 58,
   "metadata": {
    "run_control": {
     "marked": true
    }
   },
   "outputs": [
    {
     "name": "stdout",
     "output_type": "stream",
     "text": [
      "['T', 'h', 'e', 'r', 'a', 'i', 'n', 'i', 'n', 'S', 'p', 'a', 'i', 'n']\n",
      "Yes, there is at least one match!\n"
     ]
    }
   ],
   "source": [
    "import re\n",
    "\n",
    "str = \"The rain in Spain\"\n",
    "#Return a match at every NON white-space character:\n",
    "x = re.findall(\"\\S\", str)\n",
    "print(x)\n",
    "\n",
    "if (x):\n",
    "    print(\"Yes, there is at least one match!\")\n",
    "else:\n",
    "    print(\"No match\")"
   ]
  },
  {
   "cell_type": "markdown",
   "metadata": {},
   "source": [
    "#### 特殊字符 \\w"
   ]
  },
  {
   "cell_type": "code",
   "execution_count": 59,
   "metadata": {},
   "outputs": [
    {
     "name": "stdout",
     "output_type": "stream",
     "text": [
      "['T', 'h', 'e', 'r', 'a', 'i', 'n', 'i', 'n', 'S', 'p', 'a', 'i', 'n']\n",
      "Yes, there is at least one match!\n"
     ]
    }
   ],
   "source": [
    "import re\n",
    "\n",
    "str = \"The rain in Spain\"\n",
    "#Return a match at every word character (characters from a to Z, digits from 0-9, and the underscore _ character):\n",
    "x = re.findall(\"\\w\", str)\n",
    "print(x)\n",
    "\n",
    "if (x):\n",
    "    print(\"Yes, there is at least one match!\")\n",
    "else:\n",
    "    print(\"No match\")"
   ]
  },
  {
   "cell_type": "markdown",
   "metadata": {},
   "source": [
    "#### 特殊字符 \\W"
   ]
  },
  {
   "cell_type": "code",
   "execution_count": 61,
   "metadata": {},
   "outputs": [
    {
     "name": "stdout",
     "output_type": "stream",
     "text": [
      "[' ', ' ', ' ', '!']\n",
      "Yes, there is at least one match!\n"
     ]
    }
   ],
   "source": [
    "import re\n",
    "\n",
    "str = \"The rain in Spain!\"\n",
    "#Return a match at every NON word character (characters NOT between a and Z. Like \"!\", \"?\" white-space etc.):\n",
    "x = re.findall(\"\\W\", str)\n",
    "print(x)\n",
    "\n",
    "if (x):\n",
    "    print(\"Yes, there is at least one match!\")\n",
    "else:\n",
    "    print(\"No match\") "
   ]
  },
  {
   "cell_type": "markdown",
   "metadata": {},
   "source": [
    "#### 特殊字符 /Z"
   ]
  },
  {
   "cell_type": "code",
   "execution_count": 63,
   "metadata": {},
   "outputs": [
    {
     "name": "stdout",
     "output_type": "stream",
     "text": [
      "['Spain']\n",
      "Yes, there is a match!\n"
     ]
    }
   ],
   "source": [
    "import re\n",
    "\n",
    "str = \"The rain in Spain\"\n",
    "#Check if the string ends with \"Spain\":\n",
    "x = re.findall(\"Spain\\Z\", str)\n",
    "print(x)\n",
    "\n",
    "if (x):\n",
    "    print(\"Yes, there is a match!\")\n",
    "else:\n",
    "    print(\"No match\")"
   ]
  },
  {
   "cell_type": "markdown",
   "metadata": {},
   "source": [
    "### 集合(Set)"
   ]
  },
  {
   "cell_type": "markdown",
   "metadata": {},
   "source": [
    "集合(Set)是一对方括号[]内的一组字符,具有特殊含义"
   ]
  },
  {
   "cell_type": "markdown",
   "metadata": {},
   "source": [
    "|集合|描述|\n",
    "|----|----|\n",
    "|[arn]|返回一个匹配项，其中存在指定字符（a，r 或 n）之一|\n",
    "|[a-n]|返回字母顺序 a 和 n 之间的任意小写字符匹配项|\n",
    "|[^arn]|返回除 a、r 和 n 之外的任意字符的匹配项|\n",
    "|[0123]|返回存在任何指定数字（0、1、2 或 3）的匹配项|\n",
    "|[0-9]|返回 0 与 9 之间任意数字的匹配|\n",
    "|[0-5][0-9]|返回介于 0 到 9 之间的任何数字的匹配项|\n",
    "|[a-zA-Z]|返回字母顺序 a 和 z 之间的任何字符的匹配，小写或大写|\n",
    "|[+]|在集合中，+、*、.、、()、$、{} 没有特殊含义，因此 [+] 表示：返回字符串中任何 + 字符的匹配项|"
   ]
  },
  {
   "cell_type": "markdown",
   "metadata": {},
   "source": [
    "#### 集合 [arn]"
   ]
  },
  {
   "cell_type": "code",
   "execution_count": 64,
   "metadata": {},
   "outputs": [
    {
     "name": "stdout",
     "output_type": "stream",
     "text": [
      "['r', 'a', 'n', 'n', 'a', 'n']\n",
      "Yes, there is at least one match!\n"
     ]
    }
   ],
   "source": [
    "import re\n",
    "\n",
    "str = \"The rain in Spain\"\n",
    "#Check if the string has any a, r, or n characters:\n",
    "x = re.findall(\"[arn]\", str)\n",
    "print(x)\n",
    "\n",
    "if (x):\n",
    "    print(\"Yes, there is at least one match!\")\n",
    "else:\n",
    "    print(\"No match\")"
   ]
  },
  {
   "cell_type": "markdown",
   "metadata": {},
   "source": [
    "#### 集合 [a-n]"
   ]
  },
  {
   "cell_type": "code",
   "execution_count": 65,
   "metadata": {},
   "outputs": [
    {
     "name": "stdout",
     "output_type": "stream",
     "text": [
      "['h', 'e', 'a', 'i', 'n', 'i', 'n', 'a', 'i', 'n']\n",
      "Yes, there is at least one match!\n"
     ]
    }
   ],
   "source": [
    "import re\n",
    "\n",
    "str = \"The rain in Spain\"\n",
    "#Check if the string has any characters between a and n:\n",
    "x = re.findall(\"[a-n]\", str)\n",
    "print(x)\n",
    "\n",
    "if (x):\n",
    "    print(\"Yes, there is at least one match!\")\n",
    "else:\n",
    "    print(\"No match\")"
   ]
  },
  {
   "cell_type": "markdown",
   "metadata": {},
   "source": [
    "#### 集合 [^arn]"
   ]
  },
  {
   "cell_type": "code",
   "execution_count": 66,
   "metadata": {},
   "outputs": [
    {
     "name": "stdout",
     "output_type": "stream",
     "text": [
      "['T', 'h', 'e', ' ', 'i', ' ', 'i', ' ', 'S', 'p', 'i']\n",
      "Yes, there is at least one match!\n"
     ]
    }
   ],
   "source": [
    "import re\n",
    "\n",
    "str = \"The rain in Spain\"\n",
    "#Check if the string has other characters than a, r, or n:\n",
    "x = re.findall(\"[^arn]\", str)\n",
    "print(x)\n",
    "\n",
    "if (x):\n",
    "    print(\"Yes, there is at least one match!\")\n",
    "else:\n",
    "    print(\"No match\")"
   ]
  },
  {
   "cell_type": "markdown",
   "metadata": {},
   "source": [
    "#### 集合 [0123]"
   ]
  },
  {
   "cell_type": "code",
   "execution_count": 67,
   "metadata": {},
   "outputs": [
    {
     "name": "stdout",
     "output_type": "stream",
     "text": [
      "[]\n",
      "No match\n"
     ]
    }
   ],
   "source": [
    "import re\n",
    "\n",
    "str = \"The rain in Spain\"\n",
    "#Check if the string has any 0, 1, 2, or 3 digits:\n",
    "x = re.findall(\"[0123]\", str)\n",
    "print(x)\n",
    "\n",
    "if (x):\n",
    "    print(\"Yes, there is at least one match!\")\n",
    "else:\n",
    "    print(\"No match\")"
   ]
  },
  {
   "cell_type": "markdown",
   "metadata": {},
   "source": [
    "#### 集合 [0-9]"
   ]
  },
  {
   "cell_type": "code",
   "execution_count": 68,
   "metadata": {},
   "outputs": [
    {
     "name": "stdout",
     "output_type": "stream",
     "text": [
      "['8', '1', '1', '4', '5']\n",
      "Yes, there is at least one match!\n"
     ]
    }
   ],
   "source": [
    "import re\n",
    "\n",
    "str = \"8 times before 11:45 AM\"\n",
    "#Check if the string has any digits:\n",
    "x = re.findall(\"[0-9]\", str)\n",
    "print(x)\n",
    "\n",
    "if (x):\n",
    "    print(\"Yes, there is at least one match!\")\n",
    "else:\n",
    "    print(\"No match\")"
   ]
  },
  {
   "cell_type": "markdown",
   "metadata": {},
   "source": [
    "#### 集合 [0-5][0-9]"
   ]
  },
  {
   "cell_type": "code",
   "execution_count": 69,
   "metadata": {},
   "outputs": [
    {
     "name": "stdout",
     "output_type": "stream",
     "text": [
      "['11', '45']\n",
      "Yes, there is at least one match!\n"
     ]
    }
   ],
   "source": [
    "import re\n",
    "\n",
    "str = \"8 times before 11:45 AM\"\n",
    "#Checkif the string has any two-digit numbers, from 00 to 59:\n",
    "x = re.findall(\"[0-5][0-9]\", str)\n",
    "print(x)\n",
    "\n",
    "if (x):\n",
    "    print(\"Yes, there is at least one match!\")\n",
    "else:\n",
    "    print(\"No match\")"
   ]
  },
  {
   "cell_type": "markdown",
   "metadata": {},
   "source": [
    "#### 集合 [a-zA-Z]"
   ]
  },
  {
   "cell_type": "code",
   "execution_count": 70,
   "metadata": {},
   "outputs": [
    {
     "name": "stdout",
     "output_type": "stream",
     "text": [
      "['t', 'i', 'm', 'e', 's', 'b', 'e', 'f', 'o', 'r', 'e', 'A', 'M']\n",
      "Yes, there is at least one match!\n"
     ]
    }
   ],
   "source": [
    "import re\n",
    "\n",
    "str = \"8 times before 11:45 AM\"\n",
    "#Check if the string has any characters from a to z lower case, and A to Z upper case:\n",
    "x = re.findall(\"[a-zA-Z]\", str)\n",
    "print(x)\n",
    "\n",
    "if (x):\n",
    "    print(\"Yes, there is at least one match!\")\n",
    "else:\n",
    "    print(\"No match\")"
   ]
  },
  {
   "cell_type": "markdown",
   "metadata": {},
   "source": [
    "#### 集合 [+]"
   ]
  },
  {
   "cell_type": "code",
   "execution_count": 72,
   "metadata": {},
   "outputs": [
    {
     "name": "stdout",
     "output_type": "stream",
     "text": [
      "['|', '|', '|']\n",
      "Yes, there is at least one match!\n"
     ]
    }
   ],
   "source": [
    "import re\n",
    "\n",
    "str = \"8 times before 11:45 AM|||\"\n",
    "#Check if the string has any + characters:\n",
    "x = re.findall(\"[|]\", str)\n",
    "print(x)\n",
    "\n",
    "if (x):\n",
    "    print(\"Yes, there is at least one match!\")\n",
    "else:\n",
    "    print(\"No match\")"
   ]
  },
  {
   "cell_type": "markdown",
   "metadata": {},
   "source": [
    "### 函数"
   ]
  },
  {
   "cell_type": "markdown",
   "metadata": {},
   "source": [
    "#### findall() 函数"
   ]
  },
  {
   "cell_type": "markdown",
   "metadata": {},
   "source": [
    "findall() 函数返回包含所有匹配项的列表"
   ]
  },
  {
   "cell_type": "code",
   "execution_count": 79,
   "metadata": {},
   "outputs": [
    {
     "name": "stdout",
     "output_type": "stream",
     "text": [
      "['a', 'a', 'a']\n"
     ]
    }
   ],
   "source": [
    "import re\n",
    "\n",
    "str = \"China is a great country\"\n",
    "x = re.findall('a', str)\n",
    "print(x)"
   ]
  },
  {
   "cell_type": "markdown",
   "metadata": {},
   "source": [
    "#### search() 函数"
   ]
  },
  {
   "cell_type": "markdown",
   "metadata": {},
   "source": [
    "search()函数搜索字符串中的匹配项,如果存在匹配则返回Match对象"
   ]
  },
  {
   "cell_type": "code",
   "execution_count": 86,
   "metadata": {},
   "outputs": [
    {
     "name": "stdout",
     "output_type": "stream",
     "text": [
      "<re.Match object; span=(5, 6), match=' '>\n",
      "5\n"
     ]
    }
   ],
   "source": [
    "import re\n",
    "\n",
    "str = \"China is a great country\"\n",
    "x = re.search(\"\\s\", str)\n",
    "\n",
    "print(x)\n",
    "print(x.start())"
   ]
  },
  {
   "cell_type": "markdown",
   "metadata": {},
   "source": [
    "#### split()函数"
   ]
  },
  {
   "cell_type": "markdown",
   "metadata": {},
   "source": [
    "split() 函数返回一个列表,其中字符串在每次匹配时被拆分"
   ]
  },
  {
   "cell_type": "code",
   "execution_count": 88,
   "metadata": {},
   "outputs": [
    {
     "name": "stdout",
     "output_type": "stream",
     "text": [
      "['China', 'is', 'a', 'great', 'country']\n"
     ]
    }
   ],
   "source": [
    "import re\n",
    "\n",
    "str = \"China is a great country\"\n",
    "x = re.split(\"\\s\", str)\n",
    "print(x)"
   ]
  },
  {
   "cell_type": "code",
   "execution_count": 92,
   "metadata": {},
   "outputs": [
    {
     "name": "stdout",
     "output_type": "stream",
     "text": [
      "['China', 'is', 'a', 'great country']\n"
     ]
    }
   ],
   "source": [
    "import re\n",
    "\n",
    "str = \"China is a great country\"\n",
    "x = re.split(\"\\s\", str, maxsplit = 3)      ### 可以通过指定 maxsplit 参数来控制出现次数\n",
    "print(x)"
   ]
  },
  {
   "cell_type": "markdown",
   "metadata": {},
   "source": [
    "#### sub() 函数"
   ]
  },
  {
   "cell_type": "markdown",
   "metadata": {},
   "source": [
    "sub()函数把匹配替换为您选择的文本"
   ]
  },
  {
   "cell_type": "code",
   "execution_count": 94,
   "metadata": {},
   "outputs": [
    {
     "name": "stdout",
     "output_type": "stream",
     "text": [
      "China_is_a_great_country\n"
     ]
    }
   ],
   "source": [
    "import re\n",
    "\n",
    "str = \"China is a great country\"\n",
    "x = re.sub(\"\\s\", \"_\", str)\n",
    "print(x)"
   ]
  },
  {
   "cell_type": "code",
   "execution_count": 96,
   "metadata": {},
   "outputs": [
    {
     "name": "stdout",
     "output_type": "stream",
     "text": [
      "China_is_a great country\n"
     ]
    }
   ],
   "source": [
    "import re\n",
    "\n",
    "str = \"China is a great country\"\n",
    "x = re.sub(\"\\s\", \"_\", str, count = 2)     ### 可以通过 count参数来控制替换次数\n",
    "print(x)"
   ]
  },
  {
   "cell_type": "markdown",
   "metadata": {},
   "source": [
    "#### Match 对象"
   ]
  },
  {
   "cell_type": "markdown",
   "metadata": {},
   "source": [
    "Match 对象是包含有关搜索和结果信息的对象<br>\n",
    "注释：如果没有匹配，则返回值 None，而不是 Match 对象"
   ]
  },
  {
   "cell_type": "code",
   "execution_count": 97,
   "metadata": {},
   "outputs": [
    {
     "name": "stdout",
     "output_type": "stream",
     "text": [
      "<re.Match object; span=(4, 5), match='a'>\n"
     ]
    }
   ],
   "source": [
    "import re\n",
    "\n",
    "str = \"China is a great country\"\n",
    "x = re.search(\"a\", str)\n",
    "print(x) # 将打印一个对象"
   ]
  },
  {
   "cell_type": "markdown",
   "metadata": {},
   "source": [
    "+ span() 返回的元组包含了匹配的开始和结束位置\n",
    "+ .string 返回传入函数的字符串\n",
    "+ group() 返回匹配的字符串部分"
   ]
  },
  {
   "cell_type": "code",
   "execution_count": 99,
   "metadata": {},
   "outputs": [
    {
     "name": "stdout",
     "output_type": "stream",
     "text": [
      "(0, 5)\n"
     ]
    }
   ],
   "source": [
    "import re\n",
    "\n",
    "str = \"China is a great country\"\n",
    "x = re.search(r\"\\bC\\w+\", str)\n",
    "print(x.span())"
   ]
  },
  {
   "cell_type": "code",
   "execution_count": 100,
   "metadata": {},
   "outputs": [
    {
     "name": "stdout",
     "output_type": "stream",
     "text": [
      "China is a great country\n"
     ]
    }
   ],
   "source": [
    "import re\n",
    "\n",
    "str = \"China is a great country\"\n",
    "x = re.search(r\"\\bC\\w+\", str)\n",
    "print(x.string)"
   ]
  },
  {
   "cell_type": "code",
   "execution_count": 101,
   "metadata": {},
   "outputs": [
    {
     "name": "stdout",
     "output_type": "stream",
     "text": [
      "China\n"
     ]
    }
   ],
   "source": [
    "import re\n",
    "\n",
    "str = \"China is a great country\"\n",
    "x = re.search(r\"\\bC\\w+\", str)\n",
    "print(x.group())"
   ]
  }
 ],
 "metadata": {
  "kernelspec": {
   "display_name": "Python 3",
   "language": "python",
   "name": "python3"
  },
  "language_info": {
   "codemirror_mode": {
    "name": "ipython",
    "version": 3
   },
   "file_extension": ".py",
   "mimetype": "text/x-python",
   "name": "python",
   "nbconvert_exporter": "python",
   "pygments_lexer": "ipython3",
   "version": "3.8.5"
  },
  "toc": {
   "base_numbering": 1,
   "nav_menu": {},
   "number_sections": true,
   "sideBar": true,
   "skip_h1_title": false,
   "title_cell": "Table of Contents",
   "title_sidebar": "Contents",
   "toc_cell": false,
   "toc_position": {},
   "toc_section_display": true,
   "toc_window_display": false
  }
 },
 "nbformat": 4,
 "nbformat_minor": 4
}
