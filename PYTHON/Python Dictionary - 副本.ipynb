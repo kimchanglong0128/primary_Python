{
 "cells": [
  {
   "cell_type": "markdown",
   "metadata": {},
   "source": [
    "### Python visiting Dictionary"
   ]
  },
  {
   "cell_type": "code",
   "execution_count": 2,
   "metadata": {},
   "outputs": [
    {
     "name": "stdout",
     "output_type": "stream",
     "text": [
      "dict['Name']:  Zara\n",
      "dict['Age']:  7\n"
     ]
    }
   ],
   "source": [
    "dict = {'Name': 'Zara', 'Age': 7, 'Class': 'First'}\n",
    "print(\"dict['Name']: \", dict['Name'])\n",
    "print(\"dict['Age']: \", dict['Age'])"
   ]
  },
  {
   "cell_type": "markdown",
   "metadata": {},
   "source": [
    "### python 更新字典"
   ]
  },
  {
   "cell_type": "code",
   "execution_count": 4,
   "metadata": {},
   "outputs": [
    {
     "name": "stdout",
     "output_type": "stream",
     "text": [
      "dict['Age']:  8\n",
      "dict['School']:  DPS School\n"
     ]
    }
   ],
   "source": [
    "dict = {'Name': 'Zara', 'Age': 7, 'Class': 'First'}\n",
    "dict['Age'] = 8                                     # update existing entry\n",
    "dict['School'] = \"DPS School\"                       # Add new entry\n",
    "\n",
    "print(\"dict['Age']: \", dict['Age'])\n",
    "print(\"dict['School']: \", dict['School'])"
   ]
  },
  {
   "cell_type": "markdown",
   "metadata": {},
   "source": [
    "### Python 删除字典元素"
   ]
  },
  {
   "cell_type": "code",
   "execution_count": 9,
   "metadata": {},
   "outputs": [
    {
     "name": "stdout",
     "output_type": "stream",
     "text": [
      "{'Age': 7, 'Class': 'First'}\n",
      "<class 'dict'>\n"
     ]
    }
   ],
   "source": [
    "dict = {'Name': 'Zara', 'Age': 7, 'Class': 'First'}\n",
    "del dict['Name'] # remove entry with key 'Name'\n",
    "print(dict)\n",
    "dict.clear()     # remove all entries in dict\n",
    "del dict         # delete entire dictionary\n",
    "print(dict)"
   ]
  },
  {
   "cell_type": "markdown",
   "metadata": {},
   "source": [
    "### Python 字典key属性"
   ]
  },
  {
   "cell_type": "code",
   "execution_count": 10,
   "metadata": {},
   "outputs": [
    {
     "name": "stdout",
     "output_type": "stream",
     "text": [
      "dict['Name']:  Manni\n"
     ]
    }
   ],
   "source": [
    "dict = {'Name': 'Zara', 'Age': 7, 'Name': 'Manni'}\n",
    "print(\"dict['Name']: \", dict['Name'])"
   ]
  },
  {
   "cell_type": "markdown",
   "metadata": {},
   "source": [
    "### Python 字典键唯一"
   ]
  },
  {
   "cell_type": "code",
   "execution_count": 12,
   "metadata": {},
   "outputs": [
    {
     "name": "stdout",
     "output_type": "stream",
     "text": [
      "dict['Name']:  Zara\n"
     ]
    }
   ],
   "source": [
    "dict = {'Name': 'Zara', 'Age': 7}\n",
    "print(\"dict['Name']: \", dict['Name'])"
   ]
  },
  {
   "cell_type": "markdown",
   "metadata": {},
   "source": [
    "### Python Dictionary len()"
   ]
  },
  {
   "cell_type": "code",
   "execution_count": 17,
   "metadata": {},
   "outputs": [
    {
     "name": "stdout",
     "output_type": "stream",
     "text": [
      "Length : 2\n"
     ]
    }
   ],
   "source": [
    "dict = {'Name': 'Zara', 'Age': 7}\n",
    "print(\"Length : %d\" %len(dict))"
   ]
  },
  {
   "cell_type": "markdown",
   "metadata": {},
   "source": [
    "### Python Dictionary str()"
   ]
  },
  {
   "cell_type": "raw",
   "metadata": {},
   "source": [
    "Python (Dictionary) str() 函数将值转化为适于人阅读的形式，以可打印的字符串表示"
   ]
  },
  {
   "cell_type": "code",
   "execution_count": 16,
   "metadata": {},
   "outputs": [
    {
     "name": "stdout",
     "output_type": "stream",
     "text": [
      "Equivalent String : {'Name': 'Zara', 'Age': 7}\n"
     ]
    }
   ],
   "source": [
    "dict = {'Name': 'Zara', 'Age': 7}\n",
    "print(\"Equivalent String : %s\" %str(dict))"
   ]
  },
  {
   "cell_type": "markdown",
   "metadata": {},
   "source": [
    "### Python Dictionary type()"
   ]
  },
  {
   "cell_type": "code",
   "execution_count": 18,
   "metadata": {},
   "outputs": [
    {
     "name": "stdout",
     "output_type": "stream",
     "text": [
      "Variable Type : <class 'dict'>\n"
     ]
    }
   ],
   "source": [
    "dict = {'Name': 'Zara', 'Age': 7}\n",
    "print (\"Variable Type : %s\" %type(dict))"
   ]
  },
  {
   "cell_type": "markdown",
   "metadata": {},
   "source": [
    "### Python Dictionary clear() "
   ]
  },
  {
   "cell_type": "code",
   "execution_count": 20,
   "metadata": {},
   "outputs": [
    {
     "name": "stdout",
     "output_type": "stream",
     "text": [
      "Start Len : 2\n",
      "End Len : 0\n"
     ]
    }
   ],
   "source": [
    "dict = {'Name': 'Zara', 'Age': 7}\n",
    "print(\"Start Len : %d\" %len(dict))\n",
    "dict.clear()\n",
    "print(\"End Len : %d\" %len(dict))"
   ]
  },
  {
   "cell_type": "markdown",
   "metadata": {},
   "source": [
    "### Python Dictionary copy()"
   ]
  },
  {
   "cell_type": "code",
   "execution_count": 21,
   "metadata": {},
   "outputs": [
    {
     "name": "stdout",
     "output_type": "stream",
     "text": [
      "New Dictionary : {'Name': 'Zara', 'Age': 7}\n"
     ]
    }
   ],
   "source": [
    "dict1 = {'Name': 'Zara', 'Age': 7}\n",
    "dict2 = dict1.copy()\n",
    "print(\"New Dictionary : %s\"%str(dict2))"
   ]
  },
  {
   "cell_type": "markdown",
   "metadata": {},
   "source": [
    "### Python Dictionary fromkeys()"
   ]
  },
  {
   "cell_type": "code",
   "execution_count": 24,
   "metadata": {},
   "outputs": [
    {
     "name": "stdout",
     "output_type": "stream",
     "text": [
      "New Dictionary : {'name': None, 'age': None, 'sex': None}\n",
      "New Dictionary : {'name': 10, 'age': 10, 'sex': 10}\n"
     ]
    }
   ],
   "source": [
    "seq = ('name', 'age', 'sex')\n",
    "dict = dict.fromkeys(seq)\n",
    "print(\"New Dictionary : %s\"%str(dict))\n",
    "\n",
    "dict = dict.fromkeys(seq, 10)\n",
    "print(\"New Dictionary : %s\"%str(dict))"
   ]
  },
  {
   "cell_type": "markdown",
   "metadata": {},
   "source": [
    "### Python Dictionary get()"
   ]
  },
  {
   "cell_type": "code",
   "execution_count": 25,
   "metadata": {},
   "outputs": [
    {
     "name": "stdout",
     "output_type": "stream",
     "text": [
      "Value : 7\n",
      "Value : Never\n"
     ]
    }
   ],
   "source": [
    "dict = {'Name': 'Zabra', 'Age': 7}\n",
    "print(\"Value : %s\" %dict.get('Age'))\n",
    "print(\"Value : %s\" %dict.get('Education', \"Never\"))"
   ]
  },
  {
   "cell_type": "markdown",
   "metadata": {},
   "source": [
    "### Python Dictionary items() "
   ]
  },
  {
   "cell_type": "code",
   "execution_count": 27,
   "metadata": {},
   "outputs": [
    {
     "name": "stdout",
     "output_type": "stream",
     "text": [
      "Value : dict_items([('Name', 'Zara'), ('Age', 7)])\n"
     ]
    }
   ],
   "source": [
    "dict = {'Name': 'Zara', 'Age': 7}\n",
    "print(\"Value : %s\"%dict.items())"
   ]
  },
  {
   "cell_type": "markdown",
   "metadata": {},
   "source": [
    "### Python Dictionary keys()"
   ]
  },
  {
   "cell_type": "code",
   "execution_count": 28,
   "metadata": {},
   "outputs": [
    {
     "name": "stdout",
     "output_type": "stream",
     "text": [
      "Value : dict_keys(['Name', 'Age'])\n"
     ]
    }
   ],
   "source": [
    "dict = {'Name': 'Zara', 'Age': 7}\n",
    "print(\"Value : %s\" %dict.keys())"
   ]
  },
  {
   "cell_type": "markdown",
   "metadata": {},
   "source": [
    "### Python Dictionary setdefault() "
   ]
  },
  {
   "cell_type": "raw",
   "metadata": {},
   "source": [
    "Python setdefault()函数和get()方法类似,如果键不存在于字典中，将会添加键并将值设为默认值"
   ]
  },
  {
   "cell_type": "raw",
   "metadata": {},
   "source": [
    "dict.setdefault(key, default=None)"
   ]
  },
  {
   "cell_type": "code",
   "execution_count": 31,
   "metadata": {},
   "outputs": [
    {
     "name": "stdout",
     "output_type": "stream",
     "text": [
      "Value : 7\n",
      "Value : None\n"
     ]
    }
   ],
   "source": [
    "dict = {'Name': 'Zara', 'Age': 7}\n",
    "print(\"Value : %s\"%dict.setdefault('Age', None))\n",
    "print(\"Value : %s\"%dict.setdefault('Sex', None))"
   ]
  },
  {
   "cell_type": "markdown",
   "metadata": {},
   "source": [
    "### Python Dictionary update()"
   ]
  },
  {
   "cell_type": "code",
   "execution_count": 33,
   "metadata": {},
   "outputs": [
    {
     "name": "stdout",
     "output_type": "stream",
     "text": [
      "Value : {'Name': 'Zara', 'Age': 7, 'Sex': 'female'}\n"
     ]
    }
   ],
   "source": [
    "dict = {'Name': 'Zara', 'Age': 7}\n",
    "dict2 = {'Sex': 'female' }\n",
    "\n",
    "dict.update(dict2)\n",
    "print(\"Value : %s\" %dict)"
   ]
  },
  {
   "cell_type": "markdown",
   "metadata": {},
   "source": [
    "### Python Dictionary values() "
   ]
  },
  {
   "cell_type": "code",
   "execution_count": 34,
   "metadata": {},
   "outputs": [
    {
     "name": "stdout",
     "output_type": "stream",
     "text": [
      "Value : dict_values(['Zara', 7])\n"
     ]
    }
   ],
   "source": [
    "dict = {'Name': 'Zara', 'Age': 7}\n",
    "print(\"Value : %s\"%dict.values())"
   ]
  }
 ],
 "metadata": {
  "kernelspec": {
   "display_name": "Python 3",
   "language": "python",
   "name": "python3"
  },
  "language_info": {
   "codemirror_mode": {
    "name": "ipython",
    "version": 3
   },
   "file_extension": ".py",
   "mimetype": "text/x-python",
   "name": "python",
   "nbconvert_exporter": "python",
   "pygments_lexer": "ipython3",
   "version": "3.8.5"
  },
  "toc": {
   "base_numbering": 1,
   "nav_menu": {},
   "number_sections": true,
   "sideBar": true,
   "skip_h1_title": false,
   "title_cell": "Table of Contents",
   "title_sidebar": "Contents",
   "toc_cell": false,
   "toc_position": {},
   "toc_section_display": true,
   "toc_window_display": false
  }
 },
 "nbformat": 4,
 "nbformat_minor": 4
}
