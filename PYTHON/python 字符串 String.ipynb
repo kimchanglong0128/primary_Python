{
 "cells": [
  {
   "cell_type": "markdown",
   "metadata": {},
   "source": [
    "### Assigning values in Strings"
   ]
  },
  {
   "cell_type": "code",
   "execution_count": 1,
   "metadata": {},
   "outputs": [
    {
     "name": "stdout",
     "output_type": "stream",
     "text": [
      "H\n",
      "ytho\n"
     ]
    }
   ],
   "source": [
    "var1 = 'Hello World!'\n",
    "var2 = \"Python Programming\"\n",
    "\n",
    "print(var1[0])\n",
    "print(var2[1:5])"
   ]
  },
  {
   "cell_type": "markdown",
   "metadata": {},
   "source": [
    "###  Updating strings"
   ]
  },
  {
   "cell_type": "code",
   "execution_count": 2,
   "metadata": {},
   "outputs": [
    {
     "data": {
      "text/plain": [
       "'Hello Python'"
      ]
     },
     "execution_count": 2,
     "metadata": {},
     "output_type": "execute_result"
    }
   ],
   "source": [
    "var1 = 'Hello World!'\n",
    "var1[:6] + 'Python'"
   ]
  },
  {
   "cell_type": "markdown",
   "metadata": {},
   "source": [
    "### 字符串String Formatting"
   ]
  },
  {
   "cell_type": "code",
   "execution_count": null,
   "metadata": {},
   "outputs": [],
   "source": [
    "\"My name is %s and weight is %d kg!\" % ('Zara', 21)"
   ]
  },
  {
   "cell_type": "markdown",
   "metadata": {},
   "source": [
    "### Triple quotes"
   ]
  },
  {
   "cell_type": "code",
   "execution_count": null,
   "metadata": {},
   "outputs": [],
   "source": [
    "para_str = \"\"\"\n",
    "this is a long string that is made up of several lines and non-printable characters such as TAB ( \\t ) and they will show up that way when displayed.\n",
    "NEWLINEs within the string, whether explicitly given like this within the brackets [ \\n ], or just a NEWLINE within the variable assignment will also show up.\n",
    "\"\"\"\n",
    "print (para_str)"
   ]
  },
  {
   "cell_type": "markdown",
   "metadata": {},
   "source": [
    "### Raw String"
   ]
  },
  {
   "cell_type": "code",
   "execution_count": null,
   "metadata": {},
   "outputs": [],
   "source": [
    "'C:\\\\nowhere'"
   ]
  },
  {
   "cell_type": "markdown",
   "metadata": {},
   "source": [
    "### r expression"
   ]
  },
  {
   "cell_type": "code",
   "execution_count": null,
   "metadata": {},
   "outputs": [],
   "source": [
    "r'C:\\\\nowhere'    ### 声明后面的字符串是普通字符串"
   ]
  },
  {
   "cell_type": "markdown",
   "metadata": {},
   "source": [
    "### Unicode String"
   ]
  },
  {
   "cell_type": "code",
   "execution_count": null,
   "metadata": {},
   "outputs": [],
   "source": [
    "u'Hello, world!'        ### 后面字符串以 Unicode 格式 进行编码，一般用在中文字符串前面，防止因为源码储存格式问题，导致再次使用时出现乱码"
   ]
  },
  {
   "cell_type": "markdown",
   "metadata": {},
   "source": [
    "### 字符串String Captalize() "
   ]
  },
  {
   "cell_type": "code",
   "execution_count": null,
   "metadata": {},
   "outputs": [],
   "source": [
    "str = \"this is string example....wow!!!\"   ### 将字符串的第一个字母变成大写,其他字母变小写\n",
    "str.capitalize()"
   ]
  },
  {
   "cell_type": "markdown",
   "metadata": {},
   "source": [
    "### 字符串String center() "
   ]
  },
  {
   "cell_type": "raw",
   "metadata": {},
   "source": [
    "str.center(width[, fillchar])   ### width:字符串总宽度  fillchar:填充字符"
   ]
  },
  {
   "cell_type": "code",
   "execution_count": null,
   "metadata": {},
   "outputs": [],
   "source": [
    "str = \"this is string example....wow!!!\"\n",
    "str.center(40, ' ')"
   ]
  },
  {
   "cell_type": "markdown",
   "metadata": {},
   "source": [
    "### 字符串String count() "
   ]
  },
  {
   "cell_type": "code",
   "execution_count": null,
   "metadata": {},
   "outputs": [],
   "source": [
    "str = \"this is string example....wow!!!\" \n",
    "\n",
    "sub = \"i\"\n",
    "print(str.count(sub))                       ### 返回指定值在字符串中出现的次数\n",
    "sub = \"wow\"\n",
    "print(str.count(sub))\n",
    "print(str.count(' '))"
   ]
  },
  {
   "cell_type": "markdown",
   "metadata": {},
   "source": [
    "### 字符串String ljust"
   ]
  },
  {
   "cell_type": "raw",
   "metadata": {},
   "source": [
    "返回一个原字符串左对齐,并使用空格填充至指定长度的新字符串。如果指定的长度小于原字符串的长度则返回原字符串"
   ]
  },
  {
   "cell_type": "raw",
   "metadata": {},
   "source": [
    "str.ljust(width[, fillchar])"
   ]
  },
  {
   "cell_type": "code",
   "execution_count": null,
   "metadata": {
    "scrolled": true
   },
   "outputs": [],
   "source": [
    "str = \"this is string example....wow!!!\";\n",
    "print(str.ljust(50, '0'))"
   ]
  },
  {
   "cell_type": "markdown",
   "metadata": {},
   "source": [
    "### 字符串String rjust() "
   ]
  },
  {
   "cell_type": "markdown",
   "metadata": {},
   "source": [
    "将使用指定的字符（默认为空格）作为填充字符，将字符串右对齐"
   ]
  },
  {
   "cell_type": "markdown",
   "metadata": {},
   "source": [
    "string.rjust(length, character)"
   ]
  },
  {
   "cell_type": "code",
   "execution_count": null,
   "metadata": {},
   "outputs": [],
   "source": [
    "str = \"this is string example....wow!!!\";\n",
    "print(str.rjust(50, '0'))"
   ]
  },
  {
   "cell_type": "markdown",
   "metadata": {},
   "source": [
    "### 字符串String zfill()"
   ]
  },
  {
   "cell_type": "raw",
   "metadata": {},
   "source": [
    "返回指定长度的字符串，原字符串右对齐，前面填充0"
   ]
  },
  {
   "cell_type": "raw",
   "metadata": {},
   "source": [
    "str.zfill(width)"
   ]
  },
  {
   "cell_type": "code",
   "execution_count": null,
   "metadata": {},
   "outputs": [],
   "source": [
    "str = \"this is string example....wow!!!\";\n",
    "print(str.zfill(40))\n",
    "print(str.zfill(50))"
   ]
  },
  {
   "cell_type": "markdown",
   "metadata": {},
   "source": [
    "### 字符串String decode/decode"
   ]
  },
  {
   "cell_type": "code",
   "execution_count": null,
   "metadata": {},
   "outputs": [],
   "source": [
    "import base64                                    ### 编码解码\n",
    "\n",
    "print(base64.b64encode(b\"jinchanglong\"))         ### 编码长度无所谓\n",
    "print(base64.b64decode(b'amluY2hhbmdsb25n'))     ### 解码长度必为4的倍数"
   ]
  },
  {
   "cell_type": "markdown",
   "metadata": {},
   "source": [
    "### 字符串String startswith()"
   ]
  },
  {
   "cell_type": "raw",
   "metadata": {},
   "source": [
    "字符串以指定值开头，则 startswith() 方法返回 True，否则返回 False"
   ]
  },
  {
   "cell_type": "raw",
   "metadata": {},
   "source": [
    "string.startswith(value, start, end)"
   ]
  },
  {
   "cell_type": "code",
   "execution_count": null,
   "metadata": {},
   "outputs": [],
   "source": [
    "str = \"this is string example....wow!!!\";\n",
    "print(str.startswith('this'))\n",
    "print(str.startswith('is', 2, 4 ))\n",
    "print(str.startswith('this', 5, 7 ))"
   ]
  },
  {
   "cell_type": "markdown",
   "metadata": {},
   "source": [
    "### 字符串String endswith()"
   ]
  },
  {
   "cell_type": "raw",
   "metadata": {},
   "source": [
    "字符串以指定值结尾，则 endswith() 方法返回 True，否则返回 False"
   ]
  },
  {
   "cell_type": "raw",
   "metadata": {},
   "source": [
    "string.endswith(value, start, end)"
   ]
  },
  {
   "cell_type": "code",
   "execution_count": null,
   "metadata": {},
   "outputs": [],
   "source": [
    "txt = \"Hello, welcome to my world.\"\n",
    "\n",
    "x = txt.endswith(\".\")\n",
    "\n",
    "print(x)"
   ]
  },
  {
   "cell_type": "markdown",
   "metadata": {},
   "source": [
    "### 字符串String Expandtabs()"
   ]
  },
  {
   "cell_type": "raw",
   "metadata": {},
   "source": [
    "把字符串中的 tab 符号 \\t 转为空格\n",
    "tab 符号 \\t 默认的空格数是 8，在第 0、8、16...等处给出制表符位置\n",
    "如果当前位置到开始位置或上一个制表符位置的字符数不足 8 的倍数则以空格代替"
   ]
  },
  {
   "cell_type": "raw",
   "metadata": {},
   "source": [
    "str.expandtabs(tabsize=8)"
   ]
  },
  {
   "cell_type": "code",
   "execution_count": null,
   "metadata": {},
   "outputs": [],
   "source": [
    "str = \"this is  (\\t)   string example....wow!!!\"\n",
    "\n",
    "print(\"Original string: \" + str)\n",
    "print(\"Defualt exapanded tab: \" +  str.expandtabs(tabsize = 0))\n",
    "print(\"Double exapanded tab: \" +  str.expandtabs(tabsize = 16))"
   ]
  },
  {
   "cell_type": "markdown",
   "metadata": {},
   "source": [
    "### 字符串String find()"
   ]
  },
  {
   "cell_type": "raw",
   "metadata": {},
   "source": [
    "find() 方法检测字符串中是否包含子字符串 str \n",
    "如果指定 beg（开始） 和 end（结束） 范围\n",
    "则检查是否包含在指定范围内\n",
    "如果包含子字符串返回开始的索引值，否则返回-1"
   ]
  },
  {
   "cell_type": "raw",
   "metadata": {},
   "source": [
    "str.find(str, beg=0, end=len(string))"
   ]
  },
  {
   "cell_type": "code",
   "execution_count": null,
   "metadata": {},
   "outputs": [],
   "source": [
    "str1 = \"this is string example....wow!!!\"        ### 下标索引正常，跳过start/begin前的找到的字符串，向后进行查询\n",
    "str2 = \"exam\"\n",
    "\n",
    "print(str1.find(str2))\n",
    "print(str1.find(str2,10))\n",
    "print(str1.find(str2,40))"
   ]
  },
  {
   "cell_type": "markdown",
   "metadata": {},
   "source": [
    "### 字符串String index()"
   ]
  },
  {
   "cell_type": "raw",
   "metadata": {},
   "source": [
    "index() 方法查找指定值的首次出现。\n",
    "\n",
    "如果找不到该值，index() 方法将引发异常。\n",
    "\n",
    "index() 方法与 find() 方法几乎相同，唯一的区别是，如果找不到该值，则 find() 方法将返回 -1"
   ]
  },
  {
   "cell_type": "raw",
   "metadata": {},
   "source": [
    "string.index(value, start, end)"
   ]
  },
  {
   "cell_type": "code",
   "execution_count": null,
   "metadata": {},
   "outputs": [],
   "source": [
    "str1 = \"this is string example....wow!!!\"\n",
    "str2 = \"exam\"\n",
    "\n",
    "print(str1.index(str2))\n",
    "print(str1.index(str2, 10))\n",
    "try:\n",
    "    str1.index(str2, 40)\n",
    "except ValueError:\n",
    "    print('ValueError: substring not found')"
   ]
  },
  {
   "cell_type": "markdown",
   "metadata": {},
   "source": [
    "### 字符串String isalnum()"
   ]
  },
  {
   "cell_type": "raw",
   "metadata": {},
   "source": [
    "isalnum() 方法检测字符串是否只有字母和数字组成"
   ]
  },
  {
   "cell_type": "raw",
   "metadata": {},
   "source": [
    "str.isalnum()"
   ]
  },
  {
   "cell_type": "code",
   "execution_count": null,
   "metadata": {},
   "outputs": [],
   "source": [
    "str = \"this2009\"  # No space in this string\n",
    "print(str.isalnum())\n",
    "\n",
    "str = \"this is string example....wow!!!\"\n",
    "print(str.isalnum())"
   ]
  },
  {
   "cell_type": "markdown",
   "metadata": {},
   "source": [
    "### 字符串String isalpha()"
   ]
  },
  {
   "cell_type": "raw",
   "metadata": {},
   "source": [
    "isalpha()是用于字符串处理的内置方法\n",
    "如果字符串中的所有字符都是字母，isalpha()方法返回“True”，否则，返回“False”\n",
    "用于检查参数是否仅为字母字符"
   ]
  },
  {
   "cell_type": "raw",
   "metadata": {},
   "source": [
    "str.isalpha()"
   ]
  },
  {
   "cell_type": "code",
   "execution_count": null,
   "metadata": {},
   "outputs": [],
   "source": [
    "str = \"this\"  # No space & digit in this string\n",
    "print(str.isalpha())\n",
    "\n",
    "str = \"this is string example....wow!!!\"\n",
    "print(str.isalpha())"
   ]
  },
  {
   "cell_type": "markdown",
   "metadata": {},
   "source": [
    "### 字符串String isdigit()"
   ]
  },
  {
   "cell_type": "markdown",
   "metadata": {},
   "source": [
    "用于检查参数是否仅为数字字符"
   ]
  },
  {
   "cell_type": "raw",
   "metadata": {},
   "source": [
    "str.isdigit()"
   ]
  },
  {
   "cell_type": "code",
   "execution_count": null,
   "metadata": {},
   "outputs": [],
   "source": [
    "str = \"123456\"  # Only digit in this string\n",
    "print(str.isdigit())\n",
    "\n",
    "str = \"this is string example....wow!!!\"\n",
    "print(str.isdigit())"
   ]
  },
  {
   "cell_type": "markdown",
   "metadata": {},
   "source": [
    "### 字符串String islower()"
   ]
  },
  {
   "cell_type": "raw",
   "metadata": {},
   "source": [
    "用于检查参数是否仅为小写字母字符\n",
    "可以有其他符号"
   ]
  },
  {
   "cell_type": "raw",
   "metadata": {},
   "source": [
    "str.islower()"
   ]
  },
  {
   "cell_type": "code",
   "execution_count": null,
   "metadata": {},
   "outputs": [],
   "source": [
    "str = \"THIS is string example....wow!!!\"\n",
    "print(str.islower())\n",
    "\n",
    "str = \"this is string example....wow!!!\"\n",
    "print(str.islower())"
   ]
  },
  {
   "cell_type": "markdown",
   "metadata": {},
   "source": [
    "### 字符串String isnumeric()"
   ]
  },
  {
   "cell_type": "markdown",
   "metadata": {},
   "source": [
    "检查文本中的所有字符是否都是数字"
   ]
  },
  {
   "cell_type": "raw",
   "metadata": {},
   "source": [
    "str.isnumeric()"
   ]
  },
  {
   "cell_type": "code",
   "execution_count": null,
   "metadata": {},
   "outputs": [],
   "source": [
    "str = \"this2009\"\n",
    "print(str.isnumeric())\n",
    "\n",
    "str = \"23443434\"\n",
    "print(str.isnumeric())"
   ]
  },
  {
   "cell_type": "markdown",
   "metadata": {},
   "source": [
    "### 字符串String isspace()"
   ]
  },
  {
   "cell_type": "raw",
   "metadata": {},
   "source": [
    "如果字符串中的所有字符均为空格字符，则isspace()方法返回“True”，否则，返回“False”\n",
    "此函数用于检查参数是否包含所有空格字符"
   ]
  },
  {
   "cell_type": "raw",
   "metadata": {},
   "source": [
    "str.isspace()"
   ]
  },
  {
   "cell_type": "code",
   "execution_count": null,
   "metadata": {},
   "outputs": [],
   "source": [
    "str = \"       \"\n",
    "print(str.isspace())\n",
    "\n",
    "str = \"This is string example....wow!!!\"\n",
    "print(str.isspace())"
   ]
  },
  {
   "cell_type": "markdown",
   "metadata": {},
   "source": [
    "### 字符串String istitle()"
   ]
  },
  {
   "cell_type": "raw",
   "metadata": {},
   "source": [
    "检测字符串中所有的单词拼写首字母是否为大写，且其他字母为小写"
   ]
  },
  {
   "cell_type": "raw",
   "metadata": {},
   "source": [
    "str.istitle()"
   ]
  },
  {
   "cell_type": "code",
   "execution_count": null,
   "metadata": {},
   "outputs": [],
   "source": [
    "str = \"This Is String Example...Wow!!!\"\n",
    "print(str.istitle())\n",
    "\n",
    "str = \"This is string example....wow!!!\"\n",
    "print(str.istitle())"
   ]
  },
  {
   "cell_type": "markdown",
   "metadata": {},
   "source": [
    "### 字符串String isupper()"
   ]
  },
  {
   "cell_type": "raw",
   "metadata": {},
   "source": [
    "检测字符串中所有的字母是否都为大写"
   ]
  },
  {
   "cell_type": "raw",
   "metadata": {},
   "source": [
    "str.isupper()"
   ]
  },
  {
   "cell_type": "code",
   "execution_count": null,
   "metadata": {},
   "outputs": [],
   "source": [
    "str = \"THIS IS STRING EXAMPLE....WOW!!!\"\n",
    "print(str.isupper())\n",
    "\n",
    "str = \"THIS is string example....wow!!!\"\n",
    "print(str.isupper())"
   ]
  },
  {
   "cell_type": "markdown",
   "metadata": {},
   "source": [
    "### 字符串String join() "
   ]
  },
  {
   "cell_type": "raw",
   "metadata": {},
   "source": [
    "将序列中的元素以指定的字符连接生成一个新的字符串"
   ]
  },
  {
   "cell_type": "raw",
   "metadata": {},
   "source": [
    "str.join(sequence)"
   ]
  },
  {
   "cell_type": "code",
   "execution_count": null,
   "metadata": {},
   "outputs": [],
   "source": [
    "s = \"-\"\n",
    "seq = (\"a\", \"b\", \"c\")  # This is sequence of strings.\n",
    "seq1 = [\"a\", \"b\", \"c\"] # This is sequence of strings.\n",
    "print(s.join(seq))\n",
    "print(s.join(seq1))"
   ]
  },
  {
   "cell_type": "markdown",
   "metadata": {},
   "source": [
    "### 字符串String len()"
   ]
  },
  {
   "cell_type": "code",
   "execution_count": null,
   "metadata": {},
   "outputs": [],
   "source": [
    "str = \"this is string example....wow!!!\"\n",
    "print (\"Length of the string: \", len(str))"
   ]
  },
  {
   "cell_type": "markdown",
   "metadata": {},
   "source": [
    "### 字符串String upper()"
   ]
  },
  {
   "cell_type": "raw",
   "metadata": {},
   "source": [
    "字符串中所有小写字符为大写"
   ]
  },
  {
   "cell_type": "raw",
   "metadata": {},
   "source": [
    "str.upper()"
   ]
  },
  {
   "cell_type": "code",
   "execution_count": null,
   "metadata": {},
   "outputs": [],
   "source": [
    "str = 'this is string example....wow!!!'\n",
    "print(str.upper())"
   ]
  },
  {
   "cell_type": "markdown",
   "metadata": {},
   "source": [
    "### 字符串String lower（）"
   ]
  },
  {
   "cell_type": "raw",
   "metadata": {},
   "source": [
    "字符串中所有大写字符为小写"
   ]
  },
  {
   "cell_type": "raw",
   "metadata": {},
   "source": [
    "str.lower()"
   ]
  },
  {
   "cell_type": "code",
   "execution_count": null,
   "metadata": {},
   "outputs": [],
   "source": [
    "str = \"THIS IS STRING EXAMPLE....WOW!!!\"\n",
    "print(str.lower())"
   ]
  },
  {
   "cell_type": "markdown",
   "metadata": {},
   "source": [
    "### 字符串String lstrip()"
   ]
  },
  {
   "cell_type": "raw",
   "metadata": {},
   "source": [
    "截掉字符串左边的空格或指定字符"
   ]
  },
  {
   "cell_type": "raw",
   "metadata": {},
   "source": [
    "str.lstrip([chars])"
   ]
  },
  {
   "cell_type": "code",
   "execution_count": null,
   "metadata": {},
   "outputs": [],
   "source": [
    "str = \"     this is string example....wow!!!     \"\n",
    "print(str.lstrip())\n",
    "str = \"88888888this is string example....wow!!!8888888\"\n",
    "print(str.lstrip('8'))"
   ]
  },
  {
   "cell_type": "markdown",
   "metadata": {},
   "source": [
    "### 字符串String max()"
   ]
  },
  {
   "cell_type": "raw",
   "metadata": {},
   "source": [
    "max() 方法返回字符串中最大的字母"
   ]
  },
  {
   "cell_type": "raw",
   "metadata": {},
   "source": [
    "max(str)"
   ]
  },
  {
   "cell_type": "code",
   "execution_count": null,
   "metadata": {},
   "outputs": [],
   "source": [
    "str = \"this is really a string example....wow!!!\"\n",
    "print( \"Max character: \" + max(str))\n",
    "str = \"this is a string example....wow!!!\"\n",
    "print(\"Max character: \" + max(str))"
   ]
  },
  {
   "cell_type": "markdown",
   "metadata": {},
   "source": [
    "### 字符串String min()"
   ]
  },
  {
   "cell_type": "raw",
   "metadata": {},
   "source": [
    "max() 方法返回字符串中最的字母(ascii编码)"
   ]
  },
  {
   "cell_type": "raw",
   "metadata": {},
   "source": [
    "min(str)"
   ]
  },
  {
   "cell_type": "code",
   "execution_count": null,
   "metadata": {},
   "outputs": [],
   "source": [
    "str = \"this-is-real-string-example....wow!!!\"\n",
    "print(\"Min character: \" + min(str))\n",
    "\n",
    "str = \"thisisastringexamplewow\"\n",
    "print(\"Min character: \" + min(str))"
   ]
  },
  {
   "cell_type": "markdown",
   "metadata": {},
   "source": [
    "### 字符串String replace()"
   ]
  },
  {
   "cell_type": "markdown",
   "metadata": {},
   "source": [
    "把字符串中的 old（旧字符串） 替换成 new(新字符串)，如果指定第三个参数max，则替换不超过 max 次"
   ]
  },
  {
   "cell_type": "markdown",
   "metadata": {},
   "source": [
    "str.replace(old, new[, max])"
   ]
  },
  {
   "cell_type": "code",
   "execution_count": null,
   "metadata": {},
   "outputs": [],
   "source": [
    "str = \"this is string example....wow!!! this is really string\"\n",
    "print(str.replace(\"is\", \"was\"))\n",
    "print(str.replace(\"is\", \"was\", 3))"
   ]
  },
  {
   "cell_type": "markdown",
   "metadata": {},
   "source": [
    "### 字符串String rfind()"
   ]
  },
  {
   "cell_type": "markdown",
   "metadata": {},
   "source": [
    "返回字符串最后一次出现的位置，如果没有匹配项则返回-1"
   ]
  },
  {
   "cell_type": "markdown",
   "metadata": {},
   "source": [
    "str.rfind(str, beg=0 end=len(string))"
   ]
  },
  {
   "cell_type": "code",
   "execution_count": null,
   "metadata": {},
   "outputs": [],
   "source": [
    "str1 = \"this is really a string example....wow!!!\"\n",
    "str2 = \"is\"\n",
    "\n",
    "print((str1.rfind(str2)))                ### 最后一次\n",
    "print((str1.rfind(str2, 0, 10)))\n",
    "print((str1.rfind(str2, 10, 0)))\n",
    "\n",
    "print((str1.find(str2)))                  ### 第一次\n",
    "print((str1.find(str2, 0, 10)))\n",
    "print((str1.find(str2, 10, 0)))"
   ]
  },
  {
   "cell_type": "markdown",
   "metadata": {},
   "source": [
    "### 字符串String rindex()"
   ]
  },
  {
   "cell_type": "raw",
   "metadata": {},
   "source": [
    "rindex() 方法查找指定值的最后一次出现\n",
    "如果找不到该值，则 rindex() 方法将引发异常\n",
    "rindex() 方法与 rfind() 方法几乎相同"
   ]
  },
  {
   "cell_type": "markdown",
   "metadata": {},
   "source": [
    "string.rindex(value, start, end)"
   ]
  },
  {
   "cell_type": "code",
   "execution_count": null,
   "metadata": {},
   "outputs": [],
   "source": [
    "txt = \"China is a great country. I love China.\"\n",
    "print(txt.rindex(\"China\"))\n",
    "\n",
    "try:\n",
    "    print(txt.rindex(\"dog\"))\n",
    "except ValueError:\n",
    "    print('ValueError: substring not found')"
   ]
  },
  {
   "cell_type": "markdown",
   "metadata": {},
   "source": [
    "### 字符串String strip() "
   ]
  },
  {
   "cell_type": "raw",
   "metadata": {},
   "source": [
    "任何前导(开头的空格)和尾随(结尾的空格)字符"
   ]
  },
  {
   "cell_type": "raw",
   "metadata": {},
   "source": [
    "string.strip(characters)"
   ]
  },
  {
   "cell_type": "code",
   "execution_count": null,
   "metadata": {},
   "outputs": [],
   "source": [
    "str = \"0000000this is string example....wow!!!0000000\"\n",
    "print(str.strip('0'))"
   ]
  },
  {
   "cell_type": "markdown",
   "metadata": {},
   "source": [
    "### 字符串String rstrip() "
   ]
  },
  {
   "cell_type": "markdown",
   "metadata": {},
   "source": [
    "删除 string 字符串末尾的指定字符（默认为空格）"
   ]
  },
  {
   "cell_type": "markdown",
   "metadata": {},
   "source": [
    "str.rstrip([chars])"
   ]
  },
  {
   "cell_type": "code",
   "execution_count": null,
   "metadata": {},
   "outputs": [],
   "source": [
    "str = \"     this is string example....wow!!!     \"\n",
    "print(str.rstrip())\n",
    "str = \"88888888this is string example....wow!!!8888888\"\n",
    "print(str.rstrip('8'))"
   ]
  },
  {
   "cell_type": "markdown",
   "metadata": {},
   "source": [
    "### 字符串String split() "
   ]
  },
  {
   "cell_type": "markdown",
   "metadata": {},
   "source": [
    "通过指定分隔符对字符串进行切片，如果参数 num 有指定值，则分隔 num+1 个子字符串"
   ]
  },
  {
   "cell_type": "raw",
   "metadata": {},
   "source": [
    "str.split(str=\"\", num=string.count(str))\n",
    "str -- 分隔符，默认为所有的空字符，包括空格、换行(\\n)、制表符(\\t)等\n",
    "num -- 分割次数。默认为 -1, 即分隔所有\n",
    "返回值"
   ]
  },
  {
   "cell_type": "code",
   "execution_count": null,
   "metadata": {},
   "outputs": [],
   "source": [
    "str = \"Line1-abcdef \\nLine2-abc \\nLine4-abcd\";\n",
    "print(str.split( ))\n",
    "print(str.split(' ', 1 ))\n",
    "print(str.split(' ', 2 ))\n",
    "print(str.split(' ',-1 ))"
   ]
  },
  {
   "cell_type": "markdown",
   "metadata": {},
   "source": [
    "### 字符串String splitlines()"
   ]
  },
  {
   "cell_type": "raw",
   "metadata": {},
   "source": [
    "按照行('\\r', '\\r\\n', \\n')分隔，返回一个包含各行作为元素的列表，如果参数 keepends 为 False，不包含换行符，如果为 True，则保留换行符"
   ]
  },
  {
   "cell_type": "markdown",
   "metadata": {},
   "source": [
    "str.splitlines([keepends])"
   ]
  },
  {
   "cell_type": "code",
   "execution_count": null,
   "metadata": {},
   "outputs": [],
   "source": [
    "str1 = 'ab c\\n\\nde fg\\rkl\\r\\n'\n",
    "print(str1.splitlines())        ### 默认为False\n",
    " \n",
    "str2 = 'ab c\\n\\nde fg\\rkl\\r\\n'\n",
    "print(str2.splitlines(True))"
   ]
  },
  {
   "cell_type": "markdown",
   "metadata": {},
   "source": [
    "### 字符串String swapcase()"
   ]
  },
  {
   "cell_type": "raw",
   "metadata": {},
   "source": [
    "返回一个字符串，所有大写字母均成为小写字母，小写字母都变成大写字母"
   ]
  },
  {
   "cell_type": "raw",
   "metadata": {},
   "source": [
    "string.swapcase()"
   ]
  },
  {
   "cell_type": "code",
   "execution_count": null,
   "metadata": {},
   "outputs": [],
   "source": [
    "txt = \"Hello My Name Is Elon\"\n",
    "x = txt.swapcase()\n",
    "\n",
    "print(x)"
   ]
  },
  {
   "cell_type": "markdown",
   "metadata": {},
   "source": [
    "### 字符串String title()"
   ]
  },
  {
   "cell_type": "raw",
   "metadata": {},
   "source": [
    "title()方法返回一个字符串，其中每个单词的第一个字符均为大写\n",
    "如果单词包含数字或符号，则其后的第一个字母将转换为大写字母"
   ]
  },
  {
   "cell_type": "raw",
   "metadata": {},
   "source": [
    "string.title()"
   ]
  },
  {
   "cell_type": "code",
   "execution_count": null,
   "metadata": {},
   "outputs": [],
   "source": [
    "txt1 = \"Welcome to my 2world\"\n",
    "txt2 = \"hello d2d2d2 and 5g5g5g\"    ### 数字的效果类似于空格\n",
    "\n",
    "print(txt1.title())\n",
    "print(txt2.title())"
   ]
  },
  {
   "cell_type": "markdown",
   "metadata": {},
   "source": [
    "### 字符串String delete character"
   ]
  },
  {
   "cell_type": "raw",
   "metadata": {},
   "source": [
    "如果字符串是否只包含十进制字符返回True，否则返回False"
   ]
  },
  {
   "cell_type": "raw",
   "metadata": {},
   "source": [
    "str.isdecimal()"
   ]
  },
  {
   "cell_type": "code",
   "execution_count": null,
   "metadata": {},
   "outputs": [],
   "source": [
    "str = \"this2009\";  \n",
    "print(str.isdecimal())\n",
    "\n",
    "str = \"23443434\";\n",
    "print(str.isdecimal())"
   ]
  },
  {
   "cell_type": "code",
   "execution_count": null,
   "metadata": {},
   "outputs": [],
   "source": []
  }
 ],
 "metadata": {
  "kernelspec": {
   "display_name": "Python 3",
   "language": "python",
   "name": "python3"
  },
  "language_info": {
   "codemirror_mode": {
    "name": "ipython",
    "version": 3
   },
   "file_extension": ".py",
   "mimetype": "text/x-python",
   "name": "python",
   "nbconvert_exporter": "python",
   "pygments_lexer": "ipython3",
   "version": "3.8.5"
  },
  "toc": {
   "base_numbering": 1,
   "nav_menu": {},
   "number_sections": true,
   "sideBar": true,
   "skip_h1_title": false,
   "title_cell": "Table of Contents",
   "title_sidebar": "Contents",
   "toc_cell": false,
   "toc_position": {
    "height": "calc(100% - 180px)",
    "left": "10px",
    "top": "150px",
    "width": "384px"
   },
   "toc_section_display": true,
   "toc_window_display": true
  }
 },
 "nbformat": 4,
 "nbformat_minor": 4
}
